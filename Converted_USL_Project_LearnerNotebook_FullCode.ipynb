{
 "cells": [
  {
   "cell_type": "markdown",
   "id": "6d9503ea",
   "metadata": {},
   "source": [
    "Unsupervised Learning: Trade&Ahead¶Marks: 60"
   ]
  },
  {
   "cell_type": "markdown",
   "id": "112ea984",
   "metadata": {},
   "source": [
    "Unsupervised Learning: Trade&Ahead¶Marks: 60"
   ]
  },
  {
   "cell_type": "markdown",
   "id": "c5f1ea97",
   "metadata": {},
   "source": []
  },
  {
   "cell_type": "markdown",
   "id": "ac64c5ca",
   "metadata": {},
   "source": [
    "Unsupervised Learning: Trade&Ahead¶Marks: 60"
   ]
  },
  {
   "cell_type": "markdown",
   "id": "496b3020",
   "metadata": {},
   "source": []
  },
  {
   "cell_type": "markdown",
   "id": "04b2bc45",
   "metadata": {},
   "source": [
    "Unsupervised Learning: Trade&Ahead¶Marks: 60"
   ]
  },
  {
   "cell_type": "markdown",
   "id": "36540143",
   "metadata": {},
   "source": [
    "Context¶The stock market has consistently proven to be a good place to invest in and save for the future. There are a lot of compelling reasons to invest in stocks. It can help in fighting inflation, create wealth, and also provides some tax benefits. Good steady returns on investments over a long period of time can also grow a lot more than seems possible. Also, thanks to the power of compound interest, the earlier one starts investing, the larger the corpus one can have for retirement. Overall, investing in stocks can help meet life's financial aspirations.\n",
    "It is important to maintain a diversified portfolio when investing in stocks in order to maximise earnings under any market condition. Having a diversified portfolio tends to yield higher returns and face lower risk by tempering potential losses when the market is down. It is often easy to get lost in a sea of financial metrics to analyze while determining the worth of a stock, and doing the same for a multitude of stocks to identify the right picks for an individual can be a tedious task. By doing a cluster analysis, one can identify stocks that exhibit similar characteristics and ones which exhibit minimum correlation. This will help investors better analyze stocks across different market segments and help protect against risks that could make the portfolio vulnerable to losses.\n",
    "Objective¶Trade&Ahead is a financial consultancy firm who provide their customers with personalized investment strategies. They have hired you as a Data Scientist and provided you with data comprising stock price and some financial indicators for a few companies listed under the New York Stock Exchange. They have assigned you the tasks of analyzing the data, grouping the stocks based on the attributes provided, and sharing insights about the characteristics of each group."
   ]
  },
  {
   "cell_type": "markdown",
   "id": "c0dfac6f",
   "metadata": {},
   "source": [
    "Context¶The stock market has consistently proven to be a good place to invest in and save for the future. There are a lot of compelling reasons to invest in stocks. It can help in fighting inflation, create wealth, and also provides some tax benefits. Good steady returns on investments over a long period of time can also grow a lot more than seems possible. Also, thanks to the power of compound interest, the earlier one starts investing, the larger the corpus one can have for retirement. Overall, investing in stocks can help meet life's financial aspirations.\n",
    "It is important to maintain a diversified portfolio when investing in stocks in order to maximise earnings under any market condition. Having a diversified portfolio tends to yield higher returns and face lower risk by tempering potential losses when the market is down. It is often easy to get lost in a sea of financial metrics to analyze while determining the worth of a stock, and doing the same for a multitude of stocks to identify the right picks for an individual can be a tedious task. By doing a cluster analysis, one can identify stocks that exhibit similar characteristics and ones which exhibit minimum correlation. This will help investors better analyze stocks across different market segments and help protect against risks that could make the portfolio vulnerable to losses.\n",
    "Objective¶Trade&Ahead is a financial consultancy firm who provide their customers with personalized investment strategies. They have hired you as a Data Scientist and provided you with data comprising stock price and some financial indicators for a few companies listed under the New York Stock Exchange. They have assigned you the tasks of analyzing the data, grouping the stocks based on the attributes provided, and sharing insights about the characteristics of each group."
   ]
  },
  {
   "cell_type": "markdown",
   "id": "1a1aed01",
   "metadata": {},
   "source": []
  },
  {
   "cell_type": "markdown",
   "id": "e4e1f0f6",
   "metadata": {},
   "source": [
    "Context¶The stock market has consistently proven to be a good place to invest in and save for the future. There are a lot of compelling reasons to invest in stocks. It can help in fighting inflation, create wealth, and also provides some tax benefits. Good steady returns on investments over a long period of time can also grow a lot more than seems possible. Also, thanks to the power of compound interest, the earlier one starts investing, the larger the corpus one can have for retirement. Overall, investing in stocks can help meet life's financial aspirations.\n",
    "It is important to maintain a diversified portfolio when investing in stocks in order to maximise earnings under any market condition. Having a diversified portfolio tends to yield higher returns and face lower risk by tempering potential losses when the market is down. It is often easy to get lost in a sea of financial metrics to analyze while determining the worth of a stock, and doing the same for a multitude of stocks to identify the right picks for an individual can be a tedious task. By doing a cluster analysis, one can identify stocks that exhibit similar characteristics and ones which exhibit minimum correlation. This will help investors better analyze stocks across different market segments and help protect against risks that could make the portfolio vulnerable to losses.\n",
    "Objective¶Trade&Ahead is a financial consultancy firm who provide their customers with personalized investment strategies. They have hired you as a Data Scientist and provided you with data comprising stock price and some financial indicators for a few companies listed under the New York Stock Exchange. They have assigned you the tasks of analyzing the data, grouping the stocks based on the attributes provided, and sharing insights about the characteristics of each group."
   ]
  },
  {
   "cell_type": "markdown",
   "id": "28790a13",
   "metadata": {},
   "source": []
  },
  {
   "cell_type": "markdown",
   "id": "9cc6fad1",
   "metadata": {},
   "source": [
    "Context¶The stock market has consistently proven to be a good place to invest in and save for the future. There are a lot of compelling reasons to invest in stocks. It can help in fighting inflation, create wealth, and also provides some tax benefits. Good steady returns on investments over a long period of time can also grow a lot more than seems possible. Also, thanks to the power of compound interest, the earlier one starts investing, the larger the corpus one can have for retirement. Overall, investing in stocks can help meet life's financial aspirations.\n",
    "It is important to maintain a diversified portfolio when investing in stocks in order to maximise earnings under any market condition. Having a diversified portfolio tends to yield higher returns and face lower risk by tempering potential losses when the market is down. It is often easy to get lost in a sea of financial metrics to analyze while determining the worth of a stock, and doing the same for a multitude of stocks to identify the right picks for an individual can be a tedious task. By doing a cluster analysis, one can identify stocks that exhibit similar characteristics and ones which exhibit minimum correlation. This will help investors better analyze stocks across different market segments and help protect against risks that could make the portfolio vulnerable to losses.\n",
    "Objective¶Trade&Ahead is a financial consultancy firm who provide their customers with personalized investment strategies. They have hired you as a Data Scientist and provided you with data comprising stock price and some financial indicators for a few companies listed under the New York Stock Exchange. They have assigned you the tasks of analyzing the data, grouping the stocks based on the attributes provided, and sharing insights about the characteristics of each group."
   ]
  },
  {
   "cell_type": "markdown",
   "id": "7299ec24",
   "metadata": {},
   "source": [
    "Data Dictionary¶\n",
    "Ticker Symbol: An abbreviation used to uniquely identify publicly traded shares of a particular stock on a particular stock market\n",
    "Company: Name of the company\n",
    "GICS Sector: The specific economic sector assigned to a company by the Global Industry Classification Standard (GICS) that best defines its business operations\n",
    "GICS Sub Industry: The specific sub-industry group assigned to a company by the Global Industry Classification Standard (GICS) that best defines its business operations\n",
    "Current Price: Current stock price in dollars\n",
    "Price Change: Percentage change in the stock price in 13 weeks\n",
    "Volatility: Standard deviation of the stock price over the past 13 weeks\n",
    "ROE: A measure of financial performance calculated by dividing net income by shareholders' equity (shareholders' equity is equal to a company's assets minus its debt)\n",
    "Cash Ratio: The ratio of a  company's total reserves of cash and cash equivalents to its total current liabilities\n",
    "Net Cash Flow: The difference between a company's cash inflows and outflows (in dollars)\n",
    "Net Income: Revenues minus expenses, interest, and taxes (in dollars)\n",
    "Earnings Per Share: Company's net profit divided by the number of common shares it has outstanding (in dollars)\n",
    "Estimated Shares Outstanding: Company's stock currently held by all its shareholders\n",
    "P/E Ratio: Ratio of the company's current stock price to the earnings per share \n",
    "P/B Ratio: Ratio of the company's stock price per share by its book value per share (book value of a company is the net difference between that company's total assets and total liabilities)"
   ]
  },
  {
   "cell_type": "markdown",
   "id": "3e938628",
   "metadata": {},
   "source": [
    "Data Dictionary¶\n",
    "Ticker Symbol: An abbreviation used to uniquely identify publicly traded shares of a particular stock on a particular stock market\n",
    "Company: Name of the company\n",
    "GICS Sector: The specific economic sector assigned to a company by the Global Industry Classification Standard (GICS) that best defines its business operations\n",
    "GICS Sub Industry: The specific sub-industry group assigned to a company by the Global Industry Classification Standard (GICS) that best defines its business operations\n",
    "Current Price: Current stock price in dollars\n",
    "Price Change: Percentage change in the stock price in 13 weeks\n",
    "Volatility: Standard deviation of the stock price over the past 13 weeks\n",
    "ROE: A measure of financial performance calculated by dividing net income by shareholders' equity (shareholders' equity is equal to a company's assets minus its debt)\n",
    "Cash Ratio: The ratio of a  company's total reserves of cash and cash equivalents to its total current liabilities\n",
    "Net Cash Flow: The difference between a company's cash inflows and outflows (in dollars)\n",
    "Net Income: Revenues minus expenses, interest, and taxes (in dollars)\n",
    "Earnings Per Share: Company's net profit divided by the number of common shares it has outstanding (in dollars)\n",
    "Estimated Shares Outstanding: Company's stock currently held by all its shareholders\n",
    "P/E Ratio: Ratio of the company's current stock price to the earnings per share \n",
    "P/B Ratio: Ratio of the company's stock price per share by its book value per share (book value of a company is the net difference between that company's total assets and total liabilities)"
   ]
  },
  {
   "cell_type": "markdown",
   "id": "6c84df1d",
   "metadata": {},
   "source": []
  },
  {
   "cell_type": "markdown",
   "id": "bd1a5bfe",
   "metadata": {},
   "source": [
    "Data Dictionary¶\n",
    "Ticker Symbol: An abbreviation used to uniquely identify publicly traded shares of a particular stock on a particular stock market\n",
    "Company: Name of the company\n",
    "GICS Sector: The specific economic sector assigned to a company by the Global Industry Classification Standard (GICS) that best defines its business operations\n",
    "GICS Sub Industry: The specific sub-industry group assigned to a company by the Global Industry Classification Standard (GICS) that best defines its business operations\n",
    "Current Price: Current stock price in dollars\n",
    "Price Change: Percentage change in the stock price in 13 weeks\n",
    "Volatility: Standard deviation of the stock price over the past 13 weeks\n",
    "ROE: A measure of financial performance calculated by dividing net income by shareholders' equity (shareholders' equity is equal to a company's assets minus its debt)\n",
    "Cash Ratio: The ratio of a  company's total reserves of cash and cash equivalents to its total current liabilities\n",
    "Net Cash Flow: The difference between a company's cash inflows and outflows (in dollars)\n",
    "Net Income: Revenues minus expenses, interest, and taxes (in dollars)\n",
    "Earnings Per Share: Company's net profit divided by the number of common shares it has outstanding (in dollars)\n",
    "Estimated Shares Outstanding: Company's stock currently held by all its shareholders\n",
    "P/E Ratio: Ratio of the company's current stock price to the earnings per share \n",
    "P/B Ratio: Ratio of the company's stock price per share by its book value per share (book value of a company is the net difference between that company's total assets and total liabilities)"
   ]
  },
  {
   "cell_type": "markdown",
   "id": "75896095",
   "metadata": {},
   "source": []
  },
  {
   "cell_type": "markdown",
   "id": "7e2560c9",
   "metadata": {},
   "source": [
    "Data Dictionary¶\n",
    "Ticker Symbol: An abbreviation used to uniquely identify publicly traded shares of a particular stock on a particular stock market\n",
    "Company: Name of the company\n",
    "GICS Sector: The specific economic sector assigned to a company by the Global Industry Classification Standard (GICS) that best defines its business operations\n",
    "GICS Sub Industry: The specific sub-industry group assigned to a company by the Global Industry Classification Standard (GICS) that best defines its business operations\n",
    "Current Price: Current stock price in dollars\n",
    "Price Change: Percentage change in the stock price in 13 weeks\n",
    "Volatility: Standard deviation of the stock price over the past 13 weeks\n",
    "ROE: A measure of financial performance calculated by dividing net income by shareholders' equity (shareholders' equity is equal to a company's assets minus its debt)\n",
    "Cash Ratio: The ratio of a  company's total reserves of cash and cash equivalents to its total current liabilities\n",
    "Net Cash Flow: The difference between a company's cash inflows and outflows (in dollars)\n",
    "Net Income: Revenues minus expenses, interest, and taxes (in dollars)\n",
    "Earnings Per Share: Company's net profit divided by the number of common shares it has outstanding (in dollars)\n",
    "Estimated Shares Outstanding: Company's stock currently held by all its shareholders\n",
    "P/E Ratio: Ratio of the company's current stock price to the earnings per share \n",
    "P/B Ratio: Ratio of the company's stock price per share by its book value per share (book value of a company is the net difference between that company's total assets and total liabilities)"
   ]
  },
  {
   "cell_type": "markdown",
   "id": "f875f52b",
   "metadata": {},
   "source": [
    "Importing necessary libraries and data¶"
   ]
  },
  {
   "cell_type": "markdown",
   "id": "90c1bdc7",
   "metadata": {},
   "source": [
    "Importing necessary libraries and data¶"
   ]
  },
  {
   "cell_type": "markdown",
   "id": "c2386674",
   "metadata": {},
   "source": []
  },
  {
   "cell_type": "markdown",
   "id": "d88954a6",
   "metadata": {},
   "source": [
    "Importing necessary libraries and data¶"
   ]
  },
  {
   "cell_type": "markdown",
   "id": "0a5e3cbd",
   "metadata": {},
   "source": []
  },
  {
   "cell_type": "markdown",
   "id": "3d5cf714",
   "metadata": {},
   "source": [
    "Importing necessary libraries and data¶"
   ]
  },
  {
   "cell_type": "markdown",
   "id": "dcd752e6",
   "metadata": {},
   "source": [
    "In [1]:\n",
    "\n",
    "\n",
    "# Libraries to help with reading and manipulating data\n",
    "import numpy as np\n",
    "import pandas as pd\n",
    "\n",
    "# Libraries to help with data visualization\n",
    "import matplotlib.pyplot as plt\n",
    "import seaborn as sns\n",
    "\n",
    "sns.set_theme(style='darkgrid')\n",
    "\n",
    "# Removes the limit for the number of displayed columns\n",
    "pd.set_option(\"display.max_columns\", None)\n",
    "# Sets the limit for the number of displayed rows\n",
    "pd.set_option(\"display.max_rows\", 200)\n",
    "\n",
    "# to scale the data using z-score\n",
    "from sklearn.preprocessing import StandardScaler\n",
    "\n",
    "# to compute distances\n",
    "from scipy.spatial.distance import cdist, pdist\n",
    "\n",
    "# to perform k-means clustering and compute silhouette scores\n",
    "from sklearn.cluster import KMeans\n",
    "from sklearn.metrics import silhouette_score\n",
    "\n",
    "# to visualize the elbow curve and silhouette scores\n",
    "from yellowbrick.cluster import KElbowVisualizer, SilhouetteVisualizer\n",
    "\n",
    "# to perform hierarchical clustering, compute cophenetic correlation, and create dendrograms\n",
    "from sklearn.cluster import AgglomerativeClustering\n",
    "from scipy.cluster.hierarchy import dendrogram, linkage, cophenet\n",
    "\n",
    "# to suppress warnings\n",
    "import warnings\n",
    "warnings.filterwarnings(\"ignore\")"
   ]
  },
  {
   "cell_type": "markdown",
   "id": "53085fe3",
   "metadata": {},
   "source": [
    "In [1]:\n",
    "\n",
    "\n",
    "# Libraries to help with reading and manipulating data\n",
    "import numpy as np\n",
    "import pandas as pd\n",
    "\n",
    "# Libraries to help with data visualization\n",
    "import matplotlib.pyplot as plt\n",
    "import seaborn as sns\n",
    "\n",
    "sns.set_theme(style='darkgrid')\n",
    "\n",
    "# Removes the limit for the number of displayed columns\n",
    "pd.set_option(\"display.max_columns\", None)\n",
    "# Sets the limit for the number of displayed rows\n",
    "pd.set_option(\"display.max_rows\", 200)\n",
    "\n",
    "# to scale the data using z-score\n",
    "from sklearn.preprocessing import StandardScaler\n",
    "\n",
    "# to compute distances\n",
    "from scipy.spatial.distance import cdist, pdist\n",
    "\n",
    "# to perform k-means clustering and compute silhouette scores\n",
    "from sklearn.cluster import KMeans\n",
    "from sklearn.metrics import silhouette_score\n",
    "\n",
    "# to visualize the elbow curve and silhouette scores\n",
    "from yellowbrick.cluster import KElbowVisualizer, SilhouetteVisualizer\n",
    "\n",
    "# to perform hierarchical clustering, compute cophenetic correlation, and create dendrograms\n",
    "from sklearn.cluster import AgglomerativeClustering\n",
    "from scipy.cluster.hierarchy import dendrogram, linkage, cophenet\n",
    "\n",
    "# to suppress warnings\n",
    "import warnings\n",
    "warnings.filterwarnings(\"ignore\")"
   ]
  },
  {
   "cell_type": "markdown",
   "id": "92ccc3c5",
   "metadata": {},
   "source": []
  },
  {
   "cell_type": "markdown",
   "id": "c37a6f62",
   "metadata": {},
   "source": [
    "In [1]:\n",
    "\n",
    "\n",
    "# Libraries to help with reading and manipulating data\n",
    "import numpy as np\n",
    "import pandas as pd\n",
    "\n",
    "# Libraries to help with data visualization\n",
    "import matplotlib.pyplot as plt\n",
    "import seaborn as sns\n",
    "\n",
    "sns.set_theme(style='darkgrid')\n",
    "\n",
    "# Removes the limit for the number of displayed columns\n",
    "pd.set_option(\"display.max_columns\", None)\n",
    "# Sets the limit for the number of displayed rows\n",
    "pd.set_option(\"display.max_rows\", 200)\n",
    "\n",
    "# to scale the data using z-score\n",
    "from sklearn.preprocessing import StandardScaler\n",
    "\n",
    "# to compute distances\n",
    "from scipy.spatial.distance import cdist, pdist\n",
    "\n",
    "# to perform k-means clustering and compute silhouette scores\n",
    "from sklearn.cluster import KMeans\n",
    "from sklearn.metrics import silhouette_score\n",
    "\n",
    "# to visualize the elbow curve and silhouette scores\n",
    "from yellowbrick.cluster import KElbowVisualizer, SilhouetteVisualizer\n",
    "\n",
    "# to perform hierarchical clustering, compute cophenetic correlation, and create dendrograms\n",
    "from sklearn.cluster import AgglomerativeClustering\n",
    "from scipy.cluster.hierarchy import dendrogram, linkage, cophenet\n",
    "\n",
    "# to suppress warnings\n",
    "import warnings\n",
    "warnings.filterwarnings(\"ignore\")"
   ]
  },
  {
   "cell_type": "markdown",
   "id": "6ec02f92",
   "metadata": {},
   "source": [
    "In [1]:"
   ]
  },
  {
   "cell_type": "markdown",
   "id": "1039928d",
   "metadata": {},
   "source": [
    "# Libraries to help with reading and manipulating data\n",
    "import numpy as np\n",
    "import pandas as pd\n",
    "\n",
    "# Libraries to help with data visualization\n",
    "import matplotlib.pyplot as plt\n",
    "import seaborn as sns\n",
    "\n",
    "sns.set_theme(style='darkgrid')\n",
    "\n",
    "# Removes the limit for the number of displayed columns\n",
    "pd.set_option(\"display.max_columns\", None)\n",
    "# Sets the limit for the number of displayed rows\n",
    "pd.set_option(\"display.max_rows\", 200)\n",
    "\n",
    "# to scale the data using z-score\n",
    "from sklearn.preprocessing import StandardScaler\n",
    "\n",
    "# to compute distances\n",
    "from scipy.spatial.distance import cdist, pdist\n",
    "\n",
    "# to perform k-means clustering and compute silhouette scores\n",
    "from sklearn.cluster import KMeans\n",
    "from sklearn.metrics import silhouette_score\n",
    "\n",
    "# to visualize the elbow curve and silhouette scores\n",
    "from yellowbrick.cluster import KElbowVisualizer, SilhouetteVisualizer\n",
    "\n",
    "# to perform hierarchical clustering, compute cophenetic correlation, and create dendrograms\n",
    "from sklearn.cluster import AgglomerativeClustering\n",
    "from scipy.cluster.hierarchy import dendrogram, linkage, cophenet\n",
    "\n",
    "# to suppress warnings\n",
    "import warnings\n",
    "warnings.filterwarnings(\"ignore\")"
   ]
  },
  {
   "cell_type": "markdown",
   "id": "5cf10654",
   "metadata": {},
   "source": [
    "# Libraries to help with reading and manipulating data\n",
    "import numpy as np\n",
    "import pandas as pd\n",
    "\n",
    "# Libraries to help with data visualization\n",
    "import matplotlib.pyplot as plt\n",
    "import seaborn as sns\n",
    "\n",
    "sns.set_theme(style='darkgrid')\n",
    "\n",
    "# Removes the limit for the number of displayed columns\n",
    "pd.set_option(\"display.max_columns\", None)\n",
    "# Sets the limit for the number of displayed rows\n",
    "pd.set_option(\"display.max_rows\", 200)\n",
    "\n",
    "# to scale the data using z-score\n",
    "from sklearn.preprocessing import StandardScaler\n",
    "\n",
    "# to compute distances\n",
    "from scipy.spatial.distance import cdist, pdist\n",
    "\n",
    "# to perform k-means clustering and compute silhouette scores\n",
    "from sklearn.cluster import KMeans\n",
    "from sklearn.metrics import silhouette_score\n",
    "\n",
    "# to visualize the elbow curve and silhouette scores\n",
    "from yellowbrick.cluster import KElbowVisualizer, SilhouetteVisualizer\n",
    "\n",
    "# to perform hierarchical clustering, compute cophenetic correlation, and create dendrograms\n",
    "from sklearn.cluster import AgglomerativeClustering\n",
    "from scipy.cluster.hierarchy import dendrogram, linkage, cophenet\n",
    "\n",
    "# to suppress warnings\n",
    "import warnings\n",
    "warnings.filterwarnings(\"ignore\")"
   ]
  },
  {
   "cell_type": "markdown",
   "id": "e691f54d",
   "metadata": {},
   "source": [
    "# Libraries to help with reading and manipulating data\n",
    "import numpy as np\n",
    "import pandas as pd\n",
    "\n",
    "# Libraries to help with data visualization\n",
    "import matplotlib.pyplot as plt\n",
    "import seaborn as sns\n",
    "\n",
    "sns.set_theme(style='darkgrid')\n",
    "\n",
    "# Removes the limit for the number of displayed columns\n",
    "pd.set_option(\"display.max_columns\", None)\n",
    "# Sets the limit for the number of displayed rows\n",
    "pd.set_option(\"display.max_rows\", 200)\n",
    "\n",
    "# to scale the data using z-score\n",
    "from sklearn.preprocessing import StandardScaler\n",
    "\n",
    "# to compute distances\n",
    "from scipy.spatial.distance import cdist, pdist\n",
    "\n",
    "# to perform k-means clustering and compute silhouette scores\n",
    "from sklearn.cluster import KMeans\n",
    "from sklearn.metrics import silhouette_score\n",
    "\n",
    "# to visualize the elbow curve and silhouette scores\n",
    "from yellowbrick.cluster import KElbowVisualizer, SilhouetteVisualizer\n",
    "\n",
    "# to perform hierarchical clustering, compute cophenetic correlation, and create dendrograms\n",
    "from sklearn.cluster import AgglomerativeClustering\n",
    "from scipy.cluster.hierarchy import dendrogram, linkage, cophenet\n",
    "\n",
    "# to suppress warnings\n",
    "import warnings\n",
    "warnings.filterwarnings(\"ignore\")"
   ]
  },
  {
   "cell_type": "markdown",
   "id": "98e6ee07",
   "metadata": {},
   "source": [
    "# Libraries to help with reading and manipulating data\n",
    "import numpy as np\n",
    "import pandas as pd\n",
    "\n",
    "# Libraries to help with data visualization\n",
    "import matplotlib.pyplot as plt\n",
    "import seaborn as sns\n",
    "\n",
    "sns.set_theme(style='darkgrid')\n",
    "\n",
    "# Removes the limit for the number of displayed columns\n",
    "pd.set_option(\"display.max_columns\", None)\n",
    "# Sets the limit for the number of displayed rows\n",
    "pd.set_option(\"display.max_rows\", 200)\n",
    "\n",
    "# to scale the data using z-score\n",
    "from sklearn.preprocessing import StandardScaler\n",
    "\n",
    "# to compute distances\n",
    "from scipy.spatial.distance import cdist, pdist\n",
    "\n",
    "# to perform k-means clustering and compute silhouette scores\n",
    "from sklearn.cluster import KMeans\n",
    "from sklearn.metrics import silhouette_score\n",
    "\n",
    "# to visualize the elbow curve and silhouette scores\n",
    "from yellowbrick.cluster import KElbowVisualizer, SilhouetteVisualizer\n",
    "\n",
    "# to perform hierarchical clustering, compute cophenetic correlation, and create dendrograms\n",
    "from sklearn.cluster import AgglomerativeClustering\n",
    "from scipy.cluster.hierarchy import dendrogram, linkage, cophenet\n",
    "\n",
    "# to suppress warnings\n",
    "import warnings\n",
    "warnings.filterwarnings(\"ignore\")"
   ]
  },
  {
   "cell_type": "markdown",
   "id": "321a91e1",
   "metadata": {},
   "source": [
    "In [2]:\n",
    "\n",
    "\n",
    "##  import the data\n",
    "data = pd.read_csv('stock_data.csv')"
   ]
  },
  {
   "cell_type": "markdown",
   "id": "f9f31fcb",
   "metadata": {},
   "source": [
    "In [2]:\n",
    "\n",
    "\n",
    "##  import the data\n",
    "data = pd.read_csv('stock_data.csv')"
   ]
  },
  {
   "cell_type": "markdown",
   "id": "20dbbac5",
   "metadata": {},
   "source": []
  },
  {
   "cell_type": "markdown",
   "id": "a1bc578e",
   "metadata": {},
   "source": [
    "In [2]:\n",
    "\n",
    "\n",
    "##  import the data\n",
    "data = pd.read_csv('stock_data.csv')"
   ]
  },
  {
   "cell_type": "markdown",
   "id": "6bb38bfa",
   "metadata": {},
   "source": [
    "In [2]:"
   ]
  },
  {
   "cell_type": "markdown",
   "id": "2e460bbf",
   "metadata": {},
   "source": [
    "##  import the data\n",
    "data = pd.read_csv('stock_data.csv')"
   ]
  },
  {
   "cell_type": "markdown",
   "id": "22677d32",
   "metadata": {},
   "source": [
    "##  import the data\n",
    "data = pd.read_csv('stock_data.csv')"
   ]
  },
  {
   "cell_type": "markdown",
   "id": "1b264183",
   "metadata": {},
   "source": [
    "##  import the data\n",
    "data = pd.read_csv('stock_data.csv')"
   ]
  },
  {
   "cell_type": "markdown",
   "id": "15f3351e",
   "metadata": {},
   "source": [
    "##  import the data\n",
    "data = pd.read_csv('stock_data.csv')"
   ]
  },
  {
   "cell_type": "markdown",
   "id": "ba6c41fe",
   "metadata": {},
   "source": [
    "Data Overview¶\n",
    "Observations\n",
    "Sanity checks"
   ]
  },
  {
   "cell_type": "markdown",
   "id": "e2902963",
   "metadata": {},
   "source": [
    "Data Overview¶\n",
    "Observations\n",
    "Sanity checks"
   ]
  },
  {
   "cell_type": "markdown",
   "id": "a3e204ae",
   "metadata": {},
   "source": []
  },
  {
   "cell_type": "markdown",
   "id": "ed0b2e09",
   "metadata": {},
   "source": [
    "Data Overview¶\n",
    "Observations\n",
    "Sanity checks"
   ]
  },
  {
   "cell_type": "markdown",
   "id": "c362c1d5",
   "metadata": {},
   "source": []
  },
  {
   "cell_type": "markdown",
   "id": "f091e047",
   "metadata": {},
   "source": [
    "Data Overview¶\n",
    "Observations\n",
    "Sanity checks"
   ]
  },
  {
   "cell_type": "markdown",
   "id": "b8c8ea7a",
   "metadata": {},
   "source": [
    "In [3]:\n",
    "\n",
    "\n",
    "# checking shape of the data\n",
    "print(f\"There are {data.shape[0]} rows and {data.shape[1]} columns.\") \n",
    "\n",
    "\n",
    "\n",
    "\n",
    "\n",
    "\n",
    "\n",
    "\n",
    "\n",
    "\n",
    "\n",
    "\n",
    "There are 340 rows and 15 columns."
   ]
  },
  {
   "cell_type": "markdown",
   "id": "c209cf7e",
   "metadata": {},
   "source": [
    "In [3]:\n",
    "\n",
    "\n",
    "# checking shape of the data\n",
    "print(f\"There are {data.shape[0]} rows and {data.shape[1]} columns.\")"
   ]
  },
  {
   "cell_type": "markdown",
   "id": "2f9e94b8",
   "metadata": {},
   "source": []
  },
  {
   "cell_type": "markdown",
   "id": "adfe1e01",
   "metadata": {},
   "source": [
    "In [3]:\n",
    "\n",
    "\n",
    "# checking shape of the data\n",
    "print(f\"There are {data.shape[0]} rows and {data.shape[1]} columns.\")"
   ]
  },
  {
   "cell_type": "markdown",
   "id": "edd534bd",
   "metadata": {},
   "source": [
    "In [3]:"
   ]
  },
  {
   "cell_type": "markdown",
   "id": "972165b7",
   "metadata": {},
   "source": [
    "# checking shape of the data\n",
    "print(f\"There are {data.shape[0]} rows and {data.shape[1]} columns.\")"
   ]
  },
  {
   "cell_type": "markdown",
   "id": "65f009ef",
   "metadata": {},
   "source": [
    "# checking shape of the data\n",
    "print(f\"There are {data.shape[0]} rows and {data.shape[1]} columns.\")"
   ]
  },
  {
   "cell_type": "markdown",
   "id": "f30de1e0",
   "metadata": {},
   "source": [
    "# checking shape of the data\n",
    "print(f\"There are {data.shape[0]} rows and {data.shape[1]} columns.\")"
   ]
  },
  {
   "cell_type": "markdown",
   "id": "65d56475",
   "metadata": {},
   "source": [
    "# checking shape of the data\n",
    "print(f\"There are {data.shape[0]} rows and {data.shape[1]} columns.\")"
   ]
  },
  {
   "cell_type": "markdown",
   "id": "32366516",
   "metadata": {},
   "source": [
    "There are 340 rows and 15 columns."
   ]
  },
  {
   "cell_type": "markdown",
   "id": "67e1d751",
   "metadata": {},
   "source": []
  },
  {
   "cell_type": "markdown",
   "id": "0a9cbb40",
   "metadata": {},
   "source": [
    "There are 340 rows and 15 columns."
   ]
  },
  {
   "cell_type": "markdown",
   "id": "8a764829",
   "metadata": {},
   "source": [
    "There are 340 rows and 15 columns."
   ]
  },
  {
   "cell_type": "markdown",
   "id": "15191685",
   "metadata": {},
   "source": []
  },
  {
   "cell_type": "markdown",
   "id": "7b18542d",
   "metadata": {},
   "source": [
    "There are 340 rows and 15 columns."
   ]
  },
  {
   "cell_type": "markdown",
   "id": "865cfc01",
   "metadata": {},
   "source": [
    "There are 340 rows and 15 columns."
   ]
  },
  {
   "cell_type": "markdown",
   "id": "35390022",
   "metadata": {},
   "source": [
    "In [4]:\n",
    "\n",
    "\n",
    "# let's view a sample of the data\n",
    "data.sample(n=10, random_state=1)\n",
    "\n",
    "\n",
    "\n",
    "\n",
    "\n",
    "\n",
    "\n",
    "\n",
    "\n",
    "\n",
    "Out[4]:\n",
    "\n",
    "\n",
    "\n",
    "\n",
    "\n",
    "\n",
    "\n",
    "Ticker Symbol\n",
    "Security\n",
    "GICS Sector\n",
    "GICS Sub Industry\n",
    "Current Price\n",
    "Price Change\n",
    "Volatility\n",
    "ROE\n",
    "Cash Ratio\n",
    "Net Cash Flow\n",
    "Net Income\n",
    "Earnings Per Share\n",
    "Estimated Shares Outstanding\n",
    "P/E Ratio\n",
    "P/B Ratio\n",
    "\n",
    "\n",
    "\n",
    "\n",
    "102\n",
    "DVN\n",
    "Devon Energy Corp.\n",
    "Energy\n",
    "Oil & Gas Exploration & Production\n",
    "32.000000\n",
    "-15.478079\n",
    "2.923698\n",
    "205\n",
    "70\n",
    "830000000\n",
    "-14454000000\n",
    "-35.55\n",
    "4.065823e+08\n",
    "93.089287\n",
    "1.785616\n",
    "\n",
    "\n",
    "125\n",
    "FB\n",
    "Facebook\n",
    "Information Technology\n",
    "Internet Software & Services\n",
    "104.660004\n",
    "16.224320\n",
    "1.320606\n",
    "8\n",
    "958\n",
    "592000000\n",
    "3669000000\n",
    "1.31\n",
    "2.800763e+09\n",
    "79.893133\n",
    "5.884467\n",
    "\n",
    "\n",
    "11\n",
    "AIV\n",
    "Apartment Investment & Mgmt\n",
    "Real Estate\n",
    "REITs\n",
    "40.029999\n",
    "7.578608\n",
    "1.163334\n",
    "15\n",
    "47\n",
    "21818000\n",
    "248710000\n",
    "1.52\n",
    "1.636250e+08\n",
    "26.335526\n",
    "-1.269332\n",
    "\n",
    "\n",
    "248\n",
    "PG\n",
    "Procter & Gamble\n",
    "Consumer Staples\n",
    "Personal Products\n",
    "79.410004\n",
    "10.660538\n",
    "0.806056\n",
    "17\n",
    "129\n",
    "160383000\n",
    "636056000\n",
    "3.28\n",
    "4.913916e+08\n",
    "24.070121\n",
    "-2.256747\n",
    "\n",
    "\n",
    "238\n",
    "OXY\n",
    "Occidental Petroleum\n",
    "Energy\n",
    "Oil & Gas Exploration & Production\n",
    "67.610001\n",
    "0.865287\n",
    "1.589520\n",
    "32\n",
    "64\n",
    "-588000000\n",
    "-7829000000\n",
    "-10.23\n",
    "7.652981e+08\n",
    "93.089287\n",
    "3.345102\n",
    "\n",
    "\n",
    "336\n",
    "YUM\n",
    "Yum! Brands Inc\n",
    "Consumer Discretionary\n",
    "Restaurants\n",
    "52.516175\n",
    "-8.698917\n",
    "1.478877\n",
    "142\n",
    "27\n",
    "159000000\n",
    "1293000000\n",
    "2.97\n",
    "4.353535e+08\n",
    "17.682214\n",
    "-3.838260\n",
    "\n",
    "\n",
    "112\n",
    "EQT\n",
    "EQT Corporation\n",
    "Energy\n",
    "Oil & Gas Exploration & Production\n",
    "52.130001\n",
    "-21.253771\n",
    "2.364883\n",
    "2\n",
    "201\n",
    "523803000\n",
    "85171000\n",
    "0.56\n",
    "1.520911e+08\n",
    "93.089287\n",
    "9.567952\n",
    "\n",
    "\n",
    "147\n",
    "HAL\n",
    "Halliburton Co.\n",
    "Energy\n",
    "Oil & Gas Equipment & Services\n",
    "34.040001\n",
    "-5.101751\n",
    "1.966062\n",
    "4\n",
    "189\n",
    "7786000000\n",
    "-671000000\n",
    "-0.79\n",
    "8.493671e+08\n",
    "93.089287\n",
    "17.345857\n",
    "\n",
    "\n",
    "89\n",
    "DFS\n",
    "Discover Financial Services\n",
    "Financials\n",
    "Consumer Finance\n",
    "53.619999\n",
    "3.653584\n",
    "1.159897\n",
    "20\n",
    "99\n",
    "2288000000\n",
    "2297000000\n",
    "5.14\n",
    "4.468872e+08\n",
    "10.431906\n",
    "-0.375934\n",
    "\n",
    "\n",
    "173\n",
    "IVZ\n",
    "Invesco Ltd.\n",
    "Financials\n",
    "Asset Management & Custody Banks\n",
    "33.480000\n",
    "7.067477\n",
    "1.580839\n",
    "12\n",
    "67\n",
    "412000000\n",
    "968100000\n",
    "2.26\n",
    "4.283628e+08\n",
    "14.814159\n",
    "4.218620"
   ]
  },
  {
   "cell_type": "markdown",
   "id": "55c7f6ff",
   "metadata": {},
   "source": [
    "In [4]:\n",
    "\n",
    "\n",
    "# let's view a sample of the data\n",
    "data.sample(n=10, random_state=1)"
   ]
  },
  {
   "cell_type": "markdown",
   "id": "8dd526c4",
   "metadata": {},
   "source": []
  },
  {
   "cell_type": "markdown",
   "id": "936ab76c",
   "metadata": {},
   "source": [
    "In [4]:\n",
    "\n",
    "\n",
    "# let's view a sample of the data\n",
    "data.sample(n=10, random_state=1)"
   ]
  },
  {
   "cell_type": "markdown",
   "id": "5bb32b8c",
   "metadata": {},
   "source": [
    "In [4]:"
   ]
  },
  {
   "cell_type": "markdown",
   "id": "00b7dd40",
   "metadata": {},
   "source": [
    "# let's view a sample of the data\n",
    "data.sample(n=10, random_state=1)"
   ]
  },
  {
   "cell_type": "markdown",
   "id": "c71a1e05",
   "metadata": {},
   "source": [
    "# let's view a sample of the data\n",
    "data.sample(n=10, random_state=1)"
   ]
  },
  {
   "cell_type": "markdown",
   "id": "581a9d2e",
   "metadata": {},
   "source": [
    "# let's view a sample of the data\n",
    "data.sample(n=10, random_state=1)"
   ]
  },
  {
   "cell_type": "markdown",
   "id": "73783d6b",
   "metadata": {},
   "source": [
    "# let's view a sample of the data\n",
    "data.sample(n=10, random_state=1)"
   ]
  },
  {
   "cell_type": "markdown",
   "id": "bf2f409a",
   "metadata": {},
   "source": [
    "Out[4]:\n",
    "\n",
    "\n",
    "\n",
    "\n",
    "\n",
    "\n",
    "\n",
    "Ticker Symbol\n",
    "Security\n",
    "GICS Sector\n",
    "GICS Sub Industry\n",
    "Current Price\n",
    "Price Change\n",
    "Volatility\n",
    "ROE\n",
    "Cash Ratio\n",
    "Net Cash Flow\n",
    "Net Income\n",
    "Earnings Per Share\n",
    "Estimated Shares Outstanding\n",
    "P/E Ratio\n",
    "P/B Ratio\n",
    "\n",
    "\n",
    "\n",
    "\n",
    "102\n",
    "DVN\n",
    "Devon Energy Corp.\n",
    "Energy\n",
    "Oil & Gas Exploration & Production\n",
    "32.000000\n",
    "-15.478079\n",
    "2.923698\n",
    "205\n",
    "70\n",
    "830000000\n",
    "-14454000000\n",
    "-35.55\n",
    "4.065823e+08\n",
    "93.089287\n",
    "1.785616\n",
    "\n",
    "\n",
    "125\n",
    "FB\n",
    "Facebook\n",
    "Information Technology\n",
    "Internet Software & Services\n",
    "104.660004\n",
    "16.224320\n",
    "1.320606\n",
    "8\n",
    "958\n",
    "592000000\n",
    "3669000000\n",
    "1.31\n",
    "2.800763e+09\n",
    "79.893133\n",
    "5.884467\n",
    "\n",
    "\n",
    "11\n",
    "AIV\n",
    "Apartment Investment & Mgmt\n",
    "Real Estate\n",
    "REITs\n",
    "40.029999\n",
    "7.578608\n",
    "1.163334\n",
    "15\n",
    "47\n",
    "21818000\n",
    "248710000\n",
    "1.52\n",
    "1.636250e+08\n",
    "26.335526\n",
    "-1.269332\n",
    "\n",
    "\n",
    "248\n",
    "PG\n",
    "Procter & Gamble\n",
    "Consumer Staples\n",
    "Personal Products\n",
    "79.410004\n",
    "10.660538\n",
    "0.806056\n",
    "17\n",
    "129\n",
    "160383000\n",
    "636056000\n",
    "3.28\n",
    "4.913916e+08\n",
    "24.070121\n",
    "-2.256747\n",
    "\n",
    "\n",
    "238\n",
    "OXY\n",
    "Occidental Petroleum\n",
    "Energy\n",
    "Oil & Gas Exploration & Production\n",
    "67.610001\n",
    "0.865287\n",
    "1.589520\n",
    "32\n",
    "64\n",
    "-588000000\n",
    "-7829000000\n",
    "-10.23\n",
    "7.652981e+08\n",
    "93.089287\n",
    "3.345102\n",
    "\n",
    "\n",
    "336\n",
    "YUM\n",
    "Yum! Brands Inc\n",
    "Consumer Discretionary\n",
    "Restaurants\n",
    "52.516175\n",
    "-8.698917\n",
    "1.478877\n",
    "142\n",
    "27\n",
    "159000000\n",
    "1293000000\n",
    "2.97\n",
    "4.353535e+08\n",
    "17.682214\n",
    "-3.838260\n",
    "\n",
    "\n",
    "112\n",
    "EQT\n",
    "EQT Corporation\n",
    "Energy\n",
    "Oil & Gas Exploration & Production\n",
    "52.130001\n",
    "-21.253771\n",
    "2.364883\n",
    "2\n",
    "201\n",
    "523803000\n",
    "85171000\n",
    "0.56\n",
    "1.520911e+08\n",
    "93.089287\n",
    "9.567952\n",
    "\n",
    "\n",
    "147\n",
    "HAL\n",
    "Halliburton Co.\n",
    "Energy\n",
    "Oil & Gas Equipment & Services\n",
    "34.040001\n",
    "-5.101751\n",
    "1.966062\n",
    "4\n",
    "189\n",
    "7786000000\n",
    "-671000000\n",
    "-0.79\n",
    "8.493671e+08\n",
    "93.089287\n",
    "17.345857\n",
    "\n",
    "\n",
    "89\n",
    "DFS\n",
    "Discover Financial Services\n",
    "Financials\n",
    "Consumer Finance\n",
    "53.619999\n",
    "3.653584\n",
    "1.159897\n",
    "20\n",
    "99\n",
    "2288000000\n",
    "2297000000\n",
    "5.14\n",
    "4.468872e+08\n",
    "10.431906\n",
    "-0.375934\n",
    "\n",
    "\n",
    "173\n",
    "IVZ\n",
    "Invesco Ltd.\n",
    "Financials\n",
    "Asset Management & Custody Banks\n",
    "33.480000\n",
    "7.067477\n",
    "1.580839\n",
    "12\n",
    "67\n",
    "412000000\n",
    "968100000\n",
    "2.26\n",
    "4.283628e+08\n",
    "14.814159\n",
    "4.218620"
   ]
  },
  {
   "cell_type": "markdown",
   "id": "825b87dc",
   "metadata": {},
   "source": []
  },
  {
   "cell_type": "markdown",
   "id": "cc4be70c",
   "metadata": {},
   "source": [
    "Out[4]:\n",
    "\n",
    "\n",
    "\n",
    "\n",
    "\n",
    "\n",
    "\n",
    "Ticker Symbol\n",
    "Security\n",
    "GICS Sector\n",
    "GICS Sub Industry\n",
    "Current Price\n",
    "Price Change\n",
    "Volatility\n",
    "ROE\n",
    "Cash Ratio\n",
    "Net Cash Flow\n",
    "Net Income\n",
    "Earnings Per Share\n",
    "Estimated Shares Outstanding\n",
    "P/E Ratio\n",
    "P/B Ratio\n",
    "\n",
    "\n",
    "\n",
    "\n",
    "102\n",
    "DVN\n",
    "Devon Energy Corp.\n",
    "Energy\n",
    "Oil & Gas Exploration & Production\n",
    "32.000000\n",
    "-15.478079\n",
    "2.923698\n",
    "205\n",
    "70\n",
    "830000000\n",
    "-14454000000\n",
    "-35.55\n",
    "4.065823e+08\n",
    "93.089287\n",
    "1.785616\n",
    "\n",
    "\n",
    "125\n",
    "FB\n",
    "Facebook\n",
    "Information Technology\n",
    "Internet Software & Services\n",
    "104.660004\n",
    "16.224320\n",
    "1.320606\n",
    "8\n",
    "958\n",
    "592000000\n",
    "3669000000\n",
    "1.31\n",
    "2.800763e+09\n",
    "79.893133\n",
    "5.884467\n",
    "\n",
    "\n",
    "11\n",
    "AIV\n",
    "Apartment Investment & Mgmt\n",
    "Real Estate\n",
    "REITs\n",
    "40.029999\n",
    "7.578608\n",
    "1.163334\n",
    "15\n",
    "47\n",
    "21818000\n",
    "248710000\n",
    "1.52\n",
    "1.636250e+08\n",
    "26.335526\n",
    "-1.269332\n",
    "\n",
    "\n",
    "248\n",
    "PG\n",
    "Procter & Gamble\n",
    "Consumer Staples\n",
    "Personal Products\n",
    "79.410004\n",
    "10.660538\n",
    "0.806056\n",
    "17\n",
    "129\n",
    "160383000\n",
    "636056000\n",
    "3.28\n",
    "4.913916e+08\n",
    "24.070121\n",
    "-2.256747\n",
    "\n",
    "\n",
    "238\n",
    "OXY\n",
    "Occidental Petroleum\n",
    "Energy\n",
    "Oil & Gas Exploration & Production\n",
    "67.610001\n",
    "0.865287\n",
    "1.589520\n",
    "32\n",
    "64\n",
    "-588000000\n",
    "-7829000000\n",
    "-10.23\n",
    "7.652981e+08\n",
    "93.089287\n",
    "3.345102\n",
    "\n",
    "\n",
    "336\n",
    "YUM\n",
    "Yum! Brands Inc\n",
    "Consumer Discretionary\n",
    "Restaurants\n",
    "52.516175\n",
    "-8.698917\n",
    "1.478877\n",
    "142\n",
    "27\n",
    "159000000\n",
    "1293000000\n",
    "2.97\n",
    "4.353535e+08\n",
    "17.682214\n",
    "-3.838260\n",
    "\n",
    "\n",
    "112\n",
    "EQT\n",
    "EQT Corporation\n",
    "Energy\n",
    "Oil & Gas Exploration & Production\n",
    "52.130001\n",
    "-21.253771\n",
    "2.364883\n",
    "2\n",
    "201\n",
    "523803000\n",
    "85171000\n",
    "0.56\n",
    "1.520911e+08\n",
    "93.089287\n",
    "9.567952\n",
    "\n",
    "\n",
    "147\n",
    "HAL\n",
    "Halliburton Co.\n",
    "Energy\n",
    "Oil & Gas Equipment & Services\n",
    "34.040001\n",
    "-5.101751\n",
    "1.966062\n",
    "4\n",
    "189\n",
    "7786000000\n",
    "-671000000\n",
    "-0.79\n",
    "8.493671e+08\n",
    "93.089287\n",
    "17.345857\n",
    "\n",
    "\n",
    "89\n",
    "DFS\n",
    "Discover Financial Services\n",
    "Financials\n",
    "Consumer Finance\n",
    "53.619999\n",
    "3.653584\n",
    "1.159897\n",
    "20\n",
    "99\n",
    "2288000000\n",
    "2297000000\n",
    "5.14\n",
    "4.468872e+08\n",
    "10.431906\n",
    "-0.375934\n",
    "\n",
    "\n",
    "173\n",
    "IVZ\n",
    "Invesco Ltd.\n",
    "Financials\n",
    "Asset Management & Custody Banks\n",
    "33.480000\n",
    "7.067477\n",
    "1.580839\n",
    "12\n",
    "67\n",
    "412000000\n",
    "968100000\n",
    "2.26\n",
    "4.283628e+08\n",
    "14.814159\n",
    "4.218620"
   ]
  },
  {
   "cell_type": "markdown",
   "id": "fc6b8d0f",
   "metadata": {},
   "source": [
    "Out[4]:\n",
    "\n",
    "\n",
    "\n",
    "\n",
    "\n",
    "\n",
    "\n",
    "Ticker Symbol\n",
    "Security\n",
    "GICS Sector\n",
    "GICS Sub Industry\n",
    "Current Price\n",
    "Price Change\n",
    "Volatility\n",
    "ROE\n",
    "Cash Ratio\n",
    "Net Cash Flow\n",
    "Net Income\n",
    "Earnings Per Share\n",
    "Estimated Shares Outstanding\n",
    "P/E Ratio\n",
    "P/B Ratio\n",
    "\n",
    "\n",
    "\n",
    "\n",
    "102\n",
    "DVN\n",
    "Devon Energy Corp.\n",
    "Energy\n",
    "Oil & Gas Exploration & Production\n",
    "32.000000\n",
    "-15.478079\n",
    "2.923698\n",
    "205\n",
    "70\n",
    "830000000\n",
    "-14454000000\n",
    "-35.55\n",
    "4.065823e+08\n",
    "93.089287\n",
    "1.785616\n",
    "\n",
    "\n",
    "125\n",
    "FB\n",
    "Facebook\n",
    "Information Technology\n",
    "Internet Software & Services\n",
    "104.660004\n",
    "16.224320\n",
    "1.320606\n",
    "8\n",
    "958\n",
    "592000000\n",
    "3669000000\n",
    "1.31\n",
    "2.800763e+09\n",
    "79.893133\n",
    "5.884467\n",
    "\n",
    "\n",
    "11\n",
    "AIV\n",
    "Apartment Investment & Mgmt\n",
    "Real Estate\n",
    "REITs\n",
    "40.029999\n",
    "7.578608\n",
    "1.163334\n",
    "15\n",
    "47\n",
    "21818000\n",
    "248710000\n",
    "1.52\n",
    "1.636250e+08\n",
    "26.335526\n",
    "-1.269332\n",
    "\n",
    "\n",
    "248\n",
    "PG\n",
    "Procter & Gamble\n",
    "Consumer Staples\n",
    "Personal Products\n",
    "79.410004\n",
    "10.660538\n",
    "0.806056\n",
    "17\n",
    "129\n",
    "160383000\n",
    "636056000\n",
    "3.28\n",
    "4.913916e+08\n",
    "24.070121\n",
    "-2.256747\n",
    "\n",
    "\n",
    "238\n",
    "OXY\n",
    "Occidental Petroleum\n",
    "Energy\n",
    "Oil & Gas Exploration & Production\n",
    "67.610001\n",
    "0.865287\n",
    "1.589520\n",
    "32\n",
    "64\n",
    "-588000000\n",
    "-7829000000\n",
    "-10.23\n",
    "7.652981e+08\n",
    "93.089287\n",
    "3.345102\n",
    "\n",
    "\n",
    "336\n",
    "YUM\n",
    "Yum! Brands Inc\n",
    "Consumer Discretionary\n",
    "Restaurants\n",
    "52.516175\n",
    "-8.698917\n",
    "1.478877\n",
    "142\n",
    "27\n",
    "159000000\n",
    "1293000000\n",
    "2.97\n",
    "4.353535e+08\n",
    "17.682214\n",
    "-3.838260\n",
    "\n",
    "\n",
    "112\n",
    "EQT\n",
    "EQT Corporation\n",
    "Energy\n",
    "Oil & Gas Exploration & Production\n",
    "52.130001\n",
    "-21.253771\n",
    "2.364883\n",
    "2\n",
    "201\n",
    "523803000\n",
    "85171000\n",
    "0.56\n",
    "1.520911e+08\n",
    "93.089287\n",
    "9.567952\n",
    "\n",
    "\n",
    "147\n",
    "HAL\n",
    "Halliburton Co.\n",
    "Energy\n",
    "Oil & Gas Equipment & Services\n",
    "34.040001\n",
    "-5.101751\n",
    "1.966062\n",
    "4\n",
    "189\n",
    "7786000000\n",
    "-671000000\n",
    "-0.79\n",
    "8.493671e+08\n",
    "93.089287\n",
    "17.345857\n",
    "\n",
    "\n",
    "89\n",
    "DFS\n",
    "Discover Financial Services\n",
    "Financials\n",
    "Consumer Finance\n",
    "53.619999\n",
    "3.653584\n",
    "1.159897\n",
    "20\n",
    "99\n",
    "2288000000\n",
    "2297000000\n",
    "5.14\n",
    "4.468872e+08\n",
    "10.431906\n",
    "-0.375934\n",
    "\n",
    "\n",
    "173\n",
    "IVZ\n",
    "Invesco Ltd.\n",
    "Financials\n",
    "Asset Management & Custody Banks\n",
    "33.480000\n",
    "7.067477\n",
    "1.580839\n",
    "12\n",
    "67\n",
    "412000000\n",
    "968100000\n",
    "2.26\n",
    "4.283628e+08\n",
    "14.814159\n",
    "4.218620"
   ]
  },
  {
   "cell_type": "markdown",
   "id": "1689e772",
   "metadata": {},
   "source": [
    "Out[4]:"
   ]
  },
  {
   "cell_type": "markdown",
   "id": "c864f5c2",
   "metadata": {},
   "source": [
    "Ticker Symbol\n",
    "Security\n",
    "GICS Sector\n",
    "GICS Sub Industry\n",
    "Current Price\n",
    "Price Change\n",
    "Volatility\n",
    "ROE\n",
    "Cash Ratio\n",
    "Net Cash Flow\n",
    "Net Income\n",
    "Earnings Per Share\n",
    "Estimated Shares Outstanding\n",
    "P/E Ratio\n",
    "P/B Ratio\n",
    "\n",
    "\n",
    "\n",
    "\n",
    "102\n",
    "DVN\n",
    "Devon Energy Corp.\n",
    "Energy\n",
    "Oil & Gas Exploration & Production\n",
    "32.000000\n",
    "-15.478079\n",
    "2.923698\n",
    "205\n",
    "70\n",
    "830000000\n",
    "-14454000000\n",
    "-35.55\n",
    "4.065823e+08\n",
    "93.089287\n",
    "1.785616\n",
    "\n",
    "\n",
    "125\n",
    "FB\n",
    "Facebook\n",
    "Information Technology\n",
    "Internet Software & Services\n",
    "104.660004\n",
    "16.224320\n",
    "1.320606\n",
    "8\n",
    "958\n",
    "592000000\n",
    "3669000000\n",
    "1.31\n",
    "2.800763e+09\n",
    "79.893133\n",
    "5.884467\n",
    "\n",
    "\n",
    "11\n",
    "AIV\n",
    "Apartment Investment & Mgmt\n",
    "Real Estate\n",
    "REITs\n",
    "40.029999\n",
    "7.578608\n",
    "1.163334\n",
    "15\n",
    "47\n",
    "21818000\n",
    "248710000\n",
    "1.52\n",
    "1.636250e+08\n",
    "26.335526\n",
    "-1.269332\n",
    "\n",
    "\n",
    "248\n",
    "PG\n",
    "Procter & Gamble\n",
    "Consumer Staples\n",
    "Personal Products\n",
    "79.410004\n",
    "10.660538\n",
    "0.806056\n",
    "17\n",
    "129\n",
    "160383000\n",
    "636056000\n",
    "3.28\n",
    "4.913916e+08\n",
    "24.070121\n",
    "-2.256747\n",
    "\n",
    "\n",
    "238\n",
    "OXY\n",
    "Occidental Petroleum\n",
    "Energy\n",
    "Oil & Gas Exploration & Production\n",
    "67.610001\n",
    "0.865287\n",
    "1.589520\n",
    "32\n",
    "64\n",
    "-588000000\n",
    "-7829000000\n",
    "-10.23\n",
    "7.652981e+08\n",
    "93.089287\n",
    "3.345102\n",
    "\n",
    "\n",
    "336\n",
    "YUM\n",
    "Yum! Brands Inc\n",
    "Consumer Discretionary\n",
    "Restaurants\n",
    "52.516175\n",
    "-8.698917\n",
    "1.478877\n",
    "142\n",
    "27\n",
    "159000000\n",
    "1293000000\n",
    "2.97\n",
    "4.353535e+08\n",
    "17.682214\n",
    "-3.838260\n",
    "\n",
    "\n",
    "112\n",
    "EQT\n",
    "EQT Corporation\n",
    "Energy\n",
    "Oil & Gas Exploration & Production\n",
    "52.130001\n",
    "-21.253771\n",
    "2.364883\n",
    "2\n",
    "201\n",
    "523803000\n",
    "85171000\n",
    "0.56\n",
    "1.520911e+08\n",
    "93.089287\n",
    "9.567952\n",
    "\n",
    "\n",
    "147\n",
    "HAL\n",
    "Halliburton Co.\n",
    "Energy\n",
    "Oil & Gas Equipment & Services\n",
    "34.040001\n",
    "-5.101751\n",
    "1.966062\n",
    "4\n",
    "189\n",
    "7786000000\n",
    "-671000000\n",
    "-0.79\n",
    "8.493671e+08\n",
    "93.089287\n",
    "17.345857\n",
    "\n",
    "\n",
    "89\n",
    "DFS\n",
    "Discover Financial Services\n",
    "Financials\n",
    "Consumer Finance\n",
    "53.619999\n",
    "3.653584\n",
    "1.159897\n",
    "20\n",
    "99\n",
    "2288000000\n",
    "2297000000\n",
    "5.14\n",
    "4.468872e+08\n",
    "10.431906\n",
    "-0.375934\n",
    "\n",
    "\n",
    "173\n",
    "IVZ\n",
    "Invesco Ltd.\n",
    "Financials\n",
    "Asset Management & Custody Banks\n",
    "33.480000\n",
    "7.067477\n",
    "1.580839\n",
    "12\n",
    "67\n",
    "412000000\n",
    "968100000\n",
    "2.26\n",
    "4.283628e+08\n",
    "14.814159\n",
    "4.218620"
   ]
  },
  {
   "cell_type": "markdown",
   "id": "b7243ff0",
   "metadata": {},
   "source": [
    "Ticker Symbol\n",
    "Security\n",
    "GICS Sector\n",
    "GICS Sub Industry\n",
    "Current Price\n",
    "Price Change\n",
    "Volatility\n",
    "ROE\n",
    "Cash Ratio\n",
    "Net Cash Flow\n",
    "Net Income\n",
    "Earnings Per Share\n",
    "Estimated Shares Outstanding\n",
    "P/E Ratio\n",
    "P/B Ratio\n",
    "\n",
    "\n",
    "\n",
    "\n",
    "102\n",
    "DVN\n",
    "Devon Energy Corp.\n",
    "Energy\n",
    "Oil & Gas Exploration & Production\n",
    "32.000000\n",
    "-15.478079\n",
    "2.923698\n",
    "205\n",
    "70\n",
    "830000000\n",
    "-14454000000\n",
    "-35.55\n",
    "4.065823e+08\n",
    "93.089287\n",
    "1.785616\n",
    "\n",
    "\n",
    "125\n",
    "FB\n",
    "Facebook\n",
    "Information Technology\n",
    "Internet Software & Services\n",
    "104.660004\n",
    "16.224320\n",
    "1.320606\n",
    "8\n",
    "958\n",
    "592000000\n",
    "3669000000\n",
    "1.31\n",
    "2.800763e+09\n",
    "79.893133\n",
    "5.884467\n",
    "\n",
    "\n",
    "11\n",
    "AIV\n",
    "Apartment Investment & Mgmt\n",
    "Real Estate\n",
    "REITs\n",
    "40.029999\n",
    "7.578608\n",
    "1.163334\n",
    "15\n",
    "47\n",
    "21818000\n",
    "248710000\n",
    "1.52\n",
    "1.636250e+08\n",
    "26.335526\n",
    "-1.269332\n",
    "\n",
    "\n",
    "248\n",
    "PG\n",
    "Procter & Gamble\n",
    "Consumer Staples\n",
    "Personal Products\n",
    "79.410004\n",
    "10.660538\n",
    "0.806056\n",
    "17\n",
    "129\n",
    "160383000\n",
    "636056000\n",
    "3.28\n",
    "4.913916e+08\n",
    "24.070121\n",
    "-2.256747\n",
    "\n",
    "\n",
    "238\n",
    "OXY\n",
    "Occidental Petroleum\n",
    "Energy\n",
    "Oil & Gas Exploration & Production\n",
    "67.610001\n",
    "0.865287\n",
    "1.589520\n",
    "32\n",
    "64\n",
    "-588000000\n",
    "-7829000000\n",
    "-10.23\n",
    "7.652981e+08\n",
    "93.089287\n",
    "3.345102\n",
    "\n",
    "\n",
    "336\n",
    "YUM\n",
    "Yum! Brands Inc\n",
    "Consumer Discretionary\n",
    "Restaurants\n",
    "52.516175\n",
    "-8.698917\n",
    "1.478877\n",
    "142\n",
    "27\n",
    "159000000\n",
    "1293000000\n",
    "2.97\n",
    "4.353535e+08\n",
    "17.682214\n",
    "-3.838260\n",
    "\n",
    "\n",
    "112\n",
    "EQT\n",
    "EQT Corporation\n",
    "Energy\n",
    "Oil & Gas Exploration & Production\n",
    "52.130001\n",
    "-21.253771\n",
    "2.364883\n",
    "2\n",
    "201\n",
    "523803000\n",
    "85171000\n",
    "0.56\n",
    "1.520911e+08\n",
    "93.089287\n",
    "9.567952\n",
    "\n",
    "\n",
    "147\n",
    "HAL\n",
    "Halliburton Co.\n",
    "Energy\n",
    "Oil & Gas Equipment & Services\n",
    "34.040001\n",
    "-5.101751\n",
    "1.966062\n",
    "4\n",
    "189\n",
    "7786000000\n",
    "-671000000\n",
    "-0.79\n",
    "8.493671e+08\n",
    "93.089287\n",
    "17.345857\n",
    "\n",
    "\n",
    "89\n",
    "DFS\n",
    "Discover Financial Services\n",
    "Financials\n",
    "Consumer Finance\n",
    "53.619999\n",
    "3.653584\n",
    "1.159897\n",
    "20\n",
    "99\n",
    "2288000000\n",
    "2297000000\n",
    "5.14\n",
    "4.468872e+08\n",
    "10.431906\n",
    "-0.375934\n",
    "\n",
    "\n",
    "173\n",
    "IVZ\n",
    "Invesco Ltd.\n",
    "Financials\n",
    "Asset Management & Custody Banks\n",
    "33.480000\n",
    "7.067477\n",
    "1.580839\n",
    "12\n",
    "67\n",
    "412000000\n",
    "968100000\n",
    "2.26\n",
    "4.283628e+08\n",
    "14.814159\n",
    "4.218620"
   ]
  },
  {
   "cell_type": "markdown",
   "id": "b86b88dc",
   "metadata": {},
   "source": [
    "In [5]:\n",
    "\n",
    "\n",
    "# checking the column names and datatypes\n",
    "data.info()\n",
    "\n",
    "\n",
    "\n",
    "\n",
    "\n",
    "\n",
    "\n",
    "\n",
    "\n",
    "\n",
    "\n",
    "\n",
    "<class 'pandas.core.frame.DataFrame'>\n",
    "RangeIndex: 340 entries, 0 to 339\n",
    "Data columns (total 15 columns):\n",
    " #   Column                        Non-Null Count  Dtype  \n",
    "---  ------                        --------------  -----  \n",
    " 0   Ticker Symbol                 340 non-null    object \n",
    " 1   Security                      340 non-null    object \n",
    " 2   GICS Sector                   340 non-null    object \n",
    " 3   GICS Sub Industry             340 non-null    object \n",
    " 4   Current Price                 340 non-null    float64\n",
    " 5   Price Change                  340 non-null    float64\n",
    " 6   Volatility                    340 non-null    float64\n",
    " 7   ROE                           340 non-null    int64  \n",
    " 8   Cash Ratio                    340 non-null    int64  \n",
    " 9   Net Cash Flow                 340 non-null    int64  \n",
    " 10  Net Income                    340 non-null    int64  \n",
    " 11  Earnings Per Share            340 non-null    float64\n",
    " 12  Estimated Shares Outstanding  340 non-null    float64\n",
    " 13  P/E Ratio                     340 non-null    float64\n",
    " 14  P/B Ratio                     340 non-null    float64\n",
    "dtypes: float64(7), int64(4), object(4)\n",
    "memory usage: 40.0+ KB"
   ]
  },
  {
   "cell_type": "markdown",
   "id": "e1398cf0",
   "metadata": {},
   "source": [
    "In [5]:\n",
    "\n",
    "\n",
    "# checking the column names and datatypes\n",
    "data.info()"
   ]
  },
  {
   "cell_type": "markdown",
   "id": "b29a7354",
   "metadata": {},
   "source": []
  },
  {
   "cell_type": "markdown",
   "id": "8edb732b",
   "metadata": {},
   "source": [
    "In [5]:\n",
    "\n",
    "\n",
    "# checking the column names and datatypes\n",
    "data.info()"
   ]
  },
  {
   "cell_type": "markdown",
   "id": "073856db",
   "metadata": {},
   "source": [
    "In [5]:"
   ]
  },
  {
   "cell_type": "markdown",
   "id": "4ff585bc",
   "metadata": {},
   "source": [
    "# checking the column names and datatypes\n",
    "data.info()"
   ]
  },
  {
   "cell_type": "markdown",
   "id": "23576076",
   "metadata": {},
   "source": [
    "# checking the column names and datatypes\n",
    "data.info()"
   ]
  },
  {
   "cell_type": "markdown",
   "id": "394a51bc",
   "metadata": {},
   "source": [
    "# checking the column names and datatypes\n",
    "data.info()"
   ]
  },
  {
   "cell_type": "markdown",
   "id": "91945371",
   "metadata": {},
   "source": [
    "# checking the column names and datatypes\n",
    "data.info()"
   ]
  },
  {
   "cell_type": "markdown",
   "id": "9bd623aa",
   "metadata": {},
   "source": [
    "<class 'pandas.core.frame.DataFrame'>\n",
    "RangeIndex: 340 entries, 0 to 339\n",
    "Data columns (total 15 columns):\n",
    " #   Column                        Non-Null Count  Dtype  \n",
    "---  ------                        --------------  -----  \n",
    " 0   Ticker Symbol                 340 non-null    object \n",
    " 1   Security                      340 non-null    object \n",
    " 2   GICS Sector                   340 non-null    object \n",
    " 3   GICS Sub Industry             340 non-null    object \n",
    " 4   Current Price                 340 non-null    float64\n",
    " 5   Price Change                  340 non-null    float64\n",
    " 6   Volatility                    340 non-null    float64\n",
    " 7   ROE                           340 non-null    int64  \n",
    " 8   Cash Ratio                    340 non-null    int64  \n",
    " 9   Net Cash Flow                 340 non-null    int64  \n",
    " 10  Net Income                    340 non-null    int64  \n",
    " 11  Earnings Per Share            340 non-null    float64\n",
    " 12  Estimated Shares Outstanding  340 non-null    float64\n",
    " 13  P/E Ratio                     340 non-null    float64\n",
    " 14  P/B Ratio                     340 non-null    float64\n",
    "dtypes: float64(7), int64(4), object(4)\n",
    "memory usage: 40.0+ KB"
   ]
  },
  {
   "cell_type": "markdown",
   "id": "6c614d4c",
   "metadata": {},
   "source": []
  },
  {
   "cell_type": "markdown",
   "id": "2e4c59b9",
   "metadata": {},
   "source": [
    "<class 'pandas.core.frame.DataFrame'>\n",
    "RangeIndex: 340 entries, 0 to 339\n",
    "Data columns (total 15 columns):\n",
    " #   Column                        Non-Null Count  Dtype  \n",
    "---  ------                        --------------  -----  \n",
    " 0   Ticker Symbol                 340 non-null    object \n",
    " 1   Security                      340 non-null    object \n",
    " 2   GICS Sector                   340 non-null    object \n",
    " 3   GICS Sub Industry             340 non-null    object \n",
    " 4   Current Price                 340 non-null    float64\n",
    " 5   Price Change                  340 non-null    float64\n",
    " 6   Volatility                    340 non-null    float64\n",
    " 7   ROE                           340 non-null    int64  \n",
    " 8   Cash Ratio                    340 non-null    int64  \n",
    " 9   Net Cash Flow                 340 non-null    int64  \n",
    " 10  Net Income                    340 non-null    int64  \n",
    " 11  Earnings Per Share            340 non-null    float64\n",
    " 12  Estimated Shares Outstanding  340 non-null    float64\n",
    " 13  P/E Ratio                     340 non-null    float64\n",
    " 14  P/B Ratio                     340 non-null    float64\n",
    "dtypes: float64(7), int64(4), object(4)\n",
    "memory usage: 40.0+ KB"
   ]
  },
  {
   "cell_type": "markdown",
   "id": "ae4e2ad3",
   "metadata": {},
   "source": [
    "<class 'pandas.core.frame.DataFrame'>\n",
    "RangeIndex: 340 entries, 0 to 339\n",
    "Data columns (total 15 columns):\n",
    " #   Column                        Non-Null Count  Dtype  \n",
    "---  ------                        --------------  -----  \n",
    " 0   Ticker Symbol                 340 non-null    object \n",
    " 1   Security                      340 non-null    object \n",
    " 2   GICS Sector                   340 non-null    object \n",
    " 3   GICS Sub Industry             340 non-null    object \n",
    " 4   Current Price                 340 non-null    float64\n",
    " 5   Price Change                  340 non-null    float64\n",
    " 6   Volatility                    340 non-null    float64\n",
    " 7   ROE                           340 non-null    int64  \n",
    " 8   Cash Ratio                    340 non-null    int64  \n",
    " 9   Net Cash Flow                 340 non-null    int64  \n",
    " 10  Net Income                    340 non-null    int64  \n",
    " 11  Earnings Per Share            340 non-null    float64\n",
    " 12  Estimated Shares Outstanding  340 non-null    float64\n",
    " 13  P/E Ratio                     340 non-null    float64\n",
    " 14  P/B Ratio                     340 non-null    float64\n",
    "dtypes: float64(7), int64(4), object(4)\n",
    "memory usage: 40.0+ KB"
   ]
  },
  {
   "cell_type": "markdown",
   "id": "8b3b7a1c",
   "metadata": {},
   "source": []
  },
  {
   "cell_type": "markdown",
   "id": "778f2feb",
   "metadata": {},
   "source": [
    "<class 'pandas.core.frame.DataFrame'>\n",
    "RangeIndex: 340 entries, 0 to 339\n",
    "Data columns (total 15 columns):\n",
    " #   Column                        Non-Null Count  Dtype  \n",
    "---  ------                        --------------  -----  \n",
    " 0   Ticker Symbol                 340 non-null    object \n",
    " 1   Security                      340 non-null    object \n",
    " 2   GICS Sector                   340 non-null    object \n",
    " 3   GICS Sub Industry             340 non-null    object \n",
    " 4   Current Price                 340 non-null    float64\n",
    " 5   Price Change                  340 non-null    float64\n",
    " 6   Volatility                    340 non-null    float64\n",
    " 7   ROE                           340 non-null    int64  \n",
    " 8   Cash Ratio                    340 non-null    int64  \n",
    " 9   Net Cash Flow                 340 non-null    int64  \n",
    " 10  Net Income                    340 non-null    int64  \n",
    " 11  Earnings Per Share            340 non-null    float64\n",
    " 12  Estimated Shares Outstanding  340 non-null    float64\n",
    " 13  P/E Ratio                     340 non-null    float64\n",
    " 14  P/B Ratio                     340 non-null    float64\n",
    "dtypes: float64(7), int64(4), object(4)\n",
    "memory usage: 40.0+ KB"
   ]
  },
  {
   "cell_type": "markdown",
   "id": "98f0e993",
   "metadata": {},
   "source": [
    "<class 'pandas.core.frame.DataFrame'>\n",
    "RangeIndex: 340 entries, 0 to 339\n",
    "Data columns (total 15 columns):\n",
    " #   Column                        Non-Null Count  Dtype  \n",
    "---  ------                        --------------  -----  \n",
    " 0   Ticker Symbol                 340 non-null    object \n",
    " 1   Security                      340 non-null    object \n",
    " 2   GICS Sector                   340 non-null    object \n",
    " 3   GICS Sub Industry             340 non-null    object \n",
    " 4   Current Price                 340 non-null    float64\n",
    " 5   Price Change                  340 non-null    float64\n",
    " 6   Volatility                    340 non-null    float64\n",
    " 7   ROE                           340 non-null    int64  \n",
    " 8   Cash Ratio                    340 non-null    int64  \n",
    " 9   Net Cash Flow                 340 non-null    int64  \n",
    " 10  Net Income                    340 non-null    int64  \n",
    " 11  Earnings Per Share            340 non-null    float64\n",
    " 12  Estimated Shares Outstanding  340 non-null    float64\n",
    " 13  P/E Ratio                     340 non-null    float64\n",
    " 14  P/B Ratio                     340 non-null    float64\n",
    "dtypes: float64(7), int64(4), object(4)\n",
    "memory usage: 40.0+ KB"
   ]
  },
  {
   "cell_type": "markdown",
   "id": "4ba9ffb6",
   "metadata": {},
   "source": [
    "Observations:\n",
    "\n",
    "The variables Ticker Symbol, Security, GICS Sector, and GICS Sun Industry are of categorical datatypes\n",
    "The variables ROE, Cash Ratio, Net Cash Flow, and Net Income are of integer datatypes while the rest are float datatypes"
   ]
  },
  {
   "cell_type": "markdown",
   "id": "62bb0057",
   "metadata": {},
   "source": [
    "Observations:\n",
    "\n",
    "The variables Ticker Symbol, Security, GICS Sector, and GICS Sun Industry are of categorical datatypes\n",
    "The variables ROE, Cash Ratio, Net Cash Flow, and Net Income are of integer datatypes while the rest are float datatypes"
   ]
  },
  {
   "cell_type": "markdown",
   "id": "d659905c",
   "metadata": {},
   "source": []
  },
  {
   "cell_type": "markdown",
   "id": "1b3adf0b",
   "metadata": {},
   "source": [
    "Observations:\n",
    "\n",
    "The variables Ticker Symbol, Security, GICS Sector, and GICS Sun Industry are of categorical datatypes\n",
    "The variables ROE, Cash Ratio, Net Cash Flow, and Net Income are of integer datatypes while the rest are float datatypes"
   ]
  },
  {
   "cell_type": "markdown",
   "id": "6c3668b3",
   "metadata": {},
   "source": []
  },
  {
   "cell_type": "markdown",
   "id": "bbfc6311",
   "metadata": {},
   "source": [
    "Observations:\n",
    "\n",
    "The variables Ticker Symbol, Security, GICS Sector, and GICS Sun Industry are of categorical datatypes\n",
    "The variables ROE, Cash Ratio, Net Cash Flow, and Net Income are of integer datatypes while the rest are float datatypes"
   ]
  },
  {
   "cell_type": "markdown",
   "id": "4cd3ba36",
   "metadata": {},
   "source": [
    "In [6]:\n",
    "\n",
    "\n",
    "# copying the data to another variable to avoid any changes to original data\n",
    "df = data.copy()"
   ]
  },
  {
   "cell_type": "markdown",
   "id": "cd3eaec5",
   "metadata": {},
   "source": [
    "In [6]:\n",
    "\n",
    "\n",
    "# copying the data to another variable to avoid any changes to original data\n",
    "df = data.copy()"
   ]
  },
  {
   "cell_type": "markdown",
   "id": "87747dcc",
   "metadata": {},
   "source": []
  },
  {
   "cell_type": "markdown",
   "id": "6a84c1c2",
   "metadata": {},
   "source": [
    "In [6]:\n",
    "\n",
    "\n",
    "# copying the data to another variable to avoid any changes to original data\n",
    "df = data.copy()"
   ]
  },
  {
   "cell_type": "markdown",
   "id": "3639d940",
   "metadata": {},
   "source": [
    "In [6]:"
   ]
  },
  {
   "cell_type": "markdown",
   "id": "a34445f3",
   "metadata": {},
   "source": [
    "# copying the data to another variable to avoid any changes to original data\n",
    "df = data.copy()"
   ]
  },
  {
   "cell_type": "markdown",
   "id": "a530d595",
   "metadata": {},
   "source": [
    "# copying the data to another variable to avoid any changes to original data\n",
    "df = data.copy()"
   ]
  },
  {
   "cell_type": "markdown",
   "id": "7c0ec33e",
   "metadata": {},
   "source": [
    "# copying the data to another variable to avoid any changes to original data\n",
    "df = data.copy()"
   ]
  },
  {
   "cell_type": "markdown",
   "id": "d789bcac",
   "metadata": {},
   "source": [
    "# copying the data to another variable to avoid any changes to original data\n",
    "df = data.copy()"
   ]
  },
  {
   "cell_type": "markdown",
   "id": "affa902a",
   "metadata": {},
   "source": [
    "In [7]:\n",
    "\n",
    "\n",
    "# checking for duplicate values\n",
    "df.duplicated().sum()    \n",
    "\n",
    "\n",
    "\n",
    "\n",
    "\n",
    "\n",
    "\n",
    "\n",
    "\n",
    "\n",
    "Out[7]:\n",
    "\n",
    "0"
   ]
  },
  {
   "cell_type": "markdown",
   "id": "927b6f12",
   "metadata": {},
   "source": [
    "In [7]:\n",
    "\n",
    "\n",
    "# checking for duplicate values\n",
    "df.duplicated().sum()"
   ]
  },
  {
   "cell_type": "markdown",
   "id": "c0cc5e37",
   "metadata": {},
   "source": []
  },
  {
   "cell_type": "markdown",
   "id": "1759603f",
   "metadata": {},
   "source": [
    "In [7]:\n",
    "\n",
    "\n",
    "# checking for duplicate values\n",
    "df.duplicated().sum()"
   ]
  },
  {
   "cell_type": "markdown",
   "id": "c3adfc95",
   "metadata": {},
   "source": [
    "In [7]:"
   ]
  },
  {
   "cell_type": "markdown",
   "id": "d2af42ac",
   "metadata": {},
   "source": [
    "# checking for duplicate values\n",
    "df.duplicated().sum()"
   ]
  },
  {
   "cell_type": "markdown",
   "id": "215976a6",
   "metadata": {},
   "source": [
    "# checking for duplicate values\n",
    "df.duplicated().sum()"
   ]
  },
  {
   "cell_type": "markdown",
   "id": "319c4a3c",
   "metadata": {},
   "source": [
    "# checking for duplicate values\n",
    "df.duplicated().sum()"
   ]
  },
  {
   "cell_type": "markdown",
   "id": "b786703b",
   "metadata": {},
   "source": [
    "# checking for duplicate values\n",
    "df.duplicated().sum()"
   ]
  },
  {
   "cell_type": "markdown",
   "id": "927674f9",
   "metadata": {},
   "source": [
    "Out[7]:\n",
    "\n",
    "0"
   ]
  },
  {
   "cell_type": "markdown",
   "id": "eddfa390",
   "metadata": {},
   "source": []
  },
  {
   "cell_type": "markdown",
   "id": "9639c648",
   "metadata": {},
   "source": [
    "Out[7]:\n",
    "\n",
    "0"
   ]
  },
  {
   "cell_type": "markdown",
   "id": "047e29d8",
   "metadata": {},
   "source": [
    "Out[7]:\n",
    "\n",
    "0"
   ]
  },
  {
   "cell_type": "markdown",
   "id": "a87a6163",
   "metadata": {},
   "source": [
    "Out[7]:"
   ]
  },
  {
   "cell_type": "markdown",
   "id": "49168e39",
   "metadata": {},
   "source": [
    "0"
   ]
  },
  {
   "cell_type": "markdown",
   "id": "bcb5647c",
   "metadata": {},
   "source": [
    "0"
   ]
  },
  {
   "cell_type": "markdown",
   "id": "311b2233",
   "metadata": {},
   "source": [
    "Observations:\n",
    "There are no duplicates in the dataset"
   ]
  },
  {
   "cell_type": "markdown",
   "id": "e2bc751b",
   "metadata": {},
   "source": [
    "Observations:\n",
    "There are no duplicates in the dataset"
   ]
  },
  {
   "cell_type": "markdown",
   "id": "6c1b7b47",
   "metadata": {},
   "source": []
  },
  {
   "cell_type": "markdown",
   "id": "103c0641",
   "metadata": {},
   "source": [
    "Observations:\n",
    "There are no duplicates in the dataset"
   ]
  },
  {
   "cell_type": "markdown",
   "id": "d17947ac",
   "metadata": {},
   "source": []
  },
  {
   "cell_type": "markdown",
   "id": "0f44b05a",
   "metadata": {},
   "source": [
    "Observations:\n",
    "There are no duplicates in the dataset"
   ]
  },
  {
   "cell_type": "markdown",
   "id": "733c0a06",
   "metadata": {},
   "source": [
    "In [8]:\n",
    "\n",
    "\n",
    "# checking for missing values in the data\n",
    "df.isnull().sum() \n",
    "\n",
    "\n",
    "\n",
    "\n",
    "\n",
    "\n",
    "\n",
    "\n",
    "\n",
    "\n",
    "Out[8]:\n",
    "\n",
    "Ticker Symbol                   0\n",
    "Security                        0\n",
    "GICS Sector                     0\n",
    "GICS Sub Industry               0\n",
    "Current Price                   0\n",
    "Price Change                    0\n",
    "Volatility                      0\n",
    "ROE                             0\n",
    "Cash Ratio                      0\n",
    "Net Cash Flow                   0\n",
    "Net Income                      0\n",
    "Earnings Per Share              0\n",
    "Estimated Shares Outstanding    0\n",
    "P/E Ratio                       0\n",
    "P/B Ratio                       0\n",
    "dtype: int64"
   ]
  },
  {
   "cell_type": "markdown",
   "id": "a8e04e51",
   "metadata": {},
   "source": [
    "In [8]:\n",
    "\n",
    "\n",
    "# checking for missing values in the data\n",
    "df.isnull().sum()"
   ]
  },
  {
   "cell_type": "markdown",
   "id": "2565ecda",
   "metadata": {},
   "source": []
  },
  {
   "cell_type": "markdown",
   "id": "fc83c8aa",
   "metadata": {},
   "source": [
    "In [8]:\n",
    "\n",
    "\n",
    "# checking for missing values in the data\n",
    "df.isnull().sum()"
   ]
  },
  {
   "cell_type": "markdown",
   "id": "3e3bc95e",
   "metadata": {},
   "source": [
    "In [8]:"
   ]
  },
  {
   "cell_type": "markdown",
   "id": "70614187",
   "metadata": {},
   "source": [
    "# checking for missing values in the data\n",
    "df.isnull().sum()"
   ]
  },
  {
   "cell_type": "markdown",
   "id": "6fd6df9c",
   "metadata": {},
   "source": [
    "# checking for missing values in the data\n",
    "df.isnull().sum()"
   ]
  },
  {
   "cell_type": "markdown",
   "id": "60e1de71",
   "metadata": {},
   "source": [
    "# checking for missing values in the data\n",
    "df.isnull().sum()"
   ]
  },
  {
   "cell_type": "markdown",
   "id": "be5f2a16",
   "metadata": {},
   "source": [
    "# checking for missing values in the data\n",
    "df.isnull().sum()"
   ]
  },
  {
   "cell_type": "markdown",
   "id": "1273d9bf",
   "metadata": {},
   "source": [
    "Out[8]:\n",
    "\n",
    "Ticker Symbol                   0\n",
    "Security                        0\n",
    "GICS Sector                     0\n",
    "GICS Sub Industry               0\n",
    "Current Price                   0\n",
    "Price Change                    0\n",
    "Volatility                      0\n",
    "ROE                             0\n",
    "Cash Ratio                      0\n",
    "Net Cash Flow                   0\n",
    "Net Income                      0\n",
    "Earnings Per Share              0\n",
    "Estimated Shares Outstanding    0\n",
    "P/E Ratio                       0\n",
    "P/B Ratio                       0\n",
    "dtype: int64"
   ]
  },
  {
   "cell_type": "markdown",
   "id": "f3336257",
   "metadata": {},
   "source": []
  },
  {
   "cell_type": "markdown",
   "id": "404429c0",
   "metadata": {},
   "source": [
    "Out[8]:\n",
    "\n",
    "Ticker Symbol                   0\n",
    "Security                        0\n",
    "GICS Sector                     0\n",
    "GICS Sub Industry               0\n",
    "Current Price                   0\n",
    "Price Change                    0\n",
    "Volatility                      0\n",
    "ROE                             0\n",
    "Cash Ratio                      0\n",
    "Net Cash Flow                   0\n",
    "Net Income                      0\n",
    "Earnings Per Share              0\n",
    "Estimated Shares Outstanding    0\n",
    "P/E Ratio                       0\n",
    "P/B Ratio                       0\n",
    "dtype: int64"
   ]
  },
  {
   "cell_type": "markdown",
   "id": "b313e079",
   "metadata": {},
   "source": [
    "Out[8]:\n",
    "\n",
    "Ticker Symbol                   0\n",
    "Security                        0\n",
    "GICS Sector                     0\n",
    "GICS Sub Industry               0\n",
    "Current Price                   0\n",
    "Price Change                    0\n",
    "Volatility                      0\n",
    "ROE                             0\n",
    "Cash Ratio                      0\n",
    "Net Cash Flow                   0\n",
    "Net Income                      0\n",
    "Earnings Per Share              0\n",
    "Estimated Shares Outstanding    0\n",
    "P/E Ratio                       0\n",
    "P/B Ratio                       0\n",
    "dtype: int64"
   ]
  },
  {
   "cell_type": "markdown",
   "id": "6f095f88",
   "metadata": {},
   "source": [
    "Out[8]:"
   ]
  },
  {
   "cell_type": "markdown",
   "id": "2d7d6e6e",
   "metadata": {},
   "source": [
    "Ticker Symbol                   0\n",
    "Security                        0\n",
    "GICS Sector                     0\n",
    "GICS Sub Industry               0\n",
    "Current Price                   0\n",
    "Price Change                    0\n",
    "Volatility                      0\n",
    "ROE                             0\n",
    "Cash Ratio                      0\n",
    "Net Cash Flow                   0\n",
    "Net Income                      0\n",
    "Earnings Per Share              0\n",
    "Estimated Shares Outstanding    0\n",
    "P/E Ratio                       0\n",
    "P/B Ratio                       0\n",
    "dtype: int64"
   ]
  },
  {
   "cell_type": "markdown",
   "id": "67ae7870",
   "metadata": {},
   "source": [
    "Ticker Symbol                   0\n",
    "Security                        0\n",
    "GICS Sector                     0\n",
    "GICS Sub Industry               0\n",
    "Current Price                   0\n",
    "Price Change                    0\n",
    "Volatility                      0\n",
    "ROE                             0\n",
    "Cash Ratio                      0\n",
    "Net Cash Flow                   0\n",
    "Net Income                      0\n",
    "Earnings Per Share              0\n",
    "Estimated Shares Outstanding    0\n",
    "P/E Ratio                       0\n",
    "P/B Ratio                       0\n",
    "dtype: int64"
   ]
  },
  {
   "cell_type": "markdown",
   "id": "1a01a752",
   "metadata": {},
   "source": [
    "Observations:\n",
    "\n",
    "There are no missing values in the dataset"
   ]
  },
  {
   "cell_type": "markdown",
   "id": "b874fc01",
   "metadata": {},
   "source": [
    "Observations:\n",
    "\n",
    "There are no missing values in the dataset"
   ]
  },
  {
   "cell_type": "markdown",
   "id": "85d728ca",
   "metadata": {},
   "source": []
  },
  {
   "cell_type": "markdown",
   "id": "bd734649",
   "metadata": {},
   "source": [
    "Observations:\n",
    "\n",
    "There are no missing values in the dataset"
   ]
  },
  {
   "cell_type": "markdown",
   "id": "ed96260b",
   "metadata": {},
   "source": []
  },
  {
   "cell_type": "markdown",
   "id": "056ae9d6",
   "metadata": {},
   "source": [
    "Observations:\n",
    "\n",
    "There are no missing values in the dataset"
   ]
  },
  {
   "cell_type": "markdown",
   "id": "e5e0da10",
   "metadata": {},
   "source": [
    "In [9]:\n",
    "\n",
    "\n",
    "# get the summary statistics of the data\n",
    "df.describe(include='all').T\n",
    "\n",
    "\n",
    "\n",
    "\n",
    "\n",
    "\n",
    "\n",
    "\n",
    "\n",
    "\n",
    "Out[9]:\n",
    "\n",
    "\n",
    "\n",
    "\n",
    "\n",
    "\n",
    "\n",
    "count\n",
    "unique\n",
    "top\n",
    "freq\n",
    "mean\n",
    "std\n",
    "min\n",
    "25%\n",
    "50%\n",
    "75%\n",
    "max\n",
    "\n",
    "\n",
    "\n",
    "\n",
    "Ticker Symbol\n",
    "340\n",
    "340\n",
    "AAL\n",
    "1\n",
    "NaN\n",
    "NaN\n",
    "NaN\n",
    "NaN\n",
    "NaN\n",
    "NaN\n",
    "NaN\n",
    "\n",
    "\n",
    "Security\n",
    "340\n",
    "340\n",
    "American Airlines Group\n",
    "1\n",
    "NaN\n",
    "NaN\n",
    "NaN\n",
    "NaN\n",
    "NaN\n",
    "NaN\n",
    "NaN\n",
    "\n",
    "\n",
    "GICS Sector\n",
    "340\n",
    "11\n",
    "Industrials\n",
    "53\n",
    "NaN\n",
    "NaN\n",
    "NaN\n",
    "NaN\n",
    "NaN\n",
    "NaN\n",
    "NaN\n",
    "\n",
    "\n",
    "GICS Sub Industry\n",
    "340\n",
    "104\n",
    "Oil & Gas Exploration & Production\n",
    "16\n",
    "NaN\n",
    "NaN\n",
    "NaN\n",
    "NaN\n",
    "NaN\n",
    "NaN\n",
    "NaN\n",
    "\n",
    "\n",
    "Current Price\n",
    "340.0\n",
    "NaN\n",
    "NaN\n",
    "NaN\n",
    "80.862345\n",
    "98.055086\n",
    "4.5\n",
    "38.555\n",
    "59.705\n",
    "92.880001\n",
    "1274.949951\n",
    "\n",
    "\n",
    "Price Change\n",
    "340.0\n",
    "NaN\n",
    "NaN\n",
    "NaN\n",
    "4.078194\n",
    "12.006338\n",
    "-47.129693\n",
    "-0.939484\n",
    "4.819505\n",
    "10.695493\n",
    "55.051683\n",
    "\n",
    "\n",
    "Volatility\n",
    "340.0\n",
    "NaN\n",
    "NaN\n",
    "NaN\n",
    "1.525976\n",
    "0.591798\n",
    "0.733163\n",
    "1.134878\n",
    "1.385593\n",
    "1.695549\n",
    "4.580042\n",
    "\n",
    "\n",
    "ROE\n",
    "340.0\n",
    "NaN\n",
    "NaN\n",
    "NaN\n",
    "39.597059\n",
    "96.547538\n",
    "1.0\n",
    "9.75\n",
    "15.0\n",
    "27.0\n",
    "917.0\n",
    "\n",
    "\n",
    "Cash Ratio\n",
    "340.0\n",
    "NaN\n",
    "NaN\n",
    "NaN\n",
    "70.023529\n",
    "90.421331\n",
    "0.0\n",
    "18.0\n",
    "47.0\n",
    "99.0\n",
    "958.0\n",
    "\n",
    "\n",
    "Net Cash Flow\n",
    "340.0\n",
    "NaN\n",
    "NaN\n",
    "NaN\n",
    "55537620.588235\n",
    "1946365312.175789\n",
    "-11208000000.0\n",
    "-193906500.0\n",
    "2098000.0\n",
    "169810750.0\n",
    "20764000000.0\n",
    "\n",
    "\n",
    "Net Income\n",
    "340.0\n",
    "NaN\n",
    "NaN\n",
    "NaN\n",
    "1494384602.941176\n",
    "3940150279.327937\n",
    "-23528000000.0\n",
    "352301250.0\n",
    "707336000.0\n",
    "1899000000.0\n",
    "24442000000.0\n",
    "\n",
    "\n",
    "Earnings Per Share\n",
    "340.0\n",
    "NaN\n",
    "NaN\n",
    "NaN\n",
    "2.776662\n",
    "6.587779\n",
    "-61.2\n",
    "1.5575\n",
    "2.895\n",
    "4.62\n",
    "50.09\n",
    "\n",
    "\n",
    "Estimated Shares Outstanding\n",
    "340.0\n",
    "NaN\n",
    "NaN\n",
    "NaN\n",
    "577028337.754029\n",
    "845849595.417695\n",
    "27672156.86\n",
    "158848216.1\n",
    "309675137.8\n",
    "573117457.325\n",
    "6159292035.0\n",
    "\n",
    "\n",
    "P/E Ratio\n",
    "340.0\n",
    "NaN\n",
    "NaN\n",
    "NaN\n",
    "32.612563\n",
    "44.348731\n",
    "2.935451\n",
    "15.044653\n",
    "20.819876\n",
    "31.764755\n",
    "528.039074\n",
    "\n",
    "\n",
    "P/B Ratio\n",
    "340.0\n",
    "NaN\n",
    "NaN\n",
    "NaN\n",
    "-1.718249\n",
    "13.966912\n",
    "-76.119077\n",
    "-4.352056\n",
    "-1.06717\n",
    "3.917066\n",
    "129.064585"
   ]
  },
  {
   "cell_type": "markdown",
   "id": "3a779c88",
   "metadata": {},
   "source": [
    "In [9]:\n",
    "\n",
    "\n",
    "# get the summary statistics of the data\n",
    "df.describe(include='all').T"
   ]
  },
  {
   "cell_type": "markdown",
   "id": "9d640a4d",
   "metadata": {},
   "source": []
  },
  {
   "cell_type": "markdown",
   "id": "1a9b24ca",
   "metadata": {},
   "source": [
    "In [9]:\n",
    "\n",
    "\n",
    "# get the summary statistics of the data\n",
    "df.describe(include='all').T"
   ]
  },
  {
   "cell_type": "markdown",
   "id": "d34e5e3f",
   "metadata": {},
   "source": [
    "In [9]:"
   ]
  },
  {
   "cell_type": "markdown",
   "id": "18eb723c",
   "metadata": {},
   "source": [
    "# get the summary statistics of the data\n",
    "df.describe(include='all').T"
   ]
  },
  {
   "cell_type": "markdown",
   "id": "fada40da",
   "metadata": {},
   "source": [
    "# get the summary statistics of the data\n",
    "df.describe(include='all').T"
   ]
  },
  {
   "cell_type": "markdown",
   "id": "88c63fc6",
   "metadata": {},
   "source": [
    "# get the summary statistics of the data\n",
    "df.describe(include='all').T"
   ]
  },
  {
   "cell_type": "markdown",
   "id": "f1277e75",
   "metadata": {},
   "source": [
    "# get the summary statistics of the data\n",
    "df.describe(include='all').T"
   ]
  },
  {
   "cell_type": "markdown",
   "id": "bbe0c436",
   "metadata": {},
   "source": [
    "Out[9]:\n",
    "\n",
    "\n",
    "\n",
    "\n",
    "\n",
    "\n",
    "\n",
    "count\n",
    "unique\n",
    "top\n",
    "freq\n",
    "mean\n",
    "std\n",
    "min\n",
    "25%\n",
    "50%\n",
    "75%\n",
    "max\n",
    "\n",
    "\n",
    "\n",
    "\n",
    "Ticker Symbol\n",
    "340\n",
    "340\n",
    "AAL\n",
    "1\n",
    "NaN\n",
    "NaN\n",
    "NaN\n",
    "NaN\n",
    "NaN\n",
    "NaN\n",
    "NaN\n",
    "\n",
    "\n",
    "Security\n",
    "340\n",
    "340\n",
    "American Airlines Group\n",
    "1\n",
    "NaN\n",
    "NaN\n",
    "NaN\n",
    "NaN\n",
    "NaN\n",
    "NaN\n",
    "NaN\n",
    "\n",
    "\n",
    "GICS Sector\n",
    "340\n",
    "11\n",
    "Industrials\n",
    "53\n",
    "NaN\n",
    "NaN\n",
    "NaN\n",
    "NaN\n",
    "NaN\n",
    "NaN\n",
    "NaN\n",
    "\n",
    "\n",
    "GICS Sub Industry\n",
    "340\n",
    "104\n",
    "Oil & Gas Exploration & Production\n",
    "16\n",
    "NaN\n",
    "NaN\n",
    "NaN\n",
    "NaN\n",
    "NaN\n",
    "NaN\n",
    "NaN\n",
    "\n",
    "\n",
    "Current Price\n",
    "340.0\n",
    "NaN\n",
    "NaN\n",
    "NaN\n",
    "80.862345\n",
    "98.055086\n",
    "4.5\n",
    "38.555\n",
    "59.705\n",
    "92.880001\n",
    "1274.949951\n",
    "\n",
    "\n",
    "Price Change\n",
    "340.0\n",
    "NaN\n",
    "NaN\n",
    "NaN\n",
    "4.078194\n",
    "12.006338\n",
    "-47.129693\n",
    "-0.939484\n",
    "4.819505\n",
    "10.695493\n",
    "55.051683\n",
    "\n",
    "\n",
    "Volatility\n",
    "340.0\n",
    "NaN\n",
    "NaN\n",
    "NaN\n",
    "1.525976\n",
    "0.591798\n",
    "0.733163\n",
    "1.134878\n",
    "1.385593\n",
    "1.695549\n",
    "4.580042\n",
    "\n",
    "\n",
    "ROE\n",
    "340.0\n",
    "NaN\n",
    "NaN\n",
    "NaN\n",
    "39.597059\n",
    "96.547538\n",
    "1.0\n",
    "9.75\n",
    "15.0\n",
    "27.0\n",
    "917.0\n",
    "\n",
    "\n",
    "Cash Ratio\n",
    "340.0\n",
    "NaN\n",
    "NaN\n",
    "NaN\n",
    "70.023529\n",
    "90.421331\n",
    "0.0\n",
    "18.0\n",
    "47.0\n",
    "99.0\n",
    "958.0\n",
    "\n",
    "\n",
    "Net Cash Flow\n",
    "340.0\n",
    "NaN\n",
    "NaN\n",
    "NaN\n",
    "55537620.588235\n",
    "1946365312.175789\n",
    "-11208000000.0\n",
    "-193906500.0\n",
    "2098000.0\n",
    "169810750.0\n",
    "20764000000.0\n",
    "\n",
    "\n",
    "Net Income\n",
    "340.0\n",
    "NaN\n",
    "NaN\n",
    "NaN\n",
    "1494384602.941176\n",
    "3940150279.327937\n",
    "-23528000000.0\n",
    "352301250.0\n",
    "707336000.0\n",
    "1899000000.0\n",
    "24442000000.0\n",
    "\n",
    "\n",
    "Earnings Per Share\n",
    "340.0\n",
    "NaN\n",
    "NaN\n",
    "NaN\n",
    "2.776662\n",
    "6.587779\n",
    "-61.2\n",
    "1.5575\n",
    "2.895\n",
    "4.62\n",
    "50.09\n",
    "\n",
    "\n",
    "Estimated Shares Outstanding\n",
    "340.0\n",
    "NaN\n",
    "NaN\n",
    "NaN\n",
    "577028337.754029\n",
    "845849595.417695\n",
    "27672156.86\n",
    "158848216.1\n",
    "309675137.8\n",
    "573117457.325\n",
    "6159292035.0\n",
    "\n",
    "\n",
    "P/E Ratio\n",
    "340.0\n",
    "NaN\n",
    "NaN\n",
    "NaN\n",
    "32.612563\n",
    "44.348731\n",
    "2.935451\n",
    "15.044653\n",
    "20.819876\n",
    "31.764755\n",
    "528.039074\n",
    "\n",
    "\n",
    "P/B Ratio\n",
    "340.0\n",
    "NaN\n",
    "NaN\n",
    "NaN\n",
    "-1.718249\n",
    "13.966912\n",
    "-76.119077\n",
    "-4.352056\n",
    "-1.06717\n",
    "3.917066\n",
    "129.064585"
   ]
  },
  {
   "cell_type": "markdown",
   "id": "2fb9a792",
   "metadata": {},
   "source": []
  },
  {
   "cell_type": "markdown",
   "id": "e4788c60",
   "metadata": {},
   "source": [
    "Out[9]:\n",
    "\n",
    "\n",
    "\n",
    "\n",
    "\n",
    "\n",
    "\n",
    "count\n",
    "unique\n",
    "top\n",
    "freq\n",
    "mean\n",
    "std\n",
    "min\n",
    "25%\n",
    "50%\n",
    "75%\n",
    "max\n",
    "\n",
    "\n",
    "\n",
    "\n",
    "Ticker Symbol\n",
    "340\n",
    "340\n",
    "AAL\n",
    "1\n",
    "NaN\n",
    "NaN\n",
    "NaN\n",
    "NaN\n",
    "NaN\n",
    "NaN\n",
    "NaN\n",
    "\n",
    "\n",
    "Security\n",
    "340\n",
    "340\n",
    "American Airlines Group\n",
    "1\n",
    "NaN\n",
    "NaN\n",
    "NaN\n",
    "NaN\n",
    "NaN\n",
    "NaN\n",
    "NaN\n",
    "\n",
    "\n",
    "GICS Sector\n",
    "340\n",
    "11\n",
    "Industrials\n",
    "53\n",
    "NaN\n",
    "NaN\n",
    "NaN\n",
    "NaN\n",
    "NaN\n",
    "NaN\n",
    "NaN\n",
    "\n",
    "\n",
    "GICS Sub Industry\n",
    "340\n",
    "104\n",
    "Oil & Gas Exploration & Production\n",
    "16\n",
    "NaN\n",
    "NaN\n",
    "NaN\n",
    "NaN\n",
    "NaN\n",
    "NaN\n",
    "NaN\n",
    "\n",
    "\n",
    "Current Price\n",
    "340.0\n",
    "NaN\n",
    "NaN\n",
    "NaN\n",
    "80.862345\n",
    "98.055086\n",
    "4.5\n",
    "38.555\n",
    "59.705\n",
    "92.880001\n",
    "1274.949951\n",
    "\n",
    "\n",
    "Price Change\n",
    "340.0\n",
    "NaN\n",
    "NaN\n",
    "NaN\n",
    "4.078194\n",
    "12.006338\n",
    "-47.129693\n",
    "-0.939484\n",
    "4.819505\n",
    "10.695493\n",
    "55.051683\n",
    "\n",
    "\n",
    "Volatility\n",
    "340.0\n",
    "NaN\n",
    "NaN\n",
    "NaN\n",
    "1.525976\n",
    "0.591798\n",
    "0.733163\n",
    "1.134878\n",
    "1.385593\n",
    "1.695549\n",
    "4.580042\n",
    "\n",
    "\n",
    "ROE\n",
    "340.0\n",
    "NaN\n",
    "NaN\n",
    "NaN\n",
    "39.597059\n",
    "96.547538\n",
    "1.0\n",
    "9.75\n",
    "15.0\n",
    "27.0\n",
    "917.0\n",
    "\n",
    "\n",
    "Cash Ratio\n",
    "340.0\n",
    "NaN\n",
    "NaN\n",
    "NaN\n",
    "70.023529\n",
    "90.421331\n",
    "0.0\n",
    "18.0\n",
    "47.0\n",
    "99.0\n",
    "958.0\n",
    "\n",
    "\n",
    "Net Cash Flow\n",
    "340.0\n",
    "NaN\n",
    "NaN\n",
    "NaN\n",
    "55537620.588235\n",
    "1946365312.175789\n",
    "-11208000000.0\n",
    "-193906500.0\n",
    "2098000.0\n",
    "169810750.0\n",
    "20764000000.0\n",
    "\n",
    "\n",
    "Net Income\n",
    "340.0\n",
    "NaN\n",
    "NaN\n",
    "NaN\n",
    "1494384602.941176\n",
    "3940150279.327937\n",
    "-23528000000.0\n",
    "352301250.0\n",
    "707336000.0\n",
    "1899000000.0\n",
    "24442000000.0\n",
    "\n",
    "\n",
    "Earnings Per Share\n",
    "340.0\n",
    "NaN\n",
    "NaN\n",
    "NaN\n",
    "2.776662\n",
    "6.587779\n",
    "-61.2\n",
    "1.5575\n",
    "2.895\n",
    "4.62\n",
    "50.09\n",
    "\n",
    "\n",
    "Estimated Shares Outstanding\n",
    "340.0\n",
    "NaN\n",
    "NaN\n",
    "NaN\n",
    "577028337.754029\n",
    "845849595.417695\n",
    "27672156.86\n",
    "158848216.1\n",
    "309675137.8\n",
    "573117457.325\n",
    "6159292035.0\n",
    "\n",
    "\n",
    "P/E Ratio\n",
    "340.0\n",
    "NaN\n",
    "NaN\n",
    "NaN\n",
    "32.612563\n",
    "44.348731\n",
    "2.935451\n",
    "15.044653\n",
    "20.819876\n",
    "31.764755\n",
    "528.039074\n",
    "\n",
    "\n",
    "P/B Ratio\n",
    "340.0\n",
    "NaN\n",
    "NaN\n",
    "NaN\n",
    "-1.718249\n",
    "13.966912\n",
    "-76.119077\n",
    "-4.352056\n",
    "-1.06717\n",
    "3.917066\n",
    "129.064585"
   ]
  },
  {
   "cell_type": "markdown",
   "id": "67b08064",
   "metadata": {},
   "source": [
    "Out[9]:\n",
    "\n",
    "\n",
    "\n",
    "\n",
    "\n",
    "\n",
    "\n",
    "count\n",
    "unique\n",
    "top\n",
    "freq\n",
    "mean\n",
    "std\n",
    "min\n",
    "25%\n",
    "50%\n",
    "75%\n",
    "max\n",
    "\n",
    "\n",
    "\n",
    "\n",
    "Ticker Symbol\n",
    "340\n",
    "340\n",
    "AAL\n",
    "1\n",
    "NaN\n",
    "NaN\n",
    "NaN\n",
    "NaN\n",
    "NaN\n",
    "NaN\n",
    "NaN\n",
    "\n",
    "\n",
    "Security\n",
    "340\n",
    "340\n",
    "American Airlines Group\n",
    "1\n",
    "NaN\n",
    "NaN\n",
    "NaN\n",
    "NaN\n",
    "NaN\n",
    "NaN\n",
    "NaN\n",
    "\n",
    "\n",
    "GICS Sector\n",
    "340\n",
    "11\n",
    "Industrials\n",
    "53\n",
    "NaN\n",
    "NaN\n",
    "NaN\n",
    "NaN\n",
    "NaN\n",
    "NaN\n",
    "NaN\n",
    "\n",
    "\n",
    "GICS Sub Industry\n",
    "340\n",
    "104\n",
    "Oil & Gas Exploration & Production\n",
    "16\n",
    "NaN\n",
    "NaN\n",
    "NaN\n",
    "NaN\n",
    "NaN\n",
    "NaN\n",
    "NaN\n",
    "\n",
    "\n",
    "Current Price\n",
    "340.0\n",
    "NaN\n",
    "NaN\n",
    "NaN\n",
    "80.862345\n",
    "98.055086\n",
    "4.5\n",
    "38.555\n",
    "59.705\n",
    "92.880001\n",
    "1274.949951\n",
    "\n",
    "\n",
    "Price Change\n",
    "340.0\n",
    "NaN\n",
    "NaN\n",
    "NaN\n",
    "4.078194\n",
    "12.006338\n",
    "-47.129693\n",
    "-0.939484\n",
    "4.819505\n",
    "10.695493\n",
    "55.051683\n",
    "\n",
    "\n",
    "Volatility\n",
    "340.0\n",
    "NaN\n",
    "NaN\n",
    "NaN\n",
    "1.525976\n",
    "0.591798\n",
    "0.733163\n",
    "1.134878\n",
    "1.385593\n",
    "1.695549\n",
    "4.580042\n",
    "\n",
    "\n",
    "ROE\n",
    "340.0\n",
    "NaN\n",
    "NaN\n",
    "NaN\n",
    "39.597059\n",
    "96.547538\n",
    "1.0\n",
    "9.75\n",
    "15.0\n",
    "27.0\n",
    "917.0\n",
    "\n",
    "\n",
    "Cash Ratio\n",
    "340.0\n",
    "NaN\n",
    "NaN\n",
    "NaN\n",
    "70.023529\n",
    "90.421331\n",
    "0.0\n",
    "18.0\n",
    "47.0\n",
    "99.0\n",
    "958.0\n",
    "\n",
    "\n",
    "Net Cash Flow\n",
    "340.0\n",
    "NaN\n",
    "NaN\n",
    "NaN\n",
    "55537620.588235\n",
    "1946365312.175789\n",
    "-11208000000.0\n",
    "-193906500.0\n",
    "2098000.0\n",
    "169810750.0\n",
    "20764000000.0\n",
    "\n",
    "\n",
    "Net Income\n",
    "340.0\n",
    "NaN\n",
    "NaN\n",
    "NaN\n",
    "1494384602.941176\n",
    "3940150279.327937\n",
    "-23528000000.0\n",
    "352301250.0\n",
    "707336000.0\n",
    "1899000000.0\n",
    "24442000000.0\n",
    "\n",
    "\n",
    "Earnings Per Share\n",
    "340.0\n",
    "NaN\n",
    "NaN\n",
    "NaN\n",
    "2.776662\n",
    "6.587779\n",
    "-61.2\n",
    "1.5575\n",
    "2.895\n",
    "4.62\n",
    "50.09\n",
    "\n",
    "\n",
    "Estimated Shares Outstanding\n",
    "340.0\n",
    "NaN\n",
    "NaN\n",
    "NaN\n",
    "577028337.754029\n",
    "845849595.417695\n",
    "27672156.86\n",
    "158848216.1\n",
    "309675137.8\n",
    "573117457.325\n",
    "6159292035.0\n",
    "\n",
    "\n",
    "P/E Ratio\n",
    "340.0\n",
    "NaN\n",
    "NaN\n",
    "NaN\n",
    "32.612563\n",
    "44.348731\n",
    "2.935451\n",
    "15.044653\n",
    "20.819876\n",
    "31.764755\n",
    "528.039074\n",
    "\n",
    "\n",
    "P/B Ratio\n",
    "340.0\n",
    "NaN\n",
    "NaN\n",
    "NaN\n",
    "-1.718249\n",
    "13.966912\n",
    "-76.119077\n",
    "-4.352056\n",
    "-1.06717\n",
    "3.917066\n",
    "129.064585"
   ]
  },
  {
   "cell_type": "markdown",
   "id": "456c7c47",
   "metadata": {},
   "source": [
    "Out[9]:"
   ]
  },
  {
   "cell_type": "markdown",
   "id": "d37ff87d",
   "metadata": {},
   "source": [
    "count\n",
    "unique\n",
    "top\n",
    "freq\n",
    "mean\n",
    "std\n",
    "min\n",
    "25%\n",
    "50%\n",
    "75%\n",
    "max\n",
    "\n",
    "\n",
    "\n",
    "\n",
    "Ticker Symbol\n",
    "340\n",
    "340\n",
    "AAL\n",
    "1\n",
    "NaN\n",
    "NaN\n",
    "NaN\n",
    "NaN\n",
    "NaN\n",
    "NaN\n",
    "NaN\n",
    "\n",
    "\n",
    "Security\n",
    "340\n",
    "340\n",
    "American Airlines Group\n",
    "1\n",
    "NaN\n",
    "NaN\n",
    "NaN\n",
    "NaN\n",
    "NaN\n",
    "NaN\n",
    "NaN\n",
    "\n",
    "\n",
    "GICS Sector\n",
    "340\n",
    "11\n",
    "Industrials\n",
    "53\n",
    "NaN\n",
    "NaN\n",
    "NaN\n",
    "NaN\n",
    "NaN\n",
    "NaN\n",
    "NaN\n",
    "\n",
    "\n",
    "GICS Sub Industry\n",
    "340\n",
    "104\n",
    "Oil & Gas Exploration & Production\n",
    "16\n",
    "NaN\n",
    "NaN\n",
    "NaN\n",
    "NaN\n",
    "NaN\n",
    "NaN\n",
    "NaN\n",
    "\n",
    "\n",
    "Current Price\n",
    "340.0\n",
    "NaN\n",
    "NaN\n",
    "NaN\n",
    "80.862345\n",
    "98.055086\n",
    "4.5\n",
    "38.555\n",
    "59.705\n",
    "92.880001\n",
    "1274.949951\n",
    "\n",
    "\n",
    "Price Change\n",
    "340.0\n",
    "NaN\n",
    "NaN\n",
    "NaN\n",
    "4.078194\n",
    "12.006338\n",
    "-47.129693\n",
    "-0.939484\n",
    "4.819505\n",
    "10.695493\n",
    "55.051683\n",
    "\n",
    "\n",
    "Volatility\n",
    "340.0\n",
    "NaN\n",
    "NaN\n",
    "NaN\n",
    "1.525976\n",
    "0.591798\n",
    "0.733163\n",
    "1.134878\n",
    "1.385593\n",
    "1.695549\n",
    "4.580042\n",
    "\n",
    "\n",
    "ROE\n",
    "340.0\n",
    "NaN\n",
    "NaN\n",
    "NaN\n",
    "39.597059\n",
    "96.547538\n",
    "1.0\n",
    "9.75\n",
    "15.0\n",
    "27.0\n",
    "917.0\n",
    "\n",
    "\n",
    "Cash Ratio\n",
    "340.0\n",
    "NaN\n",
    "NaN\n",
    "NaN\n",
    "70.023529\n",
    "90.421331\n",
    "0.0\n",
    "18.0\n",
    "47.0\n",
    "99.0\n",
    "958.0\n",
    "\n",
    "\n",
    "Net Cash Flow\n",
    "340.0\n",
    "NaN\n",
    "NaN\n",
    "NaN\n",
    "55537620.588235\n",
    "1946365312.175789\n",
    "-11208000000.0\n",
    "-193906500.0\n",
    "2098000.0\n",
    "169810750.0\n",
    "20764000000.0\n",
    "\n",
    "\n",
    "Net Income\n",
    "340.0\n",
    "NaN\n",
    "NaN\n",
    "NaN\n",
    "1494384602.941176\n",
    "3940150279.327937\n",
    "-23528000000.0\n",
    "352301250.0\n",
    "707336000.0\n",
    "1899000000.0\n",
    "24442000000.0\n",
    "\n",
    "\n",
    "Earnings Per Share\n",
    "340.0\n",
    "NaN\n",
    "NaN\n",
    "NaN\n",
    "2.776662\n",
    "6.587779\n",
    "-61.2\n",
    "1.5575\n",
    "2.895\n",
    "4.62\n",
    "50.09\n",
    "\n",
    "\n",
    "Estimated Shares Outstanding\n",
    "340.0\n",
    "NaN\n",
    "NaN\n",
    "NaN\n",
    "577028337.754029\n",
    "845849595.417695\n",
    "27672156.86\n",
    "158848216.1\n",
    "309675137.8\n",
    "573117457.325\n",
    "6159292035.0\n",
    "\n",
    "\n",
    "P/E Ratio\n",
    "340.0\n",
    "NaN\n",
    "NaN\n",
    "NaN\n",
    "32.612563\n",
    "44.348731\n",
    "2.935451\n",
    "15.044653\n",
    "20.819876\n",
    "31.764755\n",
    "528.039074\n",
    "\n",
    "\n",
    "P/B Ratio\n",
    "340.0\n",
    "NaN\n",
    "NaN\n",
    "NaN\n",
    "-1.718249\n",
    "13.966912\n",
    "-76.119077\n",
    "-4.352056\n",
    "-1.06717\n",
    "3.917066\n",
    "129.064585"
   ]
  },
  {
   "cell_type": "markdown",
   "id": "6848faf3",
   "metadata": {},
   "source": [
    "count\n",
    "unique\n",
    "top\n",
    "freq\n",
    "mean\n",
    "std\n",
    "min\n",
    "25%\n",
    "50%\n",
    "75%\n",
    "max\n",
    "\n",
    "\n",
    "\n",
    "\n",
    "Ticker Symbol\n",
    "340\n",
    "340\n",
    "AAL\n",
    "1\n",
    "NaN\n",
    "NaN\n",
    "NaN\n",
    "NaN\n",
    "NaN\n",
    "NaN\n",
    "NaN\n",
    "\n",
    "\n",
    "Security\n",
    "340\n",
    "340\n",
    "American Airlines Group\n",
    "1\n",
    "NaN\n",
    "NaN\n",
    "NaN\n",
    "NaN\n",
    "NaN\n",
    "NaN\n",
    "NaN\n",
    "\n",
    "\n",
    "GICS Sector\n",
    "340\n",
    "11\n",
    "Industrials\n",
    "53\n",
    "NaN\n",
    "NaN\n",
    "NaN\n",
    "NaN\n",
    "NaN\n",
    "NaN\n",
    "NaN\n",
    "\n",
    "\n",
    "GICS Sub Industry\n",
    "340\n",
    "104\n",
    "Oil & Gas Exploration & Production\n",
    "16\n",
    "NaN\n",
    "NaN\n",
    "NaN\n",
    "NaN\n",
    "NaN\n",
    "NaN\n",
    "NaN\n",
    "\n",
    "\n",
    "Current Price\n",
    "340.0\n",
    "NaN\n",
    "NaN\n",
    "NaN\n",
    "80.862345\n",
    "98.055086\n",
    "4.5\n",
    "38.555\n",
    "59.705\n",
    "92.880001\n",
    "1274.949951\n",
    "\n",
    "\n",
    "Price Change\n",
    "340.0\n",
    "NaN\n",
    "NaN\n",
    "NaN\n",
    "4.078194\n",
    "12.006338\n",
    "-47.129693\n",
    "-0.939484\n",
    "4.819505\n",
    "10.695493\n",
    "55.051683\n",
    "\n",
    "\n",
    "Volatility\n",
    "340.0\n",
    "NaN\n",
    "NaN\n",
    "NaN\n",
    "1.525976\n",
    "0.591798\n",
    "0.733163\n",
    "1.134878\n",
    "1.385593\n",
    "1.695549\n",
    "4.580042\n",
    "\n",
    "\n",
    "ROE\n",
    "340.0\n",
    "NaN\n",
    "NaN\n",
    "NaN\n",
    "39.597059\n",
    "96.547538\n",
    "1.0\n",
    "9.75\n",
    "15.0\n",
    "27.0\n",
    "917.0\n",
    "\n",
    "\n",
    "Cash Ratio\n",
    "340.0\n",
    "NaN\n",
    "NaN\n",
    "NaN\n",
    "70.023529\n",
    "90.421331\n",
    "0.0\n",
    "18.0\n",
    "47.0\n",
    "99.0\n",
    "958.0\n",
    "\n",
    "\n",
    "Net Cash Flow\n",
    "340.0\n",
    "NaN\n",
    "NaN\n",
    "NaN\n",
    "55537620.588235\n",
    "1946365312.175789\n",
    "-11208000000.0\n",
    "-193906500.0\n",
    "2098000.0\n",
    "169810750.0\n",
    "20764000000.0\n",
    "\n",
    "\n",
    "Net Income\n",
    "340.0\n",
    "NaN\n",
    "NaN\n",
    "NaN\n",
    "1494384602.941176\n",
    "3940150279.327937\n",
    "-23528000000.0\n",
    "352301250.0\n",
    "707336000.0\n",
    "1899000000.0\n",
    "24442000000.0\n",
    "\n",
    "\n",
    "Earnings Per Share\n",
    "340.0\n",
    "NaN\n",
    "NaN\n",
    "NaN\n",
    "2.776662\n",
    "6.587779\n",
    "-61.2\n",
    "1.5575\n",
    "2.895\n",
    "4.62\n",
    "50.09\n",
    "\n",
    "\n",
    "Estimated Shares Outstanding\n",
    "340.0\n",
    "NaN\n",
    "NaN\n",
    "NaN\n",
    "577028337.754029\n",
    "845849595.417695\n",
    "27672156.86\n",
    "158848216.1\n",
    "309675137.8\n",
    "573117457.325\n",
    "6159292035.0\n",
    "\n",
    "\n",
    "P/E Ratio\n",
    "340.0\n",
    "NaN\n",
    "NaN\n",
    "NaN\n",
    "32.612563\n",
    "44.348731\n",
    "2.935451\n",
    "15.044653\n",
    "20.819876\n",
    "31.764755\n",
    "528.039074\n",
    "\n",
    "\n",
    "P/B Ratio\n",
    "340.0\n",
    "NaN\n",
    "NaN\n",
    "NaN\n",
    "-1.718249\n",
    "13.966912\n",
    "-76.119077\n",
    "-4.352056\n",
    "-1.06717\n",
    "3.917066\n",
    "129.064585"
   ]
  },
  {
   "cell_type": "markdown",
   "id": "168f7b21",
   "metadata": {},
   "source": [
    "Observations:\n",
    "\n",
    "There are 11 unique Sectors. \n",
    "There are 104 unique sub industries.\n",
    "The company with the most valuable stock is currently vlaued at USD1,274.95.\n",
    "The company with the least valuable stock is currently vlaued at USD80.86.\n",
    "The stock with the highest price change had its value increase by 55.05% in 13 weeks\n",
    "The stock with the least price change had its value decrease by 47.13% in 13 weeks"
   ]
  },
  {
   "cell_type": "markdown",
   "id": "7970ee01",
   "metadata": {},
   "source": [
    "Observations:\n",
    "\n",
    "There are 11 unique Sectors. \n",
    "There are 104 unique sub industries.\n",
    "The company with the most valuable stock is currently vlaued at USD1,274.95.\n",
    "The company with the least valuable stock is currently vlaued at USD80.86.\n",
    "The stock with the highest price change had its value increase by 55.05% in 13 weeks\n",
    "The stock with the least price change had its value decrease by 47.13% in 13 weeks"
   ]
  },
  {
   "cell_type": "markdown",
   "id": "d77fc9bb",
   "metadata": {},
   "source": []
  },
  {
   "cell_type": "markdown",
   "id": "b0ce8838",
   "metadata": {},
   "source": [
    "Observations:\n",
    "\n",
    "There are 11 unique Sectors. \n",
    "There are 104 unique sub industries.\n",
    "The company with the most valuable stock is currently vlaued at USD1,274.95.\n",
    "The company with the least valuable stock is currently vlaued at USD80.86.\n",
    "The stock with the highest price change had its value increase by 55.05% in 13 weeks\n",
    "The stock with the least price change had its value decrease by 47.13% in 13 weeks"
   ]
  },
  {
   "cell_type": "markdown",
   "id": "08aaffff",
   "metadata": {},
   "source": []
  },
  {
   "cell_type": "markdown",
   "id": "9f826d2f",
   "metadata": {},
   "source": [
    "Observations:\n",
    "\n",
    "There are 11 unique Sectors. \n",
    "There are 104 unique sub industries.\n",
    "The company with the most valuable stock is currently vlaued at USD1,274.95.\n",
    "The company with the least valuable stock is currently vlaued at USD80.86.\n",
    "The stock with the highest price change had its value increase by 55.05% in 13 weeks\n",
    "The stock with the least price change had its value decrease by 47.13% in 13 weeks"
   ]
  },
  {
   "cell_type": "markdown",
   "id": "29d74425",
   "metadata": {},
   "source": [
    "Exploratory Data Analysis (EDA)¶\n",
    "EDA is an important part of any project involving data.\n",
    "It is important to investigate and understand the data better before building a model with it.\n",
    "A few questions have been mentioned below which will help you approach the analysis in the right manner and generate insights from the data.\n",
    "A thorough analysis of the data, in addition to the questions mentioned below, should be done."
   ]
  },
  {
   "cell_type": "markdown",
   "id": "60cd713e",
   "metadata": {},
   "source": [
    "Exploratory Data Analysis (EDA)¶\n",
    "EDA is an important part of any project involving data.\n",
    "It is important to investigate and understand the data better before building a model with it.\n",
    "A few questions have been mentioned below which will help you approach the analysis in the right manner and generate insights from the data.\n",
    "A thorough analysis of the data, in addition to the questions mentioned below, should be done."
   ]
  },
  {
   "cell_type": "markdown",
   "id": "933f8792",
   "metadata": {},
   "source": []
  },
  {
   "cell_type": "markdown",
   "id": "9a72ead0",
   "metadata": {},
   "source": [
    "Exploratory Data Analysis (EDA)¶\n",
    "EDA is an important part of any project involving data.\n",
    "It is important to investigate and understand the data better before building a model with it.\n",
    "A few questions have been mentioned below which will help you approach the analysis in the right manner and generate insights from the data.\n",
    "A thorough analysis of the data, in addition to the questions mentioned below, should be done."
   ]
  },
  {
   "cell_type": "markdown",
   "id": "af877ec1",
   "metadata": {},
   "source": []
  },
  {
   "cell_type": "markdown",
   "id": "52f56889",
   "metadata": {},
   "source": [
    "Exploratory Data Analysis (EDA)¶\n",
    "EDA is an important part of any project involving data.\n",
    "It is important to investigate and understand the data better before building a model with it.\n",
    "A few questions have been mentioned below which will help you approach the analysis in the right manner and generate insights from the data.\n",
    "A thorough analysis of the data, in addition to the questions mentioned below, should be done."
   ]
  },
  {
   "cell_type": "markdown",
   "id": "be052437",
   "metadata": {},
   "source": [
    "Questions:\n",
    "\n",
    "What does the distribution of stock prices look like?\n",
    "The stocks of which economic sector have seen the maximum price increase on average?\n",
    "How are the different variables correlated with each other?\n",
    "Cash ratio provides a measure of a company's ability to cover its short-term obligations using only cash and cash equivalents. How does the average cash ratio vary across economic sectors?\n",
    "P/E ratios can help determine the relative value of a company's shares as they signify the amount of money an investor is willing to invest in a single share of a company per dollar of its earnings. How does the P/E ratio vary, on average, across economic sectors?"
   ]
  },
  {
   "cell_type": "markdown",
   "id": "4cb7f848",
   "metadata": {},
   "source": [
    "Questions:\n",
    "\n",
    "What does the distribution of stock prices look like?\n",
    "The stocks of which economic sector have seen the maximum price increase on average?\n",
    "How are the different variables correlated with each other?\n",
    "Cash ratio provides a measure of a company's ability to cover its short-term obligations using only cash and cash equivalents. How does the average cash ratio vary across economic sectors?\n",
    "P/E ratios can help determine the relative value of a company's shares as they signify the amount of money an investor is willing to invest in a single share of a company per dollar of its earnings. How does the P/E ratio vary, on average, across economic sectors?"
   ]
  },
  {
   "cell_type": "markdown",
   "id": "a0e8c725",
   "metadata": {},
   "source": []
  },
  {
   "cell_type": "markdown",
   "id": "b0ba94b3",
   "metadata": {},
   "source": [
    "Questions:\n",
    "\n",
    "What does the distribution of stock prices look like?\n",
    "The stocks of which economic sector have seen the maximum price increase on average?\n",
    "How are the different variables correlated with each other?\n",
    "Cash ratio provides a measure of a company's ability to cover its short-term obligations using only cash and cash equivalents. How does the average cash ratio vary across economic sectors?\n",
    "P/E ratios can help determine the relative value of a company's shares as they signify the amount of money an investor is willing to invest in a single share of a company per dollar of its earnings. How does the P/E ratio vary, on average, across economic sectors?"
   ]
  },
  {
   "cell_type": "markdown",
   "id": "6889fa2b",
   "metadata": {},
   "source": []
  },
  {
   "cell_type": "markdown",
   "id": "103b90b4",
   "metadata": {},
   "source": [
    "Questions:\n",
    "\n",
    "What does the distribution of stock prices look like?\n",
    "The stocks of which economic sector have seen the maximum price increase on average?\n",
    "How are the different variables correlated with each other?\n",
    "Cash ratio provides a measure of a company's ability to cover its short-term obligations using only cash and cash equivalents. How does the average cash ratio vary across economic sectors?\n",
    "P/E ratios can help determine the relative value of a company's shares as they signify the amount of money an investor is willing to invest in a single share of a company per dollar of its earnings. How does the P/E ratio vary, on average, across economic sectors?"
   ]
  },
  {
   "cell_type": "markdown",
   "id": "bcea7f8f",
   "metadata": {},
   "source": [
    "Univariate analysis¶"
   ]
  },
  {
   "cell_type": "markdown",
   "id": "2e8b9a18",
   "metadata": {},
   "source": [
    "Univariate analysis¶"
   ]
  },
  {
   "cell_type": "markdown",
   "id": "f01ae69c",
   "metadata": {},
   "source": []
  },
  {
   "cell_type": "markdown",
   "id": "cb816542",
   "metadata": {},
   "source": [
    "Univariate analysis¶"
   ]
  },
  {
   "cell_type": "markdown",
   "id": "49b81b80",
   "metadata": {},
   "source": []
  },
  {
   "cell_type": "markdown",
   "id": "00360cc4",
   "metadata": {},
   "source": [
    "Univariate analysis¶"
   ]
  },
  {
   "cell_type": "markdown",
   "id": "4d1156f7",
   "metadata": {},
   "source": [
    "In [10]:\n",
    "\n",
    "\n",
    "# function to plot a boxplot and a histogram along the same scale.\n",
    "\n",
    "\n",
    "def histogram_boxplot(df, feature, figsize=(12, 7), kde=False, bins=None):\n",
    "    \"\"\"\n",
    "    Boxplot and histogram combined\n",
    "\n",
    "    data: dataframe\n",
    "    feature: dataframe column\n",
    "    figsize: size of figure (default (12,7))\n",
    "    kde: whether to the show density curve (default False)\n",
    "    bins: number of bins for histogram (default None)\n",
    "    \"\"\"\n",
    "    f2, (ax_box2, ax_hist2) = plt.subplots(\n",
    "        nrows=2,  # Number of rows of the subplot grid= 2\n",
    "        sharex=True,  # x-axis will be shared among all subplots\n",
    "        gridspec_kw={\"height_ratios\": (0.25, 0.75)},\n",
    "        figsize=figsize,\n",
    "    )  # creating the 2 subplots\n",
    "    sns.boxplot(\n",
    "        data=df, x=feature, ax=ax_box2, showmeans=True, color=\"violet\"\n",
    "    )  # boxplot will be created and a star will indicate the mean value of the column\n",
    "    sns.histplot(\n",
    "        data=df, x=feature, kde=kde, ax=ax_hist2, bins=bins, palette=\"winter\"\n",
    "    ) if bins else sns.histplot(\n",
    "        data=df, x=feature, kde=kde, ax=ax_hist2\n",
    "    )  # For histogram\n",
    "    ax_hist2.axvline(\n",
    "        df[feature].mean(), color=\"green\", linestyle=\"--\"\n",
    "    )  # Add mean to the histogram\n",
    "    ax_hist2.axvline(\n",
    "        df[feature].median(), color=\"black\", linestyle=\"-\"\n",
    "    )  # Add median to the histogram"
   ]
  },
  {
   "cell_type": "markdown",
   "id": "e7c07612",
   "metadata": {},
   "source": [
    "In [10]:\n",
    "\n",
    "\n",
    "# function to plot a boxplot and a histogram along the same scale.\n",
    "\n",
    "\n",
    "def histogram_boxplot(df, feature, figsize=(12, 7), kde=False, bins=None):\n",
    "    \"\"\"\n",
    "    Boxplot and histogram combined\n",
    "\n",
    "    data: dataframe\n",
    "    feature: dataframe column\n",
    "    figsize: size of figure (default (12,7))\n",
    "    kde: whether to the show density curve (default False)\n",
    "    bins: number of bins for histogram (default None)\n",
    "    \"\"\"\n",
    "    f2, (ax_box2, ax_hist2) = plt.subplots(\n",
    "        nrows=2,  # Number of rows of the subplot grid= 2\n",
    "        sharex=True,  # x-axis will be shared among all subplots\n",
    "        gridspec_kw={\"height_ratios\": (0.25, 0.75)},\n",
    "        figsize=figsize,\n",
    "    )  # creating the 2 subplots\n",
    "    sns.boxplot(\n",
    "        data=df, x=feature, ax=ax_box2, showmeans=True, color=\"violet\"\n",
    "    )  # boxplot will be created and a star will indicate the mean value of the column\n",
    "    sns.histplot(\n",
    "        data=df, x=feature, kde=kde, ax=ax_hist2, bins=bins, palette=\"winter\"\n",
    "    ) if bins else sns.histplot(\n",
    "        data=df, x=feature, kde=kde, ax=ax_hist2\n",
    "    )  # For histogram\n",
    "    ax_hist2.axvline(\n",
    "        df[feature].mean(), color=\"green\", linestyle=\"--\"\n",
    "    )  # Add mean to the histogram\n",
    "    ax_hist2.axvline(\n",
    "        df[feature].median(), color=\"black\", linestyle=\"-\"\n",
    "    )  # Add median to the histogram"
   ]
  },
  {
   "cell_type": "markdown",
   "id": "f172fd92",
   "metadata": {},
   "source": []
  },
  {
   "cell_type": "markdown",
   "id": "f4e616cb",
   "metadata": {},
   "source": [
    "In [10]:\n",
    "\n",
    "\n",
    "# function to plot a boxplot and a histogram along the same scale.\n",
    "\n",
    "\n",
    "def histogram_boxplot(df, feature, figsize=(12, 7), kde=False, bins=None):\n",
    "    \"\"\"\n",
    "    Boxplot and histogram combined\n",
    "\n",
    "    data: dataframe\n",
    "    feature: dataframe column\n",
    "    figsize: size of figure (default (12,7))\n",
    "    kde: whether to the show density curve (default False)\n",
    "    bins: number of bins for histogram (default None)\n",
    "    \"\"\"\n",
    "    f2, (ax_box2, ax_hist2) = plt.subplots(\n",
    "        nrows=2,  # Number of rows of the subplot grid= 2\n",
    "        sharex=True,  # x-axis will be shared among all subplots\n",
    "        gridspec_kw={\"height_ratios\": (0.25, 0.75)},\n",
    "        figsize=figsize,\n",
    "    )  # creating the 2 subplots\n",
    "    sns.boxplot(\n",
    "        data=df, x=feature, ax=ax_box2, showmeans=True, color=\"violet\"\n",
    "    )  # boxplot will be created and a star will indicate the mean value of the column\n",
    "    sns.histplot(\n",
    "        data=df, x=feature, kde=kde, ax=ax_hist2, bins=bins, palette=\"winter\"\n",
    "    ) if bins else sns.histplot(\n",
    "        data=df, x=feature, kde=kde, ax=ax_hist2\n",
    "    )  # For histogram\n",
    "    ax_hist2.axvline(\n",
    "        df[feature].mean(), color=\"green\", linestyle=\"--\"\n",
    "    )  # Add mean to the histogram\n",
    "    ax_hist2.axvline(\n",
    "        df[feature].median(), color=\"black\", linestyle=\"-\"\n",
    "    )  # Add median to the histogram"
   ]
  },
  {
   "cell_type": "markdown",
   "id": "8e40c051",
   "metadata": {},
   "source": [
    "In [10]:"
   ]
  },
  {
   "cell_type": "markdown",
   "id": "fe5483d0",
   "metadata": {},
   "source": [
    "# function to plot a boxplot and a histogram along the same scale.\n",
    "\n",
    "\n",
    "def histogram_boxplot(df, feature, figsize=(12, 7), kde=False, bins=None):\n",
    "    \"\"\"\n",
    "    Boxplot and histogram combined\n",
    "\n",
    "    data: dataframe\n",
    "    feature: dataframe column\n",
    "    figsize: size of figure (default (12,7))\n",
    "    kde: whether to the show density curve (default False)\n",
    "    bins: number of bins for histogram (default None)\n",
    "    \"\"\"\n",
    "    f2, (ax_box2, ax_hist2) = plt.subplots(\n",
    "        nrows=2,  # Number of rows of the subplot grid= 2\n",
    "        sharex=True,  # x-axis will be shared among all subplots\n",
    "        gridspec_kw={\"height_ratios\": (0.25, 0.75)},\n",
    "        figsize=figsize,\n",
    "    )  # creating the 2 subplots\n",
    "    sns.boxplot(\n",
    "        data=df, x=feature, ax=ax_box2, showmeans=True, color=\"violet\"\n",
    "    )  # boxplot will be created and a star will indicate the mean value of the column\n",
    "    sns.histplot(\n",
    "        data=df, x=feature, kde=kde, ax=ax_hist2, bins=bins, palette=\"winter\"\n",
    "    ) if bins else sns.histplot(\n",
    "        data=df, x=feature, kde=kde, ax=ax_hist2\n",
    "    )  # For histogram\n",
    "    ax_hist2.axvline(\n",
    "        df[feature].mean(), color=\"green\", linestyle=\"--\"\n",
    "    )  # Add mean to the histogram\n",
    "    ax_hist2.axvline(\n",
    "        df[feature].median(), color=\"black\", linestyle=\"-\"\n",
    "    )  # Add median to the histogram"
   ]
  },
  {
   "cell_type": "markdown",
   "id": "9e1f4de7",
   "metadata": {},
   "source": [
    "# function to plot a boxplot and a histogram along the same scale.\n",
    "\n",
    "\n",
    "def histogram_boxplot(df, feature, figsize=(12, 7), kde=False, bins=None):\n",
    "    \"\"\"\n",
    "    Boxplot and histogram combined\n",
    "\n",
    "    data: dataframe\n",
    "    feature: dataframe column\n",
    "    figsize: size of figure (default (12,7))\n",
    "    kde: whether to the show density curve (default False)\n",
    "    bins: number of bins for histogram (default None)\n",
    "    \"\"\"\n",
    "    f2, (ax_box2, ax_hist2) = plt.subplots(\n",
    "        nrows=2,  # Number of rows of the subplot grid= 2\n",
    "        sharex=True,  # x-axis will be shared among all subplots\n",
    "        gridspec_kw={\"height_ratios\": (0.25, 0.75)},\n",
    "        figsize=figsize,\n",
    "    )  # creating the 2 subplots\n",
    "    sns.boxplot(\n",
    "        data=df, x=feature, ax=ax_box2, showmeans=True, color=\"violet\"\n",
    "    )  # boxplot will be created and a star will indicate the mean value of the column\n",
    "    sns.histplot(\n",
    "        data=df, x=feature, kde=kde, ax=ax_hist2, bins=bins, palette=\"winter\"\n",
    "    ) if bins else sns.histplot(\n",
    "        data=df, x=feature, kde=kde, ax=ax_hist2\n",
    "    )  # For histogram\n",
    "    ax_hist2.axvline(\n",
    "        df[feature].mean(), color=\"green\", linestyle=\"--\"\n",
    "    )  # Add mean to the histogram\n",
    "    ax_hist2.axvline(\n",
    "        df[feature].median(), color=\"black\", linestyle=\"-\"\n",
    "    )  # Add median to the histogram"
   ]
  },
  {
   "cell_type": "markdown",
   "id": "76b7bc56",
   "metadata": {},
   "source": [
    "# function to plot a boxplot and a histogram along the same scale.\n",
    "\n",
    "\n",
    "def histogram_boxplot(df, feature, figsize=(12, 7), kde=False, bins=None):\n",
    "    \"\"\"\n",
    "    Boxplot and histogram combined\n",
    "\n",
    "    data: dataframe\n",
    "    feature: dataframe column\n",
    "    figsize: size of figure (default (12,7))\n",
    "    kde: whether to the show density curve (default False)\n",
    "    bins: number of bins for histogram (default None)\n",
    "    \"\"\"\n",
    "    f2, (ax_box2, ax_hist2) = plt.subplots(\n",
    "        nrows=2,  # Number of rows of the subplot grid= 2\n",
    "        sharex=True,  # x-axis will be shared among all subplots\n",
    "        gridspec_kw={\"height_ratios\": (0.25, 0.75)},\n",
    "        figsize=figsize,\n",
    "    )  # creating the 2 subplots\n",
    "    sns.boxplot(\n",
    "        data=df, x=feature, ax=ax_box2, showmeans=True, color=\"violet\"\n",
    "    )  # boxplot will be created and a star will indicate the mean value of the column\n",
    "    sns.histplot(\n",
    "        data=df, x=feature, kde=kde, ax=ax_hist2, bins=bins, palette=\"winter\"\n",
    "    ) if bins else sns.histplot(\n",
    "        data=df, x=feature, kde=kde, ax=ax_hist2\n",
    "    )  # For histogram\n",
    "    ax_hist2.axvline(\n",
    "        df[feature].mean(), color=\"green\", linestyle=\"--\"\n",
    "    )  # Add mean to the histogram\n",
    "    ax_hist2.axvline(\n",
    "        df[feature].median(), color=\"black\", linestyle=\"-\"\n",
    "    )  # Add median to the histogram"
   ]
  },
  {
   "cell_type": "markdown",
   "id": "993842d5",
   "metadata": {},
   "source": [
    "# function to plot a boxplot and a histogram along the same scale.\n",
    "\n",
    "\n",
    "def histogram_boxplot(df, feature, figsize=(12, 7), kde=False, bins=None):\n",
    "    \"\"\"\n",
    "    Boxplot and histogram combined\n",
    "\n",
    "    data: dataframe\n",
    "    feature: dataframe column\n",
    "    figsize: size of figure (default (12,7))\n",
    "    kde: whether to the show density curve (default False)\n",
    "    bins: number of bins for histogram (default None)\n",
    "    \"\"\"\n",
    "    f2, (ax_box2, ax_hist2) = plt.subplots(\n",
    "        nrows=2,  # Number of rows of the subplot grid= 2\n",
    "        sharex=True,  # x-axis will be shared among all subplots\n",
    "        gridspec_kw={\"height_ratios\": (0.25, 0.75)},\n",
    "        figsize=figsize,\n",
    "    )  # creating the 2 subplots\n",
    "    sns.boxplot(\n",
    "        data=df, x=feature, ax=ax_box2, showmeans=True, color=\"violet\"\n",
    "    )  # boxplot will be created and a star will indicate the mean value of the column\n",
    "    sns.histplot(\n",
    "        data=df, x=feature, kde=kde, ax=ax_hist2, bins=bins, palette=\"winter\"\n",
    "    ) if bins else sns.histplot(\n",
    "        data=df, x=feature, kde=kde, ax=ax_hist2\n",
    "    )  # For histogram\n",
    "    ax_hist2.axvline(\n",
    "        df[feature].mean(), color=\"green\", linestyle=\"--\"\n",
    "    )  # Add mean to the histogram\n",
    "    ax_hist2.axvline(\n",
    "        df[feature].median(), color=\"black\", linestyle=\"-\"\n",
    "    )  # Add median to the histogram"
   ]
  },
  {
   "cell_type": "markdown",
   "id": "30170fa1",
   "metadata": {},
   "source": [
    "Current Price"
   ]
  },
  {
   "cell_type": "markdown",
   "id": "f993da0e",
   "metadata": {},
   "source": [
    "Current Price"
   ]
  },
  {
   "cell_type": "markdown",
   "id": "5d80f6ac",
   "metadata": {},
   "source": []
  },
  {
   "cell_type": "markdown",
   "id": "cbc4f962",
   "metadata": {},
   "source": [
    "Current Price"
   ]
  },
  {
   "cell_type": "markdown",
   "id": "c88b8247",
   "metadata": {},
   "source": []
  },
  {
   "cell_type": "markdown",
   "id": "a258d1c9",
   "metadata": {},
   "source": [
    "Current Price"
   ]
  },
  {
   "cell_type": "markdown",
   "id": "35309940",
   "metadata": {},
   "source": [
    "In [11]:\n",
    "\n",
    "\n",
    "histogram_boxplot(df, 'Current Price')  ##  create histogram_boxplot for 'Current Price'"
   ]
  },
  {
   "cell_type": "markdown",
   "id": "0f1a6652",
   "metadata": {},
   "source": [
    "In [11]:\n",
    "\n",
    "\n",
    "histogram_boxplot(df, 'Current Price')  ##  create histogram_boxplot for 'Current Price'"
   ]
  },
  {
   "cell_type": "markdown",
   "id": "46ad38ba",
   "metadata": {},
   "source": []
  },
  {
   "cell_type": "markdown",
   "id": "40cf29b2",
   "metadata": {},
   "source": [
    "In [11]:\n",
    "\n",
    "\n",
    "histogram_boxplot(df, 'Current Price')  ##  create histogram_boxplot for 'Current Price'"
   ]
  },
  {
   "cell_type": "markdown",
   "id": "cb904af2",
   "metadata": {},
   "source": [
    "In [11]:"
   ]
  },
  {
   "cell_type": "markdown",
   "id": "82c2a869",
   "metadata": {},
   "source": [
    "histogram_boxplot(df, 'Current Price')  ##  create histogram_boxplot for 'Current Price'"
   ]
  },
  {
   "cell_type": "markdown",
   "id": "6dc5dc5f",
   "metadata": {},
   "source": [
    "histogram_boxplot(df, 'Current Price')  ##  create histogram_boxplot for 'Current Price'"
   ]
  },
  {
   "cell_type": "markdown",
   "id": "c5b54bd7",
   "metadata": {},
   "source": [
    "histogram_boxplot(df, 'Current Price')  ##  create histogram_boxplot for 'Current Price'"
   ]
  },
  {
   "cell_type": "markdown",
   "id": "e2d00072",
   "metadata": {},
   "source": [
    "histogram_boxplot(df, 'Current Price')  ##  create histogram_boxplot for 'Current Price'"
   ]
  },
  {
   "cell_type": "markdown",
   "id": "b5e40346",
   "metadata": {},
   "source": []
  },
  {
   "cell_type": "markdown",
   "id": "5aad2efa",
   "metadata": {},
   "source": []
  },
  {
   "cell_type": "markdown",
   "id": "75baae34",
   "metadata": {},
   "source": []
  },
  {
   "cell_type": "markdown",
   "id": "bb367af3",
   "metadata": {},
   "source": []
  },
  {
   "cell_type": "markdown",
   "id": "2f6f7e03",
   "metadata": {},
   "source": []
  },
  {
   "cell_type": "markdown",
   "id": "f4f4f01a",
   "metadata": {},
   "source": []
  },
  {
   "cell_type": "markdown",
   "id": "ad7ade2d",
   "metadata": {},
   "source": [
    "Price Change"
   ]
  },
  {
   "cell_type": "markdown",
   "id": "e0235f71",
   "metadata": {},
   "source": [
    "Price Change"
   ]
  },
  {
   "cell_type": "markdown",
   "id": "2ca7bc29",
   "metadata": {},
   "source": []
  },
  {
   "cell_type": "markdown",
   "id": "4b37379e",
   "metadata": {},
   "source": [
    "Price Change"
   ]
  },
  {
   "cell_type": "markdown",
   "id": "97f779d7",
   "metadata": {},
   "source": []
  },
  {
   "cell_type": "markdown",
   "id": "ea35ab8f",
   "metadata": {},
   "source": [
    "Price Change"
   ]
  },
  {
   "cell_type": "markdown",
   "id": "f0d7a512",
   "metadata": {},
   "source": [
    "In [12]:\n",
    "\n",
    "\n",
    "histogram_boxplot(df, 'Price Change')  ##  create histogram_boxplot for 'Price Change'"
   ]
  },
  {
   "cell_type": "markdown",
   "id": "22c47d39",
   "metadata": {},
   "source": [
    "In [12]:\n",
    "\n",
    "\n",
    "histogram_boxplot(df, 'Price Change')  ##  create histogram_boxplot for 'Price Change'"
   ]
  },
  {
   "cell_type": "markdown",
   "id": "9284f09c",
   "metadata": {},
   "source": []
  },
  {
   "cell_type": "markdown",
   "id": "05c96ac9",
   "metadata": {},
   "source": [
    "In [12]:\n",
    "\n",
    "\n",
    "histogram_boxplot(df, 'Price Change')  ##  create histogram_boxplot for 'Price Change'"
   ]
  },
  {
   "cell_type": "markdown",
   "id": "f77d417f",
   "metadata": {},
   "source": [
    "In [12]:"
   ]
  },
  {
   "cell_type": "markdown",
   "id": "659c8b50",
   "metadata": {},
   "source": [
    "histogram_boxplot(df, 'Price Change')  ##  create histogram_boxplot for 'Price Change'"
   ]
  },
  {
   "cell_type": "markdown",
   "id": "fab22e58",
   "metadata": {},
   "source": [
    "histogram_boxplot(df, 'Price Change')  ##  create histogram_boxplot for 'Price Change'"
   ]
  },
  {
   "cell_type": "markdown",
   "id": "68eb0181",
   "metadata": {},
   "source": [
    "histogram_boxplot(df, 'Price Change')  ##  create histogram_boxplot for 'Price Change'"
   ]
  },
  {
   "cell_type": "markdown",
   "id": "c59504a8",
   "metadata": {},
   "source": [
    "histogram_boxplot(df, 'Price Change')  ##  create histogram_boxplot for 'Price Change'"
   ]
  },
  {
   "cell_type": "markdown",
   "id": "61f64a62",
   "metadata": {},
   "source": []
  },
  {
   "cell_type": "markdown",
   "id": "833dd22e",
   "metadata": {},
   "source": []
  },
  {
   "cell_type": "markdown",
   "id": "e7f0b33c",
   "metadata": {},
   "source": []
  },
  {
   "cell_type": "markdown",
   "id": "8ca89f0c",
   "metadata": {},
   "source": []
  },
  {
   "cell_type": "markdown",
   "id": "27fc8b4b",
   "metadata": {},
   "source": []
  },
  {
   "cell_type": "markdown",
   "id": "c45ece12",
   "metadata": {},
   "source": []
  },
  {
   "cell_type": "markdown",
   "id": "14945bce",
   "metadata": {},
   "source": [
    "Volatility"
   ]
  },
  {
   "cell_type": "markdown",
   "id": "fb35890e",
   "metadata": {},
   "source": [
    "Volatility"
   ]
  },
  {
   "cell_type": "markdown",
   "id": "1c3a0b64",
   "metadata": {},
   "source": []
  },
  {
   "cell_type": "markdown",
   "id": "6f6cbe11",
   "metadata": {},
   "source": [
    "Volatility"
   ]
  },
  {
   "cell_type": "markdown",
   "id": "b2153bb7",
   "metadata": {},
   "source": []
  },
  {
   "cell_type": "markdown",
   "id": "9ba8aa5c",
   "metadata": {},
   "source": [
    "Volatility"
   ]
  },
  {
   "cell_type": "markdown",
   "id": "c36c90f6",
   "metadata": {},
   "source": [
    "In [13]:\n",
    "\n",
    "\n",
    "histogram_boxplot(df, 'Volatility')  ##  create histogram_boxplot for 'Volatility'"
   ]
  },
  {
   "cell_type": "markdown",
   "id": "9cd742ec",
   "metadata": {},
   "source": [
    "In [13]:\n",
    "\n",
    "\n",
    "histogram_boxplot(df, 'Volatility')  ##  create histogram_boxplot for 'Volatility'"
   ]
  },
  {
   "cell_type": "markdown",
   "id": "ce547c73",
   "metadata": {},
   "source": []
  },
  {
   "cell_type": "markdown",
   "id": "af6f5c4a",
   "metadata": {},
   "source": [
    "In [13]:\n",
    "\n",
    "\n",
    "histogram_boxplot(df, 'Volatility')  ##  create histogram_boxplot for 'Volatility'"
   ]
  },
  {
   "cell_type": "markdown",
   "id": "8d0a3b82",
   "metadata": {},
   "source": [
    "In [13]:"
   ]
  },
  {
   "cell_type": "markdown",
   "id": "a8c29ddc",
   "metadata": {},
   "source": [
    "histogram_boxplot(df, 'Volatility')  ##  create histogram_boxplot for 'Volatility'"
   ]
  },
  {
   "cell_type": "markdown",
   "id": "8cc10b29",
   "metadata": {},
   "source": [
    "histogram_boxplot(df, 'Volatility')  ##  create histogram_boxplot for 'Volatility'"
   ]
  },
  {
   "cell_type": "markdown",
   "id": "bc77d505",
   "metadata": {},
   "source": [
    "histogram_boxplot(df, 'Volatility')  ##  create histogram_boxplot for 'Volatility'"
   ]
  },
  {
   "cell_type": "markdown",
   "id": "b1f8ce9a",
   "metadata": {},
   "source": [
    "histogram_boxplot(df, 'Volatility')  ##  create histogram_boxplot for 'Volatility'"
   ]
  },
  {
   "cell_type": "markdown",
   "id": "0afaa8d6",
   "metadata": {},
   "source": []
  },
  {
   "cell_type": "markdown",
   "id": "b53a124c",
   "metadata": {},
   "source": []
  },
  {
   "cell_type": "markdown",
   "id": "6c894539",
   "metadata": {},
   "source": []
  },
  {
   "cell_type": "markdown",
   "id": "b28f0a90",
   "metadata": {},
   "source": []
  },
  {
   "cell_type": "markdown",
   "id": "bc0df455",
   "metadata": {},
   "source": []
  },
  {
   "cell_type": "markdown",
   "id": "32b3520c",
   "metadata": {},
   "source": []
  },
  {
   "cell_type": "markdown",
   "id": "398be5ff",
   "metadata": {},
   "source": [
    "ROE"
   ]
  },
  {
   "cell_type": "markdown",
   "id": "c0a33cbf",
   "metadata": {},
   "source": [
    "ROE"
   ]
  },
  {
   "cell_type": "markdown",
   "id": "8b593e7b",
   "metadata": {},
   "source": []
  },
  {
   "cell_type": "markdown",
   "id": "3ed431a1",
   "metadata": {},
   "source": [
    "ROE"
   ]
  },
  {
   "cell_type": "markdown",
   "id": "8b15e99d",
   "metadata": {},
   "source": []
  },
  {
   "cell_type": "markdown",
   "id": "89fca14c",
   "metadata": {},
   "source": [
    "ROE"
   ]
  },
  {
   "cell_type": "markdown",
   "id": "cad52f54",
   "metadata": {},
   "source": [
    "In [14]:\n",
    "\n",
    "\n",
    "histogram_boxplot(df, 'ROE')  ## create histogram_boxplot for 'ROE'"
   ]
  },
  {
   "cell_type": "markdown",
   "id": "55fffaf1",
   "metadata": {},
   "source": [
    "In [14]:\n",
    "\n",
    "\n",
    "histogram_boxplot(df, 'ROE')  ## create histogram_boxplot for 'ROE'"
   ]
  },
  {
   "cell_type": "markdown",
   "id": "f4d1b9c3",
   "metadata": {},
   "source": []
  },
  {
   "cell_type": "markdown",
   "id": "4ed527a1",
   "metadata": {},
   "source": [
    "In [14]:\n",
    "\n",
    "\n",
    "histogram_boxplot(df, 'ROE')  ## create histogram_boxplot for 'ROE'"
   ]
  },
  {
   "cell_type": "markdown",
   "id": "0148d02c",
   "metadata": {},
   "source": [
    "In [14]:"
   ]
  },
  {
   "cell_type": "markdown",
   "id": "4741ad77",
   "metadata": {},
   "source": [
    "histogram_boxplot(df, 'ROE')  ## create histogram_boxplot for 'ROE'"
   ]
  },
  {
   "cell_type": "markdown",
   "id": "c89b8587",
   "metadata": {},
   "source": [
    "histogram_boxplot(df, 'ROE')  ## create histogram_boxplot for 'ROE'"
   ]
  },
  {
   "cell_type": "markdown",
   "id": "517f1693",
   "metadata": {},
   "source": [
    "histogram_boxplot(df, 'ROE')  ## create histogram_boxplot for 'ROE'"
   ]
  },
  {
   "cell_type": "markdown",
   "id": "418813fd",
   "metadata": {},
   "source": [
    "histogram_boxplot(df, 'ROE')  ## create histogram_boxplot for 'ROE'"
   ]
  },
  {
   "cell_type": "markdown",
   "id": "a7d2df96",
   "metadata": {},
   "source": []
  },
  {
   "cell_type": "markdown",
   "id": "aff216de",
   "metadata": {},
   "source": []
  },
  {
   "cell_type": "markdown",
   "id": "63c614ef",
   "metadata": {},
   "source": []
  },
  {
   "cell_type": "markdown",
   "id": "f378808a",
   "metadata": {},
   "source": []
  },
  {
   "cell_type": "markdown",
   "id": "8ec06314",
   "metadata": {},
   "source": []
  },
  {
   "cell_type": "markdown",
   "id": "f83e2dab",
   "metadata": {},
   "source": []
  },
  {
   "cell_type": "markdown",
   "id": "017a03cf",
   "metadata": {},
   "source": [
    "Cash Ratio"
   ]
  },
  {
   "cell_type": "markdown",
   "id": "ce27682d",
   "metadata": {},
   "source": [
    "Cash Ratio"
   ]
  },
  {
   "cell_type": "markdown",
   "id": "ae0b093c",
   "metadata": {},
   "source": []
  },
  {
   "cell_type": "markdown",
   "id": "ce6734f7",
   "metadata": {},
   "source": [
    "Cash Ratio"
   ]
  },
  {
   "cell_type": "markdown",
   "id": "ece59f96",
   "metadata": {},
   "source": []
  },
  {
   "cell_type": "markdown",
   "id": "10c52f2e",
   "metadata": {},
   "source": [
    "Cash Ratio"
   ]
  },
  {
   "cell_type": "markdown",
   "id": "dee66355",
   "metadata": {},
   "source": [
    "In [15]:\n",
    "\n",
    "\n",
    "histogram_boxplot(df, 'Cash Ratio')  ## create histogram_boxplot for 'Cash Ratio'"
   ]
  },
  {
   "cell_type": "markdown",
   "id": "08383325",
   "metadata": {},
   "source": [
    "In [15]:\n",
    "\n",
    "\n",
    "histogram_boxplot(df, 'Cash Ratio')  ## create histogram_boxplot for 'Cash Ratio'"
   ]
  },
  {
   "cell_type": "markdown",
   "id": "b81d205b",
   "metadata": {},
   "source": []
  },
  {
   "cell_type": "markdown",
   "id": "df9e36dc",
   "metadata": {},
   "source": [
    "In [15]:\n",
    "\n",
    "\n",
    "histogram_boxplot(df, 'Cash Ratio')  ## create histogram_boxplot for 'Cash Ratio'"
   ]
  },
  {
   "cell_type": "markdown",
   "id": "0d9d34f6",
   "metadata": {},
   "source": [
    "In [15]:"
   ]
  },
  {
   "cell_type": "markdown",
   "id": "6a899905",
   "metadata": {},
   "source": [
    "histogram_boxplot(df, 'Cash Ratio')  ## create histogram_boxplot for 'Cash Ratio'"
   ]
  },
  {
   "cell_type": "markdown",
   "id": "9904d17f",
   "metadata": {},
   "source": [
    "histogram_boxplot(df, 'Cash Ratio')  ## create histogram_boxplot for 'Cash Ratio'"
   ]
  },
  {
   "cell_type": "markdown",
   "id": "0bee7421",
   "metadata": {},
   "source": [
    "histogram_boxplot(df, 'Cash Ratio')  ## create histogram_boxplot for 'Cash Ratio'"
   ]
  },
  {
   "cell_type": "markdown",
   "id": "39431ced",
   "metadata": {},
   "source": [
    "histogram_boxplot(df, 'Cash Ratio')  ## create histogram_boxplot for 'Cash Ratio'"
   ]
  },
  {
   "cell_type": "markdown",
   "id": "cb447ac5",
   "metadata": {},
   "source": []
  },
  {
   "cell_type": "markdown",
   "id": "74f63a40",
   "metadata": {},
   "source": []
  },
  {
   "cell_type": "markdown",
   "id": "3676ad5e",
   "metadata": {},
   "source": []
  },
  {
   "cell_type": "markdown",
   "id": "d96d362d",
   "metadata": {},
   "source": []
  },
  {
   "cell_type": "markdown",
   "id": "f151ba4f",
   "metadata": {},
   "source": []
  },
  {
   "cell_type": "markdown",
   "id": "b4838972",
   "metadata": {},
   "source": []
  },
  {
   "cell_type": "markdown",
   "id": "827245e6",
   "metadata": {},
   "source": [
    "Net Cash Flow"
   ]
  },
  {
   "cell_type": "markdown",
   "id": "0b33b858",
   "metadata": {},
   "source": [
    "Net Cash Flow"
   ]
  },
  {
   "cell_type": "markdown",
   "id": "565c9e9d",
   "metadata": {},
   "source": []
  },
  {
   "cell_type": "markdown",
   "id": "ea366643",
   "metadata": {},
   "source": [
    "Net Cash Flow"
   ]
  },
  {
   "cell_type": "markdown",
   "id": "dfff5094",
   "metadata": {},
   "source": []
  },
  {
   "cell_type": "markdown",
   "id": "56a05a4a",
   "metadata": {},
   "source": [
    "Net Cash Flow"
   ]
  },
  {
   "cell_type": "markdown",
   "id": "07eada0e",
   "metadata": {},
   "source": [
    "In [16]:\n",
    "\n",
    "\n",
    "histogram_boxplot(df, 'Net Cash Flow')  ##  create histogram_boxplot for 'Net Cash Flow'"
   ]
  },
  {
   "cell_type": "markdown",
   "id": "3e9c30bd",
   "metadata": {},
   "source": [
    "In [16]:\n",
    "\n",
    "\n",
    "histogram_boxplot(df, 'Net Cash Flow')  ##  create histogram_boxplot for 'Net Cash Flow'"
   ]
  },
  {
   "cell_type": "markdown",
   "id": "8120ccba",
   "metadata": {},
   "source": []
  },
  {
   "cell_type": "markdown",
   "id": "8d58f401",
   "metadata": {},
   "source": [
    "In [16]:\n",
    "\n",
    "\n",
    "histogram_boxplot(df, 'Net Cash Flow')  ##  create histogram_boxplot for 'Net Cash Flow'"
   ]
  },
  {
   "cell_type": "markdown",
   "id": "573c0507",
   "metadata": {},
   "source": [
    "In [16]:"
   ]
  },
  {
   "cell_type": "markdown",
   "id": "2b9efdcc",
   "metadata": {},
   "source": [
    "histogram_boxplot(df, 'Net Cash Flow')  ##  create histogram_boxplot for 'Net Cash Flow'"
   ]
  },
  {
   "cell_type": "markdown",
   "id": "7b5cd07b",
   "metadata": {},
   "source": [
    "histogram_boxplot(df, 'Net Cash Flow')  ##  create histogram_boxplot for 'Net Cash Flow'"
   ]
  },
  {
   "cell_type": "markdown",
   "id": "09645f8b",
   "metadata": {},
   "source": [
    "histogram_boxplot(df, 'Net Cash Flow')  ##  create histogram_boxplot for 'Net Cash Flow'"
   ]
  },
  {
   "cell_type": "markdown",
   "id": "746a6f67",
   "metadata": {},
   "source": [
    "histogram_boxplot(df, 'Net Cash Flow')  ##  create histogram_boxplot for 'Net Cash Flow'"
   ]
  },
  {
   "cell_type": "markdown",
   "id": "3233f214",
   "metadata": {},
   "source": []
  },
  {
   "cell_type": "markdown",
   "id": "8e18c742",
   "metadata": {},
   "source": []
  },
  {
   "cell_type": "markdown",
   "id": "127bce13",
   "metadata": {},
   "source": []
  },
  {
   "cell_type": "markdown",
   "id": "e2cd6196",
   "metadata": {},
   "source": []
  },
  {
   "cell_type": "markdown",
   "id": "69c7218a",
   "metadata": {},
   "source": []
  },
  {
   "cell_type": "markdown",
   "id": "9749babd",
   "metadata": {},
   "source": []
  },
  {
   "cell_type": "markdown",
   "id": "61cfc10a",
   "metadata": {},
   "source": [
    "Net Income"
   ]
  },
  {
   "cell_type": "markdown",
   "id": "4fcac38e",
   "metadata": {},
   "source": [
    "Net Income"
   ]
  },
  {
   "cell_type": "markdown",
   "id": "22291938",
   "metadata": {},
   "source": []
  },
  {
   "cell_type": "markdown",
   "id": "c1036d3e",
   "metadata": {},
   "source": [
    "Net Income"
   ]
  },
  {
   "cell_type": "markdown",
   "id": "cd8e3a47",
   "metadata": {},
   "source": []
  },
  {
   "cell_type": "markdown",
   "id": "439597f1",
   "metadata": {},
   "source": [
    "Net Income"
   ]
  },
  {
   "cell_type": "markdown",
   "id": "d09b2862",
   "metadata": {},
   "source": [
    "In [17]:\n",
    "\n",
    "\n",
    "histogram_boxplot(df, 'Net Income')  ##  create histogram_boxplot for 'Net Income'"
   ]
  },
  {
   "cell_type": "markdown",
   "id": "4cceb936",
   "metadata": {},
   "source": [
    "In [17]:\n",
    "\n",
    "\n",
    "histogram_boxplot(df, 'Net Income')  ##  create histogram_boxplot for 'Net Income'"
   ]
  },
  {
   "cell_type": "markdown",
   "id": "fe7a1c7c",
   "metadata": {},
   "source": []
  },
  {
   "cell_type": "markdown",
   "id": "0f81d19e",
   "metadata": {},
   "source": [
    "In [17]:\n",
    "\n",
    "\n",
    "histogram_boxplot(df, 'Net Income')  ##  create histogram_boxplot for 'Net Income'"
   ]
  },
  {
   "cell_type": "markdown",
   "id": "ea4112e7",
   "metadata": {},
   "source": [
    "In [17]:"
   ]
  },
  {
   "cell_type": "markdown",
   "id": "50bbdade",
   "metadata": {},
   "source": [
    "histogram_boxplot(df, 'Net Income')  ##  create histogram_boxplot for 'Net Income'"
   ]
  },
  {
   "cell_type": "markdown",
   "id": "82bb1dad",
   "metadata": {},
   "source": [
    "histogram_boxplot(df, 'Net Income')  ##  create histogram_boxplot for 'Net Income'"
   ]
  },
  {
   "cell_type": "markdown",
   "id": "c5c95871",
   "metadata": {},
   "source": [
    "histogram_boxplot(df, 'Net Income')  ##  create histogram_boxplot for 'Net Income'"
   ]
  },
  {
   "cell_type": "markdown",
   "id": "0483d8ce",
   "metadata": {},
   "source": [
    "histogram_boxplot(df, 'Net Income')  ##  create histogram_boxplot for 'Net Income'"
   ]
  },
  {
   "cell_type": "markdown",
   "id": "b1c7ed8b",
   "metadata": {},
   "source": []
  },
  {
   "cell_type": "markdown",
   "id": "fc2a5a48",
   "metadata": {},
   "source": []
  },
  {
   "cell_type": "markdown",
   "id": "91902f89",
   "metadata": {},
   "source": []
  },
  {
   "cell_type": "markdown",
   "id": "63c95c9c",
   "metadata": {},
   "source": []
  },
  {
   "cell_type": "markdown",
   "id": "17964105",
   "metadata": {},
   "source": []
  },
  {
   "cell_type": "markdown",
   "id": "8d9dc389",
   "metadata": {},
   "source": []
  },
  {
   "cell_type": "markdown",
   "id": "e73ec1f3",
   "metadata": {},
   "source": [
    "Earnings Per Share"
   ]
  },
  {
   "cell_type": "markdown",
   "id": "4a151e01",
   "metadata": {},
   "source": [
    "Earnings Per Share"
   ]
  },
  {
   "cell_type": "markdown",
   "id": "a7ac8166",
   "metadata": {},
   "source": []
  },
  {
   "cell_type": "markdown",
   "id": "1fd578f0",
   "metadata": {},
   "source": [
    "Earnings Per Share"
   ]
  },
  {
   "cell_type": "markdown",
   "id": "bf4b0538",
   "metadata": {},
   "source": []
  },
  {
   "cell_type": "markdown",
   "id": "393e731c",
   "metadata": {},
   "source": [
    "Earnings Per Share"
   ]
  },
  {
   "cell_type": "markdown",
   "id": "e06f7603",
   "metadata": {},
   "source": [
    "In [18]:\n",
    "\n",
    "\n",
    "histogram_boxplot(df, 'Earnings Per Share')  ## create histogram_boxplot for 'Earnings Per Share'"
   ]
  },
  {
   "cell_type": "markdown",
   "id": "58eef930",
   "metadata": {},
   "source": [
    "In [18]:\n",
    "\n",
    "\n",
    "histogram_boxplot(df, 'Earnings Per Share')  ## create histogram_boxplot for 'Earnings Per Share'"
   ]
  },
  {
   "cell_type": "markdown",
   "id": "9e38541c",
   "metadata": {},
   "source": []
  },
  {
   "cell_type": "markdown",
   "id": "2539a3d6",
   "metadata": {},
   "source": [
    "In [18]:\n",
    "\n",
    "\n",
    "histogram_boxplot(df, 'Earnings Per Share')  ## create histogram_boxplot for 'Earnings Per Share'"
   ]
  },
  {
   "cell_type": "markdown",
   "id": "a84e05f4",
   "metadata": {},
   "source": [
    "In [18]:"
   ]
  },
  {
   "cell_type": "markdown",
   "id": "68579030",
   "metadata": {},
   "source": [
    "histogram_boxplot(df, 'Earnings Per Share')  ## create histogram_boxplot for 'Earnings Per Share'"
   ]
  },
  {
   "cell_type": "markdown",
   "id": "b22e6608",
   "metadata": {},
   "source": [
    "histogram_boxplot(df, 'Earnings Per Share')  ## create histogram_boxplot for 'Earnings Per Share'"
   ]
  },
  {
   "cell_type": "markdown",
   "id": "5d8a43c2",
   "metadata": {},
   "source": [
    "histogram_boxplot(df, 'Earnings Per Share')  ## create histogram_boxplot for 'Earnings Per Share'"
   ]
  },
  {
   "cell_type": "markdown",
   "id": "8f58c6f5",
   "metadata": {},
   "source": [
    "histogram_boxplot(df, 'Earnings Per Share')  ## create histogram_boxplot for 'Earnings Per Share'"
   ]
  },
  {
   "cell_type": "markdown",
   "id": "ceb3c879",
   "metadata": {},
   "source": []
  },
  {
   "cell_type": "markdown",
   "id": "e11801a8",
   "metadata": {},
   "source": []
  },
  {
   "cell_type": "markdown",
   "id": "0729babc",
   "metadata": {},
   "source": []
  },
  {
   "cell_type": "markdown",
   "id": "8aefbd9e",
   "metadata": {},
   "source": []
  },
  {
   "cell_type": "markdown",
   "id": "d5b8b54b",
   "metadata": {},
   "source": []
  },
  {
   "cell_type": "markdown",
   "id": "922b88b5",
   "metadata": {},
   "source": []
  },
  {
   "cell_type": "markdown",
   "id": "604e5689",
   "metadata": {},
   "source": [
    "Estimated Shares Outstanding"
   ]
  },
  {
   "cell_type": "markdown",
   "id": "224902c1",
   "metadata": {},
   "source": [
    "Estimated Shares Outstanding"
   ]
  },
  {
   "cell_type": "markdown",
   "id": "9ccd0b5e",
   "metadata": {},
   "source": []
  },
  {
   "cell_type": "markdown",
   "id": "050c86e4",
   "metadata": {},
   "source": [
    "Estimated Shares Outstanding"
   ]
  },
  {
   "cell_type": "markdown",
   "id": "e056b185",
   "metadata": {},
   "source": []
  },
  {
   "cell_type": "markdown",
   "id": "52be1a03",
   "metadata": {},
   "source": [
    "Estimated Shares Outstanding"
   ]
  },
  {
   "cell_type": "markdown",
   "id": "48c6ff3d",
   "metadata": {},
   "source": [
    "In [19]:\n",
    "\n",
    "\n",
    "histogram_boxplot(df, 'Estimated Shares Outstanding')  ## create histogram_boxplot for 'Estimated Shares Outstanding'"
   ]
  },
  {
   "cell_type": "markdown",
   "id": "f193a0b7",
   "metadata": {},
   "source": [
    "In [19]:\n",
    "\n",
    "\n",
    "histogram_boxplot(df, 'Estimated Shares Outstanding')  ## create histogram_boxplot for 'Estimated Shares Outstanding'"
   ]
  },
  {
   "cell_type": "markdown",
   "id": "8232eefc",
   "metadata": {},
   "source": []
  },
  {
   "cell_type": "markdown",
   "id": "438c7972",
   "metadata": {},
   "source": [
    "In [19]:\n",
    "\n",
    "\n",
    "histogram_boxplot(df, 'Estimated Shares Outstanding')  ## create histogram_boxplot for 'Estimated Shares Outstanding'"
   ]
  },
  {
   "cell_type": "markdown",
   "id": "647cd9bd",
   "metadata": {},
   "source": [
    "In [19]:"
   ]
  },
  {
   "cell_type": "markdown",
   "id": "5854ab55",
   "metadata": {},
   "source": [
    "histogram_boxplot(df, 'Estimated Shares Outstanding')  ## create histogram_boxplot for 'Estimated Shares Outstanding'"
   ]
  },
  {
   "cell_type": "markdown",
   "id": "a3090989",
   "metadata": {},
   "source": [
    "histogram_boxplot(df, 'Estimated Shares Outstanding')  ## create histogram_boxplot for 'Estimated Shares Outstanding'"
   ]
  },
  {
   "cell_type": "markdown",
   "id": "34333204",
   "metadata": {},
   "source": [
    "histogram_boxplot(df, 'Estimated Shares Outstanding')  ## create histogram_boxplot for 'Estimated Shares Outstanding'"
   ]
  },
  {
   "cell_type": "markdown",
   "id": "78c3b0b4",
   "metadata": {},
   "source": [
    "histogram_boxplot(df, 'Estimated Shares Outstanding')  ## create histogram_boxplot for 'Estimated Shares Outstanding'"
   ]
  },
  {
   "cell_type": "markdown",
   "id": "70520f8c",
   "metadata": {},
   "source": []
  },
  {
   "cell_type": "markdown",
   "id": "c3fc7c92",
   "metadata": {},
   "source": []
  },
  {
   "cell_type": "markdown",
   "id": "836cec7f",
   "metadata": {},
   "source": []
  },
  {
   "cell_type": "markdown",
   "id": "079f2b1c",
   "metadata": {},
   "source": []
  },
  {
   "cell_type": "markdown",
   "id": "504d13f3",
   "metadata": {},
   "source": []
  },
  {
   "cell_type": "markdown",
   "id": "6f2f1a68",
   "metadata": {},
   "source": []
  },
  {
   "cell_type": "markdown",
   "id": "be7e56d6",
   "metadata": {},
   "source": [
    "P/E Ratio"
   ]
  },
  {
   "cell_type": "markdown",
   "id": "6ae27bfd",
   "metadata": {},
   "source": [
    "P/E Ratio"
   ]
  },
  {
   "cell_type": "markdown",
   "id": "bfa9858b",
   "metadata": {},
   "source": []
  },
  {
   "cell_type": "markdown",
   "id": "4f339173",
   "metadata": {},
   "source": [
    "P/E Ratio"
   ]
  },
  {
   "cell_type": "markdown",
   "id": "a5f1ad85",
   "metadata": {},
   "source": []
  },
  {
   "cell_type": "markdown",
   "id": "805b8ed6",
   "metadata": {},
   "source": [
    "P/E Ratio"
   ]
  },
  {
   "cell_type": "markdown",
   "id": "4d5069d6",
   "metadata": {},
   "source": [
    "In [20]:\n",
    "\n",
    "\n",
    "histogram_boxplot(df, 'P/E Ratio')  ## create histogram_boxplot for 'P/E Ratio'"
   ]
  },
  {
   "cell_type": "markdown",
   "id": "acaa02fe",
   "metadata": {},
   "source": [
    "In [20]:\n",
    "\n",
    "\n",
    "histogram_boxplot(df, 'P/E Ratio')  ## create histogram_boxplot for 'P/E Ratio'"
   ]
  },
  {
   "cell_type": "markdown",
   "id": "0c4b6ee6",
   "metadata": {},
   "source": []
  },
  {
   "cell_type": "markdown",
   "id": "65b063b5",
   "metadata": {},
   "source": [
    "In [20]:\n",
    "\n",
    "\n",
    "histogram_boxplot(df, 'P/E Ratio')  ## create histogram_boxplot for 'P/E Ratio'"
   ]
  },
  {
   "cell_type": "markdown",
   "id": "f8021609",
   "metadata": {},
   "source": [
    "In [20]:"
   ]
  },
  {
   "cell_type": "markdown",
   "id": "7c7252a9",
   "metadata": {},
   "source": [
    "histogram_boxplot(df, 'P/E Ratio')  ## create histogram_boxplot for 'P/E Ratio'"
   ]
  },
  {
   "cell_type": "markdown",
   "id": "70f612fe",
   "metadata": {},
   "source": [
    "histogram_boxplot(df, 'P/E Ratio')  ## create histogram_boxplot for 'P/E Ratio'"
   ]
  },
  {
   "cell_type": "markdown",
   "id": "f10d73e7",
   "metadata": {},
   "source": [
    "histogram_boxplot(df, 'P/E Ratio')  ## create histogram_boxplot for 'P/E Ratio'"
   ]
  },
  {
   "cell_type": "markdown",
   "id": "01f5a838",
   "metadata": {},
   "source": [
    "histogram_boxplot(df, 'P/E Ratio')  ## create histogram_boxplot for 'P/E Ratio'"
   ]
  },
  {
   "cell_type": "markdown",
   "id": "95529292",
   "metadata": {},
   "source": []
  },
  {
   "cell_type": "markdown",
   "id": "6990af73",
   "metadata": {},
   "source": []
  },
  {
   "cell_type": "markdown",
   "id": "4b9bf649",
   "metadata": {},
   "source": []
  },
  {
   "cell_type": "markdown",
   "id": "78351d98",
   "metadata": {},
   "source": []
  },
  {
   "cell_type": "markdown",
   "id": "7448589b",
   "metadata": {},
   "source": []
  },
  {
   "cell_type": "markdown",
   "id": "3f64bf12",
   "metadata": {},
   "source": []
  },
  {
   "cell_type": "markdown",
   "id": "b12d47ff",
   "metadata": {},
   "source": [
    "P/B Ratio"
   ]
  },
  {
   "cell_type": "markdown",
   "id": "a81ce76a",
   "metadata": {},
   "source": [
    "P/B Ratio"
   ]
  },
  {
   "cell_type": "markdown",
   "id": "f3b6dce5",
   "metadata": {},
   "source": []
  },
  {
   "cell_type": "markdown",
   "id": "f36a66e7",
   "metadata": {},
   "source": [
    "P/B Ratio"
   ]
  },
  {
   "cell_type": "markdown",
   "id": "822a0bc7",
   "metadata": {},
   "source": []
  },
  {
   "cell_type": "markdown",
   "id": "27ae2e11",
   "metadata": {},
   "source": [
    "P/B Ratio"
   ]
  },
  {
   "cell_type": "markdown",
   "id": "f6a848a7",
   "metadata": {},
   "source": [
    "In [21]:\n",
    "\n",
    "\n",
    "histogram_boxplot(df, 'P/B Ratio')  ## create histogram_boxplot for 'P/B Ratio'"
   ]
  },
  {
   "cell_type": "markdown",
   "id": "9ca361c8",
   "metadata": {},
   "source": [
    "In [21]:\n",
    "\n",
    "\n",
    "histogram_boxplot(df, 'P/B Ratio')  ## create histogram_boxplot for 'P/B Ratio'"
   ]
  },
  {
   "cell_type": "markdown",
   "id": "928b636b",
   "metadata": {},
   "source": []
  },
  {
   "cell_type": "markdown",
   "id": "73c7cbd5",
   "metadata": {},
   "source": [
    "In [21]:\n",
    "\n",
    "\n",
    "histogram_boxplot(df, 'P/B Ratio')  ## create histogram_boxplot for 'P/B Ratio'"
   ]
  },
  {
   "cell_type": "markdown",
   "id": "4951cdd9",
   "metadata": {},
   "source": [
    "In [21]:"
   ]
  },
  {
   "cell_type": "markdown",
   "id": "d10ec974",
   "metadata": {},
   "source": [
    "histogram_boxplot(df, 'P/B Ratio')  ## create histogram_boxplot for 'P/B Ratio'"
   ]
  },
  {
   "cell_type": "markdown",
   "id": "3d7fced8",
   "metadata": {},
   "source": [
    "histogram_boxplot(df, 'P/B Ratio')  ## create histogram_boxplot for 'P/B Ratio'"
   ]
  },
  {
   "cell_type": "markdown",
   "id": "eb1e4f0a",
   "metadata": {},
   "source": [
    "histogram_boxplot(df, 'P/B Ratio')  ## create histogram_boxplot for 'P/B Ratio'"
   ]
  },
  {
   "cell_type": "markdown",
   "id": "21c3201c",
   "metadata": {},
   "source": [
    "histogram_boxplot(df, 'P/B Ratio')  ## create histogram_boxplot for 'P/B Ratio'"
   ]
  },
  {
   "cell_type": "markdown",
   "id": "1e8f00ab",
   "metadata": {},
   "source": []
  },
  {
   "cell_type": "markdown",
   "id": "8b2bfe4e",
   "metadata": {},
   "source": []
  },
  {
   "cell_type": "markdown",
   "id": "65eb9789",
   "metadata": {},
   "source": []
  },
  {
   "cell_type": "markdown",
   "id": "b78a637e",
   "metadata": {},
   "source": []
  },
  {
   "cell_type": "markdown",
   "id": "a80d719c",
   "metadata": {},
   "source": []
  },
  {
   "cell_type": "markdown",
   "id": "8984c19a",
   "metadata": {},
   "source": []
  },
  {
   "cell_type": "markdown",
   "id": "037ea67e",
   "metadata": {},
   "source": [
    "Observations:\n",
    "\n",
    "The distribution of the Current Price is right-skewed and has some outliers\n",
    "The distribution of the Price Change is close to normal and has some outliers\n",
    "The distribution of the Volatility is a little right-skewed and has some outliers\n",
    "The distribution of the ROE is right-skewed and has some outliers\n",
    "The distribution of the Cash Ratio is right-skewed and has some outliers\n",
    "The distribution of the Net Cash Flow is somewhat normal and has some outliers\n",
    "The distribution of the Net Income is somewhat normal and has some outliers\n",
    "The distribution of the Earnings Per Share is somewhat normal and has some outliers\n",
    "The distribution of the Estimated Shares Outstanding is right-skewed and has some outliers\n",
    "The distribution of the P/E Ratio is right-skewed and has fewer outliers\n",
    "The distribution of the P/B Ratio is somewhat normal and has fewer outliers"
   ]
  },
  {
   "cell_type": "markdown",
   "id": "203ea450",
   "metadata": {},
   "source": [
    "Observations:\n",
    "\n",
    "The distribution of the Current Price is right-skewed and has some outliers\n",
    "The distribution of the Price Change is close to normal and has some outliers\n",
    "The distribution of the Volatility is a little right-skewed and has some outliers\n",
    "The distribution of the ROE is right-skewed and has some outliers\n",
    "The distribution of the Cash Ratio is right-skewed and has some outliers\n",
    "The distribution of the Net Cash Flow is somewhat normal and has some outliers\n",
    "The distribution of the Net Income is somewhat normal and has some outliers\n",
    "The distribution of the Earnings Per Share is somewhat normal and has some outliers\n",
    "The distribution of the Estimated Shares Outstanding is right-skewed and has some outliers\n",
    "The distribution of the P/E Ratio is right-skewed and has fewer outliers\n",
    "The distribution of the P/B Ratio is somewhat normal and has fewer outliers"
   ]
  },
  {
   "cell_type": "markdown",
   "id": "fce8244f",
   "metadata": {},
   "source": []
  },
  {
   "cell_type": "markdown",
   "id": "bc70f6ad",
   "metadata": {},
   "source": [
    "Observations:\n",
    "\n",
    "The distribution of the Current Price is right-skewed and has some outliers\n",
    "The distribution of the Price Change is close to normal and has some outliers\n",
    "The distribution of the Volatility is a little right-skewed and has some outliers\n",
    "The distribution of the ROE is right-skewed and has some outliers\n",
    "The distribution of the Cash Ratio is right-skewed and has some outliers\n",
    "The distribution of the Net Cash Flow is somewhat normal and has some outliers\n",
    "The distribution of the Net Income is somewhat normal and has some outliers\n",
    "The distribution of the Earnings Per Share is somewhat normal and has some outliers\n",
    "The distribution of the Estimated Shares Outstanding is right-skewed and has some outliers\n",
    "The distribution of the P/E Ratio is right-skewed and has fewer outliers\n",
    "The distribution of the P/B Ratio is somewhat normal and has fewer outliers"
   ]
  },
  {
   "cell_type": "markdown",
   "id": "2f831a49",
   "metadata": {},
   "source": []
  },
  {
   "cell_type": "markdown",
   "id": "858e6ad5",
   "metadata": {},
   "source": [
    "Observations:\n",
    "\n",
    "The distribution of the Current Price is right-skewed and has some outliers\n",
    "The distribution of the Price Change is close to normal and has some outliers\n",
    "The distribution of the Volatility is a little right-skewed and has some outliers\n",
    "The distribution of the ROE is right-skewed and has some outliers\n",
    "The distribution of the Cash Ratio is right-skewed and has some outliers\n",
    "The distribution of the Net Cash Flow is somewhat normal and has some outliers\n",
    "The distribution of the Net Income is somewhat normal and has some outliers\n",
    "The distribution of the Earnings Per Share is somewhat normal and has some outliers\n",
    "The distribution of the Estimated Shares Outstanding is right-skewed and has some outliers\n",
    "The distribution of the P/E Ratio is right-skewed and has fewer outliers\n",
    "The distribution of the P/B Ratio is somewhat normal and has fewer outliers"
   ]
  },
  {
   "cell_type": "markdown",
   "id": "87bb384f",
   "metadata": {},
   "source": [
    "In [22]:\n",
    "\n",
    "\n",
    "# function to create labeled barplots\n",
    "\n",
    "\n",
    "def labeled_barplot(df, feature, perc=False, n=None):\n",
    "    \"\"\"\n",
    "    Barplot with percentage at the top\n",
    "\n",
    "    data: dataframe\n",
    "    feature: dataframe column\n",
    "    perc: whether to display percentages instead of count (default is False)\n",
    "    n: displays the top n category levels (default is None, i.e., display all levels)\n",
    "    \"\"\"\n",
    "\n",
    "    total = len(df[feature])  # length of the column\n",
    "    count = df[feature].nunique()\n",
    "    if n is None:\n",
    "        plt.figure(figsize=(count + 1, 5))\n",
    "    else:\n",
    "        plt.figure(figsize=(n + 1, 5))\n",
    "\n",
    "    plt.xticks(rotation=90, fontsize=15)\n",
    "    ax = sns.countplot(\n",
    "        data=df,\n",
    "        x=feature,\n",
    "        palette=\"Paired\",\n",
    "        order=df[feature].value_counts().index[:n].sort_values(),\n",
    "    )\n",
    "\n",
    "    for p in ax.patches:\n",
    "        if perc == True:\n",
    "            label = \"{:.1f}%\".format(\n",
    "                100 * p.get_height() / total\n",
    "            )  # percentage of each class of the category\n",
    "        else:\n",
    "            label = p.get_height()  # count of each level of the category\n",
    "\n",
    "        x = p.get_x() + p.get_width() / 2  # width of the plot\n",
    "        y = p.get_height()  # height of the plot\n",
    "\n",
    "        ax.annotate(\n",
    "            label,\n",
    "            (x, y),\n",
    "            ha=\"center\",\n",
    "            va=\"center\",\n",
    "            size=12,\n",
    "            xytext=(0, 5),\n",
    "            textcoords=\"offset points\",\n",
    "        )  # annotate the percentage\n",
    "\n",
    "    plt.show()  # show the plot"
   ]
  },
  {
   "cell_type": "markdown",
   "id": "6ed31171",
   "metadata": {},
   "source": [
    "In [22]:\n",
    "\n",
    "\n",
    "# function to create labeled barplots\n",
    "\n",
    "\n",
    "def labeled_barplot(df, feature, perc=False, n=None):\n",
    "    \"\"\"\n",
    "    Barplot with percentage at the top\n",
    "\n",
    "    data: dataframe\n",
    "    feature: dataframe column\n",
    "    perc: whether to display percentages instead of count (default is False)\n",
    "    n: displays the top n category levels (default is None, i.e., display all levels)\n",
    "    \"\"\"\n",
    "\n",
    "    total = len(df[feature])  # length of the column\n",
    "    count = df[feature].nunique()\n",
    "    if n is None:\n",
    "        plt.figure(figsize=(count + 1, 5))\n",
    "    else:\n",
    "        plt.figure(figsize=(n + 1, 5))\n",
    "\n",
    "    plt.xticks(rotation=90, fontsize=15)\n",
    "    ax = sns.countplot(\n",
    "        data=df,\n",
    "        x=feature,\n",
    "        palette=\"Paired\",\n",
    "        order=df[feature].value_counts().index[:n].sort_values(),\n",
    "    )\n",
    "\n",
    "    for p in ax.patches:\n",
    "        if perc == True:\n",
    "            label = \"{:.1f}%\".format(\n",
    "                100 * p.get_height() / total\n",
    "            )  # percentage of each class of the category\n",
    "        else:\n",
    "            label = p.get_height()  # count of each level of the category\n",
    "\n",
    "        x = p.get_x() + p.get_width() / 2  # width of the plot\n",
    "        y = p.get_height()  # height of the plot\n",
    "\n",
    "        ax.annotate(\n",
    "            label,\n",
    "            (x, y),\n",
    "            ha=\"center\",\n",
    "            va=\"center\",\n",
    "            size=12,\n",
    "            xytext=(0, 5),\n",
    "            textcoords=\"offset points\",\n",
    "        )  # annotate the percentage\n",
    "\n",
    "    plt.show()  # show the plot"
   ]
  },
  {
   "cell_type": "markdown",
   "id": "7893b627",
   "metadata": {},
   "source": []
  },
  {
   "cell_type": "markdown",
   "id": "439a265d",
   "metadata": {},
   "source": [
    "In [22]:\n",
    "\n",
    "\n",
    "# function to create labeled barplots\n",
    "\n",
    "\n",
    "def labeled_barplot(df, feature, perc=False, n=None):\n",
    "    \"\"\"\n",
    "    Barplot with percentage at the top\n",
    "\n",
    "    data: dataframe\n",
    "    feature: dataframe column\n",
    "    perc: whether to display percentages instead of count (default is False)\n",
    "    n: displays the top n category levels (default is None, i.e., display all levels)\n",
    "    \"\"\"\n",
    "\n",
    "    total = len(df[feature])  # length of the column\n",
    "    count = df[feature].nunique()\n",
    "    if n is None:\n",
    "        plt.figure(figsize=(count + 1, 5))\n",
    "    else:\n",
    "        plt.figure(figsize=(n + 1, 5))\n",
    "\n",
    "    plt.xticks(rotation=90, fontsize=15)\n",
    "    ax = sns.countplot(\n",
    "        data=df,\n",
    "        x=feature,\n",
    "        palette=\"Paired\",\n",
    "        order=df[feature].value_counts().index[:n].sort_values(),\n",
    "    )\n",
    "\n",
    "    for p in ax.patches:\n",
    "        if perc == True:\n",
    "            label = \"{:.1f}%\".format(\n",
    "                100 * p.get_height() / total\n",
    "            )  # percentage of each class of the category\n",
    "        else:\n",
    "            label = p.get_height()  # count of each level of the category\n",
    "\n",
    "        x = p.get_x() + p.get_width() / 2  # width of the plot\n",
    "        y = p.get_height()  # height of the plot\n",
    "\n",
    "        ax.annotate(\n",
    "            label,\n",
    "            (x, y),\n",
    "            ha=\"center\",\n",
    "            va=\"center\",\n",
    "            size=12,\n",
    "            xytext=(0, 5),\n",
    "            textcoords=\"offset points\",\n",
    "        )  # annotate the percentage\n",
    "\n",
    "    plt.show()  # show the plot"
   ]
  },
  {
   "cell_type": "markdown",
   "id": "b147d293",
   "metadata": {},
   "source": [
    "In [22]:"
   ]
  },
  {
   "cell_type": "markdown",
   "id": "cc3d544c",
   "metadata": {},
   "source": [
    "# function to create labeled barplots\n",
    "\n",
    "\n",
    "def labeled_barplot(df, feature, perc=False, n=None):\n",
    "    \"\"\"\n",
    "    Barplot with percentage at the top\n",
    "\n",
    "    data: dataframe\n",
    "    feature: dataframe column\n",
    "    perc: whether to display percentages instead of count (default is False)\n",
    "    n: displays the top n category levels (default is None, i.e., display all levels)\n",
    "    \"\"\"\n",
    "\n",
    "    total = len(df[feature])  # length of the column\n",
    "    count = df[feature].nunique()\n",
    "    if n is None:\n",
    "        plt.figure(figsize=(count + 1, 5))\n",
    "    else:\n",
    "        plt.figure(figsize=(n + 1, 5))\n",
    "\n",
    "    plt.xticks(rotation=90, fontsize=15)\n",
    "    ax = sns.countplot(\n",
    "        data=df,\n",
    "        x=feature,\n",
    "        palette=\"Paired\",\n",
    "        order=df[feature].value_counts().index[:n].sort_values(),\n",
    "    )\n",
    "\n",
    "    for p in ax.patches:\n",
    "        if perc == True:\n",
    "            label = \"{:.1f}%\".format(\n",
    "                100 * p.get_height() / total\n",
    "            )  # percentage of each class of the category\n",
    "        else:\n",
    "            label = p.get_height()  # count of each level of the category\n",
    "\n",
    "        x = p.get_x() + p.get_width() / 2  # width of the plot\n",
    "        y = p.get_height()  # height of the plot\n",
    "\n",
    "        ax.annotate(\n",
    "            label,\n",
    "            (x, y),\n",
    "            ha=\"center\",\n",
    "            va=\"center\",\n",
    "            size=12,\n",
    "            xytext=(0, 5),\n",
    "            textcoords=\"offset points\",\n",
    "        )  # annotate the percentage\n",
    "\n",
    "    plt.show()  # show the plot"
   ]
  },
  {
   "cell_type": "markdown",
   "id": "1f37f6aa",
   "metadata": {},
   "source": [
    "# function to create labeled barplots\n",
    "\n",
    "\n",
    "def labeled_barplot(df, feature, perc=False, n=None):\n",
    "    \"\"\"\n",
    "    Barplot with percentage at the top\n",
    "\n",
    "    data: dataframe\n",
    "    feature: dataframe column\n",
    "    perc: whether to display percentages instead of count (default is False)\n",
    "    n: displays the top n category levels (default is None, i.e., display all levels)\n",
    "    \"\"\"\n",
    "\n",
    "    total = len(df[feature])  # length of the column\n",
    "    count = df[feature].nunique()\n",
    "    if n is None:\n",
    "        plt.figure(figsize=(count + 1, 5))\n",
    "    else:\n",
    "        plt.figure(figsize=(n + 1, 5))\n",
    "\n",
    "    plt.xticks(rotation=90, fontsize=15)\n",
    "    ax = sns.countplot(\n",
    "        data=df,\n",
    "        x=feature,\n",
    "        palette=\"Paired\",\n",
    "        order=df[feature].value_counts().index[:n].sort_values(),\n",
    "    )\n",
    "\n",
    "    for p in ax.patches:\n",
    "        if perc == True:\n",
    "            label = \"{:.1f}%\".format(\n",
    "                100 * p.get_height() / total\n",
    "            )  # percentage of each class of the category\n",
    "        else:\n",
    "            label = p.get_height()  # count of each level of the category\n",
    "\n",
    "        x = p.get_x() + p.get_width() / 2  # width of the plot\n",
    "        y = p.get_height()  # height of the plot\n",
    "\n",
    "        ax.annotate(\n",
    "            label,\n",
    "            (x, y),\n",
    "            ha=\"center\",\n",
    "            va=\"center\",\n",
    "            size=12,\n",
    "            xytext=(0, 5),\n",
    "            textcoords=\"offset points\",\n",
    "        )  # annotate the percentage\n",
    "\n",
    "    plt.show()  # show the plot"
   ]
  },
  {
   "cell_type": "markdown",
   "id": "ab82a9c2",
   "metadata": {},
   "source": [
    "# function to create labeled barplots\n",
    "\n",
    "\n",
    "def labeled_barplot(df, feature, perc=False, n=None):\n",
    "    \"\"\"\n",
    "    Barplot with percentage at the top\n",
    "\n",
    "    data: dataframe\n",
    "    feature: dataframe column\n",
    "    perc: whether to display percentages instead of count (default is False)\n",
    "    n: displays the top n category levels (default is None, i.e., display all levels)\n",
    "    \"\"\"\n",
    "\n",
    "    total = len(df[feature])  # length of the column\n",
    "    count = df[feature].nunique()\n",
    "    if n is None:\n",
    "        plt.figure(figsize=(count + 1, 5))\n",
    "    else:\n",
    "        plt.figure(figsize=(n + 1, 5))\n",
    "\n",
    "    plt.xticks(rotation=90, fontsize=15)\n",
    "    ax = sns.countplot(\n",
    "        data=df,\n",
    "        x=feature,\n",
    "        palette=\"Paired\",\n",
    "        order=df[feature].value_counts().index[:n].sort_values(),\n",
    "    )\n",
    "\n",
    "    for p in ax.patches:\n",
    "        if perc == True:\n",
    "            label = \"{:.1f}%\".format(\n",
    "                100 * p.get_height() / total\n",
    "            )  # percentage of each class of the category\n",
    "        else:\n",
    "            label = p.get_height()  # count of each level of the category\n",
    "\n",
    "        x = p.get_x() + p.get_width() / 2  # width of the plot\n",
    "        y = p.get_height()  # height of the plot\n",
    "\n",
    "        ax.annotate(\n",
    "            label,\n",
    "            (x, y),\n",
    "            ha=\"center\",\n",
    "            va=\"center\",\n",
    "            size=12,\n",
    "            xytext=(0, 5),\n",
    "            textcoords=\"offset points\",\n",
    "        )  # annotate the percentage\n",
    "\n",
    "    plt.show()  # show the plot"
   ]
  },
  {
   "cell_type": "markdown",
   "id": "47078e5a",
   "metadata": {},
   "source": [
    "# function to create labeled barplots\n",
    "\n",
    "\n",
    "def labeled_barplot(df, feature, perc=False, n=None):\n",
    "    \"\"\"\n",
    "    Barplot with percentage at the top\n",
    "\n",
    "    data: dataframe\n",
    "    feature: dataframe column\n",
    "    perc: whether to display percentages instead of count (default is False)\n",
    "    n: displays the top n category levels (default is None, i.e., display all levels)\n",
    "    \"\"\"\n",
    "\n",
    "    total = len(df[feature])  # length of the column\n",
    "    count = df[feature].nunique()\n",
    "    if n is None:\n",
    "        plt.figure(figsize=(count + 1, 5))\n",
    "    else:\n",
    "        plt.figure(figsize=(n + 1, 5))\n",
    "\n",
    "    plt.xticks(rotation=90, fontsize=15)\n",
    "    ax = sns.countplot(\n",
    "        data=df,\n",
    "        x=feature,\n",
    "        palette=\"Paired\",\n",
    "        order=df[feature].value_counts().index[:n].sort_values(),\n",
    "    )\n",
    "\n",
    "    for p in ax.patches:\n",
    "        if perc == True:\n",
    "            label = \"{:.1f}%\".format(\n",
    "                100 * p.get_height() / total\n",
    "            )  # percentage of each class of the category\n",
    "        else:\n",
    "            label = p.get_height()  # count of each level of the category\n",
    "\n",
    "        x = p.get_x() + p.get_width() / 2  # width of the plot\n",
    "        y = p.get_height()  # height of the plot\n",
    "\n",
    "        ax.annotate(\n",
    "            label,\n",
    "            (x, y),\n",
    "            ha=\"center\",\n",
    "            va=\"center\",\n",
    "            size=12,\n",
    "            xytext=(0, 5),\n",
    "            textcoords=\"offset points\",\n",
    "        )  # annotate the percentage\n",
    "\n",
    "    plt.show()  # show the plot"
   ]
  },
  {
   "cell_type": "markdown",
   "id": "13357a3c",
   "metadata": {},
   "source": [
    "GICS Sector"
   ]
  },
  {
   "cell_type": "markdown",
   "id": "db552aed",
   "metadata": {},
   "source": [
    "GICS Sector"
   ]
  },
  {
   "cell_type": "markdown",
   "id": "b0fc7970",
   "metadata": {},
   "source": []
  },
  {
   "cell_type": "markdown",
   "id": "1ba14a77",
   "metadata": {},
   "source": [
    "GICS Sector"
   ]
  },
  {
   "cell_type": "markdown",
   "id": "49a5e143",
   "metadata": {},
   "source": []
  },
  {
   "cell_type": "markdown",
   "id": "40c01ece",
   "metadata": {},
   "source": [
    "GICS Sector"
   ]
  },
  {
   "cell_type": "markdown",
   "id": "dd4973ff",
   "metadata": {},
   "source": [
    "In [23]:\n",
    "\n",
    "\n",
    "labeled_barplot(df, 'GICS Sector', perc=True)"
   ]
  },
  {
   "cell_type": "markdown",
   "id": "9dd11895",
   "metadata": {},
   "source": [
    "In [23]:\n",
    "\n",
    "\n",
    "labeled_barplot(df, 'GICS Sector', perc=True)"
   ]
  },
  {
   "cell_type": "markdown",
   "id": "53b25af4",
   "metadata": {},
   "source": []
  },
  {
   "cell_type": "markdown",
   "id": "a9f09237",
   "metadata": {},
   "source": [
    "In [23]:\n",
    "\n",
    "\n",
    "labeled_barplot(df, 'GICS Sector', perc=True)"
   ]
  },
  {
   "cell_type": "markdown",
   "id": "6d52c219",
   "metadata": {},
   "source": [
    "In [23]:"
   ]
  },
  {
   "cell_type": "markdown",
   "id": "82db7696",
   "metadata": {},
   "source": [
    "labeled_barplot(df, 'GICS Sector', perc=True)"
   ]
  },
  {
   "cell_type": "markdown",
   "id": "72e86079",
   "metadata": {},
   "source": [
    "labeled_barplot(df, 'GICS Sector', perc=True)"
   ]
  },
  {
   "cell_type": "markdown",
   "id": "a66449d3",
   "metadata": {},
   "source": [
    "labeled_barplot(df, 'GICS Sector', perc=True)"
   ]
  },
  {
   "cell_type": "markdown",
   "id": "352a57f2",
   "metadata": {},
   "source": [
    "labeled_barplot(df, 'GICS Sector', perc=True)"
   ]
  },
  {
   "cell_type": "markdown",
   "id": "9162c73b",
   "metadata": {},
   "source": []
  },
  {
   "cell_type": "markdown",
   "id": "1a4de09c",
   "metadata": {},
   "source": []
  },
  {
   "cell_type": "markdown",
   "id": "02dd8e97",
   "metadata": {},
   "source": []
  },
  {
   "cell_type": "markdown",
   "id": "38f27d21",
   "metadata": {},
   "source": []
  },
  {
   "cell_type": "markdown",
   "id": "7c71d341",
   "metadata": {},
   "source": []
  },
  {
   "cell_type": "markdown",
   "id": "49f0b26e",
   "metadata": {},
   "source": []
  },
  {
   "cell_type": "markdown",
   "id": "2fb5e9c9",
   "metadata": {},
   "source": [
    "Observations:\n",
    "\n",
    "The top 5 economic sectors with highest number of stocks are:\n",
    "Indusrials\n",
    "Finacials\n",
    "Healthcare\n",
    "Consumer Discretinary\n",
    "Information Technology"
   ]
  },
  {
   "cell_type": "markdown",
   "id": "107700ca",
   "metadata": {},
   "source": [
    "Observations:\n",
    "\n",
    "The top 5 economic sectors with highest number of stocks are:\n",
    "Indusrials\n",
    "Finacials\n",
    "Healthcare\n",
    "Consumer Discretinary\n",
    "Information Technology"
   ]
  },
  {
   "cell_type": "markdown",
   "id": "e49ce07c",
   "metadata": {},
   "source": []
  },
  {
   "cell_type": "markdown",
   "id": "6034d17e",
   "metadata": {},
   "source": [
    "Observations:\n",
    "\n",
    "The top 5 economic sectors with highest number of stocks are:\n",
    "Indusrials\n",
    "Finacials\n",
    "Healthcare\n",
    "Consumer Discretinary\n",
    "Information Technology"
   ]
  },
  {
   "cell_type": "markdown",
   "id": "679f5922",
   "metadata": {},
   "source": []
  },
  {
   "cell_type": "markdown",
   "id": "051f6828",
   "metadata": {},
   "source": [
    "Observations:\n",
    "\n",
    "The top 5 economic sectors with highest number of stocks are:\n",
    "Indusrials\n",
    "Finacials\n",
    "Healthcare\n",
    "Consumer Discretinary\n",
    "Information Technology"
   ]
  },
  {
   "cell_type": "markdown",
   "id": "2a2ebc23",
   "metadata": {},
   "source": [
    "GICS Sub Industry"
   ]
  },
  {
   "cell_type": "markdown",
   "id": "97404ef7",
   "metadata": {},
   "source": [
    "GICS Sub Industry"
   ]
  },
  {
   "cell_type": "markdown",
   "id": "fdcd0323",
   "metadata": {},
   "source": []
  },
  {
   "cell_type": "markdown",
   "id": "a7f3a1e1",
   "metadata": {},
   "source": [
    "GICS Sub Industry"
   ]
  },
  {
   "cell_type": "markdown",
   "id": "1fce4332",
   "metadata": {},
   "source": []
  },
  {
   "cell_type": "markdown",
   "id": "33ccf7f6",
   "metadata": {},
   "source": [
    "GICS Sub Industry"
   ]
  },
  {
   "cell_type": "markdown",
   "id": "71f3a610",
   "metadata": {},
   "source": [
    "In [24]:\n",
    "\n",
    "\n",
    "labeled_barplot(df, 'GICS Sub Industry', perc=True, n=15)  ## create a labelled barplot for top 15 'GICS Sub Industry'"
   ]
  },
  {
   "cell_type": "markdown",
   "id": "cc4d6369",
   "metadata": {},
   "source": [
    "In [24]:\n",
    "\n",
    "\n",
    "labeled_barplot(df, 'GICS Sub Industry', perc=True, n=15)  ## create a labelled barplot for top 15 'GICS Sub Industry'"
   ]
  },
  {
   "cell_type": "markdown",
   "id": "73376402",
   "metadata": {},
   "source": []
  },
  {
   "cell_type": "markdown",
   "id": "b4f80cd6",
   "metadata": {},
   "source": [
    "In [24]:\n",
    "\n",
    "\n",
    "labeled_barplot(df, 'GICS Sub Industry', perc=True, n=15)  ## create a labelled barplot for top 15 'GICS Sub Industry'"
   ]
  },
  {
   "cell_type": "markdown",
   "id": "ab6fa375",
   "metadata": {},
   "source": [
    "In [24]:"
   ]
  },
  {
   "cell_type": "markdown",
   "id": "0b7a714c",
   "metadata": {},
   "source": [
    "labeled_barplot(df, 'GICS Sub Industry', perc=True, n=15)  ## create a labelled barplot for top 15 'GICS Sub Industry'"
   ]
  },
  {
   "cell_type": "markdown",
   "id": "a5b9f1b2",
   "metadata": {},
   "source": [
    "labeled_barplot(df, 'GICS Sub Industry', perc=True, n=15)  ## create a labelled barplot for top 15 'GICS Sub Industry'"
   ]
  },
  {
   "cell_type": "markdown",
   "id": "4ed23ebe",
   "metadata": {},
   "source": [
    "labeled_barplot(df, 'GICS Sub Industry', perc=True, n=15)  ## create a labelled barplot for top 15 'GICS Sub Industry'"
   ]
  },
  {
   "cell_type": "markdown",
   "id": "37dc76c9",
   "metadata": {},
   "source": [
    "labeled_barplot(df, 'GICS Sub Industry', perc=True, n=15)  ## create a labelled barplot for top 15 'GICS Sub Industry'"
   ]
  },
  {
   "cell_type": "markdown",
   "id": "7a1832e9",
   "metadata": {},
   "source": []
  },
  {
   "cell_type": "markdown",
   "id": "dd5f4a9f",
   "metadata": {},
   "source": []
  },
  {
   "cell_type": "markdown",
   "id": "ccf16ff4",
   "metadata": {},
   "source": []
  },
  {
   "cell_type": "markdown",
   "id": "3113ece7",
   "metadata": {},
   "source": []
  },
  {
   "cell_type": "markdown",
   "id": "6fdcab9a",
   "metadata": {},
   "source": []
  },
  {
   "cell_type": "markdown",
   "id": "5cc5b320",
   "metadata": {},
   "source": []
  },
  {
   "cell_type": "markdown",
   "id": "24ea942c",
   "metadata": {},
   "source": [
    "Observations:\n",
    "\n",
    "The top 5 sub industry with highest number of stocks are:\n",
    "Oil & Gas Exploration & Production\n",
    "Indusrial Conglomerates\n",
    "REITs\n",
    "Electric Untilities\n",
    "Information Software & Services"
   ]
  },
  {
   "cell_type": "markdown",
   "id": "b2287373",
   "metadata": {},
   "source": [
    "Observations:\n",
    "\n",
    "The top 5 sub industry with highest number of stocks are:\n",
    "Oil & Gas Exploration & Production\n",
    "Indusrial Conglomerates\n",
    "REITs\n",
    "Electric Untilities\n",
    "Information Software & Services"
   ]
  },
  {
   "cell_type": "markdown",
   "id": "575ac538",
   "metadata": {},
   "source": []
  },
  {
   "cell_type": "markdown",
   "id": "0da210e2",
   "metadata": {},
   "source": [
    "Observations:\n",
    "\n",
    "The top 5 sub industry with highest number of stocks are:\n",
    "Oil & Gas Exploration & Production\n",
    "Indusrial Conglomerates\n",
    "REITs\n",
    "Electric Untilities\n",
    "Information Software & Services"
   ]
  },
  {
   "cell_type": "markdown",
   "id": "915f34f6",
   "metadata": {},
   "source": []
  },
  {
   "cell_type": "markdown",
   "id": "5d016be7",
   "metadata": {},
   "source": [
    "Observations:\n",
    "\n",
    "The top 5 sub industry with highest number of stocks are:\n",
    "Oil & Gas Exploration & Production\n",
    "Indusrial Conglomerates\n",
    "REITs\n",
    "Electric Untilities\n",
    "Information Software & Services"
   ]
  },
  {
   "cell_type": "markdown",
   "id": "485ea44f",
   "metadata": {},
   "source": [
    "In [25]:\n",
    "\n",
    "\n",
    "sc=df[\"GICS Sector\"].unique() #list of Sectors\n",
    "for i in sc:\n",
    "    print(i)\n",
    "    labeled_barplot(df[df[\"GICS Sector\"]==i],\"GICS Sub Industry\")\n",
    "\n",
    "\n",
    "\n",
    "\n",
    "\n",
    "\n",
    "\n",
    "\n",
    "\n",
    "\n",
    "\n",
    "\n",
    "Industrials\n",
    "\n",
    "\n",
    "\n",
    "\n",
    "\n",
    "\n",
    "\n",
    "\n",
    "\n",
    "\n",
    "\n",
    "\n",
    "Health Care\n",
    "\n",
    "\n",
    "\n",
    "\n",
    "\n",
    "\n",
    "\n",
    "\n",
    "\n",
    "\n",
    "\n",
    "\n",
    "Information Technology\n",
    "\n",
    "\n",
    "\n",
    "\n",
    "\n",
    "\n",
    "\n",
    "\n",
    "\n",
    "\n",
    "\n",
    "\n",
    "Consumer Staples\n",
    "\n",
    "\n",
    "\n",
    "\n",
    "\n",
    "\n",
    "\n",
    "\n",
    "\n",
    "\n",
    "\n",
    "\n",
    "Utilities\n",
    "\n",
    "\n",
    "\n",
    "\n",
    "\n",
    "\n",
    "\n",
    "\n",
    "\n",
    "\n",
    "\n",
    "\n",
    "Financials\n",
    "\n",
    "\n",
    "\n",
    "\n",
    "\n",
    "\n",
    "\n",
    "\n",
    "\n",
    "\n",
    "\n",
    "\n",
    "Real Estate\n",
    "\n",
    "\n",
    "\n",
    "\n",
    "\n",
    "\n",
    "\n",
    "\n",
    "\n",
    "\n",
    "\n",
    "\n",
    "Materials\n",
    "\n",
    "\n",
    "\n",
    "\n",
    "\n",
    "\n",
    "\n",
    "\n",
    "\n",
    "\n",
    "\n",
    "\n",
    "Consumer Discretionary\n",
    "\n",
    "\n",
    "\n",
    "\n",
    "\n",
    "\n",
    "\n",
    "\n",
    "\n",
    "\n",
    "\n",
    "\n",
    "Energy\n",
    "\n",
    "\n",
    "\n",
    "\n",
    "\n",
    "\n",
    "\n",
    "\n",
    "\n",
    "\n",
    "\n",
    "\n",
    "Telecommunications Services"
   ]
  },
  {
   "cell_type": "markdown",
   "id": "fdaab828",
   "metadata": {},
   "source": [
    "In [25]:\n",
    "\n",
    "\n",
    "sc=df[\"GICS Sector\"].unique() #list of Sectors\n",
    "for i in sc:\n",
    "    print(i)\n",
    "    labeled_barplot(df[df[\"GICS Sector\"]==i],\"GICS Sub Industry\")"
   ]
  },
  {
   "cell_type": "markdown",
   "id": "cce39cd9",
   "metadata": {},
   "source": []
  },
  {
   "cell_type": "markdown",
   "id": "b0996b93",
   "metadata": {},
   "source": [
    "In [25]:\n",
    "\n",
    "\n",
    "sc=df[\"GICS Sector\"].unique() #list of Sectors\n",
    "for i in sc:\n",
    "    print(i)\n",
    "    labeled_barplot(df[df[\"GICS Sector\"]==i],\"GICS Sub Industry\")"
   ]
  },
  {
   "cell_type": "markdown",
   "id": "681e9307",
   "metadata": {},
   "source": [
    "In [25]:"
   ]
  },
  {
   "cell_type": "markdown",
   "id": "c8993bb8",
   "metadata": {},
   "source": [
    "sc=df[\"GICS Sector\"].unique() #list of Sectors\n",
    "for i in sc:\n",
    "    print(i)\n",
    "    labeled_barplot(df[df[\"GICS Sector\"]==i],\"GICS Sub Industry\")"
   ]
  },
  {
   "cell_type": "markdown",
   "id": "961bec52",
   "metadata": {},
   "source": [
    "sc=df[\"GICS Sector\"].unique() #list of Sectors\n",
    "for i in sc:\n",
    "    print(i)\n",
    "    labeled_barplot(df[df[\"GICS Sector\"]==i],\"GICS Sub Industry\")"
   ]
  },
  {
   "cell_type": "markdown",
   "id": "693f7000",
   "metadata": {},
   "source": [
    "sc=df[\"GICS Sector\"].unique() #list of Sectors\n",
    "for i in sc:\n",
    "    print(i)\n",
    "    labeled_barplot(df[df[\"GICS Sector\"]==i],\"GICS Sub Industry\")"
   ]
  },
  {
   "cell_type": "markdown",
   "id": "3c5c3815",
   "metadata": {},
   "source": [
    "sc=df[\"GICS Sector\"].unique() #list of Sectors\n",
    "for i in sc:\n",
    "    print(i)\n",
    "    labeled_barplot(df[df[\"GICS Sector\"]==i],\"GICS Sub Industry\")"
   ]
  },
  {
   "cell_type": "markdown",
   "id": "15ae7e72",
   "metadata": {},
   "source": [
    "Industrials\n",
    "\n",
    "\n",
    "\n",
    "\n",
    "\n",
    "\n",
    "\n",
    "\n",
    "\n",
    "\n",
    "\n",
    "\n",
    "Health Care\n",
    "\n",
    "\n",
    "\n",
    "\n",
    "\n",
    "\n",
    "\n",
    "\n",
    "\n",
    "\n",
    "\n",
    "\n",
    "Information Technology\n",
    "\n",
    "\n",
    "\n",
    "\n",
    "\n",
    "\n",
    "\n",
    "\n",
    "\n",
    "\n",
    "\n",
    "\n",
    "Consumer Staples\n",
    "\n",
    "\n",
    "\n",
    "\n",
    "\n",
    "\n",
    "\n",
    "\n",
    "\n",
    "\n",
    "\n",
    "\n",
    "Utilities\n",
    "\n",
    "\n",
    "\n",
    "\n",
    "\n",
    "\n",
    "\n",
    "\n",
    "\n",
    "\n",
    "\n",
    "\n",
    "Financials\n",
    "\n",
    "\n",
    "\n",
    "\n",
    "\n",
    "\n",
    "\n",
    "\n",
    "\n",
    "\n",
    "\n",
    "\n",
    "Real Estate\n",
    "\n",
    "\n",
    "\n",
    "\n",
    "\n",
    "\n",
    "\n",
    "\n",
    "\n",
    "\n",
    "\n",
    "\n",
    "Materials\n",
    "\n",
    "\n",
    "\n",
    "\n",
    "\n",
    "\n",
    "\n",
    "\n",
    "\n",
    "\n",
    "\n",
    "\n",
    "Consumer Discretionary\n",
    "\n",
    "\n",
    "\n",
    "\n",
    "\n",
    "\n",
    "\n",
    "\n",
    "\n",
    "\n",
    "\n",
    "\n",
    "Energy\n",
    "\n",
    "\n",
    "\n",
    "\n",
    "\n",
    "\n",
    "\n",
    "\n",
    "\n",
    "\n",
    "\n",
    "\n",
    "Telecommunications Services"
   ]
  },
  {
   "cell_type": "markdown",
   "id": "0966ddda",
   "metadata": {},
   "source": []
  },
  {
   "cell_type": "markdown",
   "id": "1230119b",
   "metadata": {},
   "source": [
    "Industrials\n",
    "\n",
    "\n",
    "\n",
    "\n",
    "\n",
    "\n",
    "\n",
    "\n",
    "\n",
    "\n",
    "\n",
    "\n",
    "Health Care\n",
    "\n",
    "\n",
    "\n",
    "\n",
    "\n",
    "\n",
    "\n",
    "\n",
    "\n",
    "\n",
    "\n",
    "\n",
    "Information Technology\n",
    "\n",
    "\n",
    "\n",
    "\n",
    "\n",
    "\n",
    "\n",
    "\n",
    "\n",
    "\n",
    "\n",
    "\n",
    "Consumer Staples\n",
    "\n",
    "\n",
    "\n",
    "\n",
    "\n",
    "\n",
    "\n",
    "\n",
    "\n",
    "\n",
    "\n",
    "\n",
    "Utilities\n",
    "\n",
    "\n",
    "\n",
    "\n",
    "\n",
    "\n",
    "\n",
    "\n",
    "\n",
    "\n",
    "\n",
    "\n",
    "Financials\n",
    "\n",
    "\n",
    "\n",
    "\n",
    "\n",
    "\n",
    "\n",
    "\n",
    "\n",
    "\n",
    "\n",
    "\n",
    "Real Estate\n",
    "\n",
    "\n",
    "\n",
    "\n",
    "\n",
    "\n",
    "\n",
    "\n",
    "\n",
    "\n",
    "\n",
    "\n",
    "Materials\n",
    "\n",
    "\n",
    "\n",
    "\n",
    "\n",
    "\n",
    "\n",
    "\n",
    "\n",
    "\n",
    "\n",
    "\n",
    "Consumer Discretionary\n",
    "\n",
    "\n",
    "\n",
    "\n",
    "\n",
    "\n",
    "\n",
    "\n",
    "\n",
    "\n",
    "\n",
    "\n",
    "Energy\n",
    "\n",
    "\n",
    "\n",
    "\n",
    "\n",
    "\n",
    "\n",
    "\n",
    "\n",
    "\n",
    "\n",
    "\n",
    "Telecommunications Services"
   ]
  },
  {
   "cell_type": "markdown",
   "id": "c80b91e8",
   "metadata": {},
   "source": [
    "Industrials"
   ]
  },
  {
   "cell_type": "markdown",
   "id": "6e963e4a",
   "metadata": {},
   "source": []
  },
  {
   "cell_type": "markdown",
   "id": "ef5f0bce",
   "metadata": {},
   "source": [
    "Industrials"
   ]
  },
  {
   "cell_type": "markdown",
   "id": "8cb1d3a0",
   "metadata": {},
   "source": [
    "Industrials"
   ]
  },
  {
   "cell_type": "markdown",
   "id": "086399c3",
   "metadata": {},
   "source": []
  },
  {
   "cell_type": "markdown",
   "id": "14470e80",
   "metadata": {},
   "source": []
  },
  {
   "cell_type": "markdown",
   "id": "cf5dadb3",
   "metadata": {},
   "source": []
  },
  {
   "cell_type": "markdown",
   "id": "9649b08f",
   "metadata": {},
   "source": [
    "Health Care"
   ]
  },
  {
   "cell_type": "markdown",
   "id": "4056eea1",
   "metadata": {},
   "source": []
  },
  {
   "cell_type": "markdown",
   "id": "06d185c5",
   "metadata": {},
   "source": [
    "Health Care"
   ]
  },
  {
   "cell_type": "markdown",
   "id": "25b77a4e",
   "metadata": {},
   "source": [
    "Health Care"
   ]
  },
  {
   "cell_type": "markdown",
   "id": "2cece481",
   "metadata": {},
   "source": []
  },
  {
   "cell_type": "markdown",
   "id": "6b77e713",
   "metadata": {},
   "source": []
  },
  {
   "cell_type": "markdown",
   "id": "17923f4e",
   "metadata": {},
   "source": []
  },
  {
   "cell_type": "markdown",
   "id": "028fe332",
   "metadata": {},
   "source": [
    "Information Technology"
   ]
  },
  {
   "cell_type": "markdown",
   "id": "344d4e9e",
   "metadata": {},
   "source": []
  },
  {
   "cell_type": "markdown",
   "id": "5c7f96b9",
   "metadata": {},
   "source": [
    "Information Technology"
   ]
  },
  {
   "cell_type": "markdown",
   "id": "2c872097",
   "metadata": {},
   "source": [
    "Information Technology"
   ]
  },
  {
   "cell_type": "markdown",
   "id": "8bb79a27",
   "metadata": {},
   "source": []
  },
  {
   "cell_type": "markdown",
   "id": "651b639b",
   "metadata": {},
   "source": []
  },
  {
   "cell_type": "markdown",
   "id": "2f047bae",
   "metadata": {},
   "source": []
  },
  {
   "cell_type": "markdown",
   "id": "266cc175",
   "metadata": {},
   "source": [
    "Consumer Staples"
   ]
  },
  {
   "cell_type": "markdown",
   "id": "f8888bd1",
   "metadata": {},
   "source": []
  },
  {
   "cell_type": "markdown",
   "id": "f18fbfe9",
   "metadata": {},
   "source": [
    "Consumer Staples"
   ]
  },
  {
   "cell_type": "markdown",
   "id": "6a9ce75b",
   "metadata": {},
   "source": [
    "Consumer Staples"
   ]
  },
  {
   "cell_type": "markdown",
   "id": "7703dc8d",
   "metadata": {},
   "source": []
  },
  {
   "cell_type": "markdown",
   "id": "db48a13d",
   "metadata": {},
   "source": []
  },
  {
   "cell_type": "markdown",
   "id": "280da145",
   "metadata": {},
   "source": []
  },
  {
   "cell_type": "markdown",
   "id": "3e3539a2",
   "metadata": {},
   "source": [
    "Utilities"
   ]
  },
  {
   "cell_type": "markdown",
   "id": "804b138a",
   "metadata": {},
   "source": []
  },
  {
   "cell_type": "markdown",
   "id": "c800ccd4",
   "metadata": {},
   "source": [
    "Utilities"
   ]
  },
  {
   "cell_type": "markdown",
   "id": "263ccac4",
   "metadata": {},
   "source": [
    "Utilities"
   ]
  },
  {
   "cell_type": "markdown",
   "id": "0fe04438",
   "metadata": {},
   "source": []
  },
  {
   "cell_type": "markdown",
   "id": "e817ece9",
   "metadata": {},
   "source": []
  },
  {
   "cell_type": "markdown",
   "id": "1f8cdfeb",
   "metadata": {},
   "source": []
  },
  {
   "cell_type": "markdown",
   "id": "229889cb",
   "metadata": {},
   "source": [
    "Financials"
   ]
  },
  {
   "cell_type": "markdown",
   "id": "f59cd6ce",
   "metadata": {},
   "source": []
  },
  {
   "cell_type": "markdown",
   "id": "9ac19f73",
   "metadata": {},
   "source": [
    "Financials"
   ]
  },
  {
   "cell_type": "markdown",
   "id": "48513de4",
   "metadata": {},
   "source": [
    "Financials"
   ]
  },
  {
   "cell_type": "markdown",
   "id": "89918d08",
   "metadata": {},
   "source": []
  },
  {
   "cell_type": "markdown",
   "id": "850a3748",
   "metadata": {},
   "source": []
  },
  {
   "cell_type": "markdown",
   "id": "d7765bf7",
   "metadata": {},
   "source": []
  },
  {
   "cell_type": "markdown",
   "id": "fe788b8b",
   "metadata": {},
   "source": [
    "Real Estate"
   ]
  },
  {
   "cell_type": "markdown",
   "id": "18a3f4ef",
   "metadata": {},
   "source": []
  },
  {
   "cell_type": "markdown",
   "id": "eb31f7d3",
   "metadata": {},
   "source": [
    "Real Estate"
   ]
  },
  {
   "cell_type": "markdown",
   "id": "8d993b32",
   "metadata": {},
   "source": [
    "Real Estate"
   ]
  },
  {
   "cell_type": "markdown",
   "id": "36933cc4",
   "metadata": {},
   "source": []
  },
  {
   "cell_type": "markdown",
   "id": "51ba1f57",
   "metadata": {},
   "source": []
  },
  {
   "cell_type": "markdown",
   "id": "daded942",
   "metadata": {},
   "source": []
  },
  {
   "cell_type": "markdown",
   "id": "170e83c7",
   "metadata": {},
   "source": [
    "Materials"
   ]
  },
  {
   "cell_type": "markdown",
   "id": "d4909e1c",
   "metadata": {},
   "source": []
  },
  {
   "cell_type": "markdown",
   "id": "ad693f20",
   "metadata": {},
   "source": [
    "Materials"
   ]
  },
  {
   "cell_type": "markdown",
   "id": "a087b047",
   "metadata": {},
   "source": [
    "Materials"
   ]
  },
  {
   "cell_type": "markdown",
   "id": "d0fd286b",
   "metadata": {},
   "source": []
  },
  {
   "cell_type": "markdown",
   "id": "f0538af6",
   "metadata": {},
   "source": []
  },
  {
   "cell_type": "markdown",
   "id": "e95b4bf1",
   "metadata": {},
   "source": []
  },
  {
   "cell_type": "markdown",
   "id": "7edbd906",
   "metadata": {},
   "source": [
    "Consumer Discretionary"
   ]
  },
  {
   "cell_type": "markdown",
   "id": "07ffdf98",
   "metadata": {},
   "source": []
  },
  {
   "cell_type": "markdown",
   "id": "8e4e445c",
   "metadata": {},
   "source": [
    "Consumer Discretionary"
   ]
  },
  {
   "cell_type": "markdown",
   "id": "319fce89",
   "metadata": {},
   "source": [
    "Consumer Discretionary"
   ]
  },
  {
   "cell_type": "markdown",
   "id": "fcb75fc3",
   "metadata": {},
   "source": []
  },
  {
   "cell_type": "markdown",
   "id": "a5e8532e",
   "metadata": {},
   "source": []
  },
  {
   "cell_type": "markdown",
   "id": "8e40660f",
   "metadata": {},
   "source": []
  },
  {
   "cell_type": "markdown",
   "id": "ec1476e2",
   "metadata": {},
   "source": [
    "Energy"
   ]
  },
  {
   "cell_type": "markdown",
   "id": "76cdcdf0",
   "metadata": {},
   "source": []
  },
  {
   "cell_type": "markdown",
   "id": "86cc41b9",
   "metadata": {},
   "source": [
    "Energy"
   ]
  },
  {
   "cell_type": "markdown",
   "id": "793eb902",
   "metadata": {},
   "source": [
    "Energy"
   ]
  },
  {
   "cell_type": "markdown",
   "id": "6ab73168",
   "metadata": {},
   "source": []
  },
  {
   "cell_type": "markdown",
   "id": "86e5422d",
   "metadata": {},
   "source": []
  },
  {
   "cell_type": "markdown",
   "id": "f70d792d",
   "metadata": {},
   "source": []
  },
  {
   "cell_type": "markdown",
   "id": "bb7fc80c",
   "metadata": {},
   "source": [
    "Telecommunications Services"
   ]
  },
  {
   "cell_type": "markdown",
   "id": "4d060464",
   "metadata": {},
   "source": []
  },
  {
   "cell_type": "markdown",
   "id": "aae53d69",
   "metadata": {},
   "source": [
    "Telecommunications Services"
   ]
  },
  {
   "cell_type": "markdown",
   "id": "10dcd768",
   "metadata": {},
   "source": [
    "Telecommunications Services"
   ]
  },
  {
   "cell_type": "markdown",
   "id": "cb50f3c7",
   "metadata": {},
   "source": []
  },
  {
   "cell_type": "markdown",
   "id": "7cde85cd",
   "metadata": {},
   "source": []
  },
  {
   "cell_type": "markdown",
   "id": "b356407a",
   "metadata": {},
   "source": []
  },
  {
   "cell_type": "markdown",
   "id": "8fe6cb03",
   "metadata": {},
   "source": [
    "Bivariate Analysis¶"
   ]
  },
  {
   "cell_type": "markdown",
   "id": "185035c7",
   "metadata": {},
   "source": [
    "Bivariate Analysis¶"
   ]
  },
  {
   "cell_type": "markdown",
   "id": "484a9416",
   "metadata": {},
   "source": []
  },
  {
   "cell_type": "markdown",
   "id": "d39dd626",
   "metadata": {},
   "source": [
    "Bivariate Analysis¶"
   ]
  },
  {
   "cell_type": "markdown",
   "id": "1c348523",
   "metadata": {},
   "source": []
  },
  {
   "cell_type": "markdown",
   "id": "b0e40e6c",
   "metadata": {},
   "source": [
    "Bivariate Analysis¶"
   ]
  },
  {
   "cell_type": "markdown",
   "id": "4fa27e88",
   "metadata": {},
   "source": [
    "In [26]:\n",
    "\n",
    "\n",
    "# correlation check\n",
    "plt.figure(figsize=(15, 7))\n",
    "sns.heatmap(\n",
    "    df.corr(), annot=True, vmin=-1, vmax=1, fmt=\".2f\", cmap=\"Spectral\"\n",
    ")\n",
    "plt.show()"
   ]
  },
  {
   "cell_type": "markdown",
   "id": "f1b56cf8",
   "metadata": {},
   "source": [
    "In [26]:\n",
    "\n",
    "\n",
    "# correlation check\n",
    "plt.figure(figsize=(15, 7))\n",
    "sns.heatmap(\n",
    "    df.corr(), annot=True, vmin=-1, vmax=1, fmt=\".2f\", cmap=\"Spectral\"\n",
    ")\n",
    "plt.show()"
   ]
  },
  {
   "cell_type": "markdown",
   "id": "a962511d",
   "metadata": {},
   "source": []
  },
  {
   "cell_type": "markdown",
   "id": "aa65c3dd",
   "metadata": {},
   "source": [
    "In [26]:\n",
    "\n",
    "\n",
    "# correlation check\n",
    "plt.figure(figsize=(15, 7))\n",
    "sns.heatmap(\n",
    "    df.corr(), annot=True, vmin=-1, vmax=1, fmt=\".2f\", cmap=\"Spectral\"\n",
    ")\n",
    "plt.show()"
   ]
  },
  {
   "cell_type": "markdown",
   "id": "21c0ed70",
   "metadata": {},
   "source": [
    "In [26]:"
   ]
  },
  {
   "cell_type": "markdown",
   "id": "ad29657a",
   "metadata": {},
   "source": [
    "# correlation check\n",
    "plt.figure(figsize=(15, 7))\n",
    "sns.heatmap(\n",
    "    df.corr(), annot=True, vmin=-1, vmax=1, fmt=\".2f\", cmap=\"Spectral\"\n",
    ")\n",
    "plt.show()"
   ]
  },
  {
   "cell_type": "markdown",
   "id": "da6f7e2b",
   "metadata": {},
   "source": [
    "# correlation check\n",
    "plt.figure(figsize=(15, 7))\n",
    "sns.heatmap(\n",
    "    df.corr(), annot=True, vmin=-1, vmax=1, fmt=\".2f\", cmap=\"Spectral\"\n",
    ")\n",
    "plt.show()"
   ]
  },
  {
   "cell_type": "markdown",
   "id": "bf828b48",
   "metadata": {},
   "source": [
    "# correlation check\n",
    "plt.figure(figsize=(15, 7))\n",
    "sns.heatmap(\n",
    "    df.corr(), annot=True, vmin=-1, vmax=1, fmt=\".2f\", cmap=\"Spectral\"\n",
    ")\n",
    "plt.show()"
   ]
  },
  {
   "cell_type": "markdown",
   "id": "6bb99334",
   "metadata": {},
   "source": [
    "# correlation check\n",
    "plt.figure(figsize=(15, 7))\n",
    "sns.heatmap(\n",
    "    df.corr(), annot=True, vmin=-1, vmax=1, fmt=\".2f\", cmap=\"Spectral\"\n",
    ")\n",
    "plt.show()"
   ]
  },
  {
   "cell_type": "markdown",
   "id": "c030fee0",
   "metadata": {},
   "source": []
  },
  {
   "cell_type": "markdown",
   "id": "0e26bf07",
   "metadata": {},
   "source": []
  },
  {
   "cell_type": "markdown",
   "id": "4717ec92",
   "metadata": {},
   "source": []
  },
  {
   "cell_type": "markdown",
   "id": "c729e152",
   "metadata": {},
   "source": []
  },
  {
   "cell_type": "markdown",
   "id": "37d1fb0f",
   "metadata": {},
   "source": []
  },
  {
   "cell_type": "markdown",
   "id": "e1d28825",
   "metadata": {},
   "source": []
  },
  {
   "cell_type": "markdown",
   "id": "bba352a2",
   "metadata": {},
   "source": [
    "Observations:\n",
    "\n",
    "As expected, the net income is positively correlated with earnings per share and estimated share outstanding\n",
    "The earnings per share on the other hand is negatively correlated with volatility and ROE but positively correlated with current stock price as expected"
   ]
  },
  {
   "cell_type": "markdown",
   "id": "d35cc99f",
   "metadata": {},
   "source": [
    "Observations:\n",
    "\n",
    "As expected, the net income is positively correlated with earnings per share and estimated share outstanding\n",
    "The earnings per share on the other hand is negatively correlated with volatility and ROE but positively correlated with current stock price as expected"
   ]
  },
  {
   "cell_type": "markdown",
   "id": "4a198ac5",
   "metadata": {},
   "source": []
  },
  {
   "cell_type": "markdown",
   "id": "eefa69e0",
   "metadata": {},
   "source": [
    "Observations:\n",
    "\n",
    "As expected, the net income is positively correlated with earnings per share and estimated share outstanding\n",
    "The earnings per share on the other hand is negatively correlated with volatility and ROE but positively correlated with current stock price as expected"
   ]
  },
  {
   "cell_type": "markdown",
   "id": "745acd2e",
   "metadata": {},
   "source": []
  },
  {
   "cell_type": "markdown",
   "id": "5c158fa3",
   "metadata": {},
   "source": [
    "Observations:\n",
    "\n",
    "As expected, the net income is positively correlated with earnings per share and estimated share outstanding\n",
    "The earnings per share on the other hand is negatively correlated with volatility and ROE but positively correlated with current stock price as expected"
   ]
  },
  {
   "cell_type": "markdown",
   "id": "32026e66",
   "metadata": {},
   "source": [
    "Let's check the stocks of which economic sector have seen the maximum price increase on average."
   ]
  },
  {
   "cell_type": "markdown",
   "id": "f789c1ae",
   "metadata": {},
   "source": [
    "Let's check the stocks of which economic sector have seen the maximum price increase on average."
   ]
  },
  {
   "cell_type": "markdown",
   "id": "7be3e52d",
   "metadata": {},
   "source": []
  },
  {
   "cell_type": "markdown",
   "id": "2d0cff22",
   "metadata": {},
   "source": [
    "Let's check the stocks of which economic sector have seen the maximum price increase on average."
   ]
  },
  {
   "cell_type": "markdown",
   "id": "f82e124b",
   "metadata": {},
   "source": []
  },
  {
   "cell_type": "markdown",
   "id": "eceaaaf2",
   "metadata": {},
   "source": [
    "Let's check the stocks of which economic sector have seen the maximum price increase on average."
   ]
  },
  {
   "cell_type": "markdown",
   "id": "763fabdc",
   "metadata": {},
   "source": [
    "In [27]:\n",
    "\n",
    "\n",
    "plt.figure(figsize=(15,8))\n",
    "sns.barplot(data=df, x='GICS Sector', y='Price Change', ci=False)  \n",
    "plt.xticks(rotation=90)\n",
    "plt.show()"
   ]
  },
  {
   "cell_type": "markdown",
   "id": "cb2be68c",
   "metadata": {},
   "source": [
    "In [27]:\n",
    "\n",
    "\n",
    "plt.figure(figsize=(15,8))\n",
    "sns.barplot(data=df, x='GICS Sector', y='Price Change', ci=False)  \n",
    "plt.xticks(rotation=90)\n",
    "plt.show()"
   ]
  },
  {
   "cell_type": "markdown",
   "id": "0ab5f13a",
   "metadata": {},
   "source": []
  },
  {
   "cell_type": "markdown",
   "id": "746227f4",
   "metadata": {},
   "source": [
    "In [27]:\n",
    "\n",
    "\n",
    "plt.figure(figsize=(15,8))\n",
    "sns.barplot(data=df, x='GICS Sector', y='Price Change', ci=False)  \n",
    "plt.xticks(rotation=90)\n",
    "plt.show()"
   ]
  },
  {
   "cell_type": "markdown",
   "id": "67f1dbed",
   "metadata": {},
   "source": [
    "In [27]:"
   ]
  },
  {
   "cell_type": "markdown",
   "id": "473365ea",
   "metadata": {},
   "source": [
    "plt.figure(figsize=(15,8))\n",
    "sns.barplot(data=df, x='GICS Sector', y='Price Change', ci=False)  \n",
    "plt.xticks(rotation=90)\n",
    "plt.show()"
   ]
  },
  {
   "cell_type": "markdown",
   "id": "da0bcc51",
   "metadata": {},
   "source": [
    "plt.figure(figsize=(15,8))\n",
    "sns.barplot(data=df, x='GICS Sector', y='Price Change', ci=False)  \n",
    "plt.xticks(rotation=90)\n",
    "plt.show()"
   ]
  },
  {
   "cell_type": "markdown",
   "id": "478e25e8",
   "metadata": {},
   "source": [
    "plt.figure(figsize=(15,8))\n",
    "sns.barplot(data=df, x='GICS Sector', y='Price Change', ci=False)  \n",
    "plt.xticks(rotation=90)\n",
    "plt.show()"
   ]
  },
  {
   "cell_type": "markdown",
   "id": "faed507c",
   "metadata": {},
   "source": [
    "plt.figure(figsize=(15,8))\n",
    "sns.barplot(data=df, x='GICS Sector', y='Price Change', ci=False)  \n",
    "plt.xticks(rotation=90)\n",
    "plt.show()"
   ]
  },
  {
   "cell_type": "markdown",
   "id": "322ea070",
   "metadata": {},
   "source": []
  },
  {
   "cell_type": "markdown",
   "id": "01e58375",
   "metadata": {},
   "source": []
  },
  {
   "cell_type": "markdown",
   "id": "25ec25a9",
   "metadata": {},
   "source": []
  },
  {
   "cell_type": "markdown",
   "id": "371dfaf2",
   "metadata": {},
   "source": []
  },
  {
   "cell_type": "markdown",
   "id": "d97da829",
   "metadata": {},
   "source": []
  },
  {
   "cell_type": "markdown",
   "id": "03fbb7ba",
   "metadata": {},
   "source": []
  },
  {
   "cell_type": "markdown",
   "id": "2b12692b",
   "metadata": {},
   "source": [
    "Cash ratio provides a measure of a company's ability to cover its short-term obligations using only cash and cash equivalents. Let's see how the average cash ratio varies across economic sectors."
   ]
  },
  {
   "cell_type": "markdown",
   "id": "bc89097c",
   "metadata": {},
   "source": [
    "Cash ratio provides a measure of a company's ability to cover its short-term obligations using only cash and cash equivalents. Let's see how the average cash ratio varies across economic sectors."
   ]
  },
  {
   "cell_type": "markdown",
   "id": "7cafa010",
   "metadata": {},
   "source": []
  },
  {
   "cell_type": "markdown",
   "id": "2fd4301b",
   "metadata": {},
   "source": [
    "Cash ratio provides a measure of a company's ability to cover its short-term obligations using only cash and cash equivalents. Let's see how the average cash ratio varies across economic sectors."
   ]
  },
  {
   "cell_type": "markdown",
   "id": "9bd50f50",
   "metadata": {},
   "source": []
  },
  {
   "cell_type": "markdown",
   "id": "5394549f",
   "metadata": {},
   "source": [
    "Cash ratio provides a measure of a company's ability to cover its short-term obligations using only cash and cash equivalents. Let's see how the average cash ratio varies across economic sectors."
   ]
  },
  {
   "cell_type": "markdown",
   "id": "ea497a3c",
   "metadata": {},
   "source": [
    "In [28]:\n",
    "\n",
    "\n",
    "plt.figure(figsize=(15,8))\n",
    "sns.barplot(data=df, x='GICS Sector', y='Cash Ratio', ci=False)  \n",
    "plt.xticks(rotation=90)\n",
    "plt.show()"
   ]
  },
  {
   "cell_type": "markdown",
   "id": "7dff8d5a",
   "metadata": {},
   "source": [
    "In [28]:\n",
    "\n",
    "\n",
    "plt.figure(figsize=(15,8))\n",
    "sns.barplot(data=df, x='GICS Sector', y='Cash Ratio', ci=False)  \n",
    "plt.xticks(rotation=90)\n",
    "plt.show()"
   ]
  },
  {
   "cell_type": "markdown",
   "id": "5d962a7d",
   "metadata": {},
   "source": []
  },
  {
   "cell_type": "markdown",
   "id": "7761aea2",
   "metadata": {},
   "source": [
    "In [28]:\n",
    "\n",
    "\n",
    "plt.figure(figsize=(15,8))\n",
    "sns.barplot(data=df, x='GICS Sector', y='Cash Ratio', ci=False)  \n",
    "plt.xticks(rotation=90)\n",
    "plt.show()"
   ]
  },
  {
   "cell_type": "markdown",
   "id": "51c4a10f",
   "metadata": {},
   "source": [
    "In [28]:"
   ]
  },
  {
   "cell_type": "markdown",
   "id": "2ae40c0a",
   "metadata": {},
   "source": [
    "plt.figure(figsize=(15,8))\n",
    "sns.barplot(data=df, x='GICS Sector', y='Cash Ratio', ci=False)  \n",
    "plt.xticks(rotation=90)\n",
    "plt.show()"
   ]
  },
  {
   "cell_type": "markdown",
   "id": "b0025449",
   "metadata": {},
   "source": [
    "plt.figure(figsize=(15,8))\n",
    "sns.barplot(data=df, x='GICS Sector', y='Cash Ratio', ci=False)  \n",
    "plt.xticks(rotation=90)\n",
    "plt.show()"
   ]
  },
  {
   "cell_type": "markdown",
   "id": "eb388420",
   "metadata": {},
   "source": [
    "plt.figure(figsize=(15,8))\n",
    "sns.barplot(data=df, x='GICS Sector', y='Cash Ratio', ci=False)  \n",
    "plt.xticks(rotation=90)\n",
    "plt.show()"
   ]
  },
  {
   "cell_type": "markdown",
   "id": "be2ccc1e",
   "metadata": {},
   "source": [
    "plt.figure(figsize=(15,8))\n",
    "sns.barplot(data=df, x='GICS Sector', y='Cash Ratio', ci=False)  \n",
    "plt.xticks(rotation=90)\n",
    "plt.show()"
   ]
  },
  {
   "cell_type": "markdown",
   "id": "39f428a0",
   "metadata": {},
   "source": []
  },
  {
   "cell_type": "markdown",
   "id": "1309ba15",
   "metadata": {},
   "source": []
  },
  {
   "cell_type": "markdown",
   "id": "0b6c898b",
   "metadata": {},
   "source": []
  },
  {
   "cell_type": "markdown",
   "id": "c739fd0b",
   "metadata": {},
   "source": []
  },
  {
   "cell_type": "markdown",
   "id": "85019b46",
   "metadata": {},
   "source": []
  },
  {
   "cell_type": "markdown",
   "id": "818cd7b1",
   "metadata": {},
   "source": []
  },
  {
   "cell_type": "markdown",
   "id": "3a4b42cf",
   "metadata": {},
   "source": [
    "P/E ratios can help determine the relative value of a company's shares as they signify the amount of money an investor is willing to invest in a single share of a company per dollar of its earnings. Let's see how the P/E ratio varies, on average, across economic sectors."
   ]
  },
  {
   "cell_type": "markdown",
   "id": "ee6b13f6",
   "metadata": {},
   "source": [
    "P/E ratios can help determine the relative value of a company's shares as they signify the amount of money an investor is willing to invest in a single share of a company per dollar of its earnings. Let's see how the P/E ratio varies, on average, across economic sectors."
   ]
  },
  {
   "cell_type": "markdown",
   "id": "4f1f1fb7",
   "metadata": {},
   "source": []
  },
  {
   "cell_type": "markdown",
   "id": "767b2b7b",
   "metadata": {},
   "source": [
    "P/E ratios can help determine the relative value of a company's shares as they signify the amount of money an investor is willing to invest in a single share of a company per dollar of its earnings. Let's see how the P/E ratio varies, on average, across economic sectors."
   ]
  },
  {
   "cell_type": "markdown",
   "id": "675df61d",
   "metadata": {},
   "source": []
  },
  {
   "cell_type": "markdown",
   "id": "300fb5f0",
   "metadata": {},
   "source": [
    "P/E ratios can help determine the relative value of a company's shares as they signify the amount of money an investor is willing to invest in a single share of a company per dollar of its earnings. Let's see how the P/E ratio varies, on average, across economic sectors."
   ]
  },
  {
   "cell_type": "markdown",
   "id": "2b067f7e",
   "metadata": {},
   "source": [
    "In [29]:\n",
    "\n",
    "\n",
    "plt.figure(figsize=(15,8))\n",
    "sns.barplot(data=df, x='GICS Sector', y='P/E Ratio', ci=False)  \n",
    "plt.xticks(rotation=90)\n",
    "plt.show()"
   ]
  },
  {
   "cell_type": "markdown",
   "id": "38cf4d6d",
   "metadata": {},
   "source": [
    "In [29]:\n",
    "\n",
    "\n",
    "plt.figure(figsize=(15,8))\n",
    "sns.barplot(data=df, x='GICS Sector', y='P/E Ratio', ci=False)  \n",
    "plt.xticks(rotation=90)\n",
    "plt.show()"
   ]
  },
  {
   "cell_type": "markdown",
   "id": "208ce8f4",
   "metadata": {},
   "source": []
  },
  {
   "cell_type": "markdown",
   "id": "5fee19ff",
   "metadata": {},
   "source": [
    "In [29]:\n",
    "\n",
    "\n",
    "plt.figure(figsize=(15,8))\n",
    "sns.barplot(data=df, x='GICS Sector', y='P/E Ratio', ci=False)  \n",
    "plt.xticks(rotation=90)\n",
    "plt.show()"
   ]
  },
  {
   "cell_type": "markdown",
   "id": "0544222d",
   "metadata": {},
   "source": [
    "In [29]:"
   ]
  },
  {
   "cell_type": "markdown",
   "id": "38429c6a",
   "metadata": {},
   "source": [
    "plt.figure(figsize=(15,8))\n",
    "sns.barplot(data=df, x='GICS Sector', y='P/E Ratio', ci=False)  \n",
    "plt.xticks(rotation=90)\n",
    "plt.show()"
   ]
  },
  {
   "cell_type": "markdown",
   "id": "578c34c1",
   "metadata": {},
   "source": [
    "plt.figure(figsize=(15,8))\n",
    "sns.barplot(data=df, x='GICS Sector', y='P/E Ratio', ci=False)  \n",
    "plt.xticks(rotation=90)\n",
    "plt.show()"
   ]
  },
  {
   "cell_type": "markdown",
   "id": "4b7849d7",
   "metadata": {},
   "source": [
    "plt.figure(figsize=(15,8))\n",
    "sns.barplot(data=df, x='GICS Sector', y='P/E Ratio', ci=False)  \n",
    "plt.xticks(rotation=90)\n",
    "plt.show()"
   ]
  },
  {
   "cell_type": "markdown",
   "id": "b5eb3085",
   "metadata": {},
   "source": [
    "plt.figure(figsize=(15,8))\n",
    "sns.barplot(data=df, x='GICS Sector', y='P/E Ratio', ci=False)  \n",
    "plt.xticks(rotation=90)\n",
    "plt.show()"
   ]
  },
  {
   "cell_type": "markdown",
   "id": "702048ce",
   "metadata": {},
   "source": []
  },
  {
   "cell_type": "markdown",
   "id": "d8d6d091",
   "metadata": {},
   "source": []
  },
  {
   "cell_type": "markdown",
   "id": "fbfd2b74",
   "metadata": {},
   "source": []
  },
  {
   "cell_type": "markdown",
   "id": "1ca03929",
   "metadata": {},
   "source": []
  },
  {
   "cell_type": "markdown",
   "id": "80f14a7d",
   "metadata": {},
   "source": []
  },
  {
   "cell_type": "markdown",
   "id": "fce83340",
   "metadata": {},
   "source": []
  },
  {
   "cell_type": "markdown",
   "id": "5d3ce8de",
   "metadata": {},
   "source": [
    "Volatility accounts for the fluctuation in the stock price. A stock with high volatility will witness sharper price changes, making it a riskier investment. Let's see how volatility varies, on average, across economic sectors."
   ]
  },
  {
   "cell_type": "markdown",
   "id": "f2ce45e7",
   "metadata": {},
   "source": [
    "Volatility accounts for the fluctuation in the stock price. A stock with high volatility will witness sharper price changes, making it a riskier investment. Let's see how volatility varies, on average, across economic sectors."
   ]
  },
  {
   "cell_type": "markdown",
   "id": "5b4bdb8d",
   "metadata": {},
   "source": []
  },
  {
   "cell_type": "markdown",
   "id": "f4ac1860",
   "metadata": {},
   "source": [
    "Volatility accounts for the fluctuation in the stock price. A stock with high volatility will witness sharper price changes, making it a riskier investment. Let's see how volatility varies, on average, across economic sectors."
   ]
  },
  {
   "cell_type": "markdown",
   "id": "4e942ef3",
   "metadata": {},
   "source": []
  },
  {
   "cell_type": "markdown",
   "id": "932b14f9",
   "metadata": {},
   "source": [
    "Volatility accounts for the fluctuation in the stock price. A stock with high volatility will witness sharper price changes, making it a riskier investment. Let's see how volatility varies, on average, across economic sectors."
   ]
  },
  {
   "cell_type": "markdown",
   "id": "c66b317b",
   "metadata": {},
   "source": [
    "In [30]:\n",
    "\n",
    "\n",
    "plt.figure(figsize=(15,8))\n",
    "sns.barplot(data=df, x='GICS Sector', y='Volatility', ci=False)  \n",
    "plt.xticks(rotation=90)\n",
    "plt.show()"
   ]
  },
  {
   "cell_type": "markdown",
   "id": "2e47e44c",
   "metadata": {},
   "source": [
    "In [30]:\n",
    "\n",
    "\n",
    "plt.figure(figsize=(15,8))\n",
    "sns.barplot(data=df, x='GICS Sector', y='Volatility', ci=False)  \n",
    "plt.xticks(rotation=90)\n",
    "plt.show()"
   ]
  },
  {
   "cell_type": "markdown",
   "id": "0b317008",
   "metadata": {},
   "source": []
  },
  {
   "cell_type": "markdown",
   "id": "5866da81",
   "metadata": {},
   "source": [
    "In [30]:\n",
    "\n",
    "\n",
    "plt.figure(figsize=(15,8))\n",
    "sns.barplot(data=df, x='GICS Sector', y='Volatility', ci=False)  \n",
    "plt.xticks(rotation=90)\n",
    "plt.show()"
   ]
  },
  {
   "cell_type": "markdown",
   "id": "b8a4c8da",
   "metadata": {},
   "source": [
    "In [30]:"
   ]
  },
  {
   "cell_type": "markdown",
   "id": "c9c8118e",
   "metadata": {},
   "source": [
    "plt.figure(figsize=(15,8))\n",
    "sns.barplot(data=df, x='GICS Sector', y='Volatility', ci=False)  \n",
    "plt.xticks(rotation=90)\n",
    "plt.show()"
   ]
  },
  {
   "cell_type": "markdown",
   "id": "ecef1c10",
   "metadata": {},
   "source": [
    "plt.figure(figsize=(15,8))\n",
    "sns.barplot(data=df, x='GICS Sector', y='Volatility', ci=False)  \n",
    "plt.xticks(rotation=90)\n",
    "plt.show()"
   ]
  },
  {
   "cell_type": "markdown",
   "id": "d9c73367",
   "metadata": {},
   "source": [
    "plt.figure(figsize=(15,8))\n",
    "sns.barplot(data=df, x='GICS Sector', y='Volatility', ci=False)  \n",
    "plt.xticks(rotation=90)\n",
    "plt.show()"
   ]
  },
  {
   "cell_type": "markdown",
   "id": "2f2859e7",
   "metadata": {},
   "source": [
    "plt.figure(figsize=(15,8))\n",
    "sns.barplot(data=df, x='GICS Sector', y='Volatility', ci=False)  \n",
    "plt.xticks(rotation=90)\n",
    "plt.show()"
   ]
  },
  {
   "cell_type": "markdown",
   "id": "3e7f5aff",
   "metadata": {},
   "source": []
  },
  {
   "cell_type": "markdown",
   "id": "5e3d91f2",
   "metadata": {},
   "source": []
  },
  {
   "cell_type": "markdown",
   "id": "da72c1d5",
   "metadata": {},
   "source": []
  },
  {
   "cell_type": "markdown",
   "id": "0691c9b4",
   "metadata": {},
   "source": []
  },
  {
   "cell_type": "markdown",
   "id": "a419e2cb",
   "metadata": {},
   "source": []
  },
  {
   "cell_type": "markdown",
   "id": "1b7d1b3d",
   "metadata": {},
   "source": []
  },
  {
   "cell_type": "markdown",
   "id": "10d4ef74",
   "metadata": {},
   "source": [
    "Obervations:\n",
    "\n",
    "The healthcare sector is the economic sector with stocks that have the maximum price increase on average\n",
    "The information technology sector has the highest cash ratio on average followed by telecommunication services, healthcare and financials\n",
    "The energy sector has an significantly high P/E ratios on average\n",
    "The volatility is pretty much same across all sectors except for the energy sector which also has asignificantly high volatility on average"
   ]
  },
  {
   "cell_type": "markdown",
   "id": "94a721da",
   "metadata": {},
   "source": [
    "Obervations:\n",
    "\n",
    "The healthcare sector is the economic sector with stocks that have the maximum price increase on average\n",
    "The information technology sector has the highest cash ratio on average followed by telecommunication services, healthcare and financials\n",
    "The energy sector has an significantly high P/E ratios on average\n",
    "The volatility is pretty much same across all sectors except for the energy sector which also has asignificantly high volatility on average"
   ]
  },
  {
   "cell_type": "markdown",
   "id": "ff88e19a",
   "metadata": {},
   "source": []
  },
  {
   "cell_type": "markdown",
   "id": "81f7e9e9",
   "metadata": {},
   "source": [
    "Obervations:\n",
    "\n",
    "The healthcare sector is the economic sector with stocks that have the maximum price increase on average\n",
    "The information technology sector has the highest cash ratio on average followed by telecommunication services, healthcare and financials\n",
    "The energy sector has an significantly high P/E ratios on average\n",
    "The volatility is pretty much same across all sectors except for the energy sector which also has asignificantly high volatility on average"
   ]
  },
  {
   "cell_type": "markdown",
   "id": "9190926b",
   "metadata": {},
   "source": []
  },
  {
   "cell_type": "markdown",
   "id": "ea6816eb",
   "metadata": {},
   "source": [
    "Obervations:\n",
    "\n",
    "The healthcare sector is the economic sector with stocks that have the maximum price increase on average\n",
    "The information technology sector has the highest cash ratio on average followed by telecommunication services, healthcare and financials\n",
    "The energy sector has an significantly high P/E ratios on average\n",
    "The volatility is pretty much same across all sectors except for the energy sector which also has asignificantly high volatility on average"
   ]
  },
  {
   "cell_type": "markdown",
   "id": "3628cb98",
   "metadata": {},
   "source": [
    "Data Preprocessing¶\n",
    "Duplicate value check\n",
    "Missing value treatment\n",
    "Outlier check\n",
    "Feature engineering (if needed)\n",
    "Any other preprocessing steps (if needed)"
   ]
  },
  {
   "cell_type": "markdown",
   "id": "bba2b9d3",
   "metadata": {},
   "source": [
    "Data Preprocessing¶\n",
    "Duplicate value check\n",
    "Missing value treatment\n",
    "Outlier check\n",
    "Feature engineering (if needed)\n",
    "Any other preprocessing steps (if needed)"
   ]
  },
  {
   "cell_type": "markdown",
   "id": "d3de76b2",
   "metadata": {},
   "source": []
  },
  {
   "cell_type": "markdown",
   "id": "4a1b27e2",
   "metadata": {},
   "source": [
    "Data Preprocessing¶\n",
    "Duplicate value check\n",
    "Missing value treatment\n",
    "Outlier check\n",
    "Feature engineering (if needed)\n",
    "Any other preprocessing steps (if needed)"
   ]
  },
  {
   "cell_type": "markdown",
   "id": "ade65472",
   "metadata": {},
   "source": []
  },
  {
   "cell_type": "markdown",
   "id": "7dc9428a",
   "metadata": {},
   "source": [
    "Data Preprocessing¶\n",
    "Duplicate value check\n",
    "Missing value treatment\n",
    "Outlier check\n",
    "Feature engineering (if needed)\n",
    "Any other preprocessing steps (if needed)"
   ]
  },
  {
   "cell_type": "markdown",
   "id": "1f4f6d8a",
   "metadata": {},
   "source": [
    "Outlier Check¶\n",
    "Let's plot the boxplots of all numerical columns to check for outliers."
   ]
  },
  {
   "cell_type": "markdown",
   "id": "d5f44f19",
   "metadata": {},
   "source": [
    "Outlier Check¶\n",
    "Let's plot the boxplots of all numerical columns to check for outliers."
   ]
  },
  {
   "cell_type": "markdown",
   "id": "4ba46c5e",
   "metadata": {},
   "source": []
  },
  {
   "cell_type": "markdown",
   "id": "8d312770",
   "metadata": {},
   "source": [
    "Outlier Check¶\n",
    "Let's plot the boxplots of all numerical columns to check for outliers."
   ]
  },
  {
   "cell_type": "markdown",
   "id": "413cae57",
   "metadata": {},
   "source": []
  },
  {
   "cell_type": "markdown",
   "id": "758c51de",
   "metadata": {},
   "source": [
    "Outlier Check¶\n",
    "Let's plot the boxplots of all numerical columns to check for outliers."
   ]
  },
  {
   "cell_type": "markdown",
   "id": "b25757b0",
   "metadata": {},
   "source": [
    "In [31]:\n",
    "\n",
    "\n",
    "plt.figure(figsize=(15, 12))\n",
    "\n",
    "numeric_columns = df.select_dtypes(include=np.number).columns.tolist()\n",
    "\n",
    "for i, variable in enumerate(numeric_columns):\n",
    "    plt.subplot(3, 4, i + 1)\n",
    "    plt.boxplot(df[variable], whis=1.5)\n",
    "    plt.tight_layout()\n",
    "    plt.title(variable)\n",
    "\n",
    "plt.show()"
   ]
  },
  {
   "cell_type": "markdown",
   "id": "fa8589b5",
   "metadata": {},
   "source": [
    "In [31]:\n",
    "\n",
    "\n",
    "plt.figure(figsize=(15, 12))\n",
    "\n",
    "numeric_columns = df.select_dtypes(include=np.number).columns.tolist()\n",
    "\n",
    "for i, variable in enumerate(numeric_columns):\n",
    "    plt.subplot(3, 4, i + 1)\n",
    "    plt.boxplot(df[variable], whis=1.5)\n",
    "    plt.tight_layout()\n",
    "    plt.title(variable)\n",
    "\n",
    "plt.show()"
   ]
  },
  {
   "cell_type": "markdown",
   "id": "de510baf",
   "metadata": {},
   "source": []
  },
  {
   "cell_type": "markdown",
   "id": "adc2c0e6",
   "metadata": {},
   "source": [
    "In [31]:\n",
    "\n",
    "\n",
    "plt.figure(figsize=(15, 12))\n",
    "\n",
    "numeric_columns = df.select_dtypes(include=np.number).columns.tolist()\n",
    "\n",
    "for i, variable in enumerate(numeric_columns):\n",
    "    plt.subplot(3, 4, i + 1)\n",
    "    plt.boxplot(df[variable], whis=1.5)\n",
    "    plt.tight_layout()\n",
    "    plt.title(variable)\n",
    "\n",
    "plt.show()"
   ]
  },
  {
   "cell_type": "markdown",
   "id": "b4e43eb4",
   "metadata": {},
   "source": [
    "In [31]:"
   ]
  },
  {
   "cell_type": "markdown",
   "id": "8e0935ee",
   "metadata": {},
   "source": [
    "plt.figure(figsize=(15, 12))\n",
    "\n",
    "numeric_columns = df.select_dtypes(include=np.number).columns.tolist()\n",
    "\n",
    "for i, variable in enumerate(numeric_columns):\n",
    "    plt.subplot(3, 4, i + 1)\n",
    "    plt.boxplot(df[variable], whis=1.5)\n",
    "    plt.tight_layout()\n",
    "    plt.title(variable)\n",
    "\n",
    "plt.show()"
   ]
  },
  {
   "cell_type": "markdown",
   "id": "a66d32ba",
   "metadata": {},
   "source": [
    "plt.figure(figsize=(15, 12))\n",
    "\n",
    "numeric_columns = df.select_dtypes(include=np.number).columns.tolist()\n",
    "\n",
    "for i, variable in enumerate(numeric_columns):\n",
    "    plt.subplot(3, 4, i + 1)\n",
    "    plt.boxplot(df[variable], whis=1.5)\n",
    "    plt.tight_layout()\n",
    "    plt.title(variable)\n",
    "\n",
    "plt.show()"
   ]
  },
  {
   "cell_type": "markdown",
   "id": "b7b33ee9",
   "metadata": {},
   "source": [
    "plt.figure(figsize=(15, 12))\n",
    "\n",
    "numeric_columns = df.select_dtypes(include=np.number).columns.tolist()\n",
    "\n",
    "for i, variable in enumerate(numeric_columns):\n",
    "    plt.subplot(3, 4, i + 1)\n",
    "    plt.boxplot(df[variable], whis=1.5)\n",
    "    plt.tight_layout()\n",
    "    plt.title(variable)\n",
    "\n",
    "plt.show()"
   ]
  },
  {
   "cell_type": "markdown",
   "id": "69a997f8",
   "metadata": {},
   "source": [
    "plt.figure(figsize=(15, 12))\n",
    "\n",
    "numeric_columns = df.select_dtypes(include=np.number).columns.tolist()\n",
    "\n",
    "for i, variable in enumerate(numeric_columns):\n",
    "    plt.subplot(3, 4, i + 1)\n",
    "    plt.boxplot(df[variable], whis=1.5)\n",
    "    plt.tight_layout()\n",
    "    plt.title(variable)\n",
    "\n",
    "plt.show()"
   ]
  },
  {
   "cell_type": "markdown",
   "id": "1bfb83eb",
   "metadata": {},
   "source": []
  },
  {
   "cell_type": "markdown",
   "id": "0c278c90",
   "metadata": {},
   "source": []
  },
  {
   "cell_type": "markdown",
   "id": "36e52efe",
   "metadata": {},
   "source": []
  },
  {
   "cell_type": "markdown",
   "id": "6b4d8d4f",
   "metadata": {},
   "source": []
  },
  {
   "cell_type": "markdown",
   "id": "3a355786",
   "metadata": {},
   "source": []
  },
  {
   "cell_type": "markdown",
   "id": "9396614f",
   "metadata": {},
   "source": []
  },
  {
   "cell_type": "markdown",
   "id": "48cec5e3",
   "metadata": {},
   "source": [
    "There are some outliers in the dataset but will not be treated as this is reasonable and expected in this kind of dataset"
   ]
  },
  {
   "cell_type": "markdown",
   "id": "676ed7ef",
   "metadata": {},
   "source": [
    "There are some outliers in the dataset but will not be treated as this is reasonable and expected in this kind of dataset"
   ]
  },
  {
   "cell_type": "markdown",
   "id": "c9a5379c",
   "metadata": {},
   "source": []
  },
  {
   "cell_type": "markdown",
   "id": "056d4015",
   "metadata": {},
   "source": [
    "There are some outliers in the dataset but will not be treated as this is reasonable and expected in this kind of dataset"
   ]
  },
  {
   "cell_type": "markdown",
   "id": "0b8d15bb",
   "metadata": {},
   "source": []
  },
  {
   "cell_type": "markdown",
   "id": "4e8e46ec",
   "metadata": {},
   "source": [
    "There are some outliers in the dataset but will not be treated as this is reasonable and expected in this kind of dataset"
   ]
  },
  {
   "cell_type": "markdown",
   "id": "f11d1fe6",
   "metadata": {},
   "source": [
    "Scaling¶\n",
    "Let's scale the data before we proceed with clustering."
   ]
  },
  {
   "cell_type": "markdown",
   "id": "e5be7ac7",
   "metadata": {},
   "source": [
    "Scaling¶\n",
    "Let's scale the data before we proceed with clustering."
   ]
  },
  {
   "cell_type": "markdown",
   "id": "9591af1b",
   "metadata": {},
   "source": []
  },
  {
   "cell_type": "markdown",
   "id": "686fe009",
   "metadata": {},
   "source": [
    "Scaling¶\n",
    "Let's scale the data before we proceed with clustering."
   ]
  },
  {
   "cell_type": "markdown",
   "id": "dd13c786",
   "metadata": {},
   "source": []
  },
  {
   "cell_type": "markdown",
   "id": "c1654d3c",
   "metadata": {},
   "source": [
    "Scaling¶\n",
    "Let's scale the data before we proceed with clustering."
   ]
  },
  {
   "cell_type": "markdown",
   "id": "eafbabc3",
   "metadata": {},
   "source": [
    "In [32]:\n",
    "\n",
    "\n",
    "# variables used for clustering\n",
    "num_vars = df.select_dtypes(include=np.number).columns.tolist()\n",
    "num_vars\n",
    "\n",
    "\n",
    "\n",
    "\n",
    "\n",
    "\n",
    "\n",
    "\n",
    "\n",
    "\n",
    "Out[32]:\n",
    "\n",
    "['Current Price',\n",
    " 'Price Change',\n",
    " 'Volatility',\n",
    " 'ROE',\n",
    " 'Cash Ratio',\n",
    " 'Net Cash Flow',\n",
    " 'Net Income',\n",
    " 'Earnings Per Share',\n",
    " 'Estimated Shares Outstanding',\n",
    " 'P/E Ratio',\n",
    " 'P/B Ratio']"
   ]
  },
  {
   "cell_type": "markdown",
   "id": "8ce5f305",
   "metadata": {},
   "source": [
    "In [32]:\n",
    "\n",
    "\n",
    "# variables used for clustering\n",
    "num_vars = df.select_dtypes(include=np.number).columns.tolist()\n",
    "num_vars"
   ]
  },
  {
   "cell_type": "markdown",
   "id": "e0d86e19",
   "metadata": {},
   "source": []
  },
  {
   "cell_type": "markdown",
   "id": "28491c7d",
   "metadata": {},
   "source": [
    "In [32]:\n",
    "\n",
    "\n",
    "# variables used for clustering\n",
    "num_vars = df.select_dtypes(include=np.number).columns.tolist()\n",
    "num_vars"
   ]
  },
  {
   "cell_type": "markdown",
   "id": "cbc73c27",
   "metadata": {},
   "source": [
    "In [32]:"
   ]
  },
  {
   "cell_type": "markdown",
   "id": "857cdf69",
   "metadata": {},
   "source": [
    "# variables used for clustering\n",
    "num_vars = df.select_dtypes(include=np.number).columns.tolist()\n",
    "num_vars"
   ]
  },
  {
   "cell_type": "markdown",
   "id": "33ce764a",
   "metadata": {},
   "source": [
    "# variables used for clustering\n",
    "num_vars = df.select_dtypes(include=np.number).columns.tolist()\n",
    "num_vars"
   ]
  },
  {
   "cell_type": "markdown",
   "id": "4842ba21",
   "metadata": {},
   "source": [
    "# variables used for clustering\n",
    "num_vars = df.select_dtypes(include=np.number).columns.tolist()\n",
    "num_vars"
   ]
  },
  {
   "cell_type": "markdown",
   "id": "032156f8",
   "metadata": {},
   "source": [
    "# variables used for clustering\n",
    "num_vars = df.select_dtypes(include=np.number).columns.tolist()\n",
    "num_vars"
   ]
  },
  {
   "cell_type": "markdown",
   "id": "abfbc701",
   "metadata": {},
   "source": [
    "Out[32]:\n",
    "\n",
    "['Current Price',\n",
    " 'Price Change',\n",
    " 'Volatility',\n",
    " 'ROE',\n",
    " 'Cash Ratio',\n",
    " 'Net Cash Flow',\n",
    " 'Net Income',\n",
    " 'Earnings Per Share',\n",
    " 'Estimated Shares Outstanding',\n",
    " 'P/E Ratio',\n",
    " 'P/B Ratio']"
   ]
  },
  {
   "cell_type": "markdown",
   "id": "2d1c4835",
   "metadata": {},
   "source": []
  },
  {
   "cell_type": "markdown",
   "id": "181b69aa",
   "metadata": {},
   "source": [
    "Out[32]:\n",
    "\n",
    "['Current Price',\n",
    " 'Price Change',\n",
    " 'Volatility',\n",
    " 'ROE',\n",
    " 'Cash Ratio',\n",
    " 'Net Cash Flow',\n",
    " 'Net Income',\n",
    " 'Earnings Per Share',\n",
    " 'Estimated Shares Outstanding',\n",
    " 'P/E Ratio',\n",
    " 'P/B Ratio']"
   ]
  },
  {
   "cell_type": "markdown",
   "id": "57232f87",
   "metadata": {},
   "source": [
    "Out[32]:\n",
    "\n",
    "['Current Price',\n",
    " 'Price Change',\n",
    " 'Volatility',\n",
    " 'ROE',\n",
    " 'Cash Ratio',\n",
    " 'Net Cash Flow',\n",
    " 'Net Income',\n",
    " 'Earnings Per Share',\n",
    " 'Estimated Shares Outstanding',\n",
    " 'P/E Ratio',\n",
    " 'P/B Ratio']"
   ]
  },
  {
   "cell_type": "markdown",
   "id": "6dc79cae",
   "metadata": {},
   "source": [
    "Out[32]:"
   ]
  },
  {
   "cell_type": "markdown",
   "id": "b13c9921",
   "metadata": {},
   "source": [
    "['Current Price',\n",
    " 'Price Change',\n",
    " 'Volatility',\n",
    " 'ROE',\n",
    " 'Cash Ratio',\n",
    " 'Net Cash Flow',\n",
    " 'Net Income',\n",
    " 'Earnings Per Share',\n",
    " 'Estimated Shares Outstanding',\n",
    " 'P/E Ratio',\n",
    " 'P/B Ratio']"
   ]
  },
  {
   "cell_type": "markdown",
   "id": "df5adbeb",
   "metadata": {},
   "source": [
    "['Current Price',\n",
    " 'Price Change',\n",
    " 'Volatility',\n",
    " 'ROE',\n",
    " 'Cash Ratio',\n",
    " 'Net Cash Flow',\n",
    " 'Net Income',\n",
    " 'Earnings Per Share',\n",
    " 'Estimated Shares Outstanding',\n",
    " 'P/E Ratio',\n",
    " 'P/B Ratio']"
   ]
  },
  {
   "cell_type": "markdown",
   "id": "0435fae8",
   "metadata": {},
   "source": [
    "In [33]:\n",
    "\n",
    "\n",
    "# scaling the data before clustering\n",
    "scaler = StandardScaler()\n",
    "subset = df[num_vars].copy()  \n",
    "subset_scaled = scaler.fit_transform(subset)"
   ]
  },
  {
   "cell_type": "markdown",
   "id": "137e886b",
   "metadata": {},
   "source": [
    "In [33]:\n",
    "\n",
    "\n",
    "# scaling the data before clustering\n",
    "scaler = StandardScaler()\n",
    "subset = df[num_vars].copy()  \n",
    "subset_scaled = scaler.fit_transform(subset)"
   ]
  },
  {
   "cell_type": "markdown",
   "id": "19d620a3",
   "metadata": {},
   "source": []
  },
  {
   "cell_type": "markdown",
   "id": "9bea4b88",
   "metadata": {},
   "source": [
    "In [33]:\n",
    "\n",
    "\n",
    "# scaling the data before clustering\n",
    "scaler = StandardScaler()\n",
    "subset = df[num_vars].copy()  \n",
    "subset_scaled = scaler.fit_transform(subset)"
   ]
  },
  {
   "cell_type": "markdown",
   "id": "d2429b95",
   "metadata": {},
   "source": [
    "In [33]:"
   ]
  },
  {
   "cell_type": "markdown",
   "id": "5dda78c7",
   "metadata": {},
   "source": [
    "# scaling the data before clustering\n",
    "scaler = StandardScaler()\n",
    "subset = df[num_vars].copy()  \n",
    "subset_scaled = scaler.fit_transform(subset)"
   ]
  },
  {
   "cell_type": "markdown",
   "id": "e70f503b",
   "metadata": {},
   "source": [
    "# scaling the data before clustering\n",
    "scaler = StandardScaler()\n",
    "subset = df[num_vars].copy()  \n",
    "subset_scaled = scaler.fit_transform(subset)"
   ]
  },
  {
   "cell_type": "markdown",
   "id": "17f8e269",
   "metadata": {},
   "source": [
    "# scaling the data before clustering\n",
    "scaler = StandardScaler()\n",
    "subset = df[num_vars].copy()  \n",
    "subset_scaled = scaler.fit_transform(subset)"
   ]
  },
  {
   "cell_type": "markdown",
   "id": "3de01de6",
   "metadata": {},
   "source": [
    "# scaling the data before clustering\n",
    "scaler = StandardScaler()\n",
    "subset = df[num_vars].copy()  \n",
    "subset_scaled = scaler.fit_transform(subset)"
   ]
  },
  {
   "cell_type": "markdown",
   "id": "b744487e",
   "metadata": {},
   "source": [
    "In [34]:\n",
    "\n",
    "\n",
    "# creating a dataframe of the scaled data\n",
    "subset_scaled_df = pd.DataFrame(subset_scaled, columns=subset.columns)"
   ]
  },
  {
   "cell_type": "markdown",
   "id": "bc863fad",
   "metadata": {},
   "source": [
    "In [34]:\n",
    "\n",
    "\n",
    "# creating a dataframe of the scaled data\n",
    "subset_scaled_df = pd.DataFrame(subset_scaled, columns=subset.columns)"
   ]
  },
  {
   "cell_type": "markdown",
   "id": "38a9a0ca",
   "metadata": {},
   "source": []
  },
  {
   "cell_type": "markdown",
   "id": "82b481cf",
   "metadata": {},
   "source": [
    "In [34]:\n",
    "\n",
    "\n",
    "# creating a dataframe of the scaled data\n",
    "subset_scaled_df = pd.DataFrame(subset_scaled, columns=subset.columns)"
   ]
  },
  {
   "cell_type": "markdown",
   "id": "04cff986",
   "metadata": {},
   "source": [
    "In [34]:"
   ]
  },
  {
   "cell_type": "markdown",
   "id": "4970f47f",
   "metadata": {},
   "source": [
    "# creating a dataframe of the scaled data\n",
    "subset_scaled_df = pd.DataFrame(subset_scaled, columns=subset.columns)"
   ]
  },
  {
   "cell_type": "markdown",
   "id": "03fa0557",
   "metadata": {},
   "source": [
    "# creating a dataframe of the scaled data\n",
    "subset_scaled_df = pd.DataFrame(subset_scaled, columns=subset.columns)"
   ]
  },
  {
   "cell_type": "markdown",
   "id": "83e4675a",
   "metadata": {},
   "source": [
    "# creating a dataframe of the scaled data\n",
    "subset_scaled_df = pd.DataFrame(subset_scaled, columns=subset.columns)"
   ]
  },
  {
   "cell_type": "markdown",
   "id": "ba9e006f",
   "metadata": {},
   "source": [
    "# creating a dataframe of the scaled data\n",
    "subset_scaled_df = pd.DataFrame(subset_scaled, columns=subset.columns)"
   ]
  },
  {
   "cell_type": "markdown",
   "id": "d0502fda",
   "metadata": {},
   "source": [
    "K-means Clustering¶"
   ]
  },
  {
   "cell_type": "markdown",
   "id": "e2872802",
   "metadata": {},
   "source": [
    "K-means Clustering¶"
   ]
  },
  {
   "cell_type": "markdown",
   "id": "d6cf6260",
   "metadata": {},
   "source": []
  },
  {
   "cell_type": "markdown",
   "id": "bd2f94ff",
   "metadata": {},
   "source": [
    "K-means Clustering¶"
   ]
  },
  {
   "cell_type": "markdown",
   "id": "790ac3be",
   "metadata": {},
   "source": []
  },
  {
   "cell_type": "markdown",
   "id": "2d80aa1e",
   "metadata": {},
   "source": [
    "K-means Clustering¶"
   ]
  },
  {
   "cell_type": "markdown",
   "id": "c3e2be07",
   "metadata": {},
   "source": [
    "In [35]:\n",
    "\n",
    "\n",
    "k_means_df = subset_scaled_df.copy()"
   ]
  },
  {
   "cell_type": "markdown",
   "id": "dfaa28c0",
   "metadata": {},
   "source": [
    "In [35]:\n",
    "\n",
    "\n",
    "k_means_df = subset_scaled_df.copy()"
   ]
  },
  {
   "cell_type": "markdown",
   "id": "130bb456",
   "metadata": {},
   "source": []
  },
  {
   "cell_type": "markdown",
   "id": "5b5ed84f",
   "metadata": {},
   "source": [
    "In [35]:\n",
    "\n",
    "\n",
    "k_means_df = subset_scaled_df.copy()"
   ]
  },
  {
   "cell_type": "markdown",
   "id": "704d9f37",
   "metadata": {},
   "source": [
    "In [35]:"
   ]
  },
  {
   "cell_type": "markdown",
   "id": "89eca5f2",
   "metadata": {},
   "source": [
    "k_means_df = subset_scaled_df.copy()"
   ]
  },
  {
   "cell_type": "markdown",
   "id": "c8f510e9",
   "metadata": {},
   "source": [
    "k_means_df = subset_scaled_df.copy()"
   ]
  },
  {
   "cell_type": "markdown",
   "id": "688b94f3",
   "metadata": {},
   "source": [
    "k_means_df = subset_scaled_df.copy()"
   ]
  },
  {
   "cell_type": "markdown",
   "id": "a85b9dcd",
   "metadata": {},
   "source": [
    "k_means_df = subset_scaled_df.copy()"
   ]
  },
  {
   "cell_type": "markdown",
   "id": "52673b69",
   "metadata": {},
   "source": [
    "In [36]:\n",
    "\n",
    "\n",
    "clusters = range(1, 15)\n",
    "meanDistortions = []\n",
    "\n",
    "for k in clusters:\n",
    "    model = KMeans(n_clusters=k, random_state=1)\n",
    "    model.fit(subset_scaled_df)\n",
    "    prediction = model.predict(k_means_df)\n",
    "    distortion = (\n",
    "        sum(np.min(cdist(k_means_df, model.cluster_centers_, \"euclidean\"), axis=1))\n",
    "        / k_means_df.shape[0]\n",
    "    )\n",
    "\n",
    "    meanDistortions.append(distortion)\n",
    "\n",
    "    print(\"Number of Clusters:\", k, \"\\tAverage Distortion:\", distortion)\n",
    "\n",
    "plt.plot(clusters, meanDistortions, \"bx-\")\n",
    "plt.xlabel(\"k\")\n",
    "plt.ylabel(\"Average Distortion\")\n",
    "plt.title(\"Selecting k with the Elbow Method\", fontsize=20)\n",
    "plt.show()\n",
    "\n",
    "\n",
    "\n",
    "\n",
    "\n",
    "\n",
    "\n",
    "\n",
    "\n",
    "\n",
    "\n",
    "\n",
    "Number of Clusters: 1 \tAverage Distortion: 2.5425069919221697\n",
    "Number of Clusters: 2 \tAverage Distortion: 2.382318498894466\n",
    "Number of Clusters: 3 \tAverage Distortion: 2.2692367155390745\n",
    "Number of Clusters: 4 \tAverage Distortion: 2.1745559827866363\n",
    "Number of Clusters: 5 \tAverage Distortion: 2.128799332840716\n",
    "Number of Clusters: 6 \tAverage Distortion: 2.080400099226289\n",
    "Number of Clusters: 7 \tAverage Distortion: 2.0289794220177395\n",
    "Number of Clusters: 8 \tAverage Distortion: 1.964144163389972\n",
    "Number of Clusters: 9 \tAverage Distortion: 1.9221492045198068\n",
    "Number of Clusters: 10 \tAverage Distortion: 1.8513913649973124\n",
    "Number of Clusters: 11 \tAverage Distortion: 1.8024134734578485\n",
    "Number of Clusters: 12 \tAverage Distortion: 1.7900931879652673\n",
    "Number of Clusters: 13 \tAverage Distortion: 1.7417609203336912\n",
    "Number of Clusters: 14 \tAverage Distortion: 1.673559857259703"
   ]
  },
  {
   "cell_type": "markdown",
   "id": "0c994093",
   "metadata": {},
   "source": [
    "In [36]:\n",
    "\n",
    "\n",
    "clusters = range(1, 15)\n",
    "meanDistortions = []\n",
    "\n",
    "for k in clusters:\n",
    "    model = KMeans(n_clusters=k, random_state=1)\n",
    "    model.fit(subset_scaled_df)\n",
    "    prediction = model.predict(k_means_df)\n",
    "    distortion = (\n",
    "        sum(np.min(cdist(k_means_df, model.cluster_centers_, \"euclidean\"), axis=1))\n",
    "        / k_means_df.shape[0]\n",
    "    )\n",
    "\n",
    "    meanDistortions.append(distortion)\n",
    "\n",
    "    print(\"Number of Clusters:\", k, \"\\tAverage Distortion:\", distortion)\n",
    "\n",
    "plt.plot(clusters, meanDistortions, \"bx-\")\n",
    "plt.xlabel(\"k\")\n",
    "plt.ylabel(\"Average Distortion\")\n",
    "plt.title(\"Selecting k with the Elbow Method\", fontsize=20)\n",
    "plt.show()"
   ]
  },
  {
   "cell_type": "markdown",
   "id": "5583a984",
   "metadata": {},
   "source": []
  },
  {
   "cell_type": "markdown",
   "id": "2b1f214b",
   "metadata": {},
   "source": [
    "In [36]:\n",
    "\n",
    "\n",
    "clusters = range(1, 15)\n",
    "meanDistortions = []\n",
    "\n",
    "for k in clusters:\n",
    "    model = KMeans(n_clusters=k, random_state=1)\n",
    "    model.fit(subset_scaled_df)\n",
    "    prediction = model.predict(k_means_df)\n",
    "    distortion = (\n",
    "        sum(np.min(cdist(k_means_df, model.cluster_centers_, \"euclidean\"), axis=1))\n",
    "        / k_means_df.shape[0]\n",
    "    )\n",
    "\n",
    "    meanDistortions.append(distortion)\n",
    "\n",
    "    print(\"Number of Clusters:\", k, \"\\tAverage Distortion:\", distortion)\n",
    "\n",
    "plt.plot(clusters, meanDistortions, \"bx-\")\n",
    "plt.xlabel(\"k\")\n",
    "plt.ylabel(\"Average Distortion\")\n",
    "plt.title(\"Selecting k with the Elbow Method\", fontsize=20)\n",
    "plt.show()"
   ]
  },
  {
   "cell_type": "markdown",
   "id": "3f4cff93",
   "metadata": {},
   "source": [
    "In [36]:"
   ]
  },
  {
   "cell_type": "markdown",
   "id": "1f5c871f",
   "metadata": {},
   "source": [
    "clusters = range(1, 15)\n",
    "meanDistortions = []\n",
    "\n",
    "for k in clusters:\n",
    "    model = KMeans(n_clusters=k, random_state=1)\n",
    "    model.fit(subset_scaled_df)\n",
    "    prediction = model.predict(k_means_df)\n",
    "    distortion = (\n",
    "        sum(np.min(cdist(k_means_df, model.cluster_centers_, \"euclidean\"), axis=1))\n",
    "        / k_means_df.shape[0]\n",
    "    )\n",
    "\n",
    "    meanDistortions.append(distortion)\n",
    "\n",
    "    print(\"Number of Clusters:\", k, \"\\tAverage Distortion:\", distortion)\n",
    "\n",
    "plt.plot(clusters, meanDistortions, \"bx-\")\n",
    "plt.xlabel(\"k\")\n",
    "plt.ylabel(\"Average Distortion\")\n",
    "plt.title(\"Selecting k with the Elbow Method\", fontsize=20)\n",
    "plt.show()"
   ]
  },
  {
   "cell_type": "markdown",
   "id": "a9dbece4",
   "metadata": {},
   "source": [
    "clusters = range(1, 15)\n",
    "meanDistortions = []\n",
    "\n",
    "for k in clusters:\n",
    "    model = KMeans(n_clusters=k, random_state=1)\n",
    "    model.fit(subset_scaled_df)\n",
    "    prediction = model.predict(k_means_df)\n",
    "    distortion = (\n",
    "        sum(np.min(cdist(k_means_df, model.cluster_centers_, \"euclidean\"), axis=1))\n",
    "        / k_means_df.shape[0]\n",
    "    )\n",
    "\n",
    "    meanDistortions.append(distortion)\n",
    "\n",
    "    print(\"Number of Clusters:\", k, \"\\tAverage Distortion:\", distortion)\n",
    "\n",
    "plt.plot(clusters, meanDistortions, \"bx-\")\n",
    "plt.xlabel(\"k\")\n",
    "plt.ylabel(\"Average Distortion\")\n",
    "plt.title(\"Selecting k with the Elbow Method\", fontsize=20)\n",
    "plt.show()"
   ]
  },
  {
   "cell_type": "markdown",
   "id": "4f1551e0",
   "metadata": {},
   "source": [
    "clusters = range(1, 15)\n",
    "meanDistortions = []\n",
    "\n",
    "for k in clusters:\n",
    "    model = KMeans(n_clusters=k, random_state=1)\n",
    "    model.fit(subset_scaled_df)\n",
    "    prediction = model.predict(k_means_df)\n",
    "    distortion = (\n",
    "        sum(np.min(cdist(k_means_df, model.cluster_centers_, \"euclidean\"), axis=1))\n",
    "        / k_means_df.shape[0]\n",
    "    )\n",
    "\n",
    "    meanDistortions.append(distortion)\n",
    "\n",
    "    print(\"Number of Clusters:\", k, \"\\tAverage Distortion:\", distortion)\n",
    "\n",
    "plt.plot(clusters, meanDistortions, \"bx-\")\n",
    "plt.xlabel(\"k\")\n",
    "plt.ylabel(\"Average Distortion\")\n",
    "plt.title(\"Selecting k with the Elbow Method\", fontsize=20)\n",
    "plt.show()"
   ]
  },
  {
   "cell_type": "markdown",
   "id": "e72523b6",
   "metadata": {},
   "source": [
    "clusters = range(1, 15)\n",
    "meanDistortions = []\n",
    "\n",
    "for k in clusters:\n",
    "    model = KMeans(n_clusters=k, random_state=1)\n",
    "    model.fit(subset_scaled_df)\n",
    "    prediction = model.predict(k_means_df)\n",
    "    distortion = (\n",
    "        sum(np.min(cdist(k_means_df, model.cluster_centers_, \"euclidean\"), axis=1))\n",
    "        / k_means_df.shape[0]\n",
    "    )\n",
    "\n",
    "    meanDistortions.append(distortion)\n",
    "\n",
    "    print(\"Number of Clusters:\", k, \"\\tAverage Distortion:\", distortion)\n",
    "\n",
    "plt.plot(clusters, meanDistortions, \"bx-\")\n",
    "plt.xlabel(\"k\")\n",
    "plt.ylabel(\"Average Distortion\")\n",
    "plt.title(\"Selecting k with the Elbow Method\", fontsize=20)\n",
    "plt.show()"
   ]
  },
  {
   "cell_type": "markdown",
   "id": "5db1f0a0",
   "metadata": {},
   "source": [
    "Number of Clusters: 1 \tAverage Distortion: 2.5425069919221697\n",
    "Number of Clusters: 2 \tAverage Distortion: 2.382318498894466\n",
    "Number of Clusters: 3 \tAverage Distortion: 2.2692367155390745\n",
    "Number of Clusters: 4 \tAverage Distortion: 2.1745559827866363\n",
    "Number of Clusters: 5 \tAverage Distortion: 2.128799332840716\n",
    "Number of Clusters: 6 \tAverage Distortion: 2.080400099226289\n",
    "Number of Clusters: 7 \tAverage Distortion: 2.0289794220177395\n",
    "Number of Clusters: 8 \tAverage Distortion: 1.964144163389972\n",
    "Number of Clusters: 9 \tAverage Distortion: 1.9221492045198068\n",
    "Number of Clusters: 10 \tAverage Distortion: 1.8513913649973124\n",
    "Number of Clusters: 11 \tAverage Distortion: 1.8024134734578485\n",
    "Number of Clusters: 12 \tAverage Distortion: 1.7900931879652673\n",
    "Number of Clusters: 13 \tAverage Distortion: 1.7417609203336912\n",
    "Number of Clusters: 14 \tAverage Distortion: 1.673559857259703"
   ]
  },
  {
   "cell_type": "markdown",
   "id": "06df3c89",
   "metadata": {},
   "source": []
  },
  {
   "cell_type": "markdown",
   "id": "06847778",
   "metadata": {},
   "source": [
    "Number of Clusters: 1 \tAverage Distortion: 2.5425069919221697\n",
    "Number of Clusters: 2 \tAverage Distortion: 2.382318498894466\n",
    "Number of Clusters: 3 \tAverage Distortion: 2.2692367155390745\n",
    "Number of Clusters: 4 \tAverage Distortion: 2.1745559827866363\n",
    "Number of Clusters: 5 \tAverage Distortion: 2.128799332840716\n",
    "Number of Clusters: 6 \tAverage Distortion: 2.080400099226289\n",
    "Number of Clusters: 7 \tAverage Distortion: 2.0289794220177395\n",
    "Number of Clusters: 8 \tAverage Distortion: 1.964144163389972\n",
    "Number of Clusters: 9 \tAverage Distortion: 1.9221492045198068\n",
    "Number of Clusters: 10 \tAverage Distortion: 1.8513913649973124\n",
    "Number of Clusters: 11 \tAverage Distortion: 1.8024134734578485\n",
    "Number of Clusters: 12 \tAverage Distortion: 1.7900931879652673\n",
    "Number of Clusters: 13 \tAverage Distortion: 1.7417609203336912\n",
    "Number of Clusters: 14 \tAverage Distortion: 1.673559857259703"
   ]
  },
  {
   "cell_type": "markdown",
   "id": "2c8c2adf",
   "metadata": {},
   "source": [
    "Number of Clusters: 1 \tAverage Distortion: 2.5425069919221697\n",
    "Number of Clusters: 2 \tAverage Distortion: 2.382318498894466\n",
    "Number of Clusters: 3 \tAverage Distortion: 2.2692367155390745\n",
    "Number of Clusters: 4 \tAverage Distortion: 2.1745559827866363\n",
    "Number of Clusters: 5 \tAverage Distortion: 2.128799332840716\n",
    "Number of Clusters: 6 \tAverage Distortion: 2.080400099226289\n",
    "Number of Clusters: 7 \tAverage Distortion: 2.0289794220177395\n",
    "Number of Clusters: 8 \tAverage Distortion: 1.964144163389972\n",
    "Number of Clusters: 9 \tAverage Distortion: 1.9221492045198068\n",
    "Number of Clusters: 10 \tAverage Distortion: 1.8513913649973124\n",
    "Number of Clusters: 11 \tAverage Distortion: 1.8024134734578485\n",
    "Number of Clusters: 12 \tAverage Distortion: 1.7900931879652673\n",
    "Number of Clusters: 13 \tAverage Distortion: 1.7417609203336912\n",
    "Number of Clusters: 14 \tAverage Distortion: 1.673559857259703"
   ]
  },
  {
   "cell_type": "markdown",
   "id": "976eeadf",
   "metadata": {},
   "source": []
  },
  {
   "cell_type": "markdown",
   "id": "bbd90487",
   "metadata": {},
   "source": [
    "Number of Clusters: 1 \tAverage Distortion: 2.5425069919221697\n",
    "Number of Clusters: 2 \tAverage Distortion: 2.382318498894466\n",
    "Number of Clusters: 3 \tAverage Distortion: 2.2692367155390745\n",
    "Number of Clusters: 4 \tAverage Distortion: 2.1745559827866363\n",
    "Number of Clusters: 5 \tAverage Distortion: 2.128799332840716\n",
    "Number of Clusters: 6 \tAverage Distortion: 2.080400099226289\n",
    "Number of Clusters: 7 \tAverage Distortion: 2.0289794220177395\n",
    "Number of Clusters: 8 \tAverage Distortion: 1.964144163389972\n",
    "Number of Clusters: 9 \tAverage Distortion: 1.9221492045198068\n",
    "Number of Clusters: 10 \tAverage Distortion: 1.8513913649973124\n",
    "Number of Clusters: 11 \tAverage Distortion: 1.8024134734578485\n",
    "Number of Clusters: 12 \tAverage Distortion: 1.7900931879652673\n",
    "Number of Clusters: 13 \tAverage Distortion: 1.7417609203336912\n",
    "Number of Clusters: 14 \tAverage Distortion: 1.673559857259703"
   ]
  },
  {
   "cell_type": "markdown",
   "id": "a7bc3c3c",
   "metadata": {},
   "source": [
    "Number of Clusters: 1 \tAverage Distortion: 2.5425069919221697\n",
    "Number of Clusters: 2 \tAverage Distortion: 2.382318498894466\n",
    "Number of Clusters: 3 \tAverage Distortion: 2.2692367155390745\n",
    "Number of Clusters: 4 \tAverage Distortion: 2.1745559827866363\n",
    "Number of Clusters: 5 \tAverage Distortion: 2.128799332840716\n",
    "Number of Clusters: 6 \tAverage Distortion: 2.080400099226289\n",
    "Number of Clusters: 7 \tAverage Distortion: 2.0289794220177395\n",
    "Number of Clusters: 8 \tAverage Distortion: 1.964144163389972\n",
    "Number of Clusters: 9 \tAverage Distortion: 1.9221492045198068\n",
    "Number of Clusters: 10 \tAverage Distortion: 1.8513913649973124\n",
    "Number of Clusters: 11 \tAverage Distortion: 1.8024134734578485\n",
    "Number of Clusters: 12 \tAverage Distortion: 1.7900931879652673\n",
    "Number of Clusters: 13 \tAverage Distortion: 1.7417609203336912\n",
    "Number of Clusters: 14 \tAverage Distortion: 1.673559857259703"
   ]
  },
  {
   "cell_type": "markdown",
   "id": "25d0f624",
   "metadata": {},
   "source": []
  },
  {
   "cell_type": "markdown",
   "id": "021ed832",
   "metadata": {},
   "source": []
  },
  {
   "cell_type": "markdown",
   "id": "6979446c",
   "metadata": {},
   "source": []
  },
  {
   "cell_type": "markdown",
   "id": "acf7db3a",
   "metadata": {},
   "source": [
    "Appropriate value for k seems to be 4 or 6."
   ]
  },
  {
   "cell_type": "markdown",
   "id": "87d69574",
   "metadata": {},
   "source": [
    "Appropriate value for k seems to be 4 or 6."
   ]
  },
  {
   "cell_type": "markdown",
   "id": "985c93a3",
   "metadata": {},
   "source": []
  },
  {
   "cell_type": "markdown",
   "id": "991ab754",
   "metadata": {},
   "source": [
    "Appropriate value for k seems to be 4 or 6."
   ]
  },
  {
   "cell_type": "markdown",
   "id": "93b8cca5",
   "metadata": {},
   "source": []
  },
  {
   "cell_type": "markdown",
   "id": "5151a9db",
   "metadata": {},
   "source": [
    "Appropriate value for k seems to be 4 or 6."
   ]
  },
  {
   "cell_type": "markdown",
   "id": "af65c40b",
   "metadata": {},
   "source": [
    "In [37]:\n",
    "\n",
    "\n",
    "model = KMeans(random_state=1)\n",
    "visualizer = KElbowVisualizer(model, k=(1, 15), timings=True)\n",
    "visualizer.fit(k_means_df)  # fit the data to the visualizer\n",
    "visualizer.show()  # finalize and render figure\n",
    "\n",
    "\n",
    "\n",
    "\n",
    "\n",
    "\n",
    "\n",
    "\n",
    "\n",
    "\n",
    "\n",
    "\n",
    "\n",
    "\n",
    "\n",
    "\n",
    "Out[37]:\n",
    "\n",
    "<AxesSubplot:title={'center':'Distortion Score Elbow for KMeans Clustering'}, xlabel='k', ylabel='distortion score'>"
   ]
  },
  {
   "cell_type": "markdown",
   "id": "afa60aee",
   "metadata": {},
   "source": [
    "In [37]:\n",
    "\n",
    "\n",
    "model = KMeans(random_state=1)\n",
    "visualizer = KElbowVisualizer(model, k=(1, 15), timings=True)\n",
    "visualizer.fit(k_means_df)  # fit the data to the visualizer\n",
    "visualizer.show()  # finalize and render figure"
   ]
  },
  {
   "cell_type": "markdown",
   "id": "889f7ea9",
   "metadata": {},
   "source": []
  },
  {
   "cell_type": "markdown",
   "id": "92d83501",
   "metadata": {},
   "source": [
    "In [37]:\n",
    "\n",
    "\n",
    "model = KMeans(random_state=1)\n",
    "visualizer = KElbowVisualizer(model, k=(1, 15), timings=True)\n",
    "visualizer.fit(k_means_df)  # fit the data to the visualizer\n",
    "visualizer.show()  # finalize and render figure"
   ]
  },
  {
   "cell_type": "markdown",
   "id": "d0b5f4f3",
   "metadata": {},
   "source": [
    "In [37]:"
   ]
  },
  {
   "cell_type": "markdown",
   "id": "3a52dfd3",
   "metadata": {},
   "source": [
    "model = KMeans(random_state=1)\n",
    "visualizer = KElbowVisualizer(model, k=(1, 15), timings=True)\n",
    "visualizer.fit(k_means_df)  # fit the data to the visualizer\n",
    "visualizer.show()  # finalize and render figure"
   ]
  },
  {
   "cell_type": "markdown",
   "id": "4f040a72",
   "metadata": {},
   "source": [
    "model = KMeans(random_state=1)\n",
    "visualizer = KElbowVisualizer(model, k=(1, 15), timings=True)\n",
    "visualizer.fit(k_means_df)  # fit the data to the visualizer\n",
    "visualizer.show()  # finalize and render figure"
   ]
  },
  {
   "cell_type": "markdown",
   "id": "e786d09f",
   "metadata": {},
   "source": [
    "model = KMeans(random_state=1)\n",
    "visualizer = KElbowVisualizer(model, k=(1, 15), timings=True)\n",
    "visualizer.fit(k_means_df)  # fit the data to the visualizer\n",
    "visualizer.show()  # finalize and render figure"
   ]
  },
  {
   "cell_type": "markdown",
   "id": "cfee7c7c",
   "metadata": {},
   "source": [
    "model = KMeans(random_state=1)\n",
    "visualizer = KElbowVisualizer(model, k=(1, 15), timings=True)\n",
    "visualizer.fit(k_means_df)  # fit the data to the visualizer\n",
    "visualizer.show()  # finalize and render figure"
   ]
  },
  {
   "cell_type": "markdown",
   "id": "0d3ed1e5",
   "metadata": {},
   "source": [
    "Out[37]:\n",
    "\n",
    "<AxesSubplot:title={'center':'Distortion Score Elbow for KMeans Clustering'}, xlabel='k', ylabel='distortion score'>"
   ]
  },
  {
   "cell_type": "markdown",
   "id": "75f984f9",
   "metadata": {},
   "source": []
  },
  {
   "cell_type": "markdown",
   "id": "b6096c05",
   "metadata": {},
   "source": [
    "Out[37]:\n",
    "\n",
    "<AxesSubplot:title={'center':'Distortion Score Elbow for KMeans Clustering'}, xlabel='k', ylabel='distortion score'>"
   ]
  },
  {
   "cell_type": "markdown",
   "id": "11bd1c74",
   "metadata": {},
   "source": []
  },
  {
   "cell_type": "markdown",
   "id": "4e9557e6",
   "metadata": {},
   "source": []
  },
  {
   "cell_type": "markdown",
   "id": "a8cc70ff",
   "metadata": {},
   "source": []
  },
  {
   "cell_type": "markdown",
   "id": "54801aa7",
   "metadata": {},
   "source": [
    "Out[37]:\n",
    "\n",
    "<AxesSubplot:title={'center':'Distortion Score Elbow for KMeans Clustering'}, xlabel='k', ylabel='distortion score'>"
   ]
  },
  {
   "cell_type": "markdown",
   "id": "af9a8b1c",
   "metadata": {},
   "source": [
    "Out[37]:"
   ]
  },
  {
   "cell_type": "markdown",
   "id": "51cdc61b",
   "metadata": {},
   "source": [
    "<AxesSubplot:title={'center':'Distortion Score Elbow for KMeans Clustering'}, xlabel='k', ylabel='distortion score'>"
   ]
  },
  {
   "cell_type": "markdown",
   "id": "013b3e60",
   "metadata": {},
   "source": [
    "<AxesSubplot:title={'center':'Distortion Score Elbow for KMeans Clustering'}, xlabel='k', ylabel='distortion score'>"
   ]
  },
  {
   "cell_type": "markdown",
   "id": "4a31842f",
   "metadata": {},
   "source": [
    "Let's check the silhouette scores."
   ]
  },
  {
   "cell_type": "markdown",
   "id": "b3abb3d6",
   "metadata": {},
   "source": [
    "Let's check the silhouette scores."
   ]
  },
  {
   "cell_type": "markdown",
   "id": "9fba703f",
   "metadata": {},
   "source": []
  },
  {
   "cell_type": "markdown",
   "id": "e4f125c1",
   "metadata": {},
   "source": [
    "Let's check the silhouette scores."
   ]
  },
  {
   "cell_type": "markdown",
   "id": "ee8fa6cc",
   "metadata": {},
   "source": []
  },
  {
   "cell_type": "markdown",
   "id": "8d50d525",
   "metadata": {},
   "source": [
    "Let's check the silhouette scores."
   ]
  },
  {
   "cell_type": "markdown",
   "id": "a352b985",
   "metadata": {},
   "source": [
    "In [38]:\n",
    "\n",
    "\n",
    "sil_score = []\n",
    "cluster_list = range(2, 15)\n",
    "for n_clusters in cluster_list:\n",
    "    clusterer = KMeans(n_clusters=n_clusters, random_state=1)\n",
    "    preds = clusterer.fit_predict((subset_scaled_df))\n",
    "    score = silhouette_score(k_means_df, preds)\n",
    "    sil_score.append(score)\n",
    "    print(\"For n_clusters = {}, the silhouette score is {})\".format(n_clusters, score))\n",
    "\n",
    "plt.plot(cluster_list, sil_score)\n",
    "plt.show()\n",
    "\n",
    "\n",
    "\n",
    "\n",
    "\n",
    "\n",
    "\n",
    "\n",
    "\n",
    "\n",
    "\n",
    "\n",
    "For n_clusters = 2, the silhouette score is 0.43969639509980457)\n",
    "For n_clusters = 3, the silhouette score is 0.4644405674779403)\n",
    "For n_clusters = 4, the silhouette score is 0.4577225970476733)\n",
    "For n_clusters = 5, the silhouette score is 0.43228336443659804)\n",
    "For n_clusters = 6, the silhouette score is 0.40054227372136175)\n",
    "For n_clusters = 7, the silhouette score is 0.3976335364987305)\n",
    "For n_clusters = 8, the silhouette score is 0.40278401969450467)\n",
    "For n_clusters = 9, the silhouette score is 0.3778585981433699)\n",
    "For n_clusters = 10, the silhouette score is 0.13458938329968687)\n",
    "For n_clusters = 11, the silhouette score is 0.1421832155528444)\n",
    "For n_clusters = 12, the silhouette score is 0.2044669621527429)\n",
    "For n_clusters = 13, the silhouette score is 0.23424874810104204)\n",
    "For n_clusters = 14, the silhouette score is 0.12102526472829901)"
   ]
  },
  {
   "cell_type": "markdown",
   "id": "6ca5ae84",
   "metadata": {},
   "source": [
    "In [38]:\n",
    "\n",
    "\n",
    "sil_score = []\n",
    "cluster_list = range(2, 15)\n",
    "for n_clusters in cluster_list:\n",
    "    clusterer = KMeans(n_clusters=n_clusters, random_state=1)\n",
    "    preds = clusterer.fit_predict((subset_scaled_df))\n",
    "    score = silhouette_score(k_means_df, preds)\n",
    "    sil_score.append(score)\n",
    "    print(\"For n_clusters = {}, the silhouette score is {})\".format(n_clusters, score))\n",
    "\n",
    "plt.plot(cluster_list, sil_score)\n",
    "plt.show()"
   ]
  },
  {
   "cell_type": "markdown",
   "id": "bd085117",
   "metadata": {},
   "source": []
  },
  {
   "cell_type": "markdown",
   "id": "64d6e8c6",
   "metadata": {},
   "source": [
    "In [38]:\n",
    "\n",
    "\n",
    "sil_score = []\n",
    "cluster_list = range(2, 15)\n",
    "for n_clusters in cluster_list:\n",
    "    clusterer = KMeans(n_clusters=n_clusters, random_state=1)\n",
    "    preds = clusterer.fit_predict((subset_scaled_df))\n",
    "    score = silhouette_score(k_means_df, preds)\n",
    "    sil_score.append(score)\n",
    "    print(\"For n_clusters = {}, the silhouette score is {})\".format(n_clusters, score))\n",
    "\n",
    "plt.plot(cluster_list, sil_score)\n",
    "plt.show()"
   ]
  },
  {
   "cell_type": "markdown",
   "id": "0b133f41",
   "metadata": {},
   "source": [
    "In [38]:"
   ]
  },
  {
   "cell_type": "markdown",
   "id": "b7f67856",
   "metadata": {},
   "source": [
    "sil_score = []\n",
    "cluster_list = range(2, 15)\n",
    "for n_clusters in cluster_list:\n",
    "    clusterer = KMeans(n_clusters=n_clusters, random_state=1)\n",
    "    preds = clusterer.fit_predict((subset_scaled_df))\n",
    "    score = silhouette_score(k_means_df, preds)\n",
    "    sil_score.append(score)\n",
    "    print(\"For n_clusters = {}, the silhouette score is {})\".format(n_clusters, score))\n",
    "\n",
    "plt.plot(cluster_list, sil_score)\n",
    "plt.show()"
   ]
  },
  {
   "cell_type": "markdown",
   "id": "5ae4c5fd",
   "metadata": {},
   "source": [
    "sil_score = []\n",
    "cluster_list = range(2, 15)\n",
    "for n_clusters in cluster_list:\n",
    "    clusterer = KMeans(n_clusters=n_clusters, random_state=1)\n",
    "    preds = clusterer.fit_predict((subset_scaled_df))\n",
    "    score = silhouette_score(k_means_df, preds)\n",
    "    sil_score.append(score)\n",
    "    print(\"For n_clusters = {}, the silhouette score is {})\".format(n_clusters, score))\n",
    "\n",
    "plt.plot(cluster_list, sil_score)\n",
    "plt.show()"
   ]
  },
  {
   "cell_type": "markdown",
   "id": "a5cf5eda",
   "metadata": {},
   "source": [
    "sil_score = []\n",
    "cluster_list = range(2, 15)\n",
    "for n_clusters in cluster_list:\n",
    "    clusterer = KMeans(n_clusters=n_clusters, random_state=1)\n",
    "    preds = clusterer.fit_predict((subset_scaled_df))\n",
    "    score = silhouette_score(k_means_df, preds)\n",
    "    sil_score.append(score)\n",
    "    print(\"For n_clusters = {}, the silhouette score is {})\".format(n_clusters, score))\n",
    "\n",
    "plt.plot(cluster_list, sil_score)\n",
    "plt.show()"
   ]
  },
  {
   "cell_type": "markdown",
   "id": "b7f148cd",
   "metadata": {},
   "source": [
    "sil_score = []\n",
    "cluster_list = range(2, 15)\n",
    "for n_clusters in cluster_list:\n",
    "    clusterer = KMeans(n_clusters=n_clusters, random_state=1)\n",
    "    preds = clusterer.fit_predict((subset_scaled_df))\n",
    "    score = silhouette_score(k_means_df, preds)\n",
    "    sil_score.append(score)\n",
    "    print(\"For n_clusters = {}, the silhouette score is {})\".format(n_clusters, score))\n",
    "\n",
    "plt.plot(cluster_list, sil_score)\n",
    "plt.show()"
   ]
  },
  {
   "cell_type": "markdown",
   "id": "8ac9f375",
   "metadata": {},
   "source": [
    "For n_clusters = 2, the silhouette score is 0.43969639509980457)\n",
    "For n_clusters = 3, the silhouette score is 0.4644405674779403)\n",
    "For n_clusters = 4, the silhouette score is 0.4577225970476733)\n",
    "For n_clusters = 5, the silhouette score is 0.43228336443659804)\n",
    "For n_clusters = 6, the silhouette score is 0.40054227372136175)\n",
    "For n_clusters = 7, the silhouette score is 0.3976335364987305)\n",
    "For n_clusters = 8, the silhouette score is 0.40278401969450467)\n",
    "For n_clusters = 9, the silhouette score is 0.3778585981433699)\n",
    "For n_clusters = 10, the silhouette score is 0.13458938329968687)\n",
    "For n_clusters = 11, the silhouette score is 0.1421832155528444)\n",
    "For n_clusters = 12, the silhouette score is 0.2044669621527429)\n",
    "For n_clusters = 13, the silhouette score is 0.23424874810104204)\n",
    "For n_clusters = 14, the silhouette score is 0.12102526472829901)"
   ]
  },
  {
   "cell_type": "markdown",
   "id": "35cd6769",
   "metadata": {},
   "source": []
  },
  {
   "cell_type": "markdown",
   "id": "39020cf3",
   "metadata": {},
   "source": [
    "For n_clusters = 2, the silhouette score is 0.43969639509980457)\n",
    "For n_clusters = 3, the silhouette score is 0.4644405674779403)\n",
    "For n_clusters = 4, the silhouette score is 0.4577225970476733)\n",
    "For n_clusters = 5, the silhouette score is 0.43228336443659804)\n",
    "For n_clusters = 6, the silhouette score is 0.40054227372136175)\n",
    "For n_clusters = 7, the silhouette score is 0.3976335364987305)\n",
    "For n_clusters = 8, the silhouette score is 0.40278401969450467)\n",
    "For n_clusters = 9, the silhouette score is 0.3778585981433699)\n",
    "For n_clusters = 10, the silhouette score is 0.13458938329968687)\n",
    "For n_clusters = 11, the silhouette score is 0.1421832155528444)\n",
    "For n_clusters = 12, the silhouette score is 0.2044669621527429)\n",
    "For n_clusters = 13, the silhouette score is 0.23424874810104204)\n",
    "For n_clusters = 14, the silhouette score is 0.12102526472829901)"
   ]
  },
  {
   "cell_type": "markdown",
   "id": "173ce0e8",
   "metadata": {},
   "source": [
    "For n_clusters = 2, the silhouette score is 0.43969639509980457)\n",
    "For n_clusters = 3, the silhouette score is 0.4644405674779403)\n",
    "For n_clusters = 4, the silhouette score is 0.4577225970476733)\n",
    "For n_clusters = 5, the silhouette score is 0.43228336443659804)\n",
    "For n_clusters = 6, the silhouette score is 0.40054227372136175)\n",
    "For n_clusters = 7, the silhouette score is 0.3976335364987305)\n",
    "For n_clusters = 8, the silhouette score is 0.40278401969450467)\n",
    "For n_clusters = 9, the silhouette score is 0.3778585981433699)\n",
    "For n_clusters = 10, the silhouette score is 0.13458938329968687)\n",
    "For n_clusters = 11, the silhouette score is 0.1421832155528444)\n",
    "For n_clusters = 12, the silhouette score is 0.2044669621527429)\n",
    "For n_clusters = 13, the silhouette score is 0.23424874810104204)\n",
    "For n_clusters = 14, the silhouette score is 0.12102526472829901)"
   ]
  },
  {
   "cell_type": "markdown",
   "id": "bb4db756",
   "metadata": {},
   "source": []
  },
  {
   "cell_type": "markdown",
   "id": "73367cbd",
   "metadata": {},
   "source": [
    "For n_clusters = 2, the silhouette score is 0.43969639509980457)\n",
    "For n_clusters = 3, the silhouette score is 0.4644405674779403)\n",
    "For n_clusters = 4, the silhouette score is 0.4577225970476733)\n",
    "For n_clusters = 5, the silhouette score is 0.43228336443659804)\n",
    "For n_clusters = 6, the silhouette score is 0.40054227372136175)\n",
    "For n_clusters = 7, the silhouette score is 0.3976335364987305)\n",
    "For n_clusters = 8, the silhouette score is 0.40278401969450467)\n",
    "For n_clusters = 9, the silhouette score is 0.3778585981433699)\n",
    "For n_clusters = 10, the silhouette score is 0.13458938329968687)\n",
    "For n_clusters = 11, the silhouette score is 0.1421832155528444)\n",
    "For n_clusters = 12, the silhouette score is 0.2044669621527429)\n",
    "For n_clusters = 13, the silhouette score is 0.23424874810104204)\n",
    "For n_clusters = 14, the silhouette score is 0.12102526472829901)"
   ]
  },
  {
   "cell_type": "markdown",
   "id": "ced41281",
   "metadata": {},
   "source": [
    "For n_clusters = 2, the silhouette score is 0.43969639509980457)\n",
    "For n_clusters = 3, the silhouette score is 0.4644405674779403)\n",
    "For n_clusters = 4, the silhouette score is 0.4577225970476733)\n",
    "For n_clusters = 5, the silhouette score is 0.43228336443659804)\n",
    "For n_clusters = 6, the silhouette score is 0.40054227372136175)\n",
    "For n_clusters = 7, the silhouette score is 0.3976335364987305)\n",
    "For n_clusters = 8, the silhouette score is 0.40278401969450467)\n",
    "For n_clusters = 9, the silhouette score is 0.3778585981433699)\n",
    "For n_clusters = 10, the silhouette score is 0.13458938329968687)\n",
    "For n_clusters = 11, the silhouette score is 0.1421832155528444)\n",
    "For n_clusters = 12, the silhouette score is 0.2044669621527429)\n",
    "For n_clusters = 13, the silhouette score is 0.23424874810104204)\n",
    "For n_clusters = 14, the silhouette score is 0.12102526472829901)"
   ]
  },
  {
   "cell_type": "markdown",
   "id": "96f8b24b",
   "metadata": {},
   "source": []
  },
  {
   "cell_type": "markdown",
   "id": "638a7eb6",
   "metadata": {},
   "source": []
  },
  {
   "cell_type": "markdown",
   "id": "943eabcc",
   "metadata": {},
   "source": []
  },
  {
   "cell_type": "markdown",
   "id": "11cfe4d6",
   "metadata": {},
   "source": [
    "Silhouette score for 4 is higher than that for 6. So, we will choose 4 as value of k."
   ]
  },
  {
   "cell_type": "markdown",
   "id": "5c20319f",
   "metadata": {},
   "source": [
    "Silhouette score for 4 is higher than that for 6. So, we will choose 4 as value of k."
   ]
  },
  {
   "cell_type": "markdown",
   "id": "781f1490",
   "metadata": {},
   "source": []
  },
  {
   "cell_type": "markdown",
   "id": "e7dc8a65",
   "metadata": {},
   "source": [
    "Silhouette score for 4 is higher than that for 6. So, we will choose 4 as value of k."
   ]
  },
  {
   "cell_type": "markdown",
   "id": "4532333e",
   "metadata": {},
   "source": []
  },
  {
   "cell_type": "markdown",
   "id": "46902f35",
   "metadata": {},
   "source": [
    "Silhouette score for 4 is higher than that for 6. So, we will choose 4 as value of k."
   ]
  },
  {
   "cell_type": "markdown",
   "id": "06ce897c",
   "metadata": {},
   "source": [
    "In [39]:\n",
    "\n",
    "\n",
    "model = KMeans(random_state=1)\n",
    "visualizer = KElbowVisualizer(model, k=(2, 15), metric=\"silhouette\", timings=True)\n",
    "visualizer.fit(k_means_df)  # fit the data to the visualizer\n",
    "visualizer.show()  # finalize and render figure\n",
    "\n",
    "\n",
    "\n",
    "\n",
    "\n",
    "\n",
    "\n",
    "\n",
    "\n",
    "\n",
    "\n",
    "\n",
    "\n",
    "\n",
    "\n",
    "\n",
    "Out[39]:\n",
    "\n",
    "<AxesSubplot:title={'center':'Silhouette Score Elbow for KMeans Clustering'}, xlabel='k', ylabel='silhouette score'>"
   ]
  },
  {
   "cell_type": "markdown",
   "id": "b358668a",
   "metadata": {},
   "source": [
    "In [39]:\n",
    "\n",
    "\n",
    "model = KMeans(random_state=1)\n",
    "visualizer = KElbowVisualizer(model, k=(2, 15), metric=\"silhouette\", timings=True)\n",
    "visualizer.fit(k_means_df)  # fit the data to the visualizer\n",
    "visualizer.show()  # finalize and render figure"
   ]
  },
  {
   "cell_type": "markdown",
   "id": "784939fd",
   "metadata": {},
   "source": []
  },
  {
   "cell_type": "markdown",
   "id": "844ac345",
   "metadata": {},
   "source": [
    "In [39]:\n",
    "\n",
    "\n",
    "model = KMeans(random_state=1)\n",
    "visualizer = KElbowVisualizer(model, k=(2, 15), metric=\"silhouette\", timings=True)\n",
    "visualizer.fit(k_means_df)  # fit the data to the visualizer\n",
    "visualizer.show()  # finalize and render figure"
   ]
  },
  {
   "cell_type": "markdown",
   "id": "5a57ec79",
   "metadata": {},
   "source": [
    "In [39]:"
   ]
  },
  {
   "cell_type": "markdown",
   "id": "f6fa9008",
   "metadata": {},
   "source": [
    "model = KMeans(random_state=1)\n",
    "visualizer = KElbowVisualizer(model, k=(2, 15), metric=\"silhouette\", timings=True)\n",
    "visualizer.fit(k_means_df)  # fit the data to the visualizer\n",
    "visualizer.show()  # finalize and render figure"
   ]
  },
  {
   "cell_type": "markdown",
   "id": "6c82a361",
   "metadata": {},
   "source": [
    "model = KMeans(random_state=1)\n",
    "visualizer = KElbowVisualizer(model, k=(2, 15), metric=\"silhouette\", timings=True)\n",
    "visualizer.fit(k_means_df)  # fit the data to the visualizer\n",
    "visualizer.show()  # finalize and render figure"
   ]
  },
  {
   "cell_type": "markdown",
   "id": "260c5824",
   "metadata": {},
   "source": [
    "model = KMeans(random_state=1)\n",
    "visualizer = KElbowVisualizer(model, k=(2, 15), metric=\"silhouette\", timings=True)\n",
    "visualizer.fit(k_means_df)  # fit the data to the visualizer\n",
    "visualizer.show()  # finalize and render figure"
   ]
  },
  {
   "cell_type": "markdown",
   "id": "2542b3d1",
   "metadata": {},
   "source": [
    "model = KMeans(random_state=1)\n",
    "visualizer = KElbowVisualizer(model, k=(2, 15), metric=\"silhouette\", timings=True)\n",
    "visualizer.fit(k_means_df)  # fit the data to the visualizer\n",
    "visualizer.show()  # finalize and render figure"
   ]
  },
  {
   "cell_type": "markdown",
   "id": "39f4b4be",
   "metadata": {},
   "source": [
    "Out[39]:\n",
    "\n",
    "<AxesSubplot:title={'center':'Silhouette Score Elbow for KMeans Clustering'}, xlabel='k', ylabel='silhouette score'>"
   ]
  },
  {
   "cell_type": "markdown",
   "id": "48ba0f63",
   "metadata": {},
   "source": []
  },
  {
   "cell_type": "markdown",
   "id": "66b99d88",
   "metadata": {},
   "source": [
    "Out[39]:\n",
    "\n",
    "<AxesSubplot:title={'center':'Silhouette Score Elbow for KMeans Clustering'}, xlabel='k', ylabel='silhouette score'>"
   ]
  },
  {
   "cell_type": "markdown",
   "id": "61d049f7",
   "metadata": {},
   "source": []
  },
  {
   "cell_type": "markdown",
   "id": "3ee49162",
   "metadata": {},
   "source": []
  },
  {
   "cell_type": "markdown",
   "id": "9eda1076",
   "metadata": {},
   "source": []
  },
  {
   "cell_type": "markdown",
   "id": "5e811bb2",
   "metadata": {},
   "source": [
    "Out[39]:\n",
    "\n",
    "<AxesSubplot:title={'center':'Silhouette Score Elbow for KMeans Clustering'}, xlabel='k', ylabel='silhouette score'>"
   ]
  },
  {
   "cell_type": "markdown",
   "id": "09aacea2",
   "metadata": {},
   "source": [
    "Out[39]:"
   ]
  },
  {
   "cell_type": "markdown",
   "id": "324223b1",
   "metadata": {},
   "source": [
    "<AxesSubplot:title={'center':'Silhouette Score Elbow for KMeans Clustering'}, xlabel='k', ylabel='silhouette score'>"
   ]
  },
  {
   "cell_type": "markdown",
   "id": "5cbf7aaf",
   "metadata": {},
   "source": [
    "<AxesSubplot:title={'center':'Silhouette Score Elbow for KMeans Clustering'}, xlabel='k', ylabel='silhouette score'>"
   ]
  },
  {
   "cell_type": "markdown",
   "id": "0476c730",
   "metadata": {},
   "source": [
    "In [40]:\n",
    "\n",
    "\n",
    "# finding optimal no. of clusters with silhouette coefficients\n",
    "visualizer = SilhouetteVisualizer(KMeans(6, random_state=1))   # try 6 clusters\n",
    "##  visualize the silhouette scores for certain number of clusters\n",
    "visualizer.fit(k_means_df)\n",
    "visualizer.show()\n",
    "\n",
    "\n",
    "\n",
    "\n",
    "\n",
    "\n",
    "\n",
    "\n",
    "\n",
    "\n",
    "\n",
    "\n",
    "\n",
    "\n",
    "\n",
    "\n",
    "Out[40]:\n",
    "\n",
    "<AxesSubplot:title={'center':'Silhouette Plot of KMeans Clustering for 340 Samples in 6 Centers'}, xlabel='silhouette coefficient values', ylabel='cluster label'>"
   ]
  },
  {
   "cell_type": "markdown",
   "id": "5c6fe6e8",
   "metadata": {},
   "source": [
    "In [40]:\n",
    "\n",
    "\n",
    "# finding optimal no. of clusters with silhouette coefficients\n",
    "visualizer = SilhouetteVisualizer(KMeans(6, random_state=1))   # try 6 clusters\n",
    "##  visualize the silhouette scores for certain number of clusters\n",
    "visualizer.fit(k_means_df)\n",
    "visualizer.show()"
   ]
  },
  {
   "cell_type": "markdown",
   "id": "e398755f",
   "metadata": {},
   "source": []
  },
  {
   "cell_type": "markdown",
   "id": "d0d36eb3",
   "metadata": {},
   "source": [
    "In [40]:\n",
    "\n",
    "\n",
    "# finding optimal no. of clusters with silhouette coefficients\n",
    "visualizer = SilhouetteVisualizer(KMeans(6, random_state=1))   # try 6 clusters\n",
    "##  visualize the silhouette scores for certain number of clusters\n",
    "visualizer.fit(k_means_df)\n",
    "visualizer.show()"
   ]
  },
  {
   "cell_type": "markdown",
   "id": "c3ca23af",
   "metadata": {},
   "source": [
    "In [40]:"
   ]
  },
  {
   "cell_type": "markdown",
   "id": "50ece97d",
   "metadata": {},
   "source": [
    "# finding optimal no. of clusters with silhouette coefficients\n",
    "visualizer = SilhouetteVisualizer(KMeans(6, random_state=1))   # try 6 clusters\n",
    "##  visualize the silhouette scores for certain number of clusters\n",
    "visualizer.fit(k_means_df)\n",
    "visualizer.show()"
   ]
  },
  {
   "cell_type": "markdown",
   "id": "71bab65f",
   "metadata": {},
   "source": [
    "# finding optimal no. of clusters with silhouette coefficients\n",
    "visualizer = SilhouetteVisualizer(KMeans(6, random_state=1))   # try 6 clusters\n",
    "##  visualize the silhouette scores for certain number of clusters\n",
    "visualizer.fit(k_means_df)\n",
    "visualizer.show()"
   ]
  },
  {
   "cell_type": "markdown",
   "id": "efbfd36f",
   "metadata": {},
   "source": [
    "# finding optimal no. of clusters with silhouette coefficients\n",
    "visualizer = SilhouetteVisualizer(KMeans(6, random_state=1))   # try 6 clusters\n",
    "##  visualize the silhouette scores for certain number of clusters\n",
    "visualizer.fit(k_means_df)\n",
    "visualizer.show()"
   ]
  },
  {
   "cell_type": "markdown",
   "id": "419294a3",
   "metadata": {},
   "source": [
    "# finding optimal no. of clusters with silhouette coefficients\n",
    "visualizer = SilhouetteVisualizer(KMeans(6, random_state=1))   # try 6 clusters\n",
    "##  visualize the silhouette scores for certain number of clusters\n",
    "visualizer.fit(k_means_df)\n",
    "visualizer.show()"
   ]
  },
  {
   "cell_type": "markdown",
   "id": "481a3078",
   "metadata": {},
   "source": [
    "Out[40]:\n",
    "\n",
    "<AxesSubplot:title={'center':'Silhouette Plot of KMeans Clustering for 340 Samples in 6 Centers'}, xlabel='silhouette coefficient values', ylabel='cluster label'>"
   ]
  },
  {
   "cell_type": "markdown",
   "id": "ca0f7dfc",
   "metadata": {},
   "source": []
  },
  {
   "cell_type": "markdown",
   "id": "16aa5875",
   "metadata": {},
   "source": [
    "Out[40]:\n",
    "\n",
    "<AxesSubplot:title={'center':'Silhouette Plot of KMeans Clustering for 340 Samples in 6 Centers'}, xlabel='silhouette coefficient values', ylabel='cluster label'>"
   ]
  },
  {
   "cell_type": "markdown",
   "id": "73707298",
   "metadata": {},
   "source": []
  },
  {
   "cell_type": "markdown",
   "id": "d50ad41d",
   "metadata": {},
   "source": []
  },
  {
   "cell_type": "markdown",
   "id": "833bcdca",
   "metadata": {},
   "source": []
  },
  {
   "cell_type": "markdown",
   "id": "dc1a9731",
   "metadata": {},
   "source": [
    "Out[40]:\n",
    "\n",
    "<AxesSubplot:title={'center':'Silhouette Plot of KMeans Clustering for 340 Samples in 6 Centers'}, xlabel='silhouette coefficient values', ylabel='cluster label'>"
   ]
  },
  {
   "cell_type": "markdown",
   "id": "f5d8f0c4",
   "metadata": {},
   "source": [
    "Out[40]:"
   ]
  },
  {
   "cell_type": "markdown",
   "id": "1579a36f",
   "metadata": {},
   "source": [
    "<AxesSubplot:title={'center':'Silhouette Plot of KMeans Clustering for 340 Samples in 6 Centers'}, xlabel='silhouette coefficient values', ylabel='cluster label'>"
   ]
  },
  {
   "cell_type": "markdown",
   "id": "4fb6daee",
   "metadata": {},
   "source": [
    "<AxesSubplot:title={'center':'Silhouette Plot of KMeans Clustering for 340 Samples in 6 Centers'}, xlabel='silhouette coefficient values', ylabel='cluster label'>"
   ]
  },
  {
   "cell_type": "markdown",
   "id": "c3f8b364",
   "metadata": {},
   "source": [
    "In [41]:\n",
    "\n",
    "\n",
    "# finding optimal no. of clusters with silhouette coefficients\n",
    "visualizer = SilhouetteVisualizer(KMeans(4, random_state=1))  # try 4 clusters\n",
    "##  visualize the silhouette scores for certain number of clusters\n",
    "visualizer.fit(k_means_df)\n",
    "visualizer.show()\n",
    "\n",
    "\n",
    "\n",
    "\n",
    "\n",
    "\n",
    "\n",
    "\n",
    "\n",
    "\n",
    "\n",
    "\n",
    "\n",
    "\n",
    "\n",
    "\n",
    "Out[41]:\n",
    "\n",
    "<AxesSubplot:title={'center':'Silhouette Plot of KMeans Clustering for 340 Samples in 4 Centers'}, xlabel='silhouette coefficient values', ylabel='cluster label'>"
   ]
  },
  {
   "cell_type": "markdown",
   "id": "db052f95",
   "metadata": {},
   "source": [
    "In [41]:\n",
    "\n",
    "\n",
    "# finding optimal no. of clusters with silhouette coefficients\n",
    "visualizer = SilhouetteVisualizer(KMeans(4, random_state=1))  # try 4 clusters\n",
    "##  visualize the silhouette scores for certain number of clusters\n",
    "visualizer.fit(k_means_df)\n",
    "visualizer.show()"
   ]
  },
  {
   "cell_type": "markdown",
   "id": "6a503f8f",
   "metadata": {},
   "source": []
  },
  {
   "cell_type": "markdown",
   "id": "6478352e",
   "metadata": {},
   "source": [
    "In [41]:\n",
    "\n",
    "\n",
    "# finding optimal no. of clusters with silhouette coefficients\n",
    "visualizer = SilhouetteVisualizer(KMeans(4, random_state=1))  # try 4 clusters\n",
    "##  visualize the silhouette scores for certain number of clusters\n",
    "visualizer.fit(k_means_df)\n",
    "visualizer.show()"
   ]
  },
  {
   "cell_type": "markdown",
   "id": "3f690bf4",
   "metadata": {},
   "source": [
    "In [41]:"
   ]
  },
  {
   "cell_type": "markdown",
   "id": "a503a199",
   "metadata": {},
   "source": [
    "# finding optimal no. of clusters with silhouette coefficients\n",
    "visualizer = SilhouetteVisualizer(KMeans(4, random_state=1))  # try 4 clusters\n",
    "##  visualize the silhouette scores for certain number of clusters\n",
    "visualizer.fit(k_means_df)\n",
    "visualizer.show()"
   ]
  },
  {
   "cell_type": "markdown",
   "id": "51e614f9",
   "metadata": {},
   "source": [
    "# finding optimal no. of clusters with silhouette coefficients\n",
    "visualizer = SilhouetteVisualizer(KMeans(4, random_state=1))  # try 4 clusters\n",
    "##  visualize the silhouette scores for certain number of clusters\n",
    "visualizer.fit(k_means_df)\n",
    "visualizer.show()"
   ]
  },
  {
   "cell_type": "markdown",
   "id": "3fb82f0c",
   "metadata": {},
   "source": [
    "# finding optimal no. of clusters with silhouette coefficients\n",
    "visualizer = SilhouetteVisualizer(KMeans(4, random_state=1))  # try 4 clusters\n",
    "##  visualize the silhouette scores for certain number of clusters\n",
    "visualizer.fit(k_means_df)\n",
    "visualizer.show()"
   ]
  },
  {
   "cell_type": "markdown",
   "id": "204de8f3",
   "metadata": {},
   "source": [
    "# finding optimal no. of clusters with silhouette coefficients\n",
    "visualizer = SilhouetteVisualizer(KMeans(4, random_state=1))  # try 4 clusters\n",
    "##  visualize the silhouette scores for certain number of clusters\n",
    "visualizer.fit(k_means_df)\n",
    "visualizer.show()"
   ]
  },
  {
   "cell_type": "markdown",
   "id": "5774c1c2",
   "metadata": {},
   "source": [
    "Out[41]:\n",
    "\n",
    "<AxesSubplot:title={'center':'Silhouette Plot of KMeans Clustering for 340 Samples in 4 Centers'}, xlabel='silhouette coefficient values', ylabel='cluster label'>"
   ]
  },
  {
   "cell_type": "markdown",
   "id": "11689430",
   "metadata": {},
   "source": []
  },
  {
   "cell_type": "markdown",
   "id": "dbf1d149",
   "metadata": {},
   "source": [
    "Out[41]:\n",
    "\n",
    "<AxesSubplot:title={'center':'Silhouette Plot of KMeans Clustering for 340 Samples in 4 Centers'}, xlabel='silhouette coefficient values', ylabel='cluster label'>"
   ]
  },
  {
   "cell_type": "markdown",
   "id": "ae441790",
   "metadata": {},
   "source": []
  },
  {
   "cell_type": "markdown",
   "id": "ea8b0ff1",
   "metadata": {},
   "source": []
  },
  {
   "cell_type": "markdown",
   "id": "9e1531c8",
   "metadata": {},
   "source": []
  },
  {
   "cell_type": "markdown",
   "id": "88fa93e9",
   "metadata": {},
   "source": [
    "Out[41]:\n",
    "\n",
    "<AxesSubplot:title={'center':'Silhouette Plot of KMeans Clustering for 340 Samples in 4 Centers'}, xlabel='silhouette coefficient values', ylabel='cluster label'>"
   ]
  },
  {
   "cell_type": "markdown",
   "id": "36a359ea",
   "metadata": {},
   "source": [
    "Out[41]:"
   ]
  },
  {
   "cell_type": "markdown",
   "id": "bbd7ad0d",
   "metadata": {},
   "source": [
    "<AxesSubplot:title={'center':'Silhouette Plot of KMeans Clustering for 340 Samples in 4 Centers'}, xlabel='silhouette coefficient values', ylabel='cluster label'>"
   ]
  },
  {
   "cell_type": "markdown",
   "id": "88066fc7",
   "metadata": {},
   "source": [
    "<AxesSubplot:title={'center':'Silhouette Plot of KMeans Clustering for 340 Samples in 4 Centers'}, xlabel='silhouette coefficient values', ylabel='cluster label'>"
   ]
  },
  {
   "cell_type": "markdown",
   "id": "21ac198c",
   "metadata": {},
   "source": [
    "In [42]:\n",
    "\n",
    "\n",
    "# final K-means model\n",
    "kmeans = KMeans(n_clusters=4, random_state=1)  ## choose 4 as the number of clusters\n",
    "kmeans.fit(k_means_df)\n",
    "\n",
    "\n",
    "\n",
    "\n",
    "\n",
    "\n",
    "\n",
    "\n",
    "\n",
    "\n",
    "Out[42]:\n",
    "\n",
    "KMeans(n_clusters=4, random_state=1)"
   ]
  },
  {
   "cell_type": "markdown",
   "id": "5aae052f",
   "metadata": {},
   "source": [
    "In [42]:\n",
    "\n",
    "\n",
    "# final K-means model\n",
    "kmeans = KMeans(n_clusters=4, random_state=1)  ## choose 4 as the number of clusters\n",
    "kmeans.fit(k_means_df)"
   ]
  },
  {
   "cell_type": "markdown",
   "id": "78304e87",
   "metadata": {},
   "source": []
  },
  {
   "cell_type": "markdown",
   "id": "0764e7ba",
   "metadata": {},
   "source": [
    "In [42]:\n",
    "\n",
    "\n",
    "# final K-means model\n",
    "kmeans = KMeans(n_clusters=4, random_state=1)  ## choose 4 as the number of clusters\n",
    "kmeans.fit(k_means_df)"
   ]
  },
  {
   "cell_type": "markdown",
   "id": "06c1ef16",
   "metadata": {},
   "source": [
    "In [42]:"
   ]
  },
  {
   "cell_type": "markdown",
   "id": "5c6787d3",
   "metadata": {},
   "source": [
    "# final K-means model\n",
    "kmeans = KMeans(n_clusters=4, random_state=1)  ## choose 4 as the number of clusters\n",
    "kmeans.fit(k_means_df)"
   ]
  },
  {
   "cell_type": "markdown",
   "id": "fe763b7a",
   "metadata": {},
   "source": [
    "# final K-means model\n",
    "kmeans = KMeans(n_clusters=4, random_state=1)  ## choose 4 as the number of clusters\n",
    "kmeans.fit(k_means_df)"
   ]
  },
  {
   "cell_type": "markdown",
   "id": "f5a0b70e",
   "metadata": {},
   "source": [
    "# final K-means model\n",
    "kmeans = KMeans(n_clusters=4, random_state=1)  ## choose 4 as the number of clusters\n",
    "kmeans.fit(k_means_df)"
   ]
  },
  {
   "cell_type": "markdown",
   "id": "4360dfa8",
   "metadata": {},
   "source": [
    "# final K-means model\n",
    "kmeans = KMeans(n_clusters=4, random_state=1)  ## choose 4 as the number of clusters\n",
    "kmeans.fit(k_means_df)"
   ]
  },
  {
   "cell_type": "markdown",
   "id": "db305136",
   "metadata": {},
   "source": [
    "Out[42]:\n",
    "\n",
    "KMeans(n_clusters=4, random_state=1)"
   ]
  },
  {
   "cell_type": "markdown",
   "id": "15e04964",
   "metadata": {},
   "source": []
  },
  {
   "cell_type": "markdown",
   "id": "4285af55",
   "metadata": {},
   "source": [
    "Out[42]:\n",
    "\n",
    "KMeans(n_clusters=4, random_state=1)"
   ]
  },
  {
   "cell_type": "markdown",
   "id": "8f85dcdf",
   "metadata": {},
   "source": [
    "Out[42]:\n",
    "\n",
    "KMeans(n_clusters=4, random_state=1)"
   ]
  },
  {
   "cell_type": "markdown",
   "id": "c471642e",
   "metadata": {},
   "source": [
    "Out[42]:"
   ]
  },
  {
   "cell_type": "markdown",
   "id": "cea8215a",
   "metadata": {},
   "source": [
    "KMeans(n_clusters=4, random_state=1)"
   ]
  },
  {
   "cell_type": "markdown",
   "id": "7cc29716",
   "metadata": {},
   "source": [
    "KMeans(n_clusters=4, random_state=1)"
   ]
  },
  {
   "cell_type": "markdown",
   "id": "8c3bd680",
   "metadata": {},
   "source": [
    "In [43]:\n",
    "\n",
    "\n",
    "# creating a copy of the original data\n",
    "df1 = df.copy()\n",
    "\n",
    "# adding kmeans cluster labels to the original and scaled dataframes\n",
    "k_means_df[\"KM_segments\"] = kmeans.labels_\n",
    "df1[\"KM_segments\"] = kmeans.labels_"
   ]
  },
  {
   "cell_type": "markdown",
   "id": "1ae1cd36",
   "metadata": {},
   "source": [
    "In [43]:\n",
    "\n",
    "\n",
    "# creating a copy of the original data\n",
    "df1 = df.copy()\n",
    "\n",
    "# adding kmeans cluster labels to the original and scaled dataframes\n",
    "k_means_df[\"KM_segments\"] = kmeans.labels_\n",
    "df1[\"KM_segments\"] = kmeans.labels_"
   ]
  },
  {
   "cell_type": "markdown",
   "id": "ef7ff439",
   "metadata": {},
   "source": []
  },
  {
   "cell_type": "markdown",
   "id": "c6b16689",
   "metadata": {},
   "source": [
    "In [43]:\n",
    "\n",
    "\n",
    "# creating a copy of the original data\n",
    "df1 = df.copy()\n",
    "\n",
    "# adding kmeans cluster labels to the original and scaled dataframes\n",
    "k_means_df[\"KM_segments\"] = kmeans.labels_\n",
    "df1[\"KM_segments\"] = kmeans.labels_"
   ]
  },
  {
   "cell_type": "markdown",
   "id": "6fa4c7e6",
   "metadata": {},
   "source": [
    "In [43]:"
   ]
  },
  {
   "cell_type": "markdown",
   "id": "468e75db",
   "metadata": {},
   "source": [
    "# creating a copy of the original data\n",
    "df1 = df.copy()\n",
    "\n",
    "# adding kmeans cluster labels to the original and scaled dataframes\n",
    "k_means_df[\"KM_segments\"] = kmeans.labels_\n",
    "df1[\"KM_segments\"] = kmeans.labels_"
   ]
  },
  {
   "cell_type": "markdown",
   "id": "29505995",
   "metadata": {},
   "source": [
    "# creating a copy of the original data\n",
    "df1 = df.copy()\n",
    "\n",
    "# adding kmeans cluster labels to the original and scaled dataframes\n",
    "k_means_df[\"KM_segments\"] = kmeans.labels_\n",
    "df1[\"KM_segments\"] = kmeans.labels_"
   ]
  },
  {
   "cell_type": "markdown",
   "id": "bb0c44e8",
   "metadata": {},
   "source": [
    "# creating a copy of the original data\n",
    "df1 = df.copy()\n",
    "\n",
    "# adding kmeans cluster labels to the original and scaled dataframes\n",
    "k_means_df[\"KM_segments\"] = kmeans.labels_\n",
    "df1[\"KM_segments\"] = kmeans.labels_"
   ]
  },
  {
   "cell_type": "markdown",
   "id": "791166f7",
   "metadata": {},
   "source": [
    "# creating a copy of the original data\n",
    "df1 = df.copy()\n",
    "\n",
    "# adding kmeans cluster labels to the original and scaled dataframes\n",
    "k_means_df[\"KM_segments\"] = kmeans.labels_\n",
    "df1[\"KM_segments\"] = kmeans.labels_"
   ]
  },
  {
   "cell_type": "markdown",
   "id": "fa7085d4",
   "metadata": {},
   "source": [
    "Cluster Profiles¶"
   ]
  },
  {
   "cell_type": "markdown",
   "id": "0d7c62db",
   "metadata": {},
   "source": [
    "Cluster Profiles¶"
   ]
  },
  {
   "cell_type": "markdown",
   "id": "a7d774c4",
   "metadata": {},
   "source": []
  },
  {
   "cell_type": "markdown",
   "id": "f32ee985",
   "metadata": {},
   "source": [
    "Cluster Profiles¶"
   ]
  },
  {
   "cell_type": "markdown",
   "id": "f7850105",
   "metadata": {},
   "source": []
  },
  {
   "cell_type": "markdown",
   "id": "35fb7ebd",
   "metadata": {},
   "source": [
    "Cluster Profiles¶"
   ]
  },
  {
   "cell_type": "markdown",
   "id": "46a041ad",
   "metadata": {},
   "source": [
    "In [44]:\n",
    "\n",
    "\n",
    "km_cluster_profile = df1.groupby(\"KM_segments\").mean()  ##  groupby the cluster labels"
   ]
  },
  {
   "cell_type": "markdown",
   "id": "b28b5de3",
   "metadata": {},
   "source": [
    "In [44]:\n",
    "\n",
    "\n",
    "km_cluster_profile = df1.groupby(\"KM_segments\").mean()  ##  groupby the cluster labels"
   ]
  },
  {
   "cell_type": "markdown",
   "id": "c5102ced",
   "metadata": {},
   "source": []
  },
  {
   "cell_type": "markdown",
   "id": "82a7edcc",
   "metadata": {},
   "source": [
    "In [44]:\n",
    "\n",
    "\n",
    "km_cluster_profile = df1.groupby(\"KM_segments\").mean()  ##  groupby the cluster labels"
   ]
  },
  {
   "cell_type": "markdown",
   "id": "42c8bef7",
   "metadata": {},
   "source": [
    "In [44]:"
   ]
  },
  {
   "cell_type": "markdown",
   "id": "df05dc1a",
   "metadata": {},
   "source": [
    "km_cluster_profile = df1.groupby(\"KM_segments\").mean()  ##  groupby the cluster labels"
   ]
  },
  {
   "cell_type": "markdown",
   "id": "5e5520a0",
   "metadata": {},
   "source": [
    "km_cluster_profile = df1.groupby(\"KM_segments\").mean()  ##  groupby the cluster labels"
   ]
  },
  {
   "cell_type": "markdown",
   "id": "d44ebc06",
   "metadata": {},
   "source": [
    "km_cluster_profile = df1.groupby(\"KM_segments\").mean()  ##  groupby the cluster labels"
   ]
  },
  {
   "cell_type": "markdown",
   "id": "65c34ac7",
   "metadata": {},
   "source": [
    "km_cluster_profile = df1.groupby(\"KM_segments\").mean()  ##  groupby the cluster labels"
   ]
  },
  {
   "cell_type": "markdown",
   "id": "d7441c54",
   "metadata": {},
   "source": [
    "In [45]:\n",
    "\n",
    "\n",
    "km_cluster_profile[\"count_in_each_segment\"] = (\n",
    "    df1.groupby(\"KM_segments\")[\"Security\"].count().values  ##  groupby the cluster labels\n",
    ")"
   ]
  },
  {
   "cell_type": "markdown",
   "id": "663178bd",
   "metadata": {},
   "source": [
    "In [45]:\n",
    "\n",
    "\n",
    "km_cluster_profile[\"count_in_each_segment\"] = (\n",
    "    df1.groupby(\"KM_segments\")[\"Security\"].count().values  ##  groupby the cluster labels\n",
    ")"
   ]
  },
  {
   "cell_type": "markdown",
   "id": "20333144",
   "metadata": {},
   "source": []
  },
  {
   "cell_type": "markdown",
   "id": "58f1b4d9",
   "metadata": {},
   "source": [
    "In [45]:\n",
    "\n",
    "\n",
    "km_cluster_profile[\"count_in_each_segment\"] = (\n",
    "    df1.groupby(\"KM_segments\")[\"Security\"].count().values  ##  groupby the cluster labels\n",
    ")"
   ]
  },
  {
   "cell_type": "markdown",
   "id": "8058133c",
   "metadata": {},
   "source": [
    "In [45]:"
   ]
  },
  {
   "cell_type": "markdown",
   "id": "1f0c0997",
   "metadata": {},
   "source": [
    "km_cluster_profile[\"count_in_each_segment\"] = (\n",
    "    df1.groupby(\"KM_segments\")[\"Security\"].count().values  ##  groupby the cluster labels\n",
    ")"
   ]
  },
  {
   "cell_type": "markdown",
   "id": "4ff124c9",
   "metadata": {},
   "source": [
    "km_cluster_profile[\"count_in_each_segment\"] = (\n",
    "    df1.groupby(\"KM_segments\")[\"Security\"].count().values  ##  groupby the cluster labels\n",
    ")"
   ]
  },
  {
   "cell_type": "markdown",
   "id": "ff3ab9c7",
   "metadata": {},
   "source": [
    "km_cluster_profile[\"count_in_each_segment\"] = (\n",
    "    df1.groupby(\"KM_segments\")[\"Security\"].count().values  ##  groupby the cluster labels\n",
    ")"
   ]
  },
  {
   "cell_type": "markdown",
   "id": "e8bbc9ad",
   "metadata": {},
   "source": [
    "km_cluster_profile[\"count_in_each_segment\"] = (\n",
    "    df1.groupby(\"KM_segments\")[\"Security\"].count().values  ##  groupby the cluster labels\n",
    ")"
   ]
  },
  {
   "cell_type": "markdown",
   "id": "abae020c",
   "metadata": {},
   "source": [
    "In [46]:\n",
    "\n",
    "\n",
    "km_cluster_profile.style.highlight_max(color=\"lightgreen\", axis=0)\n",
    "\n",
    "\n",
    "\n",
    "\n",
    "\n",
    "\n",
    "\n",
    "\n",
    "\n",
    "\n",
    "Out[46]:\n",
    "\n",
    "\n",
    "\n",
    "\n",
    "\n",
    " \n",
    "Current Price\n",
    "Price Change\n",
    "Volatility\n",
    "ROE\n",
    "Cash Ratio\n",
    "Net Cash Flow\n",
    "Net Income\n",
    "Earnings Per Share\n",
    "Estimated Shares Outstanding\n",
    "P/E Ratio\n",
    "P/B Ratio\n",
    "count_in_each_segment\n",
    "\n",
    "\n",
    "KM_segments\n",
    " \n",
    " \n",
    " \n",
    " \n",
    " \n",
    " \n",
    " \n",
    " \n",
    " \n",
    " \n",
    " \n",
    " \n",
    "\n",
    "\n",
    "\n",
    "\n",
    "0\n",
    "72.399112\n",
    "5.066225\n",
    "1.388319\n",
    "34.620939\n",
    "53.000000\n",
    "-14046223.826715\n",
    "1482212389.891697\n",
    "3.621029\n",
    "438533835.667184\n",
    "23.843656\n",
    "-3.358948\n",
    "277\n",
    "\n",
    "\n",
    "1\n",
    "50.517273\n",
    "5.747586\n",
    "1.130399\n",
    "31.090909\n",
    "75.909091\n",
    "-1072272727.272727\n",
    "14833090909.090910\n",
    "4.154545\n",
    "4298826628.727273\n",
    "14.803577\n",
    "-4.552119\n",
    "11\n",
    "\n",
    "\n",
    "2\n",
    "38.099260\n",
    "-15.370329\n",
    "2.910500\n",
    "107.074074\n",
    "50.037037\n",
    "-159428481.481481\n",
    "-3887457740.740741\n",
    "-9.473704\n",
    "480398572.845926\n",
    "90.619220\n",
    "1.342067\n",
    "27\n",
    "\n",
    "\n",
    "3\n",
    "234.170932\n",
    "13.400685\n",
    "1.729989\n",
    "25.600000\n",
    "277.640000\n",
    "1554926560.000000\n",
    "1572611680.000000\n",
    "6.045200\n",
    "578316318.948800\n",
    "74.960824\n",
    "14.402452\n",
    "25"
   ]
  },
  {
   "cell_type": "markdown",
   "id": "f5915e31",
   "metadata": {},
   "source": [
    "In [46]:\n",
    "\n",
    "\n",
    "km_cluster_profile.style.highlight_max(color=\"lightgreen\", axis=0)"
   ]
  },
  {
   "cell_type": "markdown",
   "id": "9e9c2b0a",
   "metadata": {},
   "source": []
  },
  {
   "cell_type": "markdown",
   "id": "a23d813c",
   "metadata": {},
   "source": [
    "In [46]:\n",
    "\n",
    "\n",
    "km_cluster_profile.style.highlight_max(color=\"lightgreen\", axis=0)"
   ]
  },
  {
   "cell_type": "markdown",
   "id": "a516c11c",
   "metadata": {},
   "source": [
    "In [46]:"
   ]
  },
  {
   "cell_type": "markdown",
   "id": "022d5e99",
   "metadata": {},
   "source": [
    "km_cluster_profile.style.highlight_max(color=\"lightgreen\", axis=0)"
   ]
  },
  {
   "cell_type": "markdown",
   "id": "580db78a",
   "metadata": {},
   "source": [
    "km_cluster_profile.style.highlight_max(color=\"lightgreen\", axis=0)"
   ]
  },
  {
   "cell_type": "markdown",
   "id": "d99b1e1a",
   "metadata": {},
   "source": [
    "km_cluster_profile.style.highlight_max(color=\"lightgreen\", axis=0)"
   ]
  },
  {
   "cell_type": "markdown",
   "id": "4e310147",
   "metadata": {},
   "source": [
    "km_cluster_profile.style.highlight_max(color=\"lightgreen\", axis=0)"
   ]
  },
  {
   "cell_type": "markdown",
   "id": "a9e54390",
   "metadata": {},
   "source": [
    "Out[46]:\n",
    "\n",
    "\n",
    "\n",
    "\n",
    "\n",
    " \n",
    "Current Price\n",
    "Price Change\n",
    "Volatility\n",
    "ROE\n",
    "Cash Ratio\n",
    "Net Cash Flow\n",
    "Net Income\n",
    "Earnings Per Share\n",
    "Estimated Shares Outstanding\n",
    "P/E Ratio\n",
    "P/B Ratio\n",
    "count_in_each_segment\n",
    "\n",
    "\n",
    "KM_segments\n",
    " \n",
    " \n",
    " \n",
    " \n",
    " \n",
    " \n",
    " \n",
    " \n",
    " \n",
    " \n",
    " \n",
    " \n",
    "\n",
    "\n",
    "\n",
    "\n",
    "0\n",
    "72.399112\n",
    "5.066225\n",
    "1.388319\n",
    "34.620939\n",
    "53.000000\n",
    "-14046223.826715\n",
    "1482212389.891697\n",
    "3.621029\n",
    "438533835.667184\n",
    "23.843656\n",
    "-3.358948\n",
    "277\n",
    "\n",
    "\n",
    "1\n",
    "50.517273\n",
    "5.747586\n",
    "1.130399\n",
    "31.090909\n",
    "75.909091\n",
    "-1072272727.272727\n",
    "14833090909.090910\n",
    "4.154545\n",
    "4298826628.727273\n",
    "14.803577\n",
    "-4.552119\n",
    "11\n",
    "\n",
    "\n",
    "2\n",
    "38.099260\n",
    "-15.370329\n",
    "2.910500\n",
    "107.074074\n",
    "50.037037\n",
    "-159428481.481481\n",
    "-3887457740.740741\n",
    "-9.473704\n",
    "480398572.845926\n",
    "90.619220\n",
    "1.342067\n",
    "27\n",
    "\n",
    "\n",
    "3\n",
    "234.170932\n",
    "13.400685\n",
    "1.729989\n",
    "25.600000\n",
    "277.640000\n",
    "1554926560.000000\n",
    "1572611680.000000\n",
    "6.045200\n",
    "578316318.948800\n",
    "74.960824\n",
    "14.402452\n",
    "25"
   ]
  },
  {
   "cell_type": "markdown",
   "id": "a3274234",
   "metadata": {},
   "source": []
  },
  {
   "cell_type": "markdown",
   "id": "916257f1",
   "metadata": {},
   "source": [
    "Out[46]:\n",
    "\n",
    "\n",
    "\n",
    "\n",
    "\n",
    " \n",
    "Current Price\n",
    "Price Change\n",
    "Volatility\n",
    "ROE\n",
    "Cash Ratio\n",
    "Net Cash Flow\n",
    "Net Income\n",
    "Earnings Per Share\n",
    "Estimated Shares Outstanding\n",
    "P/E Ratio\n",
    "P/B Ratio\n",
    "count_in_each_segment\n",
    "\n",
    "\n",
    "KM_segments\n",
    " \n",
    " \n",
    " \n",
    " \n",
    " \n",
    " \n",
    " \n",
    " \n",
    " \n",
    " \n",
    " \n",
    " \n",
    "\n",
    "\n",
    "\n",
    "\n",
    "0\n",
    "72.399112\n",
    "5.066225\n",
    "1.388319\n",
    "34.620939\n",
    "53.000000\n",
    "-14046223.826715\n",
    "1482212389.891697\n",
    "3.621029\n",
    "438533835.667184\n",
    "23.843656\n",
    "-3.358948\n",
    "277\n",
    "\n",
    "\n",
    "1\n",
    "50.517273\n",
    "5.747586\n",
    "1.130399\n",
    "31.090909\n",
    "75.909091\n",
    "-1072272727.272727\n",
    "14833090909.090910\n",
    "4.154545\n",
    "4298826628.727273\n",
    "14.803577\n",
    "-4.552119\n",
    "11\n",
    "\n",
    "\n",
    "2\n",
    "38.099260\n",
    "-15.370329\n",
    "2.910500\n",
    "107.074074\n",
    "50.037037\n",
    "-159428481.481481\n",
    "-3887457740.740741\n",
    "-9.473704\n",
    "480398572.845926\n",
    "90.619220\n",
    "1.342067\n",
    "27\n",
    "\n",
    "\n",
    "3\n",
    "234.170932\n",
    "13.400685\n",
    "1.729989\n",
    "25.600000\n",
    "277.640000\n",
    "1554926560.000000\n",
    "1572611680.000000\n",
    "6.045200\n",
    "578316318.948800\n",
    "74.960824\n",
    "14.402452\n",
    "25"
   ]
  },
  {
   "cell_type": "markdown",
   "id": "8443170f",
   "metadata": {},
   "source": [
    "Out[46]:\n",
    "\n",
    "\n",
    "\n",
    "\n",
    "\n",
    " \n",
    "Current Price\n",
    "Price Change\n",
    "Volatility\n",
    "ROE\n",
    "Cash Ratio\n",
    "Net Cash Flow\n",
    "Net Income\n",
    "Earnings Per Share\n",
    "Estimated Shares Outstanding\n",
    "P/E Ratio\n",
    "P/B Ratio\n",
    "count_in_each_segment\n",
    "\n",
    "\n",
    "KM_segments\n",
    " \n",
    " \n",
    " \n",
    " \n",
    " \n",
    " \n",
    " \n",
    " \n",
    " \n",
    " \n",
    " \n",
    " \n",
    "\n",
    "\n",
    "\n",
    "\n",
    "0\n",
    "72.399112\n",
    "5.066225\n",
    "1.388319\n",
    "34.620939\n",
    "53.000000\n",
    "-14046223.826715\n",
    "1482212389.891697\n",
    "3.621029\n",
    "438533835.667184\n",
    "23.843656\n",
    "-3.358948\n",
    "277\n",
    "\n",
    "\n",
    "1\n",
    "50.517273\n",
    "5.747586\n",
    "1.130399\n",
    "31.090909\n",
    "75.909091\n",
    "-1072272727.272727\n",
    "14833090909.090910\n",
    "4.154545\n",
    "4298826628.727273\n",
    "14.803577\n",
    "-4.552119\n",
    "11\n",
    "\n",
    "\n",
    "2\n",
    "38.099260\n",
    "-15.370329\n",
    "2.910500\n",
    "107.074074\n",
    "50.037037\n",
    "-159428481.481481\n",
    "-3887457740.740741\n",
    "-9.473704\n",
    "480398572.845926\n",
    "90.619220\n",
    "1.342067\n",
    "27\n",
    "\n",
    "\n",
    "3\n",
    "234.170932\n",
    "13.400685\n",
    "1.729989\n",
    "25.600000\n",
    "277.640000\n",
    "1554926560.000000\n",
    "1572611680.000000\n",
    "6.045200\n",
    "578316318.948800\n",
    "74.960824\n",
    "14.402452\n",
    "25"
   ]
  },
  {
   "cell_type": "markdown",
   "id": "dc44929d",
   "metadata": {},
   "source": [
    "Out[46]:"
   ]
  },
  {
   "cell_type": "markdown",
   "id": "e3bb9456",
   "metadata": {},
   "source": [
    "Current Price\n",
    "Price Change\n",
    "Volatility\n",
    "ROE\n",
    "Cash Ratio\n",
    "Net Cash Flow\n",
    "Net Income\n",
    "Earnings Per Share\n",
    "Estimated Shares Outstanding\n",
    "P/E Ratio\n",
    "P/B Ratio\n",
    "count_in_each_segment\n",
    "\n",
    "\n",
    "KM_segments\n",
    " \n",
    " \n",
    " \n",
    " \n",
    " \n",
    " \n",
    " \n",
    " \n",
    " \n",
    " \n",
    " \n",
    " \n",
    "\n",
    "\n",
    "\n",
    "\n",
    "0\n",
    "72.399112\n",
    "5.066225\n",
    "1.388319\n",
    "34.620939\n",
    "53.000000\n",
    "-14046223.826715\n",
    "1482212389.891697\n",
    "3.621029\n",
    "438533835.667184\n",
    "23.843656\n",
    "-3.358948\n",
    "277\n",
    "\n",
    "\n",
    "1\n",
    "50.517273\n",
    "5.747586\n",
    "1.130399\n",
    "31.090909\n",
    "75.909091\n",
    "-1072272727.272727\n",
    "14833090909.090910\n",
    "4.154545\n",
    "4298826628.727273\n",
    "14.803577\n",
    "-4.552119\n",
    "11\n",
    "\n",
    "\n",
    "2\n",
    "38.099260\n",
    "-15.370329\n",
    "2.910500\n",
    "107.074074\n",
    "50.037037\n",
    "-159428481.481481\n",
    "-3887457740.740741\n",
    "-9.473704\n",
    "480398572.845926\n",
    "90.619220\n",
    "1.342067\n",
    "27\n",
    "\n",
    "\n",
    "3\n",
    "234.170932\n",
    "13.400685\n",
    "1.729989\n",
    "25.600000\n",
    "277.640000\n",
    "1554926560.000000\n",
    "1572611680.000000\n",
    "6.045200\n",
    "578316318.948800\n",
    "74.960824\n",
    "14.402452\n",
    "25"
   ]
  },
  {
   "cell_type": "markdown",
   "id": "d70b0c5b",
   "metadata": {},
   "source": [
    "In [47]:\n",
    "\n",
    "\n",
    "# check how many companies are in each cluster\n",
    "df1.groupby([\"KM_segments\"])['Security'].count()\n",
    "\n",
    "\n",
    "\n",
    "\n",
    "\n",
    "\n",
    "\n",
    "\n",
    "\n",
    "\n",
    "Out[47]:\n",
    "\n",
    "KM_segments\n",
    "0    277\n",
    "1     11\n",
    "2     27\n",
    "3     25\n",
    "Name: Security, dtype: int64"
   ]
  },
  {
   "cell_type": "markdown",
   "id": "1bea38a2",
   "metadata": {},
   "source": [
    "In [47]:\n",
    "\n",
    "\n",
    "# check how many companies are in each cluster\n",
    "df1.groupby([\"KM_segments\"])['Security'].count()"
   ]
  },
  {
   "cell_type": "markdown",
   "id": "f314b1ca",
   "metadata": {},
   "source": []
  },
  {
   "cell_type": "markdown",
   "id": "44bd7033",
   "metadata": {},
   "source": [
    "In [47]:\n",
    "\n",
    "\n",
    "# check how many companies are in each cluster\n",
    "df1.groupby([\"KM_segments\"])['Security'].count()"
   ]
  },
  {
   "cell_type": "markdown",
   "id": "2c8c2a0c",
   "metadata": {},
   "source": [
    "In [47]:"
   ]
  },
  {
   "cell_type": "markdown",
   "id": "3b4ee677",
   "metadata": {},
   "source": [
    "# check how many companies are in each cluster\n",
    "df1.groupby([\"KM_segments\"])['Security'].count()"
   ]
  },
  {
   "cell_type": "markdown",
   "id": "cef9822e",
   "metadata": {},
   "source": [
    "# check how many companies are in each cluster\n",
    "df1.groupby([\"KM_segments\"])['Security'].count()"
   ]
  },
  {
   "cell_type": "markdown",
   "id": "bd364438",
   "metadata": {},
   "source": [
    "# check how many companies are in each cluster\n",
    "df1.groupby([\"KM_segments\"])['Security'].count()"
   ]
  },
  {
   "cell_type": "markdown",
   "id": "5aff0e9b",
   "metadata": {},
   "source": [
    "# check how many companies are in each cluster\n",
    "df1.groupby([\"KM_segments\"])['Security'].count()"
   ]
  },
  {
   "cell_type": "markdown",
   "id": "91948a32",
   "metadata": {},
   "source": [
    "Out[47]:\n",
    "\n",
    "KM_segments\n",
    "0    277\n",
    "1     11\n",
    "2     27\n",
    "3     25\n",
    "Name: Security, dtype: int64"
   ]
  },
  {
   "cell_type": "markdown",
   "id": "536b094d",
   "metadata": {},
   "source": []
  },
  {
   "cell_type": "markdown",
   "id": "cb0fb9d3",
   "metadata": {},
   "source": [
    "Out[47]:\n",
    "\n",
    "KM_segments\n",
    "0    277\n",
    "1     11\n",
    "2     27\n",
    "3     25\n",
    "Name: Security, dtype: int64"
   ]
  },
  {
   "cell_type": "markdown",
   "id": "7d79396e",
   "metadata": {},
   "source": [
    "Out[47]:\n",
    "\n",
    "KM_segments\n",
    "0    277\n",
    "1     11\n",
    "2     27\n",
    "3     25\n",
    "Name: Security, dtype: int64"
   ]
  },
  {
   "cell_type": "markdown",
   "id": "79aa8f46",
   "metadata": {},
   "source": [
    "Out[47]:"
   ]
  },
  {
   "cell_type": "markdown",
   "id": "766bce07",
   "metadata": {},
   "source": [
    "KM_segments\n",
    "0    277\n",
    "1     11\n",
    "2     27\n",
    "3     25\n",
    "Name: Security, dtype: int64"
   ]
  },
  {
   "cell_type": "markdown",
   "id": "7f972b07",
   "metadata": {},
   "source": [
    "KM_segments\n",
    "0    277\n",
    "1     11\n",
    "2     27\n",
    "3     25\n",
    "Name: Security, dtype: int64"
   ]
  },
  {
   "cell_type": "markdown",
   "id": "f05ffefa",
   "metadata": {},
   "source": [
    "In [48]:\n",
    "\n",
    "\n",
    "# check how many companies by sector are in each cluster\n",
    "df1.groupby([\"KM_segments\", \"GICS Sector\"])['Security'].count()\n",
    "\n",
    "\n",
    "\n",
    "\n",
    "\n",
    "\n",
    "\n",
    "\n",
    "\n",
    "\n",
    "Out[48]:\n",
    "\n",
    "KM_segments  GICS Sector                \n",
    "0            Consumer Discretionary         33\n",
    "             Consumer Staples               17\n",
    "             Energy                          6\n",
    "             Financials                     45\n",
    "             Health Care                    29\n",
    "             Industrials                    52\n",
    "             Information Technology         24\n",
    "             Materials                      19\n",
    "             Real Estate                    26\n",
    "             Telecommunications Services     2\n",
    "             Utilities                      24\n",
    "1            Consumer Discretionary          1\n",
    "             Consumer Staples                1\n",
    "             Energy                          1\n",
    "             Financials                      3\n",
    "             Health Care                     2\n",
    "             Information Technology          1\n",
    "             Telecommunications Services     2\n",
    "2            Energy                         22\n",
    "             Industrials                     1\n",
    "             Information Technology          3\n",
    "             Materials                       1\n",
    "3            Consumer Discretionary          6\n",
    "             Consumer Staples                1\n",
    "             Energy                          1\n",
    "             Financials                      1\n",
    "             Health Care                     9\n",
    "             Information Technology          5\n",
    "             Real Estate                     1\n",
    "             Telecommunications Services     1\n",
    "Name: Security, dtype: int64"
   ]
  },
  {
   "cell_type": "markdown",
   "id": "96b62970",
   "metadata": {},
   "source": [
    "In [48]:\n",
    "\n",
    "\n",
    "# check how many companies by sector are in each cluster\n",
    "df1.groupby([\"KM_segments\", \"GICS Sector\"])['Security'].count()"
   ]
  },
  {
   "cell_type": "markdown",
   "id": "46ab7e85",
   "metadata": {},
   "source": []
  },
  {
   "cell_type": "markdown",
   "id": "0959b93f",
   "metadata": {},
   "source": [
    "In [48]:\n",
    "\n",
    "\n",
    "# check how many companies by sector are in each cluster\n",
    "df1.groupby([\"KM_segments\", \"GICS Sector\"])['Security'].count()"
   ]
  },
  {
   "cell_type": "markdown",
   "id": "91f2c6b3",
   "metadata": {},
   "source": [
    "In [48]:"
   ]
  },
  {
   "cell_type": "markdown",
   "id": "9e23c692",
   "metadata": {},
   "source": [
    "# check how many companies by sector are in each cluster\n",
    "df1.groupby([\"KM_segments\", \"GICS Sector\"])['Security'].count()"
   ]
  },
  {
   "cell_type": "markdown",
   "id": "fab5bb82",
   "metadata": {},
   "source": [
    "# check how many companies by sector are in each cluster\n",
    "df1.groupby([\"KM_segments\", \"GICS Sector\"])['Security'].count()"
   ]
  },
  {
   "cell_type": "markdown",
   "id": "86ac9a84",
   "metadata": {},
   "source": [
    "# check how many companies by sector are in each cluster\n",
    "df1.groupby([\"KM_segments\", \"GICS Sector\"])['Security'].count()"
   ]
  },
  {
   "cell_type": "markdown",
   "id": "6434fcbd",
   "metadata": {},
   "source": [
    "# check how many companies by sector are in each cluster\n",
    "df1.groupby([\"KM_segments\", \"GICS Sector\"])['Security'].count()"
   ]
  },
  {
   "cell_type": "markdown",
   "id": "e6995825",
   "metadata": {},
   "source": [
    "Out[48]:\n",
    "\n",
    "KM_segments  GICS Sector                \n",
    "0            Consumer Discretionary         33\n",
    "             Consumer Staples               17\n",
    "             Energy                          6\n",
    "             Financials                     45\n",
    "             Health Care                    29\n",
    "             Industrials                    52\n",
    "             Information Technology         24\n",
    "             Materials                      19\n",
    "             Real Estate                    26\n",
    "             Telecommunications Services     2\n",
    "             Utilities                      24\n",
    "1            Consumer Discretionary          1\n",
    "             Consumer Staples                1\n",
    "             Energy                          1\n",
    "             Financials                      3\n",
    "             Health Care                     2\n",
    "             Information Technology          1\n",
    "             Telecommunications Services     2\n",
    "2            Energy                         22\n",
    "             Industrials                     1\n",
    "             Information Technology          3\n",
    "             Materials                       1\n",
    "3            Consumer Discretionary          6\n",
    "             Consumer Staples                1\n",
    "             Energy                          1\n",
    "             Financials                      1\n",
    "             Health Care                     9\n",
    "             Information Technology          5\n",
    "             Real Estate                     1\n",
    "             Telecommunications Services     1\n",
    "Name: Security, dtype: int64"
   ]
  },
  {
   "cell_type": "markdown",
   "id": "43eee57a",
   "metadata": {},
   "source": []
  },
  {
   "cell_type": "markdown",
   "id": "96a57946",
   "metadata": {},
   "source": [
    "Out[48]:\n",
    "\n",
    "KM_segments  GICS Sector                \n",
    "0            Consumer Discretionary         33\n",
    "             Consumer Staples               17\n",
    "             Energy                          6\n",
    "             Financials                     45\n",
    "             Health Care                    29\n",
    "             Industrials                    52\n",
    "             Information Technology         24\n",
    "             Materials                      19\n",
    "             Real Estate                    26\n",
    "             Telecommunications Services     2\n",
    "             Utilities                      24\n",
    "1            Consumer Discretionary          1\n",
    "             Consumer Staples                1\n",
    "             Energy                          1\n",
    "             Financials                      3\n",
    "             Health Care                     2\n",
    "             Information Technology          1\n",
    "             Telecommunications Services     2\n",
    "2            Energy                         22\n",
    "             Industrials                     1\n",
    "             Information Technology          3\n",
    "             Materials                       1\n",
    "3            Consumer Discretionary          6\n",
    "             Consumer Staples                1\n",
    "             Energy                          1\n",
    "             Financials                      1\n",
    "             Health Care                     9\n",
    "             Information Technology          5\n",
    "             Real Estate                     1\n",
    "             Telecommunications Services     1\n",
    "Name: Security, dtype: int64"
   ]
  },
  {
   "cell_type": "markdown",
   "id": "0ce51915",
   "metadata": {},
   "source": [
    "Out[48]:\n",
    "\n",
    "KM_segments  GICS Sector                \n",
    "0            Consumer Discretionary         33\n",
    "             Consumer Staples               17\n",
    "             Energy                          6\n",
    "             Financials                     45\n",
    "             Health Care                    29\n",
    "             Industrials                    52\n",
    "             Information Technology         24\n",
    "             Materials                      19\n",
    "             Real Estate                    26\n",
    "             Telecommunications Services     2\n",
    "             Utilities                      24\n",
    "1            Consumer Discretionary          1\n",
    "             Consumer Staples                1\n",
    "             Energy                          1\n",
    "             Financials                      3\n",
    "             Health Care                     2\n",
    "             Information Technology          1\n",
    "             Telecommunications Services     2\n",
    "2            Energy                         22\n",
    "             Industrials                     1\n",
    "             Information Technology          3\n",
    "             Materials                       1\n",
    "3            Consumer Discretionary          6\n",
    "             Consumer Staples                1\n",
    "             Energy                          1\n",
    "             Financials                      1\n",
    "             Health Care                     9\n",
    "             Information Technology          5\n",
    "             Real Estate                     1\n",
    "             Telecommunications Services     1\n",
    "Name: Security, dtype: int64"
   ]
  },
  {
   "cell_type": "markdown",
   "id": "36901b47",
   "metadata": {},
   "source": [
    "Out[48]:"
   ]
  },
  {
   "cell_type": "markdown",
   "id": "39360006",
   "metadata": {},
   "source": [
    "KM_segments  GICS Sector                \n",
    "0            Consumer Discretionary         33\n",
    "             Consumer Staples               17\n",
    "             Energy                          6\n",
    "             Financials                     45\n",
    "             Health Care                    29\n",
    "             Industrials                    52\n",
    "             Information Technology         24\n",
    "             Materials                      19\n",
    "             Real Estate                    26\n",
    "             Telecommunications Services     2\n",
    "             Utilities                      24\n",
    "1            Consumer Discretionary          1\n",
    "             Consumer Staples                1\n",
    "             Energy                          1\n",
    "             Financials                      3\n",
    "             Health Care                     2\n",
    "             Information Technology          1\n",
    "             Telecommunications Services     2\n",
    "2            Energy                         22\n",
    "             Industrials                     1\n",
    "             Information Technology          3\n",
    "             Materials                       1\n",
    "3            Consumer Discretionary          6\n",
    "             Consumer Staples                1\n",
    "             Energy                          1\n",
    "             Financials                      1\n",
    "             Health Care                     9\n",
    "             Information Technology          5\n",
    "             Real Estate                     1\n",
    "             Telecommunications Services     1\n",
    "Name: Security, dtype: int64"
   ]
  },
  {
   "cell_type": "markdown",
   "id": "37c76d34",
   "metadata": {},
   "source": [
    "KM_segments  GICS Sector                \n",
    "0            Consumer Discretionary         33\n",
    "             Consumer Staples               17\n",
    "             Energy                          6\n",
    "             Financials                     45\n",
    "             Health Care                    29\n",
    "             Industrials                    52\n",
    "             Information Technology         24\n",
    "             Materials                      19\n",
    "             Real Estate                    26\n",
    "             Telecommunications Services     2\n",
    "             Utilities                      24\n",
    "1            Consumer Discretionary          1\n",
    "             Consumer Staples                1\n",
    "             Energy                          1\n",
    "             Financials                      3\n",
    "             Health Care                     2\n",
    "             Information Technology          1\n",
    "             Telecommunications Services     2\n",
    "2            Energy                         22\n",
    "             Industrials                     1\n",
    "             Information Technology          3\n",
    "             Materials                       1\n",
    "3            Consumer Discretionary          6\n",
    "             Consumer Staples                1\n",
    "             Energy                          1\n",
    "             Financials                      1\n",
    "             Health Care                     9\n",
    "             Information Technology          5\n",
    "             Real Estate                     1\n",
    "             Telecommunications Services     1\n",
    "Name: Security, dtype: int64"
   ]
  },
  {
   "cell_type": "markdown",
   "id": "f424ee14",
   "metadata": {},
   "source": [
    "In [49]:\n",
    "\n",
    "\n",
    "##  print the companies in each cluster\n",
    "for cl in df1[\"KM_segments\"].unique():\n",
    "    print(\"In cluster {}, the following companies are present:\".format(cl))\n",
    "    print(df1[df1[\"KM_segments\"] == cl][\"Security\"].unique())\n",
    "    print()\n",
    "\n",
    "\n",
    "\n",
    "\n",
    "\n",
    "\n",
    "\n",
    "\n",
    "\n",
    "\n",
    "\n",
    "\n",
    "In cluster 0, the following companies are present:\n",
    "['American Airlines Group' 'AbbVie' 'Abbott Laboratories'\n",
    " 'Adobe Systems Inc' 'Archer-Daniels-Midland Co' 'Ameren Corp'\n",
    " 'American Electric Power' 'AFLAC Inc'\n",
    " 'American International Group, Inc.' 'Apartment Investment & Mgmt'\n",
    " 'Assurant Inc' 'Arthur J. Gallagher & Co.' 'Akamai Technologies Inc'\n",
    " 'Albemarle Corp' 'Alaska Air Group Inc' 'Allstate Corp' 'Allegion'\n",
    " 'Applied Materials Inc' 'AMETEK Inc' 'Affiliated Managers Group Inc'\n",
    " 'Ameriprise Financial' 'American Tower Corp A' 'AutoNation Inc'\n",
    " 'Anthem Inc.' 'Aon plc' 'Amphenol Corp' 'Arconic Inc'\n",
    " 'Activision Blizzard' 'AvalonBay Communities, Inc.' 'Broadcom'\n",
    " 'American Water Works Company Inc' 'American Express Co' 'Boeing Company'\n",
    " 'Baxter International Inc.' 'BB&T Corporation' 'Bard (C.R.) Inc.'\n",
    " 'The Bank of New York Mellon Corp.' 'Ball Corp' 'Bristol-Myers Squibb'\n",
    " 'Boston Scientific' 'BorgWarner' 'Boston Properties' 'Caterpillar Inc.'\n",
    " 'Chubb Limited' 'CBRE Group' 'Crown Castle International Corp.'\n",
    " 'Carnival Corp.' 'CF Industries Holdings Inc' 'Citizens Financial Group'\n",
    " 'Church & Dwight' 'C. H. Robinson Worldwide' 'Charter Communications'\n",
    " 'CIGNA Corp.' 'Cincinnati Financial' 'Colgate-Palmolive' 'Comerica Inc.'\n",
    " 'CME Group Inc.' 'Cummins Inc.' 'CMS Energy' 'Centene Corporation'\n",
    " 'CenterPoint Energy' 'Capital One Financial' 'The Cooper Companies'\n",
    " 'CSX Corp.' 'CenturyLink Inc' 'Cognizant Technology Solutions'\n",
    " 'Citrix Systems' 'CVS Health' 'Chevron Corp.' 'Dominion Resources'\n",
    " 'Delta Air Lines' 'Du Pont (E.I.)' 'Deere & Co.'\n",
    " 'Discover Financial Services' 'Quest Diagnostics' 'Danaher Corp.'\n",
    " 'The Walt Disney Company' 'Discovery Communications-A'\n",
    " 'Discovery Communications-C' 'Delphi Automotive' 'Digital Realty Trust'\n",
    " 'Dun & Bradstreet' 'Dover Corp.' 'Dr Pepper Snapple Group' 'Duke Energy'\n",
    " 'DaVita Inc.' 'eBay Inc.' 'Ecolab Inc.' 'Consolidated Edison'\n",
    " 'Equifax Inc.' \"Edison Int'l\" 'Eastman Chemical' 'Equity Residential'\n",
    " 'Eversource Energy' 'Essex Property Trust, Inc.' 'E*Trade'\n",
    " 'Eaton Corporation' 'Entergy Corp.' 'Exelon Corp.' \"Expeditors Int'l\"\n",
    " 'Expedia Inc.' 'Extra Space Storage' 'Fastenal Co'\n",
    " 'Fortune Brands Home & Security' 'FirstEnergy Corp'\n",
    " 'Fidelity National Information Services' 'Fiserv Inc' 'FLIR Systems'\n",
    " 'Fluor Corp.' 'Flowserve Corporation' 'FMC Corporation'\n",
    " 'Federal Realty Investment Trust' 'General Dynamics'\n",
    " 'General Growth Properties Inc.' 'Corning Inc.' 'General Motors'\n",
    " 'Genuine Parts' 'Garmin Ltd.' 'Goodyear Tire & Rubber'\n",
    " 'Grainger (W.W.) Inc.' 'Hasbro Inc.' 'Huntington Bancshares'\n",
    " 'HCA Holdings' 'Welltower Inc.' 'HCP Inc.' 'Hartford Financial Svc.Gp.'\n",
    " 'Harley-Davidson' \"Honeywell Int'l Inc.\" 'HP Inc.' 'Hormel Foods Corp.'\n",
    " 'Henry Schein' 'Host Hotels & Resorts' 'The Hershey Company'\n",
    " 'Humana Inc.' 'International Business Machines' 'IDEXX Laboratories'\n",
    " 'Intl Flavors & Fragrances' 'International Paper' 'Interpublic Group'\n",
    " 'Iron Mountain Incorporated' 'Illinois Tool Works' 'Invesco Ltd.'\n",
    " 'J. B. Hunt Transport Services' 'Jacobs Engineering Group'\n",
    " 'Juniper Networks' 'Kimco Realty' 'Kimberly-Clark' 'Kansas City Southern'\n",
    " 'Leggett & Platt' 'Lennar Corp.' 'Laboratory Corp. of America Holding'\n",
    " 'LKQ Corporation' 'L-3 Communications Holdings' 'Lilly (Eli) & Co.'\n",
    " 'Lockheed Martin Corp.' 'Alliant Energy Corp' 'Leucadia National Corp.'\n",
    " 'Southwest Airlines' 'Level 3 Communications' 'LyondellBasell'\n",
    " 'Mastercard Inc.' 'Mid-America Apartments' 'Macerich' \"Marriott Int'l.\"\n",
    " 'Masco Corp.' 'Mattel Inc.' \"Moody's Corp\" 'Mondelez International'\n",
    " 'MetLife Inc.' 'Mohawk Industries' 'Mead Johnson' 'McCormick & Co.'\n",
    " 'Martin Marietta Materials' 'Marsh & McLennan' '3M Company'\n",
    " 'Altria Group Inc' 'The Mosaic Company' 'Marathon Petroleum'\n",
    " 'Merck & Co.' 'M&T Bank Corp.' 'Mettler Toledo' 'Mylan N.V.' 'Navient'\n",
    " 'NASDAQ OMX Group' 'NextEra Energy' 'Newmont Mining Corp. (Hldg. Co.)'\n",
    " 'Nielsen Holdings' 'Norfolk Southern Corp.' 'Northern Trust Corp.'\n",
    " 'Nucor Corp.' 'Newell Brands' 'Realty Income Corporation' 'Omnicom Group'\n",
    " \"O'Reilly Automotive\" \"People's United Financial\" 'Pitney-Bowes'\n",
    " 'PACCAR Inc.' 'PG&E Corp.' 'Public Serv. Enterprise Inc.' 'PepsiCo Inc.'\n",
    " 'Principal Financial Group' 'Procter & Gamble' 'Progressive Corp.'\n",
    " 'Pulte Homes Inc.' 'Philip Morris International' 'PNC Financial Services'\n",
    " 'Pentair Ltd.' 'Pinnacle West Capital' 'PPG Industries' 'PPL Corp.'\n",
    " 'Prudential Financial' 'Phillips 66' 'Praxair Inc.' 'PayPal'\n",
    " 'Ryder System' 'Royal Caribbean Cruises Ltd' 'Robert Half International'\n",
    " 'Roper Industries' 'Republic Services Inc' 'SCANA Corp'\n",
    " 'Charles Schwab Corporation' 'Spectra Energy Corp.' 'Sealed Air'\n",
    " 'Sherwin-Williams' 'SL Green Realty' 'Scripps Networks Interactive Inc.'\n",
    " 'Southern Co.' 'Simon Property Group Inc' 'S&P Global, Inc.'\n",
    " 'Stericycle Inc' 'Sempra Energy' 'SunTrust Banks' 'State Street Corp.'\n",
    " 'Skyworks Solutions' 'Synchrony Financial' 'Stryker Corp.'\n",
    " 'Molson Coors Brewing Company' 'Tegna, Inc.' 'Torchmark Corp.'\n",
    " 'Thermo Fisher Scientific' 'The Travelers Companies Inc.'\n",
    " 'Tractor Supply Company' 'Tyson Foods' 'Tesoro Petroleum Co.'\n",
    " 'Total System Services' 'Texas Instruments' 'Under Armour'\n",
    " 'United Continental Holdings' 'UDR Inc' 'Universal Health Services, Inc.'\n",
    " 'United Health Group Inc.' 'Unum Group' 'Union Pacific'\n",
    " 'United Parcel Service' 'United Technologies' 'Varian Medical Systems'\n",
    " 'Valero Energy' 'Vulcan Materials' 'Vornado Realty Trust'\n",
    " 'Verisk Analytics' 'Verisign Inc.' 'Ventas Inc' 'Wec Energy Group Inc'\n",
    " 'Whirlpool Corp.' 'Waste Management Inc.' 'Western Union Co'\n",
    " 'Weyerhaeuser Corp.' 'Wyndham Worldwide' 'Xcel Energy Inc' 'XL Capital'\n",
    " 'Dentsply Sirona' 'Xerox Corp.' 'Xylem Inc.' 'Yum! Brands Inc'\n",
    " 'Zimmer Biomet Holdings' 'Zions Bancorp' 'Zoetis']\n",
    "\n",
    "In cluster 3, the following companies are present:\n",
    "['Analog Devices, Inc.' 'Alliance Data Systems' 'Alexion Pharmaceuticals'\n",
    " 'Amgen Inc' 'Amazon.com Inc' 'Bank of America Corp' 'BIOGEN IDEC Inc.'\n",
    " 'Celgene Corp.' 'Chipotle Mexican Grill' 'Equinix' 'Edwards Lifesciences'\n",
    " 'Facebook' 'First Solar Inc' 'Frontier Communications' 'Halliburton Co.'\n",
    " 'Intuitive Surgical Inc.' \"McDonald's Corp.\" 'Monster Beverage'\n",
    " 'Priceline.com Inc' 'Regeneron' 'TripAdvisor'\n",
    " 'Vertex Pharmaceuticals Inc' 'Waters Corporation' 'Wynn Resorts Ltd'\n",
    " 'Yahoo Inc.']\n",
    "\n",
    "In cluster 2, the following companies are present:\n",
    "['Apache Corporation' 'Anadarko Petroleum Corp' 'Baker Hughes Inc'\n",
    " 'Chesapeake Energy' 'Cabot Oil & Gas' 'Concho Resources'\n",
    " 'Devon Energy Corp.' 'EOG Resources' 'EQT Corporation'\n",
    " 'Freeport-McMoran Cp & Gld' 'Hess Corporation'\n",
    " 'Hewlett Packard Enterprise' 'Kinder Morgan' 'Marathon Oil Corp.'\n",
    " 'Murphy Oil' 'Noble Energy Inc' 'Netflix Inc.' 'Newfield Exploration Co'\n",
    " 'National Oilwell Varco Inc.' 'ONEOK' 'Occidental Petroleum'\n",
    " 'Quanta Services Inc.' 'Range Resources Corp.' 'Southwestern Energy'\n",
    " 'Teradata Corp.' 'Williams Cos.' 'Cimarex Energy']\n",
    "\n",
    "In cluster 1, the following companies are present:\n",
    "['Citigroup Inc.' 'Ford Motor' 'Gilead Sciences' 'Intel Corp.'\n",
    " 'JPMorgan Chase & Co.' 'Coca Cola Company' 'Pfizer Inc.' 'AT&T Inc'\n",
    " 'Verizon Communications' 'Wells Fargo' 'Exxon Mobil Corp.']"
   ]
  },
  {
   "cell_type": "markdown",
   "id": "c7f1c482",
   "metadata": {},
   "source": [
    "In [49]:\n",
    "\n",
    "\n",
    "##  print the companies in each cluster\n",
    "for cl in df1[\"KM_segments\"].unique():\n",
    "    print(\"In cluster {}, the following companies are present:\".format(cl))\n",
    "    print(df1[df1[\"KM_segments\"] == cl][\"Security\"].unique())\n",
    "    print()"
   ]
  },
  {
   "cell_type": "markdown",
   "id": "a4f43535",
   "metadata": {},
   "source": []
  },
  {
   "cell_type": "markdown",
   "id": "ba9c7c69",
   "metadata": {},
   "source": [
    "In [49]:\n",
    "\n",
    "\n",
    "##  print the companies in each cluster\n",
    "for cl in df1[\"KM_segments\"].unique():\n",
    "    print(\"In cluster {}, the following companies are present:\".format(cl))\n",
    "    print(df1[df1[\"KM_segments\"] == cl][\"Security\"].unique())\n",
    "    print()"
   ]
  },
  {
   "cell_type": "markdown",
   "id": "62502b7b",
   "metadata": {},
   "source": [
    "In [49]:"
   ]
  },
  {
   "cell_type": "markdown",
   "id": "54f0e038",
   "metadata": {},
   "source": [
    "##  print the companies in each cluster\n",
    "for cl in df1[\"KM_segments\"].unique():\n",
    "    print(\"In cluster {}, the following companies are present:\".format(cl))\n",
    "    print(df1[df1[\"KM_segments\"] == cl][\"Security\"].unique())\n",
    "    print()"
   ]
  },
  {
   "cell_type": "markdown",
   "id": "6aaaa30f",
   "metadata": {},
   "source": [
    "##  print the companies in each cluster\n",
    "for cl in df1[\"KM_segments\"].unique():\n",
    "    print(\"In cluster {}, the following companies are present:\".format(cl))\n",
    "    print(df1[df1[\"KM_segments\"] == cl][\"Security\"].unique())\n",
    "    print()"
   ]
  },
  {
   "cell_type": "markdown",
   "id": "4a4d16ae",
   "metadata": {},
   "source": [
    "##  print the companies in each cluster\n",
    "for cl in df1[\"KM_segments\"].unique():\n",
    "    print(\"In cluster {}, the following companies are present:\".format(cl))\n",
    "    print(df1[df1[\"KM_segments\"] == cl][\"Security\"].unique())\n",
    "    print()"
   ]
  },
  {
   "cell_type": "markdown",
   "id": "b6d0c752",
   "metadata": {},
   "source": [
    "##  print the companies in each cluster\n",
    "for cl in df1[\"KM_segments\"].unique():\n",
    "    print(\"In cluster {}, the following companies are present:\".format(cl))\n",
    "    print(df1[df1[\"KM_segments\"] == cl][\"Security\"].unique())\n",
    "    print()"
   ]
  },
  {
   "cell_type": "markdown",
   "id": "8874645e",
   "metadata": {},
   "source": [
    "In cluster 0, the following companies are present:\n",
    "['American Airlines Group' 'AbbVie' 'Abbott Laboratories'\n",
    " 'Adobe Systems Inc' 'Archer-Daniels-Midland Co' 'Ameren Corp'\n",
    " 'American Electric Power' 'AFLAC Inc'\n",
    " 'American International Group, Inc.' 'Apartment Investment & Mgmt'\n",
    " 'Assurant Inc' 'Arthur J. Gallagher & Co.' 'Akamai Technologies Inc'\n",
    " 'Albemarle Corp' 'Alaska Air Group Inc' 'Allstate Corp' 'Allegion'\n",
    " 'Applied Materials Inc' 'AMETEK Inc' 'Affiliated Managers Group Inc'\n",
    " 'Ameriprise Financial' 'American Tower Corp A' 'AutoNation Inc'\n",
    " 'Anthem Inc.' 'Aon plc' 'Amphenol Corp' 'Arconic Inc'\n",
    " 'Activision Blizzard' 'AvalonBay Communities, Inc.' 'Broadcom'\n",
    " 'American Water Works Company Inc' 'American Express Co' 'Boeing Company'\n",
    " 'Baxter International Inc.' 'BB&T Corporation' 'Bard (C.R.) Inc.'\n",
    " 'The Bank of New York Mellon Corp.' 'Ball Corp' 'Bristol-Myers Squibb'\n",
    " 'Boston Scientific' 'BorgWarner' 'Boston Properties' 'Caterpillar Inc.'\n",
    " 'Chubb Limited' 'CBRE Group' 'Crown Castle International Corp.'\n",
    " 'Carnival Corp.' 'CF Industries Holdings Inc' 'Citizens Financial Group'\n",
    " 'Church & Dwight' 'C. H. Robinson Worldwide' 'Charter Communications'\n",
    " 'CIGNA Corp.' 'Cincinnati Financial' 'Colgate-Palmolive' 'Comerica Inc.'\n",
    " 'CME Group Inc.' 'Cummins Inc.' 'CMS Energy' 'Centene Corporation'\n",
    " 'CenterPoint Energy' 'Capital One Financial' 'The Cooper Companies'\n",
    " 'CSX Corp.' 'CenturyLink Inc' 'Cognizant Technology Solutions'\n",
    " 'Citrix Systems' 'CVS Health' 'Chevron Corp.' 'Dominion Resources'\n",
    " 'Delta Air Lines' 'Du Pont (E.I.)' 'Deere & Co.'\n",
    " 'Discover Financial Services' 'Quest Diagnostics' 'Danaher Corp.'\n",
    " 'The Walt Disney Company' 'Discovery Communications-A'\n",
    " 'Discovery Communications-C' 'Delphi Automotive' 'Digital Realty Trust'\n",
    " 'Dun & Bradstreet' 'Dover Corp.' 'Dr Pepper Snapple Group' 'Duke Energy'\n",
    " 'DaVita Inc.' 'eBay Inc.' 'Ecolab Inc.' 'Consolidated Edison'\n",
    " 'Equifax Inc.' \"Edison Int'l\" 'Eastman Chemical' 'Equity Residential'\n",
    " 'Eversource Energy' 'Essex Property Trust, Inc.' 'E*Trade'\n",
    " 'Eaton Corporation' 'Entergy Corp.' 'Exelon Corp.' \"Expeditors Int'l\"\n",
    " 'Expedia Inc.' 'Extra Space Storage' 'Fastenal Co'\n",
    " 'Fortune Brands Home & Security' 'FirstEnergy Corp'\n",
    " 'Fidelity National Information Services' 'Fiserv Inc' 'FLIR Systems'\n",
    " 'Fluor Corp.' 'Flowserve Corporation' 'FMC Corporation'\n",
    " 'Federal Realty Investment Trust' 'General Dynamics'\n",
    " 'General Growth Properties Inc.' 'Corning Inc.' 'General Motors'\n",
    " 'Genuine Parts' 'Garmin Ltd.' 'Goodyear Tire & Rubber'\n",
    " 'Grainger (W.W.) Inc.' 'Hasbro Inc.' 'Huntington Bancshares'\n",
    " 'HCA Holdings' 'Welltower Inc.' 'HCP Inc.' 'Hartford Financial Svc.Gp.'\n",
    " 'Harley-Davidson' \"Honeywell Int'l Inc.\" 'HP Inc.' 'Hormel Foods Corp.'\n",
    " 'Henry Schein' 'Host Hotels & Resorts' 'The Hershey Company'\n",
    " 'Humana Inc.' 'International Business Machines' 'IDEXX Laboratories'\n",
    " 'Intl Flavors & Fragrances' 'International Paper' 'Interpublic Group'\n",
    " 'Iron Mountain Incorporated' 'Illinois Tool Works' 'Invesco Ltd.'\n",
    " 'J. B. Hunt Transport Services' 'Jacobs Engineering Group'\n",
    " 'Juniper Networks' 'Kimco Realty' 'Kimberly-Clark' 'Kansas City Southern'\n",
    " 'Leggett & Platt' 'Lennar Corp.' 'Laboratory Corp. of America Holding'\n",
    " 'LKQ Corporation' 'L-3 Communications Holdings' 'Lilly (Eli) & Co.'\n",
    " 'Lockheed Martin Corp.' 'Alliant Energy Corp' 'Leucadia National Corp.'\n",
    " 'Southwest Airlines' 'Level 3 Communications' 'LyondellBasell'\n",
    " 'Mastercard Inc.' 'Mid-America Apartments' 'Macerich' \"Marriott Int'l.\"\n",
    " 'Masco Corp.' 'Mattel Inc.' \"Moody's Corp\" 'Mondelez International'\n",
    " 'MetLife Inc.' 'Mohawk Industries' 'Mead Johnson' 'McCormick & Co.'\n",
    " 'Martin Marietta Materials' 'Marsh & McLennan' '3M Company'\n",
    " 'Altria Group Inc' 'The Mosaic Company' 'Marathon Petroleum'\n",
    " 'Merck & Co.' 'M&T Bank Corp.' 'Mettler Toledo' 'Mylan N.V.' 'Navient'\n",
    " 'NASDAQ OMX Group' 'NextEra Energy' 'Newmont Mining Corp. (Hldg. Co.)'\n",
    " 'Nielsen Holdings' 'Norfolk Southern Corp.' 'Northern Trust Corp.'\n",
    " 'Nucor Corp.' 'Newell Brands' 'Realty Income Corporation' 'Omnicom Group'\n",
    " \"O'Reilly Automotive\" \"People's United Financial\" 'Pitney-Bowes'\n",
    " 'PACCAR Inc.' 'PG&E Corp.' 'Public Serv. Enterprise Inc.' 'PepsiCo Inc.'\n",
    " 'Principal Financial Group' 'Procter & Gamble' 'Progressive Corp.'\n",
    " 'Pulte Homes Inc.' 'Philip Morris International' 'PNC Financial Services'\n",
    " 'Pentair Ltd.' 'Pinnacle West Capital' 'PPG Industries' 'PPL Corp.'\n",
    " 'Prudential Financial' 'Phillips 66' 'Praxair Inc.' 'PayPal'\n",
    " 'Ryder System' 'Royal Caribbean Cruises Ltd' 'Robert Half International'\n",
    " 'Roper Industries' 'Republic Services Inc' 'SCANA Corp'\n",
    " 'Charles Schwab Corporation' 'Spectra Energy Corp.' 'Sealed Air'\n",
    " 'Sherwin-Williams' 'SL Green Realty' 'Scripps Networks Interactive Inc.'\n",
    " 'Southern Co.' 'Simon Property Group Inc' 'S&P Global, Inc.'\n",
    " 'Stericycle Inc' 'Sempra Energy' 'SunTrust Banks' 'State Street Corp.'\n",
    " 'Skyworks Solutions' 'Synchrony Financial' 'Stryker Corp.'\n",
    " 'Molson Coors Brewing Company' 'Tegna, Inc.' 'Torchmark Corp.'\n",
    " 'Thermo Fisher Scientific' 'The Travelers Companies Inc.'\n",
    " 'Tractor Supply Company' 'Tyson Foods' 'Tesoro Petroleum Co.'\n",
    " 'Total System Services' 'Texas Instruments' 'Under Armour'\n",
    " 'United Continental Holdings' 'UDR Inc' 'Universal Health Services, Inc.'\n",
    " 'United Health Group Inc.' 'Unum Group' 'Union Pacific'\n",
    " 'United Parcel Service' 'United Technologies' 'Varian Medical Systems'\n",
    " 'Valero Energy' 'Vulcan Materials' 'Vornado Realty Trust'\n",
    " 'Verisk Analytics' 'Verisign Inc.' 'Ventas Inc' 'Wec Energy Group Inc'\n",
    " 'Whirlpool Corp.' 'Waste Management Inc.' 'Western Union Co'\n",
    " 'Weyerhaeuser Corp.' 'Wyndham Worldwide' 'Xcel Energy Inc' 'XL Capital'\n",
    " 'Dentsply Sirona' 'Xerox Corp.' 'Xylem Inc.' 'Yum! Brands Inc'\n",
    " 'Zimmer Biomet Holdings' 'Zions Bancorp' 'Zoetis']\n",
    "\n",
    "In cluster 3, the following companies are present:\n",
    "['Analog Devices, Inc.' 'Alliance Data Systems' 'Alexion Pharmaceuticals'\n",
    " 'Amgen Inc' 'Amazon.com Inc' 'Bank of America Corp' 'BIOGEN IDEC Inc.'\n",
    " 'Celgene Corp.' 'Chipotle Mexican Grill' 'Equinix' 'Edwards Lifesciences'\n",
    " 'Facebook' 'First Solar Inc' 'Frontier Communications' 'Halliburton Co.'\n",
    " 'Intuitive Surgical Inc.' \"McDonald's Corp.\" 'Monster Beverage'\n",
    " 'Priceline.com Inc' 'Regeneron' 'TripAdvisor'\n",
    " 'Vertex Pharmaceuticals Inc' 'Waters Corporation' 'Wynn Resorts Ltd'\n",
    " 'Yahoo Inc.']\n",
    "\n",
    "In cluster 2, the following companies are present:\n",
    "['Apache Corporation' 'Anadarko Petroleum Corp' 'Baker Hughes Inc'\n",
    " 'Chesapeake Energy' 'Cabot Oil & Gas' 'Concho Resources'\n",
    " 'Devon Energy Corp.' 'EOG Resources' 'EQT Corporation'\n",
    " 'Freeport-McMoran Cp & Gld' 'Hess Corporation'\n",
    " 'Hewlett Packard Enterprise' 'Kinder Morgan' 'Marathon Oil Corp.'\n",
    " 'Murphy Oil' 'Noble Energy Inc' 'Netflix Inc.' 'Newfield Exploration Co'\n",
    " 'National Oilwell Varco Inc.' 'ONEOK' 'Occidental Petroleum'\n",
    " 'Quanta Services Inc.' 'Range Resources Corp.' 'Southwestern Energy'\n",
    " 'Teradata Corp.' 'Williams Cos.' 'Cimarex Energy']\n",
    "\n",
    "In cluster 1, the following companies are present:\n",
    "['Citigroup Inc.' 'Ford Motor' 'Gilead Sciences' 'Intel Corp.'\n",
    " 'JPMorgan Chase & Co.' 'Coca Cola Company' 'Pfizer Inc.' 'AT&T Inc'\n",
    " 'Verizon Communications' 'Wells Fargo' 'Exxon Mobil Corp.']"
   ]
  },
  {
   "cell_type": "markdown",
   "id": "6ba7fc12",
   "metadata": {},
   "source": []
  },
  {
   "cell_type": "markdown",
   "id": "c8e1e779",
   "metadata": {},
   "source": [
    "In cluster 0, the following companies are present:\n",
    "['American Airlines Group' 'AbbVie' 'Abbott Laboratories'\n",
    " 'Adobe Systems Inc' 'Archer-Daniels-Midland Co' 'Ameren Corp'\n",
    " 'American Electric Power' 'AFLAC Inc'\n",
    " 'American International Group, Inc.' 'Apartment Investment & Mgmt'\n",
    " 'Assurant Inc' 'Arthur J. Gallagher & Co.' 'Akamai Technologies Inc'\n",
    " 'Albemarle Corp' 'Alaska Air Group Inc' 'Allstate Corp' 'Allegion'\n",
    " 'Applied Materials Inc' 'AMETEK Inc' 'Affiliated Managers Group Inc'\n",
    " 'Ameriprise Financial' 'American Tower Corp A' 'AutoNation Inc'\n",
    " 'Anthem Inc.' 'Aon plc' 'Amphenol Corp' 'Arconic Inc'\n",
    " 'Activision Blizzard' 'AvalonBay Communities, Inc.' 'Broadcom'\n",
    " 'American Water Works Company Inc' 'American Express Co' 'Boeing Company'\n",
    " 'Baxter International Inc.' 'BB&T Corporation' 'Bard (C.R.) Inc.'\n",
    " 'The Bank of New York Mellon Corp.' 'Ball Corp' 'Bristol-Myers Squibb'\n",
    " 'Boston Scientific' 'BorgWarner' 'Boston Properties' 'Caterpillar Inc.'\n",
    " 'Chubb Limited' 'CBRE Group' 'Crown Castle International Corp.'\n",
    " 'Carnival Corp.' 'CF Industries Holdings Inc' 'Citizens Financial Group'\n",
    " 'Church & Dwight' 'C. H. Robinson Worldwide' 'Charter Communications'\n",
    " 'CIGNA Corp.' 'Cincinnati Financial' 'Colgate-Palmolive' 'Comerica Inc.'\n",
    " 'CME Group Inc.' 'Cummins Inc.' 'CMS Energy' 'Centene Corporation'\n",
    " 'CenterPoint Energy' 'Capital One Financial' 'The Cooper Companies'\n",
    " 'CSX Corp.' 'CenturyLink Inc' 'Cognizant Technology Solutions'\n",
    " 'Citrix Systems' 'CVS Health' 'Chevron Corp.' 'Dominion Resources'\n",
    " 'Delta Air Lines' 'Du Pont (E.I.)' 'Deere & Co.'\n",
    " 'Discover Financial Services' 'Quest Diagnostics' 'Danaher Corp.'\n",
    " 'The Walt Disney Company' 'Discovery Communications-A'\n",
    " 'Discovery Communications-C' 'Delphi Automotive' 'Digital Realty Trust'\n",
    " 'Dun & Bradstreet' 'Dover Corp.' 'Dr Pepper Snapple Group' 'Duke Energy'\n",
    " 'DaVita Inc.' 'eBay Inc.' 'Ecolab Inc.' 'Consolidated Edison'\n",
    " 'Equifax Inc.' \"Edison Int'l\" 'Eastman Chemical' 'Equity Residential'\n",
    " 'Eversource Energy' 'Essex Property Trust, Inc.' 'E*Trade'\n",
    " 'Eaton Corporation' 'Entergy Corp.' 'Exelon Corp.' \"Expeditors Int'l\"\n",
    " 'Expedia Inc.' 'Extra Space Storage' 'Fastenal Co'\n",
    " 'Fortune Brands Home & Security' 'FirstEnergy Corp'\n",
    " 'Fidelity National Information Services' 'Fiserv Inc' 'FLIR Systems'\n",
    " 'Fluor Corp.' 'Flowserve Corporation' 'FMC Corporation'\n",
    " 'Federal Realty Investment Trust' 'General Dynamics'\n",
    " 'General Growth Properties Inc.' 'Corning Inc.' 'General Motors'\n",
    " 'Genuine Parts' 'Garmin Ltd.' 'Goodyear Tire & Rubber'\n",
    " 'Grainger (W.W.) Inc.' 'Hasbro Inc.' 'Huntington Bancshares'\n",
    " 'HCA Holdings' 'Welltower Inc.' 'HCP Inc.' 'Hartford Financial Svc.Gp.'\n",
    " 'Harley-Davidson' \"Honeywell Int'l Inc.\" 'HP Inc.' 'Hormel Foods Corp.'\n",
    " 'Henry Schein' 'Host Hotels & Resorts' 'The Hershey Company'\n",
    " 'Humana Inc.' 'International Business Machines' 'IDEXX Laboratories'\n",
    " 'Intl Flavors & Fragrances' 'International Paper' 'Interpublic Group'\n",
    " 'Iron Mountain Incorporated' 'Illinois Tool Works' 'Invesco Ltd.'\n",
    " 'J. B. Hunt Transport Services' 'Jacobs Engineering Group'\n",
    " 'Juniper Networks' 'Kimco Realty' 'Kimberly-Clark' 'Kansas City Southern'\n",
    " 'Leggett & Platt' 'Lennar Corp.' 'Laboratory Corp. of America Holding'\n",
    " 'LKQ Corporation' 'L-3 Communications Holdings' 'Lilly (Eli) & Co.'\n",
    " 'Lockheed Martin Corp.' 'Alliant Energy Corp' 'Leucadia National Corp.'\n",
    " 'Southwest Airlines' 'Level 3 Communications' 'LyondellBasell'\n",
    " 'Mastercard Inc.' 'Mid-America Apartments' 'Macerich' \"Marriott Int'l.\"\n",
    " 'Masco Corp.' 'Mattel Inc.' \"Moody's Corp\" 'Mondelez International'\n",
    " 'MetLife Inc.' 'Mohawk Industries' 'Mead Johnson' 'McCormick & Co.'\n",
    " 'Martin Marietta Materials' 'Marsh & McLennan' '3M Company'\n",
    " 'Altria Group Inc' 'The Mosaic Company' 'Marathon Petroleum'\n",
    " 'Merck & Co.' 'M&T Bank Corp.' 'Mettler Toledo' 'Mylan N.V.' 'Navient'\n",
    " 'NASDAQ OMX Group' 'NextEra Energy' 'Newmont Mining Corp. (Hldg. Co.)'\n",
    " 'Nielsen Holdings' 'Norfolk Southern Corp.' 'Northern Trust Corp.'\n",
    " 'Nucor Corp.' 'Newell Brands' 'Realty Income Corporation' 'Omnicom Group'\n",
    " \"O'Reilly Automotive\" \"People's United Financial\" 'Pitney-Bowes'\n",
    " 'PACCAR Inc.' 'PG&E Corp.' 'Public Serv. Enterprise Inc.' 'PepsiCo Inc.'\n",
    " 'Principal Financial Group' 'Procter & Gamble' 'Progressive Corp.'\n",
    " 'Pulte Homes Inc.' 'Philip Morris International' 'PNC Financial Services'\n",
    " 'Pentair Ltd.' 'Pinnacle West Capital' 'PPG Industries' 'PPL Corp.'\n",
    " 'Prudential Financial' 'Phillips 66' 'Praxair Inc.' 'PayPal'\n",
    " 'Ryder System' 'Royal Caribbean Cruises Ltd' 'Robert Half International'\n",
    " 'Roper Industries' 'Republic Services Inc' 'SCANA Corp'\n",
    " 'Charles Schwab Corporation' 'Spectra Energy Corp.' 'Sealed Air'\n",
    " 'Sherwin-Williams' 'SL Green Realty' 'Scripps Networks Interactive Inc.'\n",
    " 'Southern Co.' 'Simon Property Group Inc' 'S&P Global, Inc.'\n",
    " 'Stericycle Inc' 'Sempra Energy' 'SunTrust Banks' 'State Street Corp.'\n",
    " 'Skyworks Solutions' 'Synchrony Financial' 'Stryker Corp.'\n",
    " 'Molson Coors Brewing Company' 'Tegna, Inc.' 'Torchmark Corp.'\n",
    " 'Thermo Fisher Scientific' 'The Travelers Companies Inc.'\n",
    " 'Tractor Supply Company' 'Tyson Foods' 'Tesoro Petroleum Co.'\n",
    " 'Total System Services' 'Texas Instruments' 'Under Armour'\n",
    " 'United Continental Holdings' 'UDR Inc' 'Universal Health Services, Inc.'\n",
    " 'United Health Group Inc.' 'Unum Group' 'Union Pacific'\n",
    " 'United Parcel Service' 'United Technologies' 'Varian Medical Systems'\n",
    " 'Valero Energy' 'Vulcan Materials' 'Vornado Realty Trust'\n",
    " 'Verisk Analytics' 'Verisign Inc.' 'Ventas Inc' 'Wec Energy Group Inc'\n",
    " 'Whirlpool Corp.' 'Waste Management Inc.' 'Western Union Co'\n",
    " 'Weyerhaeuser Corp.' 'Wyndham Worldwide' 'Xcel Energy Inc' 'XL Capital'\n",
    " 'Dentsply Sirona' 'Xerox Corp.' 'Xylem Inc.' 'Yum! Brands Inc'\n",
    " 'Zimmer Biomet Holdings' 'Zions Bancorp' 'Zoetis']\n",
    "\n",
    "In cluster 3, the following companies are present:\n",
    "['Analog Devices, Inc.' 'Alliance Data Systems' 'Alexion Pharmaceuticals'\n",
    " 'Amgen Inc' 'Amazon.com Inc' 'Bank of America Corp' 'BIOGEN IDEC Inc.'\n",
    " 'Celgene Corp.' 'Chipotle Mexican Grill' 'Equinix' 'Edwards Lifesciences'\n",
    " 'Facebook' 'First Solar Inc' 'Frontier Communications' 'Halliburton Co.'\n",
    " 'Intuitive Surgical Inc.' \"McDonald's Corp.\" 'Monster Beverage'\n",
    " 'Priceline.com Inc' 'Regeneron' 'TripAdvisor'\n",
    " 'Vertex Pharmaceuticals Inc' 'Waters Corporation' 'Wynn Resorts Ltd'\n",
    " 'Yahoo Inc.']\n",
    "\n",
    "In cluster 2, the following companies are present:\n",
    "['Apache Corporation' 'Anadarko Petroleum Corp' 'Baker Hughes Inc'\n",
    " 'Chesapeake Energy' 'Cabot Oil & Gas' 'Concho Resources'\n",
    " 'Devon Energy Corp.' 'EOG Resources' 'EQT Corporation'\n",
    " 'Freeport-McMoran Cp & Gld' 'Hess Corporation'\n",
    " 'Hewlett Packard Enterprise' 'Kinder Morgan' 'Marathon Oil Corp.'\n",
    " 'Murphy Oil' 'Noble Energy Inc' 'Netflix Inc.' 'Newfield Exploration Co'\n",
    " 'National Oilwell Varco Inc.' 'ONEOK' 'Occidental Petroleum'\n",
    " 'Quanta Services Inc.' 'Range Resources Corp.' 'Southwestern Energy'\n",
    " 'Teradata Corp.' 'Williams Cos.' 'Cimarex Energy']\n",
    "\n",
    "In cluster 1, the following companies are present:\n",
    "['Citigroup Inc.' 'Ford Motor' 'Gilead Sciences' 'Intel Corp.'\n",
    " 'JPMorgan Chase & Co.' 'Coca Cola Company' 'Pfizer Inc.' 'AT&T Inc'\n",
    " 'Verizon Communications' 'Wells Fargo' 'Exxon Mobil Corp.']"
   ]
  },
  {
   "cell_type": "markdown",
   "id": "3afba53d",
   "metadata": {},
   "source": [
    "In cluster 0, the following companies are present:\n",
    "['American Airlines Group' 'AbbVie' 'Abbott Laboratories'\n",
    " 'Adobe Systems Inc' 'Archer-Daniels-Midland Co' 'Ameren Corp'\n",
    " 'American Electric Power' 'AFLAC Inc'\n",
    " 'American International Group, Inc.' 'Apartment Investment & Mgmt'\n",
    " 'Assurant Inc' 'Arthur J. Gallagher & Co.' 'Akamai Technologies Inc'\n",
    " 'Albemarle Corp' 'Alaska Air Group Inc' 'Allstate Corp' 'Allegion'\n",
    " 'Applied Materials Inc' 'AMETEK Inc' 'Affiliated Managers Group Inc'\n",
    " 'Ameriprise Financial' 'American Tower Corp A' 'AutoNation Inc'\n",
    " 'Anthem Inc.' 'Aon plc' 'Amphenol Corp' 'Arconic Inc'\n",
    " 'Activision Blizzard' 'AvalonBay Communities, Inc.' 'Broadcom'\n",
    " 'American Water Works Company Inc' 'American Express Co' 'Boeing Company'\n",
    " 'Baxter International Inc.' 'BB&T Corporation' 'Bard (C.R.) Inc.'\n",
    " 'The Bank of New York Mellon Corp.' 'Ball Corp' 'Bristol-Myers Squibb'\n",
    " 'Boston Scientific' 'BorgWarner' 'Boston Properties' 'Caterpillar Inc.'\n",
    " 'Chubb Limited' 'CBRE Group' 'Crown Castle International Corp.'\n",
    " 'Carnival Corp.' 'CF Industries Holdings Inc' 'Citizens Financial Group'\n",
    " 'Church & Dwight' 'C. H. Robinson Worldwide' 'Charter Communications'\n",
    " 'CIGNA Corp.' 'Cincinnati Financial' 'Colgate-Palmolive' 'Comerica Inc.'\n",
    " 'CME Group Inc.' 'Cummins Inc.' 'CMS Energy' 'Centene Corporation'\n",
    " 'CenterPoint Energy' 'Capital One Financial' 'The Cooper Companies'\n",
    " 'CSX Corp.' 'CenturyLink Inc' 'Cognizant Technology Solutions'\n",
    " 'Citrix Systems' 'CVS Health' 'Chevron Corp.' 'Dominion Resources'\n",
    " 'Delta Air Lines' 'Du Pont (E.I.)' 'Deere & Co.'\n",
    " 'Discover Financial Services' 'Quest Diagnostics' 'Danaher Corp.'\n",
    " 'The Walt Disney Company' 'Discovery Communications-A'\n",
    " 'Discovery Communications-C' 'Delphi Automotive' 'Digital Realty Trust'\n",
    " 'Dun & Bradstreet' 'Dover Corp.' 'Dr Pepper Snapple Group' 'Duke Energy'\n",
    " 'DaVita Inc.' 'eBay Inc.' 'Ecolab Inc.' 'Consolidated Edison'\n",
    " 'Equifax Inc.' \"Edison Int'l\" 'Eastman Chemical' 'Equity Residential'\n",
    " 'Eversource Energy' 'Essex Property Trust, Inc.' 'E*Trade'\n",
    " 'Eaton Corporation' 'Entergy Corp.' 'Exelon Corp.' \"Expeditors Int'l\"\n",
    " 'Expedia Inc.' 'Extra Space Storage' 'Fastenal Co'\n",
    " 'Fortune Brands Home & Security' 'FirstEnergy Corp'\n",
    " 'Fidelity National Information Services' 'Fiserv Inc' 'FLIR Systems'\n",
    " 'Fluor Corp.' 'Flowserve Corporation' 'FMC Corporation'\n",
    " 'Federal Realty Investment Trust' 'General Dynamics'\n",
    " 'General Growth Properties Inc.' 'Corning Inc.' 'General Motors'\n",
    " 'Genuine Parts' 'Garmin Ltd.' 'Goodyear Tire & Rubber'\n",
    " 'Grainger (W.W.) Inc.' 'Hasbro Inc.' 'Huntington Bancshares'\n",
    " 'HCA Holdings' 'Welltower Inc.' 'HCP Inc.' 'Hartford Financial Svc.Gp.'\n",
    " 'Harley-Davidson' \"Honeywell Int'l Inc.\" 'HP Inc.' 'Hormel Foods Corp.'\n",
    " 'Henry Schein' 'Host Hotels & Resorts' 'The Hershey Company'\n",
    " 'Humana Inc.' 'International Business Machines' 'IDEXX Laboratories'\n",
    " 'Intl Flavors & Fragrances' 'International Paper' 'Interpublic Group'\n",
    " 'Iron Mountain Incorporated' 'Illinois Tool Works' 'Invesco Ltd.'\n",
    " 'J. B. Hunt Transport Services' 'Jacobs Engineering Group'\n",
    " 'Juniper Networks' 'Kimco Realty' 'Kimberly-Clark' 'Kansas City Southern'\n",
    " 'Leggett & Platt' 'Lennar Corp.' 'Laboratory Corp. of America Holding'\n",
    " 'LKQ Corporation' 'L-3 Communications Holdings' 'Lilly (Eli) & Co.'\n",
    " 'Lockheed Martin Corp.' 'Alliant Energy Corp' 'Leucadia National Corp.'\n",
    " 'Southwest Airlines' 'Level 3 Communications' 'LyondellBasell'\n",
    " 'Mastercard Inc.' 'Mid-America Apartments' 'Macerich' \"Marriott Int'l.\"\n",
    " 'Masco Corp.' 'Mattel Inc.' \"Moody's Corp\" 'Mondelez International'\n",
    " 'MetLife Inc.' 'Mohawk Industries' 'Mead Johnson' 'McCormick & Co.'\n",
    " 'Martin Marietta Materials' 'Marsh & McLennan' '3M Company'\n",
    " 'Altria Group Inc' 'The Mosaic Company' 'Marathon Petroleum'\n",
    " 'Merck & Co.' 'M&T Bank Corp.' 'Mettler Toledo' 'Mylan N.V.' 'Navient'\n",
    " 'NASDAQ OMX Group' 'NextEra Energy' 'Newmont Mining Corp. (Hldg. Co.)'\n",
    " 'Nielsen Holdings' 'Norfolk Southern Corp.' 'Northern Trust Corp.'\n",
    " 'Nucor Corp.' 'Newell Brands' 'Realty Income Corporation' 'Omnicom Group'\n",
    " \"O'Reilly Automotive\" \"People's United Financial\" 'Pitney-Bowes'\n",
    " 'PACCAR Inc.' 'PG&E Corp.' 'Public Serv. Enterprise Inc.' 'PepsiCo Inc.'\n",
    " 'Principal Financial Group' 'Procter & Gamble' 'Progressive Corp.'\n",
    " 'Pulte Homes Inc.' 'Philip Morris International' 'PNC Financial Services'\n",
    " 'Pentair Ltd.' 'Pinnacle West Capital' 'PPG Industries' 'PPL Corp.'\n",
    " 'Prudential Financial' 'Phillips 66' 'Praxair Inc.' 'PayPal'\n",
    " 'Ryder System' 'Royal Caribbean Cruises Ltd' 'Robert Half International'\n",
    " 'Roper Industries' 'Republic Services Inc' 'SCANA Corp'\n",
    " 'Charles Schwab Corporation' 'Spectra Energy Corp.' 'Sealed Air'\n",
    " 'Sherwin-Williams' 'SL Green Realty' 'Scripps Networks Interactive Inc.'\n",
    " 'Southern Co.' 'Simon Property Group Inc' 'S&P Global, Inc.'\n",
    " 'Stericycle Inc' 'Sempra Energy' 'SunTrust Banks' 'State Street Corp.'\n",
    " 'Skyworks Solutions' 'Synchrony Financial' 'Stryker Corp.'\n",
    " 'Molson Coors Brewing Company' 'Tegna, Inc.' 'Torchmark Corp.'\n",
    " 'Thermo Fisher Scientific' 'The Travelers Companies Inc.'\n",
    " 'Tractor Supply Company' 'Tyson Foods' 'Tesoro Petroleum Co.'\n",
    " 'Total System Services' 'Texas Instruments' 'Under Armour'\n",
    " 'United Continental Holdings' 'UDR Inc' 'Universal Health Services, Inc.'\n",
    " 'United Health Group Inc.' 'Unum Group' 'Union Pacific'\n",
    " 'United Parcel Service' 'United Technologies' 'Varian Medical Systems'\n",
    " 'Valero Energy' 'Vulcan Materials' 'Vornado Realty Trust'\n",
    " 'Verisk Analytics' 'Verisign Inc.' 'Ventas Inc' 'Wec Energy Group Inc'\n",
    " 'Whirlpool Corp.' 'Waste Management Inc.' 'Western Union Co'\n",
    " 'Weyerhaeuser Corp.' 'Wyndham Worldwide' 'Xcel Energy Inc' 'XL Capital'\n",
    " 'Dentsply Sirona' 'Xerox Corp.' 'Xylem Inc.' 'Yum! Brands Inc'\n",
    " 'Zimmer Biomet Holdings' 'Zions Bancorp' 'Zoetis']\n",
    "\n",
    "In cluster 3, the following companies are present:\n",
    "['Analog Devices, Inc.' 'Alliance Data Systems' 'Alexion Pharmaceuticals'\n",
    " 'Amgen Inc' 'Amazon.com Inc' 'Bank of America Corp' 'BIOGEN IDEC Inc.'\n",
    " 'Celgene Corp.' 'Chipotle Mexican Grill' 'Equinix' 'Edwards Lifesciences'\n",
    " 'Facebook' 'First Solar Inc' 'Frontier Communications' 'Halliburton Co.'\n",
    " 'Intuitive Surgical Inc.' \"McDonald's Corp.\" 'Monster Beverage'\n",
    " 'Priceline.com Inc' 'Regeneron' 'TripAdvisor'\n",
    " 'Vertex Pharmaceuticals Inc' 'Waters Corporation' 'Wynn Resorts Ltd'\n",
    " 'Yahoo Inc.']\n",
    "\n",
    "In cluster 2, the following companies are present:\n",
    "['Apache Corporation' 'Anadarko Petroleum Corp' 'Baker Hughes Inc'\n",
    " 'Chesapeake Energy' 'Cabot Oil & Gas' 'Concho Resources'\n",
    " 'Devon Energy Corp.' 'EOG Resources' 'EQT Corporation'\n",
    " 'Freeport-McMoran Cp & Gld' 'Hess Corporation'\n",
    " 'Hewlett Packard Enterprise' 'Kinder Morgan' 'Marathon Oil Corp.'\n",
    " 'Murphy Oil' 'Noble Energy Inc' 'Netflix Inc.' 'Newfield Exploration Co'\n",
    " 'National Oilwell Varco Inc.' 'ONEOK' 'Occidental Petroleum'\n",
    " 'Quanta Services Inc.' 'Range Resources Corp.' 'Southwestern Energy'\n",
    " 'Teradata Corp.' 'Williams Cos.' 'Cimarex Energy']\n",
    "\n",
    "In cluster 1, the following companies are present:\n",
    "['Citigroup Inc.' 'Ford Motor' 'Gilead Sciences' 'Intel Corp.'\n",
    " 'JPMorgan Chase & Co.' 'Coca Cola Company' 'Pfizer Inc.' 'AT&T Inc'\n",
    " 'Verizon Communications' 'Wells Fargo' 'Exxon Mobil Corp.']"
   ]
  },
  {
   "cell_type": "markdown",
   "id": "f449a09f",
   "metadata": {},
   "source": []
  },
  {
   "cell_type": "markdown",
   "id": "bd2e6905",
   "metadata": {},
   "source": [
    "In cluster 0, the following companies are present:\n",
    "['American Airlines Group' 'AbbVie' 'Abbott Laboratories'\n",
    " 'Adobe Systems Inc' 'Archer-Daniels-Midland Co' 'Ameren Corp'\n",
    " 'American Electric Power' 'AFLAC Inc'\n",
    " 'American International Group, Inc.' 'Apartment Investment & Mgmt'\n",
    " 'Assurant Inc' 'Arthur J. Gallagher & Co.' 'Akamai Technologies Inc'\n",
    " 'Albemarle Corp' 'Alaska Air Group Inc' 'Allstate Corp' 'Allegion'\n",
    " 'Applied Materials Inc' 'AMETEK Inc' 'Affiliated Managers Group Inc'\n",
    " 'Ameriprise Financial' 'American Tower Corp A' 'AutoNation Inc'\n",
    " 'Anthem Inc.' 'Aon plc' 'Amphenol Corp' 'Arconic Inc'\n",
    " 'Activision Blizzard' 'AvalonBay Communities, Inc.' 'Broadcom'\n",
    " 'American Water Works Company Inc' 'American Express Co' 'Boeing Company'\n",
    " 'Baxter International Inc.' 'BB&T Corporation' 'Bard (C.R.) Inc.'\n",
    " 'The Bank of New York Mellon Corp.' 'Ball Corp' 'Bristol-Myers Squibb'\n",
    " 'Boston Scientific' 'BorgWarner' 'Boston Properties' 'Caterpillar Inc.'\n",
    " 'Chubb Limited' 'CBRE Group' 'Crown Castle International Corp.'\n",
    " 'Carnival Corp.' 'CF Industries Holdings Inc' 'Citizens Financial Group'\n",
    " 'Church & Dwight' 'C. H. Robinson Worldwide' 'Charter Communications'\n",
    " 'CIGNA Corp.' 'Cincinnati Financial' 'Colgate-Palmolive' 'Comerica Inc.'\n",
    " 'CME Group Inc.' 'Cummins Inc.' 'CMS Energy' 'Centene Corporation'\n",
    " 'CenterPoint Energy' 'Capital One Financial' 'The Cooper Companies'\n",
    " 'CSX Corp.' 'CenturyLink Inc' 'Cognizant Technology Solutions'\n",
    " 'Citrix Systems' 'CVS Health' 'Chevron Corp.' 'Dominion Resources'\n",
    " 'Delta Air Lines' 'Du Pont (E.I.)' 'Deere & Co.'\n",
    " 'Discover Financial Services' 'Quest Diagnostics' 'Danaher Corp.'\n",
    " 'The Walt Disney Company' 'Discovery Communications-A'\n",
    " 'Discovery Communications-C' 'Delphi Automotive' 'Digital Realty Trust'\n",
    " 'Dun & Bradstreet' 'Dover Corp.' 'Dr Pepper Snapple Group' 'Duke Energy'\n",
    " 'DaVita Inc.' 'eBay Inc.' 'Ecolab Inc.' 'Consolidated Edison'\n",
    " 'Equifax Inc.' \"Edison Int'l\" 'Eastman Chemical' 'Equity Residential'\n",
    " 'Eversource Energy' 'Essex Property Trust, Inc.' 'E*Trade'\n",
    " 'Eaton Corporation' 'Entergy Corp.' 'Exelon Corp.' \"Expeditors Int'l\"\n",
    " 'Expedia Inc.' 'Extra Space Storage' 'Fastenal Co'\n",
    " 'Fortune Brands Home & Security' 'FirstEnergy Corp'\n",
    " 'Fidelity National Information Services' 'Fiserv Inc' 'FLIR Systems'\n",
    " 'Fluor Corp.' 'Flowserve Corporation' 'FMC Corporation'\n",
    " 'Federal Realty Investment Trust' 'General Dynamics'\n",
    " 'General Growth Properties Inc.' 'Corning Inc.' 'General Motors'\n",
    " 'Genuine Parts' 'Garmin Ltd.' 'Goodyear Tire & Rubber'\n",
    " 'Grainger (W.W.) Inc.' 'Hasbro Inc.' 'Huntington Bancshares'\n",
    " 'HCA Holdings' 'Welltower Inc.' 'HCP Inc.' 'Hartford Financial Svc.Gp.'\n",
    " 'Harley-Davidson' \"Honeywell Int'l Inc.\" 'HP Inc.' 'Hormel Foods Corp.'\n",
    " 'Henry Schein' 'Host Hotels & Resorts' 'The Hershey Company'\n",
    " 'Humana Inc.' 'International Business Machines' 'IDEXX Laboratories'\n",
    " 'Intl Flavors & Fragrances' 'International Paper' 'Interpublic Group'\n",
    " 'Iron Mountain Incorporated' 'Illinois Tool Works' 'Invesco Ltd.'\n",
    " 'J. B. Hunt Transport Services' 'Jacobs Engineering Group'\n",
    " 'Juniper Networks' 'Kimco Realty' 'Kimberly-Clark' 'Kansas City Southern'\n",
    " 'Leggett & Platt' 'Lennar Corp.' 'Laboratory Corp. of America Holding'\n",
    " 'LKQ Corporation' 'L-3 Communications Holdings' 'Lilly (Eli) & Co.'\n",
    " 'Lockheed Martin Corp.' 'Alliant Energy Corp' 'Leucadia National Corp.'\n",
    " 'Southwest Airlines' 'Level 3 Communications' 'LyondellBasell'\n",
    " 'Mastercard Inc.' 'Mid-America Apartments' 'Macerich' \"Marriott Int'l.\"\n",
    " 'Masco Corp.' 'Mattel Inc.' \"Moody's Corp\" 'Mondelez International'\n",
    " 'MetLife Inc.' 'Mohawk Industries' 'Mead Johnson' 'McCormick & Co.'\n",
    " 'Martin Marietta Materials' 'Marsh & McLennan' '3M Company'\n",
    " 'Altria Group Inc' 'The Mosaic Company' 'Marathon Petroleum'\n",
    " 'Merck & Co.' 'M&T Bank Corp.' 'Mettler Toledo' 'Mylan N.V.' 'Navient'\n",
    " 'NASDAQ OMX Group' 'NextEra Energy' 'Newmont Mining Corp. (Hldg. Co.)'\n",
    " 'Nielsen Holdings' 'Norfolk Southern Corp.' 'Northern Trust Corp.'\n",
    " 'Nucor Corp.' 'Newell Brands' 'Realty Income Corporation' 'Omnicom Group'\n",
    " \"O'Reilly Automotive\" \"People's United Financial\" 'Pitney-Bowes'\n",
    " 'PACCAR Inc.' 'PG&E Corp.' 'Public Serv. Enterprise Inc.' 'PepsiCo Inc.'\n",
    " 'Principal Financial Group' 'Procter & Gamble' 'Progressive Corp.'\n",
    " 'Pulte Homes Inc.' 'Philip Morris International' 'PNC Financial Services'\n",
    " 'Pentair Ltd.' 'Pinnacle West Capital' 'PPG Industries' 'PPL Corp.'\n",
    " 'Prudential Financial' 'Phillips 66' 'Praxair Inc.' 'PayPal'\n",
    " 'Ryder System' 'Royal Caribbean Cruises Ltd' 'Robert Half International'\n",
    " 'Roper Industries' 'Republic Services Inc' 'SCANA Corp'\n",
    " 'Charles Schwab Corporation' 'Spectra Energy Corp.' 'Sealed Air'\n",
    " 'Sherwin-Williams' 'SL Green Realty' 'Scripps Networks Interactive Inc.'\n",
    " 'Southern Co.' 'Simon Property Group Inc' 'S&P Global, Inc.'\n",
    " 'Stericycle Inc' 'Sempra Energy' 'SunTrust Banks' 'State Street Corp.'\n",
    " 'Skyworks Solutions' 'Synchrony Financial' 'Stryker Corp.'\n",
    " 'Molson Coors Brewing Company' 'Tegna, Inc.' 'Torchmark Corp.'\n",
    " 'Thermo Fisher Scientific' 'The Travelers Companies Inc.'\n",
    " 'Tractor Supply Company' 'Tyson Foods' 'Tesoro Petroleum Co.'\n",
    " 'Total System Services' 'Texas Instruments' 'Under Armour'\n",
    " 'United Continental Holdings' 'UDR Inc' 'Universal Health Services, Inc.'\n",
    " 'United Health Group Inc.' 'Unum Group' 'Union Pacific'\n",
    " 'United Parcel Service' 'United Technologies' 'Varian Medical Systems'\n",
    " 'Valero Energy' 'Vulcan Materials' 'Vornado Realty Trust'\n",
    " 'Verisk Analytics' 'Verisign Inc.' 'Ventas Inc' 'Wec Energy Group Inc'\n",
    " 'Whirlpool Corp.' 'Waste Management Inc.' 'Western Union Co'\n",
    " 'Weyerhaeuser Corp.' 'Wyndham Worldwide' 'Xcel Energy Inc' 'XL Capital'\n",
    " 'Dentsply Sirona' 'Xerox Corp.' 'Xylem Inc.' 'Yum! Brands Inc'\n",
    " 'Zimmer Biomet Holdings' 'Zions Bancorp' 'Zoetis']\n",
    "\n",
    "In cluster 3, the following companies are present:\n",
    "['Analog Devices, Inc.' 'Alliance Data Systems' 'Alexion Pharmaceuticals'\n",
    " 'Amgen Inc' 'Amazon.com Inc' 'Bank of America Corp' 'BIOGEN IDEC Inc.'\n",
    " 'Celgene Corp.' 'Chipotle Mexican Grill' 'Equinix' 'Edwards Lifesciences'\n",
    " 'Facebook' 'First Solar Inc' 'Frontier Communications' 'Halliburton Co.'\n",
    " 'Intuitive Surgical Inc.' \"McDonald's Corp.\" 'Monster Beverage'\n",
    " 'Priceline.com Inc' 'Regeneron' 'TripAdvisor'\n",
    " 'Vertex Pharmaceuticals Inc' 'Waters Corporation' 'Wynn Resorts Ltd'\n",
    " 'Yahoo Inc.']\n",
    "\n",
    "In cluster 2, the following companies are present:\n",
    "['Apache Corporation' 'Anadarko Petroleum Corp' 'Baker Hughes Inc'\n",
    " 'Chesapeake Energy' 'Cabot Oil & Gas' 'Concho Resources'\n",
    " 'Devon Energy Corp.' 'EOG Resources' 'EQT Corporation'\n",
    " 'Freeport-McMoran Cp & Gld' 'Hess Corporation'\n",
    " 'Hewlett Packard Enterprise' 'Kinder Morgan' 'Marathon Oil Corp.'\n",
    " 'Murphy Oil' 'Noble Energy Inc' 'Netflix Inc.' 'Newfield Exploration Co'\n",
    " 'National Oilwell Varco Inc.' 'ONEOK' 'Occidental Petroleum'\n",
    " 'Quanta Services Inc.' 'Range Resources Corp.' 'Southwestern Energy'\n",
    " 'Teradata Corp.' 'Williams Cos.' 'Cimarex Energy']\n",
    "\n",
    "In cluster 1, the following companies are present:\n",
    "['Citigroup Inc.' 'Ford Motor' 'Gilead Sciences' 'Intel Corp.'\n",
    " 'JPMorgan Chase & Co.' 'Coca Cola Company' 'Pfizer Inc.' 'AT&T Inc'\n",
    " 'Verizon Communications' 'Wells Fargo' 'Exxon Mobil Corp.']"
   ]
  },
  {
   "cell_type": "markdown",
   "id": "357ab729",
   "metadata": {},
   "source": [
    "In cluster 0, the following companies are present:\n",
    "['American Airlines Group' 'AbbVie' 'Abbott Laboratories'\n",
    " 'Adobe Systems Inc' 'Archer-Daniels-Midland Co' 'Ameren Corp'\n",
    " 'American Electric Power' 'AFLAC Inc'\n",
    " 'American International Group, Inc.' 'Apartment Investment & Mgmt'\n",
    " 'Assurant Inc' 'Arthur J. Gallagher & Co.' 'Akamai Technologies Inc'\n",
    " 'Albemarle Corp' 'Alaska Air Group Inc' 'Allstate Corp' 'Allegion'\n",
    " 'Applied Materials Inc' 'AMETEK Inc' 'Affiliated Managers Group Inc'\n",
    " 'Ameriprise Financial' 'American Tower Corp A' 'AutoNation Inc'\n",
    " 'Anthem Inc.' 'Aon plc' 'Amphenol Corp' 'Arconic Inc'\n",
    " 'Activision Blizzard' 'AvalonBay Communities, Inc.' 'Broadcom'\n",
    " 'American Water Works Company Inc' 'American Express Co' 'Boeing Company'\n",
    " 'Baxter International Inc.' 'BB&T Corporation' 'Bard (C.R.) Inc.'\n",
    " 'The Bank of New York Mellon Corp.' 'Ball Corp' 'Bristol-Myers Squibb'\n",
    " 'Boston Scientific' 'BorgWarner' 'Boston Properties' 'Caterpillar Inc.'\n",
    " 'Chubb Limited' 'CBRE Group' 'Crown Castle International Corp.'\n",
    " 'Carnival Corp.' 'CF Industries Holdings Inc' 'Citizens Financial Group'\n",
    " 'Church & Dwight' 'C. H. Robinson Worldwide' 'Charter Communications'\n",
    " 'CIGNA Corp.' 'Cincinnati Financial' 'Colgate-Palmolive' 'Comerica Inc.'\n",
    " 'CME Group Inc.' 'Cummins Inc.' 'CMS Energy' 'Centene Corporation'\n",
    " 'CenterPoint Energy' 'Capital One Financial' 'The Cooper Companies'\n",
    " 'CSX Corp.' 'CenturyLink Inc' 'Cognizant Technology Solutions'\n",
    " 'Citrix Systems' 'CVS Health' 'Chevron Corp.' 'Dominion Resources'\n",
    " 'Delta Air Lines' 'Du Pont (E.I.)' 'Deere & Co.'\n",
    " 'Discover Financial Services' 'Quest Diagnostics' 'Danaher Corp.'\n",
    " 'The Walt Disney Company' 'Discovery Communications-A'\n",
    " 'Discovery Communications-C' 'Delphi Automotive' 'Digital Realty Trust'\n",
    " 'Dun & Bradstreet' 'Dover Corp.' 'Dr Pepper Snapple Group' 'Duke Energy'\n",
    " 'DaVita Inc.' 'eBay Inc.' 'Ecolab Inc.' 'Consolidated Edison'\n",
    " 'Equifax Inc.' \"Edison Int'l\" 'Eastman Chemical' 'Equity Residential'\n",
    " 'Eversource Energy' 'Essex Property Trust, Inc.' 'E*Trade'\n",
    " 'Eaton Corporation' 'Entergy Corp.' 'Exelon Corp.' \"Expeditors Int'l\"\n",
    " 'Expedia Inc.' 'Extra Space Storage' 'Fastenal Co'\n",
    " 'Fortune Brands Home & Security' 'FirstEnergy Corp'\n",
    " 'Fidelity National Information Services' 'Fiserv Inc' 'FLIR Systems'\n",
    " 'Fluor Corp.' 'Flowserve Corporation' 'FMC Corporation'\n",
    " 'Federal Realty Investment Trust' 'General Dynamics'\n",
    " 'General Growth Properties Inc.' 'Corning Inc.' 'General Motors'\n",
    " 'Genuine Parts' 'Garmin Ltd.' 'Goodyear Tire & Rubber'\n",
    " 'Grainger (W.W.) Inc.' 'Hasbro Inc.' 'Huntington Bancshares'\n",
    " 'HCA Holdings' 'Welltower Inc.' 'HCP Inc.' 'Hartford Financial Svc.Gp.'\n",
    " 'Harley-Davidson' \"Honeywell Int'l Inc.\" 'HP Inc.' 'Hormel Foods Corp.'\n",
    " 'Henry Schein' 'Host Hotels & Resorts' 'The Hershey Company'\n",
    " 'Humana Inc.' 'International Business Machines' 'IDEXX Laboratories'\n",
    " 'Intl Flavors & Fragrances' 'International Paper' 'Interpublic Group'\n",
    " 'Iron Mountain Incorporated' 'Illinois Tool Works' 'Invesco Ltd.'\n",
    " 'J. B. Hunt Transport Services' 'Jacobs Engineering Group'\n",
    " 'Juniper Networks' 'Kimco Realty' 'Kimberly-Clark' 'Kansas City Southern'\n",
    " 'Leggett & Platt' 'Lennar Corp.' 'Laboratory Corp. of America Holding'\n",
    " 'LKQ Corporation' 'L-3 Communications Holdings' 'Lilly (Eli) & Co.'\n",
    " 'Lockheed Martin Corp.' 'Alliant Energy Corp' 'Leucadia National Corp.'\n",
    " 'Southwest Airlines' 'Level 3 Communications' 'LyondellBasell'\n",
    " 'Mastercard Inc.' 'Mid-America Apartments' 'Macerich' \"Marriott Int'l.\"\n",
    " 'Masco Corp.' 'Mattel Inc.' \"Moody's Corp\" 'Mondelez International'\n",
    " 'MetLife Inc.' 'Mohawk Industries' 'Mead Johnson' 'McCormick & Co.'\n",
    " 'Martin Marietta Materials' 'Marsh & McLennan' '3M Company'\n",
    " 'Altria Group Inc' 'The Mosaic Company' 'Marathon Petroleum'\n",
    " 'Merck & Co.' 'M&T Bank Corp.' 'Mettler Toledo' 'Mylan N.V.' 'Navient'\n",
    " 'NASDAQ OMX Group' 'NextEra Energy' 'Newmont Mining Corp. (Hldg. Co.)'\n",
    " 'Nielsen Holdings' 'Norfolk Southern Corp.' 'Northern Trust Corp.'\n",
    " 'Nucor Corp.' 'Newell Brands' 'Realty Income Corporation' 'Omnicom Group'\n",
    " \"O'Reilly Automotive\" \"People's United Financial\" 'Pitney-Bowes'\n",
    " 'PACCAR Inc.' 'PG&E Corp.' 'Public Serv. Enterprise Inc.' 'PepsiCo Inc.'\n",
    " 'Principal Financial Group' 'Procter & Gamble' 'Progressive Corp.'\n",
    " 'Pulte Homes Inc.' 'Philip Morris International' 'PNC Financial Services'\n",
    " 'Pentair Ltd.' 'Pinnacle West Capital' 'PPG Industries' 'PPL Corp.'\n",
    " 'Prudential Financial' 'Phillips 66' 'Praxair Inc.' 'PayPal'\n",
    " 'Ryder System' 'Royal Caribbean Cruises Ltd' 'Robert Half International'\n",
    " 'Roper Industries' 'Republic Services Inc' 'SCANA Corp'\n",
    " 'Charles Schwab Corporation' 'Spectra Energy Corp.' 'Sealed Air'\n",
    " 'Sherwin-Williams' 'SL Green Realty' 'Scripps Networks Interactive Inc.'\n",
    " 'Southern Co.' 'Simon Property Group Inc' 'S&P Global, Inc.'\n",
    " 'Stericycle Inc' 'Sempra Energy' 'SunTrust Banks' 'State Street Corp.'\n",
    " 'Skyworks Solutions' 'Synchrony Financial' 'Stryker Corp.'\n",
    " 'Molson Coors Brewing Company' 'Tegna, Inc.' 'Torchmark Corp.'\n",
    " 'Thermo Fisher Scientific' 'The Travelers Companies Inc.'\n",
    " 'Tractor Supply Company' 'Tyson Foods' 'Tesoro Petroleum Co.'\n",
    " 'Total System Services' 'Texas Instruments' 'Under Armour'\n",
    " 'United Continental Holdings' 'UDR Inc' 'Universal Health Services, Inc.'\n",
    " 'United Health Group Inc.' 'Unum Group' 'Union Pacific'\n",
    " 'United Parcel Service' 'United Technologies' 'Varian Medical Systems'\n",
    " 'Valero Energy' 'Vulcan Materials' 'Vornado Realty Trust'\n",
    " 'Verisk Analytics' 'Verisign Inc.' 'Ventas Inc' 'Wec Energy Group Inc'\n",
    " 'Whirlpool Corp.' 'Waste Management Inc.' 'Western Union Co'\n",
    " 'Weyerhaeuser Corp.' 'Wyndham Worldwide' 'Xcel Energy Inc' 'XL Capital'\n",
    " 'Dentsply Sirona' 'Xerox Corp.' 'Xylem Inc.' 'Yum! Brands Inc'\n",
    " 'Zimmer Biomet Holdings' 'Zions Bancorp' 'Zoetis']\n",
    "\n",
    "In cluster 3, the following companies are present:\n",
    "['Analog Devices, Inc.' 'Alliance Data Systems' 'Alexion Pharmaceuticals'\n",
    " 'Amgen Inc' 'Amazon.com Inc' 'Bank of America Corp' 'BIOGEN IDEC Inc.'\n",
    " 'Celgene Corp.' 'Chipotle Mexican Grill' 'Equinix' 'Edwards Lifesciences'\n",
    " 'Facebook' 'First Solar Inc' 'Frontier Communications' 'Halliburton Co.'\n",
    " 'Intuitive Surgical Inc.' \"McDonald's Corp.\" 'Monster Beverage'\n",
    " 'Priceline.com Inc' 'Regeneron' 'TripAdvisor'\n",
    " 'Vertex Pharmaceuticals Inc' 'Waters Corporation' 'Wynn Resorts Ltd'\n",
    " 'Yahoo Inc.']\n",
    "\n",
    "In cluster 2, the following companies are present:\n",
    "['Apache Corporation' 'Anadarko Petroleum Corp' 'Baker Hughes Inc'\n",
    " 'Chesapeake Energy' 'Cabot Oil & Gas' 'Concho Resources'\n",
    " 'Devon Energy Corp.' 'EOG Resources' 'EQT Corporation'\n",
    " 'Freeport-McMoran Cp & Gld' 'Hess Corporation'\n",
    " 'Hewlett Packard Enterprise' 'Kinder Morgan' 'Marathon Oil Corp.'\n",
    " 'Murphy Oil' 'Noble Energy Inc' 'Netflix Inc.' 'Newfield Exploration Co'\n",
    " 'National Oilwell Varco Inc.' 'ONEOK' 'Occidental Petroleum'\n",
    " 'Quanta Services Inc.' 'Range Resources Corp.' 'Southwestern Energy'\n",
    " 'Teradata Corp.' 'Williams Cos.' 'Cimarex Energy']\n",
    "\n",
    "In cluster 1, the following companies are present:\n",
    "['Citigroup Inc.' 'Ford Motor' 'Gilead Sciences' 'Intel Corp.'\n",
    " 'JPMorgan Chase & Co.' 'Coca Cola Company' 'Pfizer Inc.' 'AT&T Inc'\n",
    " 'Verizon Communications' 'Wells Fargo' 'Exxon Mobil Corp.']"
   ]
  },
  {
   "cell_type": "markdown",
   "id": "6ea427ef",
   "metadata": {},
   "source": [
    "In [50]:\n",
    "\n",
    "\n",
    "fig, axes = plt.subplots(3, 4, figsize=(20, 20))\n",
    "counter = 0\n",
    "\n",
    "for ii in range(3):\n",
    "    for jj in range(4):\n",
    "        if counter < 11:\n",
    "            sns.boxplot(\n",
    "                ax=axes[ii][jj],\n",
    "                data=df1,\n",
    "                y=df1.columns[4+counter],\n",
    "                x=\"KM_segments\",\n",
    "            )\n",
    "            counter = counter + 1\n",
    "\n",
    "fig.tight_layout(pad=3.0)"
   ]
  },
  {
   "cell_type": "markdown",
   "id": "4c8bdfae",
   "metadata": {},
   "source": [
    "In [50]:\n",
    "\n",
    "\n",
    "fig, axes = plt.subplots(3, 4, figsize=(20, 20))\n",
    "counter = 0\n",
    "\n",
    "for ii in range(3):\n",
    "    for jj in range(4):\n",
    "        if counter < 11:\n",
    "            sns.boxplot(\n",
    "                ax=axes[ii][jj],\n",
    "                data=df1,\n",
    "                y=df1.columns[4+counter],\n",
    "                x=\"KM_segments\",\n",
    "            )\n",
    "            counter = counter + 1\n",
    "\n",
    "fig.tight_layout(pad=3.0)"
   ]
  },
  {
   "cell_type": "markdown",
   "id": "d67318e2",
   "metadata": {},
   "source": []
  },
  {
   "cell_type": "markdown",
   "id": "ea439fbe",
   "metadata": {},
   "source": [
    "In [50]:\n",
    "\n",
    "\n",
    "fig, axes = plt.subplots(3, 4, figsize=(20, 20))\n",
    "counter = 0\n",
    "\n",
    "for ii in range(3):\n",
    "    for jj in range(4):\n",
    "        if counter < 11:\n",
    "            sns.boxplot(\n",
    "                ax=axes[ii][jj],\n",
    "                data=df1,\n",
    "                y=df1.columns[4+counter],\n",
    "                x=\"KM_segments\",\n",
    "            )\n",
    "            counter = counter + 1\n",
    "\n",
    "fig.tight_layout(pad=3.0)"
   ]
  },
  {
   "cell_type": "markdown",
   "id": "70cb4b76",
   "metadata": {},
   "source": [
    "In [50]:"
   ]
  },
  {
   "cell_type": "markdown",
   "id": "41001749",
   "metadata": {},
   "source": [
    "fig, axes = plt.subplots(3, 4, figsize=(20, 20))\n",
    "counter = 0\n",
    "\n",
    "for ii in range(3):\n",
    "    for jj in range(4):\n",
    "        if counter < 11:\n",
    "            sns.boxplot(\n",
    "                ax=axes[ii][jj],\n",
    "                data=df1,\n",
    "                y=df1.columns[4+counter],\n",
    "                x=\"KM_segments\",\n",
    "            )\n",
    "            counter = counter + 1\n",
    "\n",
    "fig.tight_layout(pad=3.0)"
   ]
  },
  {
   "cell_type": "markdown",
   "id": "82d4c0bc",
   "metadata": {},
   "source": [
    "fig, axes = plt.subplots(3, 4, figsize=(20, 20))\n",
    "counter = 0\n",
    "\n",
    "for ii in range(3):\n",
    "    for jj in range(4):\n",
    "        if counter < 11:\n",
    "            sns.boxplot(\n",
    "                ax=axes[ii][jj],\n",
    "                data=df1,\n",
    "                y=df1.columns[4+counter],\n",
    "                x=\"KM_segments\",\n",
    "            )\n",
    "            counter = counter + 1\n",
    "\n",
    "fig.tight_layout(pad=3.0)"
   ]
  },
  {
   "cell_type": "markdown",
   "id": "2ee19a21",
   "metadata": {},
   "source": [
    "fig, axes = plt.subplots(3, 4, figsize=(20, 20))\n",
    "counter = 0\n",
    "\n",
    "for ii in range(3):\n",
    "    for jj in range(4):\n",
    "        if counter < 11:\n",
    "            sns.boxplot(\n",
    "                ax=axes[ii][jj],\n",
    "                data=df1,\n",
    "                y=df1.columns[4+counter],\n",
    "                x=\"KM_segments\",\n",
    "            )\n",
    "            counter = counter + 1\n",
    "\n",
    "fig.tight_layout(pad=3.0)"
   ]
  },
  {
   "cell_type": "markdown",
   "id": "bff4773f",
   "metadata": {},
   "source": [
    "fig, axes = plt.subplots(3, 4, figsize=(20, 20))\n",
    "counter = 0\n",
    "\n",
    "for ii in range(3):\n",
    "    for jj in range(4):\n",
    "        if counter < 11:\n",
    "            sns.boxplot(\n",
    "                ax=axes[ii][jj],\n",
    "                data=df1,\n",
    "                y=df1.columns[4+counter],\n",
    "                x=\"KM_segments\",\n",
    "            )\n",
    "            counter = counter + 1\n",
    "\n",
    "fig.tight_layout(pad=3.0)"
   ]
  },
  {
   "cell_type": "markdown",
   "id": "14190ead",
   "metadata": {},
   "source": []
  },
  {
   "cell_type": "markdown",
   "id": "0e32a893",
   "metadata": {},
   "source": []
  },
  {
   "cell_type": "markdown",
   "id": "dacc996b",
   "metadata": {},
   "source": []
  },
  {
   "cell_type": "markdown",
   "id": "8ab0d2ac",
   "metadata": {},
   "source": []
  },
  {
   "cell_type": "markdown",
   "id": "b5361838",
   "metadata": {},
   "source": []
  },
  {
   "cell_type": "markdown",
   "id": "91e7c362",
   "metadata": {},
   "source": []
  },
  {
   "cell_type": "markdown",
   "id": "c96a9f7a",
   "metadata": {},
   "source": [
    "Insights (K-Means Clustering)¶\n",
    "Cluster 0:\n",
    "\n",
    "This cluster has stocks which are on the high side of price, positive price change, volatility,  cash ratio earnings per share, P/E ratio and P/B ratio.\n",
    "Almost no net income and net cash flow is generated from the stocks in this cluster but has little earnings per share\n",
    "They also have little or no estimted shares oustanding and ROE. \n",
    "\n",
    "\n",
    "Cluster 1:\n",
    "\n",
    "This cluster has stocks with median price of around USD50, positive price change, high volatility, high cash ratio, and some estimted shares oustanding, P/E ratio and P/B ratio.\n",
    "Also almost no net cash flow is generated from the stocks in this cluster\n",
    "They also have little or no ROE and P/E ratio. \n",
    "\n",
    "\n",
    "Cluster 2:\n",
    "\n",
    "This cluster has stocks with low price, positive price change, low volatility, high cash ratio, and significantly high net income and high estimted shares oustanding \n",
    "Also almost no net cash flow is generated from the stocks in this cluster\n",
    "Their earnings per share are low as well as ROE, P/B ratio and P/E ratio. \n",
    "\n",
    "\n",
    "Cluster 3:\n",
    "\n",
    "This cluster also has stocks with low price but negative price change, really high volatility, high P/E ratio, and ROE and some estimted shares oustanding \n",
    "Also almost no net cash flow is generated from the stocks in this cluster\n",
    "Their earnings per share are negative as well as the net income"
   ]
  },
  {
   "cell_type": "markdown",
   "id": "b9e6467d",
   "metadata": {},
   "source": [
    "Insights (K-Means Clustering)¶\n",
    "Cluster 0:\n",
    "\n",
    "This cluster has stocks which are on the high side of price, positive price change, volatility,  cash ratio earnings per share, P/E ratio and P/B ratio.\n",
    "Almost no net income and net cash flow is generated from the stocks in this cluster but has little earnings per share\n",
    "They also have little or no estimted shares oustanding and ROE. \n",
    "\n",
    "\n",
    "Cluster 1:\n",
    "\n",
    "This cluster has stocks with median price of around USD50, positive price change, high volatility, high cash ratio, and some estimted shares oustanding, P/E ratio and P/B ratio.\n",
    "Also almost no net cash flow is generated from the stocks in this cluster\n",
    "They also have little or no ROE and P/E ratio. \n",
    "\n",
    "\n",
    "Cluster 2:\n",
    "\n",
    "This cluster has stocks with low price, positive price change, low volatility, high cash ratio, and significantly high net income and high estimted shares oustanding \n",
    "Also almost no net cash flow is generated from the stocks in this cluster\n",
    "Their earnings per share are low as well as ROE, P/B ratio and P/E ratio. \n",
    "\n",
    "\n",
    "Cluster 3:\n",
    "\n",
    "This cluster also has stocks with low price but negative price change, really high volatility, high P/E ratio, and ROE and some estimted shares oustanding \n",
    "Also almost no net cash flow is generated from the stocks in this cluster\n",
    "Their earnings per share are negative as well as the net income"
   ]
  },
  {
   "cell_type": "markdown",
   "id": "891d0cbd",
   "metadata": {},
   "source": []
  },
  {
   "cell_type": "markdown",
   "id": "3c46a25e",
   "metadata": {},
   "source": [
    "Insights (K-Means Clustering)¶\n",
    "Cluster 0:\n",
    "\n",
    "This cluster has stocks which are on the high side of price, positive price change, volatility,  cash ratio earnings per share, P/E ratio and P/B ratio.\n",
    "Almost no net income and net cash flow is generated from the stocks in this cluster but has little earnings per share\n",
    "They also have little or no estimted shares oustanding and ROE. \n",
    "\n",
    "\n",
    "Cluster 1:\n",
    "\n",
    "This cluster has stocks with median price of around USD50, positive price change, high volatility, high cash ratio, and some estimted shares oustanding, P/E ratio and P/B ratio.\n",
    "Also almost no net cash flow is generated from the stocks in this cluster\n",
    "They also have little or no ROE and P/E ratio. \n",
    "\n",
    "\n",
    "Cluster 2:\n",
    "\n",
    "This cluster has stocks with low price, positive price change, low volatility, high cash ratio, and significantly high net income and high estimted shares oustanding \n",
    "Also almost no net cash flow is generated from the stocks in this cluster\n",
    "Their earnings per share are low as well as ROE, P/B ratio and P/E ratio. \n",
    "\n",
    "\n",
    "Cluster 3:\n",
    "\n",
    "This cluster also has stocks with low price but negative price change, really high volatility, high P/E ratio, and ROE and some estimted shares oustanding \n",
    "Also almost no net cash flow is generated from the stocks in this cluster\n",
    "Their earnings per share are negative as well as the net income"
   ]
  },
  {
   "cell_type": "markdown",
   "id": "6f93b0fb",
   "metadata": {},
   "source": []
  },
  {
   "cell_type": "markdown",
   "id": "6090d77a",
   "metadata": {},
   "source": [
    "Insights (K-Means Clustering)¶\n",
    "Cluster 0:\n",
    "\n",
    "This cluster has stocks which are on the high side of price, positive price change, volatility,  cash ratio earnings per share, P/E ratio and P/B ratio.\n",
    "Almost no net income and net cash flow is generated from the stocks in this cluster but has little earnings per share\n",
    "They also have little or no estimted shares oustanding and ROE. \n",
    "\n",
    "\n",
    "Cluster 1:\n",
    "\n",
    "This cluster has stocks with median price of around USD50, positive price change, high volatility, high cash ratio, and some estimted shares oustanding, P/E ratio and P/B ratio.\n",
    "Also almost no net cash flow is generated from the stocks in this cluster\n",
    "They also have little or no ROE and P/E ratio. \n",
    "\n",
    "\n",
    "Cluster 2:\n",
    "\n",
    "This cluster has stocks with low price, positive price change, low volatility, high cash ratio, and significantly high net income and high estimted shares oustanding \n",
    "Also almost no net cash flow is generated from the stocks in this cluster\n",
    "Their earnings per share are low as well as ROE, P/B ratio and P/E ratio. \n",
    "\n",
    "\n",
    "Cluster 3:\n",
    "\n",
    "This cluster also has stocks with low price but negative price change, really high volatility, high P/E ratio, and ROE and some estimted shares oustanding \n",
    "Also almost no net cash flow is generated from the stocks in this cluster\n",
    "Their earnings per share are negative as well as the net income"
   ]
  },
  {
   "cell_type": "markdown",
   "id": "ab1ed4d3",
   "metadata": {},
   "source": [
    "Hierarchical Clustering¶"
   ]
  },
  {
   "cell_type": "markdown",
   "id": "af56267e",
   "metadata": {},
   "source": [
    "Hierarchical Clustering¶"
   ]
  },
  {
   "cell_type": "markdown",
   "id": "7941566a",
   "metadata": {},
   "source": []
  },
  {
   "cell_type": "markdown",
   "id": "d0de5081",
   "metadata": {},
   "source": [
    "Hierarchical Clustering¶"
   ]
  },
  {
   "cell_type": "markdown",
   "id": "bd928711",
   "metadata": {},
   "source": []
  },
  {
   "cell_type": "markdown",
   "id": "4613a0db",
   "metadata": {},
   "source": [
    "Hierarchical Clustering¶"
   ]
  },
  {
   "cell_type": "markdown",
   "id": "784e9532",
   "metadata": {},
   "source": [
    "In [51]:\n",
    "\n",
    "\n",
    "hc_df = subset_scaled_df.copy()"
   ]
  },
  {
   "cell_type": "markdown",
   "id": "f75aa34d",
   "metadata": {},
   "source": [
    "In [51]:\n",
    "\n",
    "\n",
    "hc_df = subset_scaled_df.copy()"
   ]
  },
  {
   "cell_type": "markdown",
   "id": "90ec92d5",
   "metadata": {},
   "source": []
  },
  {
   "cell_type": "markdown",
   "id": "8f7c8639",
   "metadata": {},
   "source": [
    "In [51]:\n",
    "\n",
    "\n",
    "hc_df = subset_scaled_df.copy()"
   ]
  },
  {
   "cell_type": "markdown",
   "id": "1cbe272f",
   "metadata": {},
   "source": [
    "In [51]:"
   ]
  },
  {
   "cell_type": "markdown",
   "id": "b476f5d7",
   "metadata": {},
   "source": [
    "hc_df = subset_scaled_df.copy()"
   ]
  },
  {
   "cell_type": "markdown",
   "id": "cf7e0dbe",
   "metadata": {},
   "source": [
    "hc_df = subset_scaled_df.copy()"
   ]
  },
  {
   "cell_type": "markdown",
   "id": "5a7068bc",
   "metadata": {},
   "source": [
    "hc_df = subset_scaled_df.copy()"
   ]
  },
  {
   "cell_type": "markdown",
   "id": "8b4dd53c",
   "metadata": {},
   "source": [
    "hc_df = subset_scaled_df.copy()"
   ]
  },
  {
   "cell_type": "markdown",
   "id": "6a2ce577",
   "metadata": {},
   "source": [
    "In [52]:\n",
    "\n",
    "\n",
    "# list of distance metrics\n",
    "distance_metrics = [\"euclidean\", \"chebyshev\", \"mahalanobis\", \"cityblock\"] \n",
    "\n",
    "# list of linkage methods\n",
    "linkage_methods = [\"single\", \"complete\", \"average\", \"weighted\"]\n",
    "\n",
    "high_cophenet_corr = 0\n",
    "high_dm_lm = [0, 0]\n",
    "\n",
    "for dm in distance_metrics:\n",
    "    for lm in linkage_methods:\n",
    "        Z = linkage(hc_df, metric=dm, method=lm)\n",
    "        c, coph_dists = cophenet(Z, pdist(hc_df))\n",
    "        print(\n",
    "            \"Cophenetic correlation for {} distance and {} linkage is {}.\".format(\n",
    "                dm.capitalize(), lm, c\n",
    "            )\n",
    "        )\n",
    "        if high_cophenet_corr < c:\n",
    "            high_cophenet_corr = c\n",
    "            high_dm_lm[0] = dm\n",
    "            high_dm_lm[1] = lm\n",
    "            \n",
    "# printing the combination of distance metric and linkage method with the highest cophenetic correlation\n",
    "print('*'*100)\n",
    "print(\n",
    "    \"Highest cophenetic correlation is {}, which is obtained with {} distance and {} linkage.\".format(\n",
    "        high_cophenet_corr, high_dm_lm[0].capitalize(), high_dm_lm[1]\n",
    "    )\n",
    ")\n",
    "\n",
    "\n",
    "\n",
    "\n",
    "\n",
    "\n",
    "\n",
    "\n",
    "\n",
    "\n",
    "\n",
    "\n",
    "Cophenetic correlation for Euclidean distance and single linkage is 0.9232271494002922.\n",
    "Cophenetic correlation for Euclidean distance and complete linkage is 0.7873280186580672.\n",
    "Cophenetic correlation for Euclidean distance and average linkage is 0.9422540609560814.\n",
    "Cophenetic correlation for Euclidean distance and weighted linkage is 0.8693784298129404.\n",
    "Cophenetic correlation for Chebyshev distance and single linkage is 0.9062538164750717.\n",
    "Cophenetic correlation for Chebyshev distance and complete linkage is 0.598891419111242.\n",
    "Cophenetic correlation for Chebyshev distance and average linkage is 0.9338265528030499.\n",
    "Cophenetic correlation for Chebyshev distance and weighted linkage is 0.9127355892367.\n",
    "Cophenetic correlation for Mahalanobis distance and single linkage is 0.9259195530524591.\n",
    "Cophenetic correlation for Mahalanobis distance and complete linkage is 0.7925307202850004.\n",
    "Cophenetic correlation for Mahalanobis distance and average linkage is 0.9247324030159737.\n",
    "Cophenetic correlation for Mahalanobis distance and weighted linkage is 0.8708317490180428.\n",
    "Cophenetic correlation for Cityblock distance and single linkage is 0.9334186366528574.\n",
    "Cophenetic correlation for Cityblock distance and complete linkage is 0.7375328863205818.\n",
    "Cophenetic correlation for Cityblock distance and average linkage is 0.9302145048594667.\n",
    "Cophenetic correlation for Cityblock distance and weighted linkage is 0.731045513520281.\n",
    "****************************************************************************************************\n",
    "Highest cophenetic correlation is 0.9422540609560814, which is obtained with Euclidean distance and average linkage."
   ]
  },
  {
   "cell_type": "markdown",
   "id": "69f26887",
   "metadata": {},
   "source": [
    "In [52]:\n",
    "\n",
    "\n",
    "# list of distance metrics\n",
    "distance_metrics = [\"euclidean\", \"chebyshev\", \"mahalanobis\", \"cityblock\"] \n",
    "\n",
    "# list of linkage methods\n",
    "linkage_methods = [\"single\", \"complete\", \"average\", \"weighted\"]\n",
    "\n",
    "high_cophenet_corr = 0\n",
    "high_dm_lm = [0, 0]\n",
    "\n",
    "for dm in distance_metrics:\n",
    "    for lm in linkage_methods:\n",
    "        Z = linkage(hc_df, metric=dm, method=lm)\n",
    "        c, coph_dists = cophenet(Z, pdist(hc_df))\n",
    "        print(\n",
    "            \"Cophenetic correlation for {} distance and {} linkage is {}.\".format(\n",
    "                dm.capitalize(), lm, c\n",
    "            )\n",
    "        )\n",
    "        if high_cophenet_corr < c:\n",
    "            high_cophenet_corr = c\n",
    "            high_dm_lm[0] = dm\n",
    "            high_dm_lm[1] = lm\n",
    "            \n",
    "# printing the combination of distance metric and linkage method with the highest cophenetic correlation\n",
    "print('*'*100)\n",
    "print(\n",
    "    \"Highest cophenetic correlation is {}, which is obtained with {} distance and {} linkage.\".format(\n",
    "        high_cophenet_corr, high_dm_lm[0].capitalize(), high_dm_lm[1]\n",
    "    )\n",
    ")"
   ]
  },
  {
   "cell_type": "markdown",
   "id": "eca3b708",
   "metadata": {},
   "source": []
  },
  {
   "cell_type": "markdown",
   "id": "a16353dc",
   "metadata": {},
   "source": [
    "In [52]:\n",
    "\n",
    "\n",
    "# list of distance metrics\n",
    "distance_metrics = [\"euclidean\", \"chebyshev\", \"mahalanobis\", \"cityblock\"] \n",
    "\n",
    "# list of linkage methods\n",
    "linkage_methods = [\"single\", \"complete\", \"average\", \"weighted\"]\n",
    "\n",
    "high_cophenet_corr = 0\n",
    "high_dm_lm = [0, 0]\n",
    "\n",
    "for dm in distance_metrics:\n",
    "    for lm in linkage_methods:\n",
    "        Z = linkage(hc_df, metric=dm, method=lm)\n",
    "        c, coph_dists = cophenet(Z, pdist(hc_df))\n",
    "        print(\n",
    "            \"Cophenetic correlation for {} distance and {} linkage is {}.\".format(\n",
    "                dm.capitalize(), lm, c\n",
    "            )\n",
    "        )\n",
    "        if high_cophenet_corr < c:\n",
    "            high_cophenet_corr = c\n",
    "            high_dm_lm[0] = dm\n",
    "            high_dm_lm[1] = lm\n",
    "            \n",
    "# printing the combination of distance metric and linkage method with the highest cophenetic correlation\n",
    "print('*'*100)\n",
    "print(\n",
    "    \"Highest cophenetic correlation is {}, which is obtained with {} distance and {} linkage.\".format(\n",
    "        high_cophenet_corr, high_dm_lm[0].capitalize(), high_dm_lm[1]\n",
    "    )\n",
    ")"
   ]
  },
  {
   "cell_type": "markdown",
   "id": "c4fafe0f",
   "metadata": {},
   "source": [
    "In [52]:"
   ]
  },
  {
   "cell_type": "markdown",
   "id": "7ee16aa4",
   "metadata": {},
   "source": [
    "# list of distance metrics\n",
    "distance_metrics = [\"euclidean\", \"chebyshev\", \"mahalanobis\", \"cityblock\"] \n",
    "\n",
    "# list of linkage methods\n",
    "linkage_methods = [\"single\", \"complete\", \"average\", \"weighted\"]\n",
    "\n",
    "high_cophenet_corr = 0\n",
    "high_dm_lm = [0, 0]\n",
    "\n",
    "for dm in distance_metrics:\n",
    "    for lm in linkage_methods:\n",
    "        Z = linkage(hc_df, metric=dm, method=lm)\n",
    "        c, coph_dists = cophenet(Z, pdist(hc_df))\n",
    "        print(\n",
    "            \"Cophenetic correlation for {} distance and {} linkage is {}.\".format(\n",
    "                dm.capitalize(), lm, c\n",
    "            )\n",
    "        )\n",
    "        if high_cophenet_corr < c:\n",
    "            high_cophenet_corr = c\n",
    "            high_dm_lm[0] = dm\n",
    "            high_dm_lm[1] = lm\n",
    "            \n",
    "# printing the combination of distance metric and linkage method with the highest cophenetic correlation\n",
    "print('*'*100)\n",
    "print(\n",
    "    \"Highest cophenetic correlation is {}, which is obtained with {} distance and {} linkage.\".format(\n",
    "        high_cophenet_corr, high_dm_lm[0].capitalize(), high_dm_lm[1]\n",
    "    )\n",
    ")"
   ]
  },
  {
   "cell_type": "markdown",
   "id": "4e4cca7b",
   "metadata": {},
   "source": [
    "# list of distance metrics\n",
    "distance_metrics = [\"euclidean\", \"chebyshev\", \"mahalanobis\", \"cityblock\"] \n",
    "\n",
    "# list of linkage methods\n",
    "linkage_methods = [\"single\", \"complete\", \"average\", \"weighted\"]\n",
    "\n",
    "high_cophenet_corr = 0\n",
    "high_dm_lm = [0, 0]\n",
    "\n",
    "for dm in distance_metrics:\n",
    "    for lm in linkage_methods:\n",
    "        Z = linkage(hc_df, metric=dm, method=lm)\n",
    "        c, coph_dists = cophenet(Z, pdist(hc_df))\n",
    "        print(\n",
    "            \"Cophenetic correlation for {} distance and {} linkage is {}.\".format(\n",
    "                dm.capitalize(), lm, c\n",
    "            )\n",
    "        )\n",
    "        if high_cophenet_corr < c:\n",
    "            high_cophenet_corr = c\n",
    "            high_dm_lm[0] = dm\n",
    "            high_dm_lm[1] = lm\n",
    "            \n",
    "# printing the combination of distance metric and linkage method with the highest cophenetic correlation\n",
    "print('*'*100)\n",
    "print(\n",
    "    \"Highest cophenetic correlation is {}, which is obtained with {} distance and {} linkage.\".format(\n",
    "        high_cophenet_corr, high_dm_lm[0].capitalize(), high_dm_lm[1]\n",
    "    )\n",
    ")"
   ]
  },
  {
   "cell_type": "markdown",
   "id": "fd48abaa",
   "metadata": {},
   "source": [
    "# list of distance metrics\n",
    "distance_metrics = [\"euclidean\", \"chebyshev\", \"mahalanobis\", \"cityblock\"] \n",
    "\n",
    "# list of linkage methods\n",
    "linkage_methods = [\"single\", \"complete\", \"average\", \"weighted\"]\n",
    "\n",
    "high_cophenet_corr = 0\n",
    "high_dm_lm = [0, 0]\n",
    "\n",
    "for dm in distance_metrics:\n",
    "    for lm in linkage_methods:\n",
    "        Z = linkage(hc_df, metric=dm, method=lm)\n",
    "        c, coph_dists = cophenet(Z, pdist(hc_df))\n",
    "        print(\n",
    "            \"Cophenetic correlation for {} distance and {} linkage is {}.\".format(\n",
    "                dm.capitalize(), lm, c\n",
    "            )\n",
    "        )\n",
    "        if high_cophenet_corr < c:\n",
    "            high_cophenet_corr = c\n",
    "            high_dm_lm[0] = dm\n",
    "            high_dm_lm[1] = lm\n",
    "            \n",
    "# printing the combination of distance metric and linkage method with the highest cophenetic correlation\n",
    "print('*'*100)\n",
    "print(\n",
    "    \"Highest cophenetic correlation is {}, which is obtained with {} distance and {} linkage.\".format(\n",
    "        high_cophenet_corr, high_dm_lm[0].capitalize(), high_dm_lm[1]\n",
    "    )\n",
    ")"
   ]
  },
  {
   "cell_type": "markdown",
   "id": "68298472",
   "metadata": {},
   "source": [
    "# list of distance metrics\n",
    "distance_metrics = [\"euclidean\", \"chebyshev\", \"mahalanobis\", \"cityblock\"] \n",
    "\n",
    "# list of linkage methods\n",
    "linkage_methods = [\"single\", \"complete\", \"average\", \"weighted\"]\n",
    "\n",
    "high_cophenet_corr = 0\n",
    "high_dm_lm = [0, 0]\n",
    "\n",
    "for dm in distance_metrics:\n",
    "    for lm in linkage_methods:\n",
    "        Z = linkage(hc_df, metric=dm, method=lm)\n",
    "        c, coph_dists = cophenet(Z, pdist(hc_df))\n",
    "        print(\n",
    "            \"Cophenetic correlation for {} distance and {} linkage is {}.\".format(\n",
    "                dm.capitalize(), lm, c\n",
    "            )\n",
    "        )\n",
    "        if high_cophenet_corr < c:\n",
    "            high_cophenet_corr = c\n",
    "            high_dm_lm[0] = dm\n",
    "            high_dm_lm[1] = lm\n",
    "            \n",
    "# printing the combination of distance metric and linkage method with the highest cophenetic correlation\n",
    "print('*'*100)\n",
    "print(\n",
    "    \"Highest cophenetic correlation is {}, which is obtained with {} distance and {} linkage.\".format(\n",
    "        high_cophenet_corr, high_dm_lm[0].capitalize(), high_dm_lm[1]\n",
    "    )\n",
    ")"
   ]
  },
  {
   "cell_type": "markdown",
   "id": "0144bc22",
   "metadata": {},
   "source": [
    "Cophenetic correlation for Euclidean distance and single linkage is 0.9232271494002922.\n",
    "Cophenetic correlation for Euclidean distance and complete linkage is 0.7873280186580672.\n",
    "Cophenetic correlation for Euclidean distance and average linkage is 0.9422540609560814.\n",
    "Cophenetic correlation for Euclidean distance and weighted linkage is 0.8693784298129404.\n",
    "Cophenetic correlation for Chebyshev distance and single linkage is 0.9062538164750717.\n",
    "Cophenetic correlation for Chebyshev distance and complete linkage is 0.598891419111242.\n",
    "Cophenetic correlation for Chebyshev distance and average linkage is 0.9338265528030499.\n",
    "Cophenetic correlation for Chebyshev distance and weighted linkage is 0.9127355892367.\n",
    "Cophenetic correlation for Mahalanobis distance and single linkage is 0.9259195530524591.\n",
    "Cophenetic correlation for Mahalanobis distance and complete linkage is 0.7925307202850004.\n",
    "Cophenetic correlation for Mahalanobis distance and average linkage is 0.9247324030159737.\n",
    "Cophenetic correlation for Mahalanobis distance and weighted linkage is 0.8708317490180428.\n",
    "Cophenetic correlation for Cityblock distance and single linkage is 0.9334186366528574.\n",
    "Cophenetic correlation for Cityblock distance and complete linkage is 0.7375328863205818.\n",
    "Cophenetic correlation for Cityblock distance and average linkage is 0.9302145048594667.\n",
    "Cophenetic correlation for Cityblock distance and weighted linkage is 0.731045513520281.\n",
    "****************************************************************************************************\n",
    "Highest cophenetic correlation is 0.9422540609560814, which is obtained with Euclidean distance and average linkage."
   ]
  },
  {
   "cell_type": "markdown",
   "id": "80a66f5b",
   "metadata": {},
   "source": []
  },
  {
   "cell_type": "markdown",
   "id": "e8b6cc3d",
   "metadata": {},
   "source": [
    "Cophenetic correlation for Euclidean distance and single linkage is 0.9232271494002922.\n",
    "Cophenetic correlation for Euclidean distance and complete linkage is 0.7873280186580672.\n",
    "Cophenetic correlation for Euclidean distance and average linkage is 0.9422540609560814.\n",
    "Cophenetic correlation for Euclidean distance and weighted linkage is 0.8693784298129404.\n",
    "Cophenetic correlation for Chebyshev distance and single linkage is 0.9062538164750717.\n",
    "Cophenetic correlation for Chebyshev distance and complete linkage is 0.598891419111242.\n",
    "Cophenetic correlation for Chebyshev distance and average linkage is 0.9338265528030499.\n",
    "Cophenetic correlation for Chebyshev distance and weighted linkage is 0.9127355892367.\n",
    "Cophenetic correlation for Mahalanobis distance and single linkage is 0.9259195530524591.\n",
    "Cophenetic correlation for Mahalanobis distance and complete linkage is 0.7925307202850004.\n",
    "Cophenetic correlation for Mahalanobis distance and average linkage is 0.9247324030159737.\n",
    "Cophenetic correlation for Mahalanobis distance and weighted linkage is 0.8708317490180428.\n",
    "Cophenetic correlation for Cityblock distance and single linkage is 0.9334186366528574.\n",
    "Cophenetic correlation for Cityblock distance and complete linkage is 0.7375328863205818.\n",
    "Cophenetic correlation for Cityblock distance and average linkage is 0.9302145048594667.\n",
    "Cophenetic correlation for Cityblock distance and weighted linkage is 0.731045513520281.\n",
    "****************************************************************************************************\n",
    "Highest cophenetic correlation is 0.9422540609560814, which is obtained with Euclidean distance and average linkage."
   ]
  },
  {
   "cell_type": "markdown",
   "id": "fa5ba9a4",
   "metadata": {},
   "source": [
    "Cophenetic correlation for Euclidean distance and single linkage is 0.9232271494002922.\n",
    "Cophenetic correlation for Euclidean distance and complete linkage is 0.7873280186580672.\n",
    "Cophenetic correlation for Euclidean distance and average linkage is 0.9422540609560814.\n",
    "Cophenetic correlation for Euclidean distance and weighted linkage is 0.8693784298129404.\n",
    "Cophenetic correlation for Chebyshev distance and single linkage is 0.9062538164750717.\n",
    "Cophenetic correlation for Chebyshev distance and complete linkage is 0.598891419111242.\n",
    "Cophenetic correlation for Chebyshev distance and average linkage is 0.9338265528030499.\n",
    "Cophenetic correlation for Chebyshev distance and weighted linkage is 0.9127355892367.\n",
    "Cophenetic correlation for Mahalanobis distance and single linkage is 0.9259195530524591.\n",
    "Cophenetic correlation for Mahalanobis distance and complete linkage is 0.7925307202850004.\n",
    "Cophenetic correlation for Mahalanobis distance and average linkage is 0.9247324030159737.\n",
    "Cophenetic correlation for Mahalanobis distance and weighted linkage is 0.8708317490180428.\n",
    "Cophenetic correlation for Cityblock distance and single linkage is 0.9334186366528574.\n",
    "Cophenetic correlation for Cityblock distance and complete linkage is 0.7375328863205818.\n",
    "Cophenetic correlation for Cityblock distance and average linkage is 0.9302145048594667.\n",
    "Cophenetic correlation for Cityblock distance and weighted linkage is 0.731045513520281.\n",
    "****************************************************************************************************\n",
    "Highest cophenetic correlation is 0.9422540609560814, which is obtained with Euclidean distance and average linkage."
   ]
  },
  {
   "cell_type": "markdown",
   "id": "49001b14",
   "metadata": {},
   "source": []
  },
  {
   "cell_type": "markdown",
   "id": "58ece284",
   "metadata": {},
   "source": [
    "Cophenetic correlation for Euclidean distance and single linkage is 0.9232271494002922.\n",
    "Cophenetic correlation for Euclidean distance and complete linkage is 0.7873280186580672.\n",
    "Cophenetic correlation for Euclidean distance and average linkage is 0.9422540609560814.\n",
    "Cophenetic correlation for Euclidean distance and weighted linkage is 0.8693784298129404.\n",
    "Cophenetic correlation for Chebyshev distance and single linkage is 0.9062538164750717.\n",
    "Cophenetic correlation for Chebyshev distance and complete linkage is 0.598891419111242.\n",
    "Cophenetic correlation for Chebyshev distance and average linkage is 0.9338265528030499.\n",
    "Cophenetic correlation for Chebyshev distance and weighted linkage is 0.9127355892367.\n",
    "Cophenetic correlation for Mahalanobis distance and single linkage is 0.9259195530524591.\n",
    "Cophenetic correlation for Mahalanobis distance and complete linkage is 0.7925307202850004.\n",
    "Cophenetic correlation for Mahalanobis distance and average linkage is 0.9247324030159737.\n",
    "Cophenetic correlation for Mahalanobis distance and weighted linkage is 0.8708317490180428.\n",
    "Cophenetic correlation for Cityblock distance and single linkage is 0.9334186366528574.\n",
    "Cophenetic correlation for Cityblock distance and complete linkage is 0.7375328863205818.\n",
    "Cophenetic correlation for Cityblock distance and average linkage is 0.9302145048594667.\n",
    "Cophenetic correlation for Cityblock distance and weighted linkage is 0.731045513520281.\n",
    "****************************************************************************************************\n",
    "Highest cophenetic correlation is 0.9422540609560814, which is obtained with Euclidean distance and average linkage."
   ]
  },
  {
   "cell_type": "markdown",
   "id": "9bd49b25",
   "metadata": {},
   "source": [
    "Cophenetic correlation for Euclidean distance and single linkage is 0.9232271494002922.\n",
    "Cophenetic correlation for Euclidean distance and complete linkage is 0.7873280186580672.\n",
    "Cophenetic correlation for Euclidean distance and average linkage is 0.9422540609560814.\n",
    "Cophenetic correlation for Euclidean distance and weighted linkage is 0.8693784298129404.\n",
    "Cophenetic correlation for Chebyshev distance and single linkage is 0.9062538164750717.\n",
    "Cophenetic correlation for Chebyshev distance and complete linkage is 0.598891419111242.\n",
    "Cophenetic correlation for Chebyshev distance and average linkage is 0.9338265528030499.\n",
    "Cophenetic correlation for Chebyshev distance and weighted linkage is 0.9127355892367.\n",
    "Cophenetic correlation for Mahalanobis distance and single linkage is 0.9259195530524591.\n",
    "Cophenetic correlation for Mahalanobis distance and complete linkage is 0.7925307202850004.\n",
    "Cophenetic correlation for Mahalanobis distance and average linkage is 0.9247324030159737.\n",
    "Cophenetic correlation for Mahalanobis distance and weighted linkage is 0.8708317490180428.\n",
    "Cophenetic correlation for Cityblock distance and single linkage is 0.9334186366528574.\n",
    "Cophenetic correlation for Cityblock distance and complete linkage is 0.7375328863205818.\n",
    "Cophenetic correlation for Cityblock distance and average linkage is 0.9302145048594667.\n",
    "Cophenetic correlation for Cityblock distance and weighted linkage is 0.731045513520281.\n",
    "****************************************************************************************************\n",
    "Highest cophenetic correlation is 0.9422540609560814, which is obtained with Euclidean distance and average linkage."
   ]
  },
  {
   "cell_type": "markdown",
   "id": "26e3c332",
   "metadata": {},
   "source": [
    "Let's explore different linkage methods with Euclidean distance only."
   ]
  },
  {
   "cell_type": "markdown",
   "id": "3331b1d0",
   "metadata": {},
   "source": [
    "Let's explore different linkage methods with Euclidean distance only."
   ]
  },
  {
   "cell_type": "markdown",
   "id": "09de7fac",
   "metadata": {},
   "source": []
  },
  {
   "cell_type": "markdown",
   "id": "f04b0197",
   "metadata": {},
   "source": [
    "Let's explore different linkage methods with Euclidean distance only."
   ]
  },
  {
   "cell_type": "markdown",
   "id": "3661e669",
   "metadata": {},
   "source": []
  },
  {
   "cell_type": "markdown",
   "id": "673144ca",
   "metadata": {},
   "source": [
    "Let's explore different linkage methods with Euclidean distance only."
   ]
  },
  {
   "cell_type": "markdown",
   "id": "33888386",
   "metadata": {},
   "source": [
    "In [53]:\n",
    "\n",
    "\n",
    "# list of linkage methods\n",
    "linkage_methods = [\"single\", \"complete\", \"average\", \"centroid\", \"ward\", \"weighted\"]\n",
    "\n",
    "high_cophenet_corr = 0\n",
    "high_dm_lm = [0, 0]\n",
    "\n",
    "for lm in linkage_methods:\n",
    "    Z = linkage(hc_df, metric=\"euclidean\", method=lm)\n",
    "    c, coph_dists = cophenet(Z, pdist(hc_df))\n",
    "    print(\"Cophenetic correlation for {} linkage is {}.\".format(lm, c))\n",
    "    if high_cophenet_corr < c:\n",
    "        high_cophenet_corr = c\n",
    "        high_dm_lm[0] = \"euclidean\"\n",
    "        high_dm_lm[1] = lm\n",
    "        \n",
    "# printing the combination of distance metric and linkage method with the highest cophenetic correlation\n",
    "print('*'*100)\n",
    "print(\n",
    "    \"Highest cophenetic correlation is {}, which is obtained with {} linkage.\".format(\n",
    "        high_cophenet_corr, high_dm_lm[1]\n",
    "    )\n",
    ")\n",
    "\n",
    "\n",
    "\n",
    "\n",
    "\n",
    "\n",
    "\n",
    "\n",
    "\n",
    "\n",
    "\n",
    "\n",
    "Cophenetic correlation for single linkage is 0.9232271494002922.\n",
    "Cophenetic correlation for complete linkage is 0.7873280186580672.\n",
    "Cophenetic correlation for average linkage is 0.9422540609560814.\n",
    "Cophenetic correlation for centroid linkage is 0.9314012446828154.\n",
    "Cophenetic correlation for ward linkage is 0.7101180299865353.\n",
    "Cophenetic correlation for weighted linkage is 0.8693784298129404.\n",
    "****************************************************************************************************\n",
    "Highest cophenetic correlation is 0.9422540609560814, which is obtained with average linkage."
   ]
  },
  {
   "cell_type": "markdown",
   "id": "5486a2de",
   "metadata": {},
   "source": [
    "In [53]:\n",
    "\n",
    "\n",
    "# list of linkage methods\n",
    "linkage_methods = [\"single\", \"complete\", \"average\", \"centroid\", \"ward\", \"weighted\"]\n",
    "\n",
    "high_cophenet_corr = 0\n",
    "high_dm_lm = [0, 0]\n",
    "\n",
    "for lm in linkage_methods:\n",
    "    Z = linkage(hc_df, metric=\"euclidean\", method=lm)\n",
    "    c, coph_dists = cophenet(Z, pdist(hc_df))\n",
    "    print(\"Cophenetic correlation for {} linkage is {}.\".format(lm, c))\n",
    "    if high_cophenet_corr < c:\n",
    "        high_cophenet_corr = c\n",
    "        high_dm_lm[0] = \"euclidean\"\n",
    "        high_dm_lm[1] = lm\n",
    "        \n",
    "# printing the combination of distance metric and linkage method with the highest cophenetic correlation\n",
    "print('*'*100)\n",
    "print(\n",
    "    \"Highest cophenetic correlation is {}, which is obtained with {} linkage.\".format(\n",
    "        high_cophenet_corr, high_dm_lm[1]\n",
    "    )\n",
    ")"
   ]
  },
  {
   "cell_type": "markdown",
   "id": "69337525",
   "metadata": {},
   "source": []
  },
  {
   "cell_type": "markdown",
   "id": "357a1a8b",
   "metadata": {},
   "source": [
    "In [53]:\n",
    "\n",
    "\n",
    "# list of linkage methods\n",
    "linkage_methods = [\"single\", \"complete\", \"average\", \"centroid\", \"ward\", \"weighted\"]\n",
    "\n",
    "high_cophenet_corr = 0\n",
    "high_dm_lm = [0, 0]\n",
    "\n",
    "for lm in linkage_methods:\n",
    "    Z = linkage(hc_df, metric=\"euclidean\", method=lm)\n",
    "    c, coph_dists = cophenet(Z, pdist(hc_df))\n",
    "    print(\"Cophenetic correlation for {} linkage is {}.\".format(lm, c))\n",
    "    if high_cophenet_corr < c:\n",
    "        high_cophenet_corr = c\n",
    "        high_dm_lm[0] = \"euclidean\"\n",
    "        high_dm_lm[1] = lm\n",
    "        \n",
    "# printing the combination of distance metric and linkage method with the highest cophenetic correlation\n",
    "print('*'*100)\n",
    "print(\n",
    "    \"Highest cophenetic correlation is {}, which is obtained with {} linkage.\".format(\n",
    "        high_cophenet_corr, high_dm_lm[1]\n",
    "    )\n",
    ")"
   ]
  },
  {
   "cell_type": "markdown",
   "id": "fc7c8f09",
   "metadata": {},
   "source": [
    "In [53]:"
   ]
  },
  {
   "cell_type": "markdown",
   "id": "794607d6",
   "metadata": {},
   "source": [
    "# list of linkage methods\n",
    "linkage_methods = [\"single\", \"complete\", \"average\", \"centroid\", \"ward\", \"weighted\"]\n",
    "\n",
    "high_cophenet_corr = 0\n",
    "high_dm_lm = [0, 0]\n",
    "\n",
    "for lm in linkage_methods:\n",
    "    Z = linkage(hc_df, metric=\"euclidean\", method=lm)\n",
    "    c, coph_dists = cophenet(Z, pdist(hc_df))\n",
    "    print(\"Cophenetic correlation for {} linkage is {}.\".format(lm, c))\n",
    "    if high_cophenet_corr < c:\n",
    "        high_cophenet_corr = c\n",
    "        high_dm_lm[0] = \"euclidean\"\n",
    "        high_dm_lm[1] = lm\n",
    "        \n",
    "# printing the combination of distance metric and linkage method with the highest cophenetic correlation\n",
    "print('*'*100)\n",
    "print(\n",
    "    \"Highest cophenetic correlation is {}, which is obtained with {} linkage.\".format(\n",
    "        high_cophenet_corr, high_dm_lm[1]\n",
    "    )\n",
    ")"
   ]
  },
  {
   "cell_type": "markdown",
   "id": "04c113fc",
   "metadata": {},
   "source": [
    "# list of linkage methods\n",
    "linkage_methods = [\"single\", \"complete\", \"average\", \"centroid\", \"ward\", \"weighted\"]\n",
    "\n",
    "high_cophenet_corr = 0\n",
    "high_dm_lm = [0, 0]\n",
    "\n",
    "for lm in linkage_methods:\n",
    "    Z = linkage(hc_df, metric=\"euclidean\", method=lm)\n",
    "    c, coph_dists = cophenet(Z, pdist(hc_df))\n",
    "    print(\"Cophenetic correlation for {} linkage is {}.\".format(lm, c))\n",
    "    if high_cophenet_corr < c:\n",
    "        high_cophenet_corr = c\n",
    "        high_dm_lm[0] = \"euclidean\"\n",
    "        high_dm_lm[1] = lm\n",
    "        \n",
    "# printing the combination of distance metric and linkage method with the highest cophenetic correlation\n",
    "print('*'*100)\n",
    "print(\n",
    "    \"Highest cophenetic correlation is {}, which is obtained with {} linkage.\".format(\n",
    "        high_cophenet_corr, high_dm_lm[1]\n",
    "    )\n",
    ")"
   ]
  },
  {
   "cell_type": "markdown",
   "id": "f6dd0afd",
   "metadata": {},
   "source": [
    "# list of linkage methods\n",
    "linkage_methods = [\"single\", \"complete\", \"average\", \"centroid\", \"ward\", \"weighted\"]\n",
    "\n",
    "high_cophenet_corr = 0\n",
    "high_dm_lm = [0, 0]\n",
    "\n",
    "for lm in linkage_methods:\n",
    "    Z = linkage(hc_df, metric=\"euclidean\", method=lm)\n",
    "    c, coph_dists = cophenet(Z, pdist(hc_df))\n",
    "    print(\"Cophenetic correlation for {} linkage is {}.\".format(lm, c))\n",
    "    if high_cophenet_corr < c:\n",
    "        high_cophenet_corr = c\n",
    "        high_dm_lm[0] = \"euclidean\"\n",
    "        high_dm_lm[1] = lm\n",
    "        \n",
    "# printing the combination of distance metric and linkage method with the highest cophenetic correlation\n",
    "print('*'*100)\n",
    "print(\n",
    "    \"Highest cophenetic correlation is {}, which is obtained with {} linkage.\".format(\n",
    "        high_cophenet_corr, high_dm_lm[1]\n",
    "    )\n",
    ")"
   ]
  },
  {
   "cell_type": "markdown",
   "id": "bd1a3878",
   "metadata": {},
   "source": [
    "# list of linkage methods\n",
    "linkage_methods = [\"single\", \"complete\", \"average\", \"centroid\", \"ward\", \"weighted\"]\n",
    "\n",
    "high_cophenet_corr = 0\n",
    "high_dm_lm = [0, 0]\n",
    "\n",
    "for lm in linkage_methods:\n",
    "    Z = linkage(hc_df, metric=\"euclidean\", method=lm)\n",
    "    c, coph_dists = cophenet(Z, pdist(hc_df))\n",
    "    print(\"Cophenetic correlation for {} linkage is {}.\".format(lm, c))\n",
    "    if high_cophenet_corr < c:\n",
    "        high_cophenet_corr = c\n",
    "        high_dm_lm[0] = \"euclidean\"\n",
    "        high_dm_lm[1] = lm\n",
    "        \n",
    "# printing the combination of distance metric and linkage method with the highest cophenetic correlation\n",
    "print('*'*100)\n",
    "print(\n",
    "    \"Highest cophenetic correlation is {}, which is obtained with {} linkage.\".format(\n",
    "        high_cophenet_corr, high_dm_lm[1]\n",
    "    )\n",
    ")"
   ]
  },
  {
   "cell_type": "markdown",
   "id": "c23ac1a0",
   "metadata": {},
   "source": [
    "Cophenetic correlation for single linkage is 0.9232271494002922.\n",
    "Cophenetic correlation for complete linkage is 0.7873280186580672.\n",
    "Cophenetic correlation for average linkage is 0.9422540609560814.\n",
    "Cophenetic correlation for centroid linkage is 0.9314012446828154.\n",
    "Cophenetic correlation for ward linkage is 0.7101180299865353.\n",
    "Cophenetic correlation for weighted linkage is 0.8693784298129404.\n",
    "****************************************************************************************************\n",
    "Highest cophenetic correlation is 0.9422540609560814, which is obtained with average linkage."
   ]
  },
  {
   "cell_type": "markdown",
   "id": "a30152b1",
   "metadata": {},
   "source": []
  },
  {
   "cell_type": "markdown",
   "id": "617e87d1",
   "metadata": {},
   "source": [
    "Cophenetic correlation for single linkage is 0.9232271494002922.\n",
    "Cophenetic correlation for complete linkage is 0.7873280186580672.\n",
    "Cophenetic correlation for average linkage is 0.9422540609560814.\n",
    "Cophenetic correlation for centroid linkage is 0.9314012446828154.\n",
    "Cophenetic correlation for ward linkage is 0.7101180299865353.\n",
    "Cophenetic correlation for weighted linkage is 0.8693784298129404.\n",
    "****************************************************************************************************\n",
    "Highest cophenetic correlation is 0.9422540609560814, which is obtained with average linkage."
   ]
  },
  {
   "cell_type": "markdown",
   "id": "d2da7cfa",
   "metadata": {},
   "source": [
    "Cophenetic correlation for single linkage is 0.9232271494002922.\n",
    "Cophenetic correlation for complete linkage is 0.7873280186580672.\n",
    "Cophenetic correlation for average linkage is 0.9422540609560814.\n",
    "Cophenetic correlation for centroid linkage is 0.9314012446828154.\n",
    "Cophenetic correlation for ward linkage is 0.7101180299865353.\n",
    "Cophenetic correlation for weighted linkage is 0.8693784298129404.\n",
    "****************************************************************************************************\n",
    "Highest cophenetic correlation is 0.9422540609560814, which is obtained with average linkage."
   ]
  },
  {
   "cell_type": "markdown",
   "id": "1b1098b9",
   "metadata": {},
   "source": []
  },
  {
   "cell_type": "markdown",
   "id": "678a0ce9",
   "metadata": {},
   "source": [
    "Cophenetic correlation for single linkage is 0.9232271494002922.\n",
    "Cophenetic correlation for complete linkage is 0.7873280186580672.\n",
    "Cophenetic correlation for average linkage is 0.9422540609560814.\n",
    "Cophenetic correlation for centroid linkage is 0.9314012446828154.\n",
    "Cophenetic correlation for ward linkage is 0.7101180299865353.\n",
    "Cophenetic correlation for weighted linkage is 0.8693784298129404.\n",
    "****************************************************************************************************\n",
    "Highest cophenetic correlation is 0.9422540609560814, which is obtained with average linkage."
   ]
  },
  {
   "cell_type": "markdown",
   "id": "51871454",
   "metadata": {},
   "source": [
    "Cophenetic correlation for single linkage is 0.9232271494002922.\n",
    "Cophenetic correlation for complete linkage is 0.7873280186580672.\n",
    "Cophenetic correlation for average linkage is 0.9422540609560814.\n",
    "Cophenetic correlation for centroid linkage is 0.9314012446828154.\n",
    "Cophenetic correlation for ward linkage is 0.7101180299865353.\n",
    "Cophenetic correlation for weighted linkage is 0.8693784298129404.\n",
    "****************************************************************************************************\n",
    "Highest cophenetic correlation is 0.9422540609560814, which is obtained with average linkage."
   ]
  },
  {
   "cell_type": "markdown",
   "id": "3f6e8f87",
   "metadata": {},
   "source": [
    "Let's view the dendrograms for the different linkage methods with Euclidean distance."
   ]
  },
  {
   "cell_type": "markdown",
   "id": "9535b218",
   "metadata": {},
   "source": [
    "Let's view the dendrograms for the different linkage methods with Euclidean distance."
   ]
  },
  {
   "cell_type": "markdown",
   "id": "59a196ca",
   "metadata": {},
   "source": []
  },
  {
   "cell_type": "markdown",
   "id": "b4bd498c",
   "metadata": {},
   "source": [
    "Let's view the dendrograms for the different linkage methods with Euclidean distance."
   ]
  },
  {
   "cell_type": "markdown",
   "id": "b1d984ca",
   "metadata": {},
   "source": []
  },
  {
   "cell_type": "markdown",
   "id": "c8163a42",
   "metadata": {},
   "source": [
    "Let's view the dendrograms for the different linkage methods with Euclidean distance."
   ]
  },
  {
   "cell_type": "markdown",
   "id": "634c2947",
   "metadata": {},
   "source": [
    "In [ ]:\n",
    "\n",
    "\n",
    "# list of linkage methods\n",
    "linkage_methods =  [\"single\", \"complete\", \"average\", \"centroid\", \"ward\", \"weighted\"]\n",
    "\n",
    "# lists to save results of cophenetic correlation calculation\n",
    "compare_cols = [\"Linkage\", \"Cophenetic Coefficient\"]\n",
    "compare = []\n",
    "\n",
    "# to create a subplot image\n",
    "fig, axs = plt.subplots(len(linkage_methods), 1, figsize=(15, 30))\n",
    "\n",
    "# We will enumerate through the list of linkage methods above\n",
    "# For each linkage method, we will plot the dendrogram and calculate the cophenetic correlation\n",
    "for i, method in enumerate(linkage_methods):\n",
    "    Z = linkage(hc_df, metric=\"euclidean\", method=method)\n",
    "\n",
    "    dendrogram(Z, ax=axs[i])\n",
    "    axs[i].set_title(f\"Dendrogram ({method.capitalize()} Linkage)\")\n",
    "\n",
    "    coph_corr, coph_dist = cophenet(Z, pdist(hc_df))\n",
    "    axs[i].annotate(\n",
    "        f\"Cophenetic\\nCorrelation\\n{coph_corr:0.2f}\",\n",
    "        (0.80, 0.80),\n",
    "        xycoords=\"axes fraction\",\n",
    "    )\n",
    "\n",
    "    compare.append([method, coph_corr])"
   ]
  },
  {
   "cell_type": "markdown",
   "id": "f358370b",
   "metadata": {},
   "source": [
    "In [ ]:\n",
    "\n",
    "\n",
    "# list of linkage methods\n",
    "linkage_methods =  [\"single\", \"complete\", \"average\", \"centroid\", \"ward\", \"weighted\"]\n",
    "\n",
    "# lists to save results of cophenetic correlation calculation\n",
    "compare_cols = [\"Linkage\", \"Cophenetic Coefficient\"]\n",
    "compare = []\n",
    "\n",
    "# to create a subplot image\n",
    "fig, axs = plt.subplots(len(linkage_methods), 1, figsize=(15, 30))\n",
    "\n",
    "# We will enumerate through the list of linkage methods above\n",
    "# For each linkage method, we will plot the dendrogram and calculate the cophenetic correlation\n",
    "for i, method in enumerate(linkage_methods):\n",
    "    Z = linkage(hc_df, metric=\"euclidean\", method=method)\n",
    "\n",
    "    dendrogram(Z, ax=axs[i])\n",
    "    axs[i].set_title(f\"Dendrogram ({method.capitalize()} Linkage)\")\n",
    "\n",
    "    coph_corr, coph_dist = cophenet(Z, pdist(hc_df))\n",
    "    axs[i].annotate(\n",
    "        f\"Cophenetic\\nCorrelation\\n{coph_corr:0.2f}\",\n",
    "        (0.80, 0.80),\n",
    "        xycoords=\"axes fraction\",\n",
    "    )\n",
    "\n",
    "    compare.append([method, coph_corr])"
   ]
  },
  {
   "cell_type": "markdown",
   "id": "63b06546",
   "metadata": {},
   "source": []
  },
  {
   "cell_type": "markdown",
   "id": "295331a1",
   "metadata": {},
   "source": [
    "In [ ]:\n",
    "\n",
    "\n",
    "# list of linkage methods\n",
    "linkage_methods =  [\"single\", \"complete\", \"average\", \"centroid\", \"ward\", \"weighted\"]\n",
    "\n",
    "# lists to save results of cophenetic correlation calculation\n",
    "compare_cols = [\"Linkage\", \"Cophenetic Coefficient\"]\n",
    "compare = []\n",
    "\n",
    "# to create a subplot image\n",
    "fig, axs = plt.subplots(len(linkage_methods), 1, figsize=(15, 30))\n",
    "\n",
    "# We will enumerate through the list of linkage methods above\n",
    "# For each linkage method, we will plot the dendrogram and calculate the cophenetic correlation\n",
    "for i, method in enumerate(linkage_methods):\n",
    "    Z = linkage(hc_df, metric=\"euclidean\", method=method)\n",
    "\n",
    "    dendrogram(Z, ax=axs[i])\n",
    "    axs[i].set_title(f\"Dendrogram ({method.capitalize()} Linkage)\")\n",
    "\n",
    "    coph_corr, coph_dist = cophenet(Z, pdist(hc_df))\n",
    "    axs[i].annotate(\n",
    "        f\"Cophenetic\\nCorrelation\\n{coph_corr:0.2f}\",\n",
    "        (0.80, 0.80),\n",
    "        xycoords=\"axes fraction\",\n",
    "    )\n",
    "\n",
    "    compare.append([method, coph_corr])"
   ]
  },
  {
   "cell_type": "markdown",
   "id": "3468c2c0",
   "metadata": {},
   "source": [
    "In [ ]:"
   ]
  },
  {
   "cell_type": "markdown",
   "id": "11d439da",
   "metadata": {},
   "source": [
    "# list of linkage methods\n",
    "linkage_methods =  [\"single\", \"complete\", \"average\", \"centroid\", \"ward\", \"weighted\"]\n",
    "\n",
    "# lists to save results of cophenetic correlation calculation\n",
    "compare_cols = [\"Linkage\", \"Cophenetic Coefficient\"]\n",
    "compare = []\n",
    "\n",
    "# to create a subplot image\n",
    "fig, axs = plt.subplots(len(linkage_methods), 1, figsize=(15, 30))\n",
    "\n",
    "# We will enumerate through the list of linkage methods above\n",
    "# For each linkage method, we will plot the dendrogram and calculate the cophenetic correlation\n",
    "for i, method in enumerate(linkage_methods):\n",
    "    Z = linkage(hc_df, metric=\"euclidean\", method=method)\n",
    "\n",
    "    dendrogram(Z, ax=axs[i])\n",
    "    axs[i].set_title(f\"Dendrogram ({method.capitalize()} Linkage)\")\n",
    "\n",
    "    coph_corr, coph_dist = cophenet(Z, pdist(hc_df))\n",
    "    axs[i].annotate(\n",
    "        f\"Cophenetic\\nCorrelation\\n{coph_corr:0.2f}\",\n",
    "        (0.80, 0.80),\n",
    "        xycoords=\"axes fraction\",\n",
    "    )\n",
    "\n",
    "    compare.append([method, coph_corr])"
   ]
  },
  {
   "cell_type": "markdown",
   "id": "1b57cb18",
   "metadata": {},
   "source": [
    "# list of linkage methods\n",
    "linkage_methods =  [\"single\", \"complete\", \"average\", \"centroid\", \"ward\", \"weighted\"]\n",
    "\n",
    "# lists to save results of cophenetic correlation calculation\n",
    "compare_cols = [\"Linkage\", \"Cophenetic Coefficient\"]\n",
    "compare = []\n",
    "\n",
    "# to create a subplot image\n",
    "fig, axs = plt.subplots(len(linkage_methods), 1, figsize=(15, 30))\n",
    "\n",
    "# We will enumerate through the list of linkage methods above\n",
    "# For each linkage method, we will plot the dendrogram and calculate the cophenetic correlation\n",
    "for i, method in enumerate(linkage_methods):\n",
    "    Z = linkage(hc_df, metric=\"euclidean\", method=method)\n",
    "\n",
    "    dendrogram(Z, ax=axs[i])\n",
    "    axs[i].set_title(f\"Dendrogram ({method.capitalize()} Linkage)\")\n",
    "\n",
    "    coph_corr, coph_dist = cophenet(Z, pdist(hc_df))\n",
    "    axs[i].annotate(\n",
    "        f\"Cophenetic\\nCorrelation\\n{coph_corr:0.2f}\",\n",
    "        (0.80, 0.80),\n",
    "        xycoords=\"axes fraction\",\n",
    "    )\n",
    "\n",
    "    compare.append([method, coph_corr])"
   ]
  },
  {
   "cell_type": "markdown",
   "id": "7fda6117",
   "metadata": {},
   "source": [
    "# list of linkage methods\n",
    "linkage_methods =  [\"single\", \"complete\", \"average\", \"centroid\", \"ward\", \"weighted\"]\n",
    "\n",
    "# lists to save results of cophenetic correlation calculation\n",
    "compare_cols = [\"Linkage\", \"Cophenetic Coefficient\"]\n",
    "compare = []\n",
    "\n",
    "# to create a subplot image\n",
    "fig, axs = plt.subplots(len(linkage_methods), 1, figsize=(15, 30))\n",
    "\n",
    "# We will enumerate through the list of linkage methods above\n",
    "# For each linkage method, we will plot the dendrogram and calculate the cophenetic correlation\n",
    "for i, method in enumerate(linkage_methods):\n",
    "    Z = linkage(hc_df, metric=\"euclidean\", method=method)\n",
    "\n",
    "    dendrogram(Z, ax=axs[i])\n",
    "    axs[i].set_title(f\"Dendrogram ({method.capitalize()} Linkage)\")\n",
    "\n",
    "    coph_corr, coph_dist = cophenet(Z, pdist(hc_df))\n",
    "    axs[i].annotate(\n",
    "        f\"Cophenetic\\nCorrelation\\n{coph_corr:0.2f}\",\n",
    "        (0.80, 0.80),\n",
    "        xycoords=\"axes fraction\",\n",
    "    )\n",
    "\n",
    "    compare.append([method, coph_corr])"
   ]
  },
  {
   "cell_type": "markdown",
   "id": "ff90b62c",
   "metadata": {},
   "source": [
    "# list of linkage methods\n",
    "linkage_methods =  [\"single\", \"complete\", \"average\", \"centroid\", \"ward\", \"weighted\"]\n",
    "\n",
    "# lists to save results of cophenetic correlation calculation\n",
    "compare_cols = [\"Linkage\", \"Cophenetic Coefficient\"]\n",
    "compare = []\n",
    "\n",
    "# to create a subplot image\n",
    "fig, axs = plt.subplots(len(linkage_methods), 1, figsize=(15, 30))\n",
    "\n",
    "# We will enumerate through the list of linkage methods above\n",
    "# For each linkage method, we will plot the dendrogram and calculate the cophenetic correlation\n",
    "for i, method in enumerate(linkage_methods):\n",
    "    Z = linkage(hc_df, metric=\"euclidean\", method=method)\n",
    "\n",
    "    dendrogram(Z, ax=axs[i])\n",
    "    axs[i].set_title(f\"Dendrogram ({method.capitalize()} Linkage)\")\n",
    "\n",
    "    coph_corr, coph_dist = cophenet(Z, pdist(hc_df))\n",
    "    axs[i].annotate(\n",
    "        f\"Cophenetic\\nCorrelation\\n{coph_corr:0.2f}\",\n",
    "        (0.80, 0.80),\n",
    "        xycoords=\"axes fraction\",\n",
    "    )\n",
    "\n",
    "    compare.append([method, coph_corr])"
   ]
  },
  {
   "cell_type": "markdown",
   "id": "efb65c59",
   "metadata": {},
   "source": [
    "Observations\n",
    "\n",
    "Dendrogram for Ward linkage shows distinct and separate clusters.\n",
    "4 would be the appropriate number of clusters for Ward linkage"
   ]
  },
  {
   "cell_type": "markdown",
   "id": "e5a27e31",
   "metadata": {},
   "source": [
    "Observations\n",
    "\n",
    "Dendrogram for Ward linkage shows distinct and separate clusters.\n",
    "4 would be the appropriate number of clusters for Ward linkage"
   ]
  },
  {
   "cell_type": "markdown",
   "id": "6c1e51e1",
   "metadata": {},
   "source": []
  },
  {
   "cell_type": "markdown",
   "id": "52e30e3e",
   "metadata": {},
   "source": [
    "Observations\n",
    "\n",
    "Dendrogram for Ward linkage shows distinct and separate clusters.\n",
    "4 would be the appropriate number of clusters for Ward linkage"
   ]
  },
  {
   "cell_type": "markdown",
   "id": "ae1e3be3",
   "metadata": {},
   "source": []
  },
  {
   "cell_type": "markdown",
   "id": "dd11d6b7",
   "metadata": {},
   "source": [
    "Observations\n",
    "\n",
    "Dendrogram for Ward linkage shows distinct and separate clusters.\n",
    "4 would be the appropriate number of clusters for Ward linkage"
   ]
  },
  {
   "cell_type": "markdown",
   "id": "436570c7",
   "metadata": {},
   "source": [
    "In [ ]:\n",
    "\n",
    "\n",
    "# create and print a dataframe to compare cophenetic correlations for different linkage methods\n",
    "df_cc = pd.DataFrame(compare, columns=compare_cols)\n",
    "df_cc = df_cc.sort_values(by=\"Cophenetic Coefficient\")\n",
    "df_cc"
   ]
  },
  {
   "cell_type": "markdown",
   "id": "70c658ed",
   "metadata": {},
   "source": [
    "In [ ]:\n",
    "\n",
    "\n",
    "# create and print a dataframe to compare cophenetic correlations for different linkage methods\n",
    "df_cc = pd.DataFrame(compare, columns=compare_cols)\n",
    "df_cc = df_cc.sort_values(by=\"Cophenetic Coefficient\")\n",
    "df_cc"
   ]
  },
  {
   "cell_type": "markdown",
   "id": "df2d0c06",
   "metadata": {},
   "source": []
  },
  {
   "cell_type": "markdown",
   "id": "322e6fbb",
   "metadata": {},
   "source": [
    "In [ ]:\n",
    "\n",
    "\n",
    "# create and print a dataframe to compare cophenetic correlations for different linkage methods\n",
    "df_cc = pd.DataFrame(compare, columns=compare_cols)\n",
    "df_cc = df_cc.sort_values(by=\"Cophenetic Coefficient\")\n",
    "df_cc"
   ]
  },
  {
   "cell_type": "markdown",
   "id": "dc13b673",
   "metadata": {},
   "source": [
    "In [ ]:"
   ]
  },
  {
   "cell_type": "markdown",
   "id": "c1a9ace5",
   "metadata": {},
   "source": [
    "# create and print a dataframe to compare cophenetic correlations for different linkage methods\n",
    "df_cc = pd.DataFrame(compare, columns=compare_cols)\n",
    "df_cc = df_cc.sort_values(by=\"Cophenetic Coefficient\")\n",
    "df_cc"
   ]
  },
  {
   "cell_type": "markdown",
   "id": "4f6bef1d",
   "metadata": {},
   "source": [
    "# create and print a dataframe to compare cophenetic correlations for different linkage methods\n",
    "df_cc = pd.DataFrame(compare, columns=compare_cols)\n",
    "df_cc = df_cc.sort_values(by=\"Cophenetic Coefficient\")\n",
    "df_cc"
   ]
  },
  {
   "cell_type": "markdown",
   "id": "2e51f3c1",
   "metadata": {},
   "source": [
    "# create and print a dataframe to compare cophenetic correlations for different linkage methods\n",
    "df_cc = pd.DataFrame(compare, columns=compare_cols)\n",
    "df_cc = df_cc.sort_values(by=\"Cophenetic Coefficient\")\n",
    "df_cc"
   ]
  },
  {
   "cell_type": "markdown",
   "id": "46d0356f",
   "metadata": {},
   "source": [
    "# create and print a dataframe to compare cophenetic correlations for different linkage methods\n",
    "df_cc = pd.DataFrame(compare, columns=compare_cols)\n",
    "df_cc = df_cc.sort_values(by=\"Cophenetic Coefficient\")\n",
    "df_cc"
   ]
  },
  {
   "cell_type": "markdown",
   "id": "73fe4711",
   "metadata": {},
   "source": [
    "In [ ]:\n",
    "\n",
    "\n",
    "HCmodel = AgglomerativeClustering(n_clusters=4, affinity='euclidean', linkage='ward')  \n",
    "# define the hierarchical clustering model\n",
    "HCmodel.fit(hc_df)"
   ]
  },
  {
   "cell_type": "markdown",
   "id": "a9f69e59",
   "metadata": {},
   "source": [
    "In [ ]:\n",
    "\n",
    "\n",
    "HCmodel = AgglomerativeClustering(n_clusters=4, affinity='euclidean', linkage='ward')  \n",
    "# define the hierarchical clustering model\n",
    "HCmodel.fit(hc_df)"
   ]
  },
  {
   "cell_type": "markdown",
   "id": "ebb5b842",
   "metadata": {},
   "source": []
  },
  {
   "cell_type": "markdown",
   "id": "f530f4cc",
   "metadata": {},
   "source": [
    "In [ ]:\n",
    "\n",
    "\n",
    "HCmodel = AgglomerativeClustering(n_clusters=4, affinity='euclidean', linkage='ward')  \n",
    "# define the hierarchical clustering model\n",
    "HCmodel.fit(hc_df)"
   ]
  },
  {
   "cell_type": "markdown",
   "id": "8c56c7e5",
   "metadata": {},
   "source": [
    "In [ ]:"
   ]
  },
  {
   "cell_type": "markdown",
   "id": "1de6383b",
   "metadata": {},
   "source": [
    "HCmodel = AgglomerativeClustering(n_clusters=4, affinity='euclidean', linkage='ward')  \n",
    "# define the hierarchical clustering model\n",
    "HCmodel.fit(hc_df)"
   ]
  },
  {
   "cell_type": "markdown",
   "id": "53d6ca1b",
   "metadata": {},
   "source": [
    "HCmodel = AgglomerativeClustering(n_clusters=4, affinity='euclidean', linkage='ward')  \n",
    "# define the hierarchical clustering model\n",
    "HCmodel.fit(hc_df)"
   ]
  },
  {
   "cell_type": "markdown",
   "id": "7734e5e8",
   "metadata": {},
   "source": [
    "HCmodel = AgglomerativeClustering(n_clusters=4, affinity='euclidean', linkage='ward')  \n",
    "# define the hierarchical clustering model\n",
    "HCmodel.fit(hc_df)"
   ]
  },
  {
   "cell_type": "markdown",
   "id": "cdd22aef",
   "metadata": {},
   "source": [
    "HCmodel = AgglomerativeClustering(n_clusters=4, affinity='euclidean', linkage='ward')  \n",
    "# define the hierarchical clustering model\n",
    "HCmodel.fit(hc_df)"
   ]
  },
  {
   "cell_type": "markdown",
   "id": "140d0b6b",
   "metadata": {},
   "source": [
    "In [ ]:\n",
    "\n",
    "\n",
    "# creating a copy of the original data\n",
    "df2 = df.copy()\n",
    "\n",
    "# adding hierarchical cluster labels to the original and scaled dataframes\n",
    "hc_df[\"HC_segments\"] = HCmodel.labels_\n",
    "df2[\"HC_segments\"] = HCmodel.labels_"
   ]
  },
  {
   "cell_type": "markdown",
   "id": "ab699bdd",
   "metadata": {},
   "source": [
    "In [ ]:\n",
    "\n",
    "\n",
    "# creating a copy of the original data\n",
    "df2 = df.copy()\n",
    "\n",
    "# adding hierarchical cluster labels to the original and scaled dataframes\n",
    "hc_df[\"HC_segments\"] = HCmodel.labels_\n",
    "df2[\"HC_segments\"] = HCmodel.labels_"
   ]
  },
  {
   "cell_type": "markdown",
   "id": "9468645f",
   "metadata": {},
   "source": []
  },
  {
   "cell_type": "markdown",
   "id": "f2479503",
   "metadata": {},
   "source": [
    "In [ ]:\n",
    "\n",
    "\n",
    "# creating a copy of the original data\n",
    "df2 = df.copy()\n",
    "\n",
    "# adding hierarchical cluster labels to the original and scaled dataframes\n",
    "hc_df[\"HC_segments\"] = HCmodel.labels_\n",
    "df2[\"HC_segments\"] = HCmodel.labels_"
   ]
  },
  {
   "cell_type": "markdown",
   "id": "0bdd3f4e",
   "metadata": {},
   "source": [
    "In [ ]:"
   ]
  },
  {
   "cell_type": "markdown",
   "id": "9c8f31fc",
   "metadata": {},
   "source": [
    "# creating a copy of the original data\n",
    "df2 = df.copy()\n",
    "\n",
    "# adding hierarchical cluster labels to the original and scaled dataframes\n",
    "hc_df[\"HC_segments\"] = HCmodel.labels_\n",
    "df2[\"HC_segments\"] = HCmodel.labels_"
   ]
  },
  {
   "cell_type": "markdown",
   "id": "e5696c1b",
   "metadata": {},
   "source": [
    "# creating a copy of the original data\n",
    "df2 = df.copy()\n",
    "\n",
    "# adding hierarchical cluster labels to the original and scaled dataframes\n",
    "hc_df[\"HC_segments\"] = HCmodel.labels_\n",
    "df2[\"HC_segments\"] = HCmodel.labels_"
   ]
  },
  {
   "cell_type": "markdown",
   "id": "cfa06bb1",
   "metadata": {},
   "source": [
    "# creating a copy of the original data\n",
    "df2 = df.copy()\n",
    "\n",
    "# adding hierarchical cluster labels to the original and scaled dataframes\n",
    "hc_df[\"HC_segments\"] = HCmodel.labels_\n",
    "df2[\"HC_segments\"] = HCmodel.labels_"
   ]
  },
  {
   "cell_type": "markdown",
   "id": "437067a7",
   "metadata": {},
   "source": [
    "# creating a copy of the original data\n",
    "df2 = df.copy()\n",
    "\n",
    "# adding hierarchical cluster labels to the original and scaled dataframes\n",
    "hc_df[\"HC_segments\"] = HCmodel.labels_\n",
    "df2[\"HC_segments\"] = HCmodel.labels_"
   ]
  },
  {
   "cell_type": "markdown",
   "id": "3641465f",
   "metadata": {},
   "source": [
    "Cluster Profiling¶"
   ]
  },
  {
   "cell_type": "markdown",
   "id": "451ed6b1",
   "metadata": {},
   "source": [
    "Cluster Profiling¶"
   ]
  },
  {
   "cell_type": "markdown",
   "id": "32e29695",
   "metadata": {},
   "source": []
  },
  {
   "cell_type": "markdown",
   "id": "3c830199",
   "metadata": {},
   "source": [
    "Cluster Profiling¶"
   ]
  },
  {
   "cell_type": "markdown",
   "id": "229bb5cd",
   "metadata": {},
   "source": []
  },
  {
   "cell_type": "markdown",
   "id": "b08c942d",
   "metadata": {},
   "source": [
    "Cluster Profiling¶"
   ]
  },
  {
   "cell_type": "markdown",
   "id": "40932ff4",
   "metadata": {},
   "source": [
    "In [ ]:\n",
    "\n",
    "\n",
    "hc_cluster_profile = df2.groupby(\"HC_segments\").mean()  ##  groupby the cluster labels"
   ]
  },
  {
   "cell_type": "markdown",
   "id": "1fb3ba40",
   "metadata": {},
   "source": [
    "In [ ]:\n",
    "\n",
    "\n",
    "hc_cluster_profile = df2.groupby(\"HC_segments\").mean()  ##  groupby the cluster labels"
   ]
  },
  {
   "cell_type": "markdown",
   "id": "303020e9",
   "metadata": {},
   "source": []
  },
  {
   "cell_type": "markdown",
   "id": "4bfd2445",
   "metadata": {},
   "source": [
    "In [ ]:\n",
    "\n",
    "\n",
    "hc_cluster_profile = df2.groupby(\"HC_segments\").mean()  ##  groupby the cluster labels"
   ]
  },
  {
   "cell_type": "markdown",
   "id": "0198db05",
   "metadata": {},
   "source": [
    "In [ ]:"
   ]
  },
  {
   "cell_type": "markdown",
   "id": "bb6bc983",
   "metadata": {},
   "source": [
    "hc_cluster_profile = df2.groupby(\"HC_segments\").mean()  ##  groupby the cluster labels"
   ]
  },
  {
   "cell_type": "markdown",
   "id": "d9f00296",
   "metadata": {},
   "source": [
    "hc_cluster_profile = df2.groupby(\"HC_segments\").mean()  ##  groupby the cluster labels"
   ]
  },
  {
   "cell_type": "markdown",
   "id": "b7378a13",
   "metadata": {},
   "source": [
    "hc_cluster_profile = df2.groupby(\"HC_segments\").mean()  ##  groupby the cluster labels"
   ]
  },
  {
   "cell_type": "markdown",
   "id": "cb899448",
   "metadata": {},
   "source": [
    "hc_cluster_profile = df2.groupby(\"HC_segments\").mean()  ##  groupby the cluster labels"
   ]
  },
  {
   "cell_type": "markdown",
   "id": "8580cf80",
   "metadata": {},
   "source": [
    "In [ ]:\n",
    "\n",
    "\n",
    "hc_cluster_profile[\"count_in_each_segment\"] = (\n",
    "    df2.groupby(\"HC_segments\")[\"Security\"].count().values  ##  groupby the cluster labels\n",
    ")"
   ]
  },
  {
   "cell_type": "markdown",
   "id": "2aee0b1b",
   "metadata": {},
   "source": [
    "In [ ]:\n",
    "\n",
    "\n",
    "hc_cluster_profile[\"count_in_each_segment\"] = (\n",
    "    df2.groupby(\"HC_segments\")[\"Security\"].count().values  ##  groupby the cluster labels\n",
    ")"
   ]
  },
  {
   "cell_type": "markdown",
   "id": "7024331e",
   "metadata": {},
   "source": []
  },
  {
   "cell_type": "markdown",
   "id": "c28c6ae7",
   "metadata": {},
   "source": [
    "In [ ]:\n",
    "\n",
    "\n",
    "hc_cluster_profile[\"count_in_each_segment\"] = (\n",
    "    df2.groupby(\"HC_segments\")[\"Security\"].count().values  ##  groupby the cluster labels\n",
    ")"
   ]
  },
  {
   "cell_type": "markdown",
   "id": "bba0edb2",
   "metadata": {},
   "source": [
    "In [ ]:"
   ]
  },
  {
   "cell_type": "markdown",
   "id": "852e7eac",
   "metadata": {},
   "source": [
    "hc_cluster_profile[\"count_in_each_segment\"] = (\n",
    "    df2.groupby(\"HC_segments\")[\"Security\"].count().values  ##  groupby the cluster labels\n",
    ")"
   ]
  },
  {
   "cell_type": "markdown",
   "id": "c6fb5551",
   "metadata": {},
   "source": [
    "hc_cluster_profile[\"count_in_each_segment\"] = (\n",
    "    df2.groupby(\"HC_segments\")[\"Security\"].count().values  ##  groupby the cluster labels\n",
    ")"
   ]
  },
  {
   "cell_type": "markdown",
   "id": "c4c14e42",
   "metadata": {},
   "source": [
    "hc_cluster_profile[\"count_in_each_segment\"] = (\n",
    "    df2.groupby(\"HC_segments\")[\"Security\"].count().values  ##  groupby the cluster labels\n",
    ")"
   ]
  },
  {
   "cell_type": "markdown",
   "id": "1823652a",
   "metadata": {},
   "source": [
    "hc_cluster_profile[\"count_in_each_segment\"] = (\n",
    "    df2.groupby(\"HC_segments\")[\"Security\"].count().values  ##  groupby the cluster labels\n",
    ")"
   ]
  },
  {
   "cell_type": "markdown",
   "id": "75e4d317",
   "metadata": {},
   "source": [
    "In [ ]:\n",
    "\n",
    "\n",
    "hc_cluster_profile.style.highlight_max(color=\"lightgreen\", axis=0)"
   ]
  },
  {
   "cell_type": "markdown",
   "id": "97ee6778",
   "metadata": {},
   "source": [
    "In [ ]:\n",
    "\n",
    "\n",
    "hc_cluster_profile.style.highlight_max(color=\"lightgreen\", axis=0)"
   ]
  },
  {
   "cell_type": "markdown",
   "id": "973e8ceb",
   "metadata": {},
   "source": []
  },
  {
   "cell_type": "markdown",
   "id": "6cfd81db",
   "metadata": {},
   "source": [
    "In [ ]:\n",
    "\n",
    "\n",
    "hc_cluster_profile.style.highlight_max(color=\"lightgreen\", axis=0)"
   ]
  },
  {
   "cell_type": "markdown",
   "id": "a52e7e4b",
   "metadata": {},
   "source": [
    "In [ ]:"
   ]
  },
  {
   "cell_type": "markdown",
   "id": "f0556ee3",
   "metadata": {},
   "source": [
    "hc_cluster_profile.style.highlight_max(color=\"lightgreen\", axis=0)"
   ]
  },
  {
   "cell_type": "markdown",
   "id": "9479b07a",
   "metadata": {},
   "source": [
    "hc_cluster_profile.style.highlight_max(color=\"lightgreen\", axis=0)"
   ]
  },
  {
   "cell_type": "markdown",
   "id": "d6eed0e1",
   "metadata": {},
   "source": [
    "hc_cluster_profile.style.highlight_max(color=\"lightgreen\", axis=0)"
   ]
  },
  {
   "cell_type": "markdown",
   "id": "b5208171",
   "metadata": {},
   "source": [
    "hc_cluster_profile.style.highlight_max(color=\"lightgreen\", axis=0)"
   ]
  },
  {
   "cell_type": "markdown",
   "id": "26961646",
   "metadata": {},
   "source": [
    "In [ ]:\n",
    "\n",
    "\n",
    "# check number of companies in each cluster\n",
    "df2.groupby([\"HC_segments\"])['Security'].count()"
   ]
  },
  {
   "cell_type": "markdown",
   "id": "6cdda5f9",
   "metadata": {},
   "source": [
    "In [ ]:\n",
    "\n",
    "\n",
    "# check number of companies in each cluster\n",
    "df2.groupby([\"HC_segments\"])['Security'].count()"
   ]
  },
  {
   "cell_type": "markdown",
   "id": "8eab6df7",
   "metadata": {},
   "source": []
  },
  {
   "cell_type": "markdown",
   "id": "7a3f7fe5",
   "metadata": {},
   "source": [
    "In [ ]:\n",
    "\n",
    "\n",
    "# check number of companies in each cluster\n",
    "df2.groupby([\"HC_segments\"])['Security'].count()"
   ]
  },
  {
   "cell_type": "markdown",
   "id": "66415346",
   "metadata": {},
   "source": [
    "In [ ]:"
   ]
  },
  {
   "cell_type": "markdown",
   "id": "69adfccf",
   "metadata": {},
   "source": [
    "# check number of companies in each cluster\n",
    "df2.groupby([\"HC_segments\"])['Security'].count()"
   ]
  },
  {
   "cell_type": "markdown",
   "id": "eeed5190",
   "metadata": {},
   "source": [
    "# check number of companies in each cluster\n",
    "df2.groupby([\"HC_segments\"])['Security'].count()"
   ]
  },
  {
   "cell_type": "markdown",
   "id": "7514fdf0",
   "metadata": {},
   "source": [
    "# check number of companies in each cluster\n",
    "df2.groupby([\"HC_segments\"])['Security'].count()"
   ]
  },
  {
   "cell_type": "markdown",
   "id": "828f7113",
   "metadata": {},
   "source": [
    "# check number of companies in each cluster\n",
    "df2.groupby([\"HC_segments\"])['Security'].count()"
   ]
  },
  {
   "cell_type": "markdown",
   "id": "3be74148",
   "metadata": {},
   "source": [
    "In [ ]:\n",
    "\n",
    "\n",
    "# check number of companies by sector in each cluster\n",
    "df2.groupby([\"HC_segments\", \"GICS Sector\"])['Security'].count()"
   ]
  },
  {
   "cell_type": "markdown",
   "id": "8ab54681",
   "metadata": {},
   "source": [
    "In [ ]:\n",
    "\n",
    "\n",
    "# check number of companies by sector in each cluster\n",
    "df2.groupby([\"HC_segments\", \"GICS Sector\"])['Security'].count()"
   ]
  },
  {
   "cell_type": "markdown",
   "id": "5bdfc664",
   "metadata": {},
   "source": []
  },
  {
   "cell_type": "markdown",
   "id": "491af4d8",
   "metadata": {},
   "source": [
    "In [ ]:\n",
    "\n",
    "\n",
    "# check number of companies by sector in each cluster\n",
    "df2.groupby([\"HC_segments\", \"GICS Sector\"])['Security'].count()"
   ]
  },
  {
   "cell_type": "markdown",
   "id": "6f977677",
   "metadata": {},
   "source": [
    "In [ ]:"
   ]
  },
  {
   "cell_type": "markdown",
   "id": "f86593bf",
   "metadata": {},
   "source": [
    "# check number of companies by sector in each cluster\n",
    "df2.groupby([\"HC_segments\", \"GICS Sector\"])['Security'].count()"
   ]
  },
  {
   "cell_type": "markdown",
   "id": "c36cd378",
   "metadata": {},
   "source": [
    "# check number of companies by sector in each cluster\n",
    "df2.groupby([\"HC_segments\", \"GICS Sector\"])['Security'].count()"
   ]
  },
  {
   "cell_type": "markdown",
   "id": "6d4a590d",
   "metadata": {},
   "source": [
    "# check number of companies by sector in each cluster\n",
    "df2.groupby([\"HC_segments\", \"GICS Sector\"])['Security'].count()"
   ]
  },
  {
   "cell_type": "markdown",
   "id": "59dbefa9",
   "metadata": {},
   "source": [
    "# check number of companies by sector in each cluster\n",
    "df2.groupby([\"HC_segments\", \"GICS Sector\"])['Security'].count()"
   ]
  },
  {
   "cell_type": "markdown",
   "id": "f4e08aa7",
   "metadata": {},
   "source": [
    "In [ ]:\n",
    "\n",
    "\n",
    "##  print the companies in each cluster\n",
    "for cl in df2[\"HC_segments\"].unique():\n",
    "    print(\"In cluster {}, the following companies are present:\".format(cl))\n",
    "    print(df2[df2[\"HC_segments\"] == cl][\"Security\"].unique())\n",
    "    print()"
   ]
  },
  {
   "cell_type": "markdown",
   "id": "106b4d14",
   "metadata": {},
   "source": [
    "In [ ]:\n",
    "\n",
    "\n",
    "##  print the companies in each cluster\n",
    "for cl in df2[\"HC_segments\"].unique():\n",
    "    print(\"In cluster {}, the following companies are present:\".format(cl))\n",
    "    print(df2[df2[\"HC_segments\"] == cl][\"Security\"].unique())\n",
    "    print()"
   ]
  },
  {
   "cell_type": "markdown",
   "id": "92efeb5c",
   "metadata": {},
   "source": []
  },
  {
   "cell_type": "markdown",
   "id": "81679266",
   "metadata": {},
   "source": [
    "In [ ]:\n",
    "\n",
    "\n",
    "##  print the companies in each cluster\n",
    "for cl in df2[\"HC_segments\"].unique():\n",
    "    print(\"In cluster {}, the following companies are present:\".format(cl))\n",
    "    print(df2[df2[\"HC_segments\"] == cl][\"Security\"].unique())\n",
    "    print()"
   ]
  },
  {
   "cell_type": "markdown",
   "id": "9e6fc38d",
   "metadata": {},
   "source": [
    "In [ ]:"
   ]
  },
  {
   "cell_type": "markdown",
   "id": "e8b63c58",
   "metadata": {},
   "source": [
    "##  print the companies in each cluster\n",
    "for cl in df2[\"HC_segments\"].unique():\n",
    "    print(\"In cluster {}, the following companies are present:\".format(cl))\n",
    "    print(df2[df2[\"HC_segments\"] == cl][\"Security\"].unique())\n",
    "    print()"
   ]
  },
  {
   "cell_type": "markdown",
   "id": "9d273a16",
   "metadata": {},
   "source": [
    "##  print the companies in each cluster\n",
    "for cl in df2[\"HC_segments\"].unique():\n",
    "    print(\"In cluster {}, the following companies are present:\".format(cl))\n",
    "    print(df2[df2[\"HC_segments\"] == cl][\"Security\"].unique())\n",
    "    print()"
   ]
  },
  {
   "cell_type": "markdown",
   "id": "9cfec49d",
   "metadata": {},
   "source": [
    "##  print the companies in each cluster\n",
    "for cl in df2[\"HC_segments\"].unique():\n",
    "    print(\"In cluster {}, the following companies are present:\".format(cl))\n",
    "    print(df2[df2[\"HC_segments\"] == cl][\"Security\"].unique())\n",
    "    print()"
   ]
  },
  {
   "cell_type": "markdown",
   "id": "d77e6a10",
   "metadata": {},
   "source": [
    "##  print the companies in each cluster\n",
    "for cl in df2[\"HC_segments\"].unique():\n",
    "    print(\"In cluster {}, the following companies are present:\".format(cl))\n",
    "    print(df2[df2[\"HC_segments\"] == cl][\"Security\"].unique())\n",
    "    print()"
   ]
  },
  {
   "cell_type": "markdown",
   "id": "3f8bb9d9",
   "metadata": {},
   "source": [
    "In [ ]:\n",
    "\n",
    "\n",
    "fig, axes = plt.subplots(3, 4, figsize=(20, 20))\n",
    "counter = 0\n",
    "\n",
    "for ii in range(3):\n",
    "    for jj in range(4):\n",
    "        if counter < 11:\n",
    "            sns.boxplot(\n",
    "                ax=axes[ii][jj],\n",
    "                data=df2,\n",
    "                y=df2.columns[4+counter],\n",
    "                x=\"HC_segments\",\n",
    "            )\n",
    "            counter = counter + 1\n",
    "\n",
    "fig.tight_layout(pad=3.0)"
   ]
  },
  {
   "cell_type": "markdown",
   "id": "4437635b",
   "metadata": {},
   "source": [
    "In [ ]:\n",
    "\n",
    "\n",
    "fig, axes = plt.subplots(3, 4, figsize=(20, 20))\n",
    "counter = 0\n",
    "\n",
    "for ii in range(3):\n",
    "    for jj in range(4):\n",
    "        if counter < 11:\n",
    "            sns.boxplot(\n",
    "                ax=axes[ii][jj],\n",
    "                data=df2,\n",
    "                y=df2.columns[4+counter],\n",
    "                x=\"HC_segments\",\n",
    "            )\n",
    "            counter = counter + 1\n",
    "\n",
    "fig.tight_layout(pad=3.0)"
   ]
  },
  {
   "cell_type": "markdown",
   "id": "27caac40",
   "metadata": {},
   "source": []
  },
  {
   "cell_type": "markdown",
   "id": "01f65ea4",
   "metadata": {},
   "source": [
    "In [ ]:\n",
    "\n",
    "\n",
    "fig, axes = plt.subplots(3, 4, figsize=(20, 20))\n",
    "counter = 0\n",
    "\n",
    "for ii in range(3):\n",
    "    for jj in range(4):\n",
    "        if counter < 11:\n",
    "            sns.boxplot(\n",
    "                ax=axes[ii][jj],\n",
    "                data=df2,\n",
    "                y=df2.columns[4+counter],\n",
    "                x=\"HC_segments\",\n",
    "            )\n",
    "            counter = counter + 1\n",
    "\n",
    "fig.tight_layout(pad=3.0)"
   ]
  },
  {
   "cell_type": "markdown",
   "id": "203f730e",
   "metadata": {},
   "source": [
    "In [ ]:"
   ]
  },
  {
   "cell_type": "markdown",
   "id": "374d4945",
   "metadata": {},
   "source": [
    "fig, axes = plt.subplots(3, 4, figsize=(20, 20))\n",
    "counter = 0\n",
    "\n",
    "for ii in range(3):\n",
    "    for jj in range(4):\n",
    "        if counter < 11:\n",
    "            sns.boxplot(\n",
    "                ax=axes[ii][jj],\n",
    "                data=df2,\n",
    "                y=df2.columns[4+counter],\n",
    "                x=\"HC_segments\",\n",
    "            )\n",
    "            counter = counter + 1\n",
    "\n",
    "fig.tight_layout(pad=3.0)"
   ]
  },
  {
   "cell_type": "markdown",
   "id": "3f6bbc15",
   "metadata": {},
   "source": [
    "fig, axes = plt.subplots(3, 4, figsize=(20, 20))\n",
    "counter = 0\n",
    "\n",
    "for ii in range(3):\n",
    "    for jj in range(4):\n",
    "        if counter < 11:\n",
    "            sns.boxplot(\n",
    "                ax=axes[ii][jj],\n",
    "                data=df2,\n",
    "                y=df2.columns[4+counter],\n",
    "                x=\"HC_segments\",\n",
    "            )\n",
    "            counter = counter + 1\n",
    "\n",
    "fig.tight_layout(pad=3.0)"
   ]
  },
  {
   "cell_type": "markdown",
   "id": "a072bde3",
   "metadata": {},
   "source": [
    "fig, axes = plt.subplots(3, 4, figsize=(20, 20))\n",
    "counter = 0\n",
    "\n",
    "for ii in range(3):\n",
    "    for jj in range(4):\n",
    "        if counter < 11:\n",
    "            sns.boxplot(\n",
    "                ax=axes[ii][jj],\n",
    "                data=df2,\n",
    "                y=df2.columns[4+counter],\n",
    "                x=\"HC_segments\",\n",
    "            )\n",
    "            counter = counter + 1\n",
    "\n",
    "fig.tight_layout(pad=3.0)"
   ]
  },
  {
   "cell_type": "markdown",
   "id": "9bccedb5",
   "metadata": {},
   "source": [
    "fig, axes = plt.subplots(3, 4, figsize=(20, 20))\n",
    "counter = 0\n",
    "\n",
    "for ii in range(3):\n",
    "    for jj in range(4):\n",
    "        if counter < 11:\n",
    "            sns.boxplot(\n",
    "                ax=axes[ii][jj],\n",
    "                data=df2,\n",
    "                y=df2.columns[4+counter],\n",
    "                x=\"HC_segments\",\n",
    "            )\n",
    "            counter = counter + 1\n",
    "\n",
    "fig.tight_layout(pad=3.0)"
   ]
  },
  {
   "cell_type": "markdown",
   "id": "08b2a30a",
   "metadata": {},
   "source": [
    "Insights (Hierarchical Clustering)¶\n",
    "Cluster 0:\n",
    "\n",
    "This cluster also has stocks with low price but negative price change, really high volatility, high P/E ratio, and ROE and some estimted shares oustanding \n",
    "Also almost no net cash flow is generated from the stocks in this cluster\n",
    "Their earnings per share are negative as well as the net income \n",
    "\n",
    "\n",
    "Cluster 1:\n",
    "\n",
    "This cluster has stocks which are on the high side of price, positive price change, volatility,  cash ratio earnings per share, P/E ratio and P/B ratio.\n",
    "Almost no net income and net cash flow is generated from the stocks in this cluster but has little earnings per share\n",
    "They also have little estimted shares oustanding and almost no ROE. \n",
    "\n",
    "\n",
    "Cluster 2:\n",
    "\n",
    "This cluster has stocks with low price, positive price change, low volatility, a significantly high net income and high estimted shares oustanding \n",
    "Negative net cash flow but high net income is generated from the stocks in this cluster\n",
    "Their earnings per share are low as well as ROE, P/B ratio and P/E ratio. \n",
    "\n",
    "\n",
    "Cluster 3:\n",
    "\n",
    "This cluster has stocks with median price of around USD50, positive price change, high volatility, high cash ratio,  some net income, estimted shares oustanding and P/B ratio.\n",
    "Also almost no net cash flow is generated from the stocks in this cluster\n",
    "They also have little or no ROE and P/E ratio."
   ]
  },
  {
   "cell_type": "markdown",
   "id": "44fe251c",
   "metadata": {},
   "source": [
    "Insights (Hierarchical Clustering)¶\n",
    "Cluster 0:\n",
    "\n",
    "This cluster also has stocks with low price but negative price change, really high volatility, high P/E ratio, and ROE and some estimted shares oustanding \n",
    "Also almost no net cash flow is generated from the stocks in this cluster\n",
    "Their earnings per share are negative as well as the net income \n",
    "\n",
    "\n",
    "Cluster 1:\n",
    "\n",
    "This cluster has stocks which are on the high side of price, positive price change, volatility,  cash ratio earnings per share, P/E ratio and P/B ratio.\n",
    "Almost no net income and net cash flow is generated from the stocks in this cluster but has little earnings per share\n",
    "They also have little estimted shares oustanding and almost no ROE. \n",
    "\n",
    "\n",
    "Cluster 2:\n",
    "\n",
    "This cluster has stocks with low price, positive price change, low volatility, a significantly high net income and high estimted shares oustanding \n",
    "Negative net cash flow but high net income is generated from the stocks in this cluster\n",
    "Their earnings per share are low as well as ROE, P/B ratio and P/E ratio. \n",
    "\n",
    "\n",
    "Cluster 3:\n",
    "\n",
    "This cluster has stocks with median price of around USD50, positive price change, high volatility, high cash ratio,  some net income, estimted shares oustanding and P/B ratio.\n",
    "Also almost no net cash flow is generated from the stocks in this cluster\n",
    "They also have little or no ROE and P/E ratio."
   ]
  },
  {
   "cell_type": "markdown",
   "id": "d19e4b92",
   "metadata": {},
   "source": []
  },
  {
   "cell_type": "markdown",
   "id": "6456879c",
   "metadata": {},
   "source": [
    "Insights (Hierarchical Clustering)¶\n",
    "Cluster 0:\n",
    "\n",
    "This cluster also has stocks with low price but negative price change, really high volatility, high P/E ratio, and ROE and some estimted shares oustanding \n",
    "Also almost no net cash flow is generated from the stocks in this cluster\n",
    "Their earnings per share are negative as well as the net income \n",
    "\n",
    "\n",
    "Cluster 1:\n",
    "\n",
    "This cluster has stocks which are on the high side of price, positive price change, volatility,  cash ratio earnings per share, P/E ratio and P/B ratio.\n",
    "Almost no net income and net cash flow is generated from the stocks in this cluster but has little earnings per share\n",
    "They also have little estimted shares oustanding and almost no ROE. \n",
    "\n",
    "\n",
    "Cluster 2:\n",
    "\n",
    "This cluster has stocks with low price, positive price change, low volatility, a significantly high net income and high estimted shares oustanding \n",
    "Negative net cash flow but high net income is generated from the stocks in this cluster\n",
    "Their earnings per share are low as well as ROE, P/B ratio and P/E ratio. \n",
    "\n",
    "\n",
    "Cluster 3:\n",
    "\n",
    "This cluster has stocks with median price of around USD50, positive price change, high volatility, high cash ratio,  some net income, estimted shares oustanding and P/B ratio.\n",
    "Also almost no net cash flow is generated from the stocks in this cluster\n",
    "They also have little or no ROE and P/E ratio."
   ]
  },
  {
   "cell_type": "markdown",
   "id": "ca1d2bb7",
   "metadata": {},
   "source": []
  },
  {
   "cell_type": "markdown",
   "id": "6f4e744a",
   "metadata": {},
   "source": [
    "Insights (Hierarchical Clustering)¶\n",
    "Cluster 0:\n",
    "\n",
    "This cluster also has stocks with low price but negative price change, really high volatility, high P/E ratio, and ROE and some estimted shares oustanding \n",
    "Also almost no net cash flow is generated from the stocks in this cluster\n",
    "Their earnings per share are negative as well as the net income \n",
    "\n",
    "\n",
    "Cluster 1:\n",
    "\n",
    "This cluster has stocks which are on the high side of price, positive price change, volatility,  cash ratio earnings per share, P/E ratio and P/B ratio.\n",
    "Almost no net income and net cash flow is generated from the stocks in this cluster but has little earnings per share\n",
    "They also have little estimted shares oustanding and almost no ROE. \n",
    "\n",
    "\n",
    "Cluster 2:\n",
    "\n",
    "This cluster has stocks with low price, positive price change, low volatility, a significantly high net income and high estimted shares oustanding \n",
    "Negative net cash flow but high net income is generated from the stocks in this cluster\n",
    "Their earnings per share are low as well as ROE, P/B ratio and P/E ratio. \n",
    "\n",
    "\n",
    "Cluster 3:\n",
    "\n",
    "This cluster has stocks with median price of around USD50, positive price change, high volatility, high cash ratio,  some net income, estimted shares oustanding and P/B ratio.\n",
    "Also almost no net cash flow is generated from the stocks in this cluster\n",
    "They also have little or no ROE and P/E ratio."
   ]
  },
  {
   "cell_type": "markdown",
   "id": "6ab0eae8",
   "metadata": {},
   "source": [
    "K-means vs Hierarchical Clustering¶"
   ]
  },
  {
   "cell_type": "markdown",
   "id": "c5fa4674",
   "metadata": {},
   "source": [
    "K-means vs Hierarchical Clustering¶"
   ]
  },
  {
   "cell_type": "markdown",
   "id": "68fcdffe",
   "metadata": {},
   "source": []
  },
  {
   "cell_type": "markdown",
   "id": "916bfaec",
   "metadata": {},
   "source": [
    "K-means vs Hierarchical Clustering¶"
   ]
  },
  {
   "cell_type": "markdown",
   "id": "e8e03875",
   "metadata": {},
   "source": []
  },
  {
   "cell_type": "markdown",
   "id": "ab7b64c2",
   "metadata": {},
   "source": [
    "K-means vs Hierarchical Clustering¶"
   ]
  },
  {
   "cell_type": "markdown",
   "id": "9d9ad779",
   "metadata": {},
   "source": [
    "You compare several things, like:\n",
    "\n",
    "Which clustering technique took less time for execution?\n",
    "The K-Means Clustering technique took less time for execution\n",
    "\n",
    "\n",
    "Which clustering technique gave you more distinct clusters, or are they the same?\n",
    "Both clustering techniques gave same distinct clusters\n",
    "\n",
    "\n",
    "How many observations are there in the similar clusters of both algorithms?\n",
    "For K-Means, cluster 1 has 290 obs and its similar to Hierarchical cluster 3 with 285 obs\n",
    "For K-Means, cluster 2 has 14 obs and its similar to Hierarchical cluster 2 with 11 obs\n",
    "For K-Means, cluster 0 has 8 obs and its similar to Hierarchical cluster 1 with 15 obs\n",
    "For K-Means, cluster 3 has 28 obs and its similar to Hierarchical cluster 0 with 29 obs    \n",
    "\n",
    "\n",
    "How many clusters are obtained as the appropriate number of clusters from both algorithms?\n",
    "4 clusters were obtained as appropriate from both techniques"
   ]
  },
  {
   "cell_type": "markdown",
   "id": "5ce49bb0",
   "metadata": {},
   "source": [
    "You compare several things, like:\n",
    "\n",
    "Which clustering technique took less time for execution?\n",
    "The K-Means Clustering technique took less time for execution\n",
    "\n",
    "\n",
    "Which clustering technique gave you more distinct clusters, or are they the same?\n",
    "Both clustering techniques gave same distinct clusters\n",
    "\n",
    "\n",
    "How many observations are there in the similar clusters of both algorithms?\n",
    "For K-Means, cluster 1 has 290 obs and its similar to Hierarchical cluster 3 with 285 obs\n",
    "For K-Means, cluster 2 has 14 obs and its similar to Hierarchical cluster 2 with 11 obs\n",
    "For K-Means, cluster 0 has 8 obs and its similar to Hierarchical cluster 1 with 15 obs\n",
    "For K-Means, cluster 3 has 28 obs and its similar to Hierarchical cluster 0 with 29 obs    \n",
    "\n",
    "\n",
    "How many clusters are obtained as the appropriate number of clusters from both algorithms?\n",
    "4 clusters were obtained as appropriate from both techniques"
   ]
  },
  {
   "cell_type": "markdown",
   "id": "e193ac1f",
   "metadata": {},
   "source": []
  },
  {
   "cell_type": "markdown",
   "id": "4dba1697",
   "metadata": {},
   "source": [
    "You compare several things, like:\n",
    "\n",
    "Which clustering technique took less time for execution?\n",
    "The K-Means Clustering technique took less time for execution\n",
    "\n",
    "\n",
    "Which clustering technique gave you more distinct clusters, or are they the same?\n",
    "Both clustering techniques gave same distinct clusters\n",
    "\n",
    "\n",
    "How many observations are there in the similar clusters of both algorithms?\n",
    "For K-Means, cluster 1 has 290 obs and its similar to Hierarchical cluster 3 with 285 obs\n",
    "For K-Means, cluster 2 has 14 obs and its similar to Hierarchical cluster 2 with 11 obs\n",
    "For K-Means, cluster 0 has 8 obs and its similar to Hierarchical cluster 1 with 15 obs\n",
    "For K-Means, cluster 3 has 28 obs and its similar to Hierarchical cluster 0 with 29 obs    \n",
    "\n",
    "\n",
    "How many clusters are obtained as the appropriate number of clusters from both algorithms?\n",
    "4 clusters were obtained as appropriate from both techniques"
   ]
  },
  {
   "cell_type": "markdown",
   "id": "0afa7458",
   "metadata": {},
   "source": []
  },
  {
   "cell_type": "markdown",
   "id": "58685797",
   "metadata": {},
   "source": [
    "You compare several things, like:\n",
    "\n",
    "Which clustering technique took less time for execution?\n",
    "The K-Means Clustering technique took less time for execution\n",
    "\n",
    "\n",
    "Which clustering technique gave you more distinct clusters, or are they the same?\n",
    "Both clustering techniques gave same distinct clusters\n",
    "\n",
    "\n",
    "How many observations are there in the similar clusters of both algorithms?\n",
    "For K-Means, cluster 1 has 290 obs and its similar to Hierarchical cluster 3 with 285 obs\n",
    "For K-Means, cluster 2 has 14 obs and its similar to Hierarchical cluster 2 with 11 obs\n",
    "For K-Means, cluster 0 has 8 obs and its similar to Hierarchical cluster 1 with 15 obs\n",
    "For K-Means, cluster 3 has 28 obs and its similar to Hierarchical cluster 0 with 29 obs    \n",
    "\n",
    "\n",
    "How many clusters are obtained as the appropriate number of clusters from both algorithms?\n",
    "4 clusters were obtained as appropriate from both techniques"
   ]
  },
  {
   "cell_type": "markdown",
   "id": "ea916b8a",
   "metadata": {},
   "source": [
    "Actionable Insights and Recommendations¶\n",
    "Cluster 3 for Hierachichal technique which is similar to cluster 1 from the K-Means technique consists of stocks with affordable prices, which generates some net income and has some positive price change. These stocks can be recommended for customers who want to take minimal risk in their investment\n",
    "\n",
    "Cluster 2 for Hierachichal technique which is similar to cluster 2 from the K-Means technique consists of stocks with low prices, and generates really net income and has some positive price change. These stocks can be recommended for customers who are short time buyers and may want to take high risk in their investment\n",
    "\n",
    "Clusters 0 and 1 for Hierachichal technique which is similar to cluster 0 and 3 from the K-Means technique consists stocks that generate no income should probably be put on a watch and not recommed to customers"
   ]
  },
  {
   "cell_type": "markdown",
   "id": "6172f093",
   "metadata": {},
   "source": [
    "Actionable Insights and Recommendations¶\n",
    "Cluster 3 for Hierachichal technique which is similar to cluster 1 from the K-Means technique consists of stocks with affordable prices, which generates some net income and has some positive price change. These stocks can be recommended for customers who want to take minimal risk in their investment\n",
    "\n",
    "Cluster 2 for Hierachichal technique which is similar to cluster 2 from the K-Means technique consists of stocks with low prices, and generates really net income and has some positive price change. These stocks can be recommended for customers who are short time buyers and may want to take high risk in their investment\n",
    "\n",
    "Clusters 0 and 1 for Hierachichal technique which is similar to cluster 0 and 3 from the K-Means technique consists stocks that generate no income should probably be put on a watch and not recommed to customers"
   ]
  },
  {
   "cell_type": "markdown",
   "id": "6ff80ce6",
   "metadata": {},
   "source": []
  },
  {
   "cell_type": "markdown",
   "id": "a9030791",
   "metadata": {},
   "source": [
    "Actionable Insights and Recommendations¶\n",
    "Cluster 3 for Hierachichal technique which is similar to cluster 1 from the K-Means technique consists of stocks with affordable prices, which generates some net income and has some positive price change. These stocks can be recommended for customers who want to take minimal risk in their investment\n",
    "\n",
    "Cluster 2 for Hierachichal technique which is similar to cluster 2 from the K-Means technique consists of stocks with low prices, and generates really net income and has some positive price change. These stocks can be recommended for customers who are short time buyers and may want to take high risk in their investment\n",
    "\n",
    "Clusters 0 and 1 for Hierachichal technique which is similar to cluster 0 and 3 from the K-Means technique consists stocks that generate no income should probably be put on a watch and not recommed to customers"
   ]
  },
  {
   "cell_type": "markdown",
   "id": "89808c9f",
   "metadata": {},
   "source": []
  },
  {
   "cell_type": "markdown",
   "id": "f11e21eb",
   "metadata": {},
   "source": [
    "Actionable Insights and Recommendations¶\n",
    "Cluster 3 for Hierachichal technique which is similar to cluster 1 from the K-Means technique consists of stocks with affordable prices, which generates some net income and has some positive price change. These stocks can be recommended for customers who want to take minimal risk in their investment\n",
    "\n",
    "Cluster 2 for Hierachichal technique which is similar to cluster 2 from the K-Means technique consists of stocks with low prices, and generates really net income and has some positive price change. These stocks can be recommended for customers who are short time buyers and may want to take high risk in their investment\n",
    "\n",
    "Clusters 0 and 1 for Hierachichal technique which is similar to cluster 0 and 3 from the K-Means technique consists stocks that generate no income should probably be put on a watch and not recommed to customers"
   ]
  }
 ],
 "metadata": {},
 "nbformat": 4,
 "nbformat_minor": 5
}
